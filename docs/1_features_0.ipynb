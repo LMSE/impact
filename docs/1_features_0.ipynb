{
 "cells": [
  {
   "cell_type": "markdown",
   "metadata": {},
   "source": [
    "# Analyzing Features\n",
    "## Rates"
   ]
  },
  {
   "cell_type": "code",
   "execution_count": 1,
   "metadata": {
    "scrolled": false
   },
   "outputs": [
    {
     "name": "stderr",
     "output_type": "stream",
     "text": [
      "C:\\Users\\Naveen\\Anaconda3\\lib\\site-packages\\IPython\\html.py:14: ShimWarning: The `IPython.html` package has been deprecated since IPython 4.0. You should import from `notebook` instead. `IPython.html.widgets` has moved to `ipywidgets`.\n",
      "  \"`IPython.html.widgets` has moved to `ipywidgets`.\", ShimWarning)\n",
      "IOPub data rate exceeded.\n",
      "The notebook server will temporarily stop sending output\n",
      "to the client in order to avoid crashing it.\n",
      "To change this limit, set the config variable\n",
      "`--NotebookApp.iopub_data_rate_limit`.\n"
     ]
    }
   ],
   "source": [
    "import impact as impt\n",
    "import cobra\n",
    "import cobra.test\n",
    "import cobra.io\n",
    "import numpy as np\n",
    "\n",
    "# import matplotlib.pyplot as plt\n",
    "% matplotlib inline\n",
    "\n",
    "from plotly.offline import download_plotlyjs, init_notebook_mode, plot, iplot\n",
    "from plotly.graph_objs import Bar, Layout, Figure, Scatter\n",
    "init_notebook_mode()\n",
    "\n",
    "# We include this to ensure the js is loaded when viewed online\n",
    "# from IPython.display import HTML\n",
    "# HTML('<script src=\"https://cdn.plot.ly/plotly-latest.min.js\"></script>')"
   ]
  },
  {
   "cell_type": "code",
   "execution_count": 11,
   "metadata": {
    "scrolled": false
   },
   "outputs": [
    {
     "name": "stdout",
     "output_type": "stream",
     "text": [
      "IN FLUXES             OUT FLUXES           OBJECTIVES\n",
      "--------------------  -------------------  ----------------------\n",
      "glc__D_e   10         h_e       27.9       Ec_biomass_i...  0.242\n",
      "nh4_e       2.61      for_e     17.3\n",
      "h2o_e       1.71      ac_e       8.21\n",
      "pi_e        0.233     etoh_e     8.08\n",
      "co2_e       0.0882    succ_e     0.08\n",
      "so4_e       0.0609    5drib_c    0.000162\n",
      "k_e         0.0471    glyclt_e   0.000162\n",
      "mg2_e       0.0021    mththf_c   0.000108\n",
      "fe2_e       0.00199   4crsol_c   5.39e-05\n",
      "fe3_e       0.00189   amob_c     4.83e-07\n",
      "ca2_e       0.00126   meoh_e     4.83e-07\n",
      "cl_e        0.00126\n",
      "cu2_e       0.000171\n",
      "mn2_e       0.000167\n",
      "zn2_e       8.24e-05\n",
      "ni2_e       7.8e-05\n",
      "mobd_e      3.12e-05\n",
      "cobalt2_e   6.04e-06\n"
     ]
    },
    {
     "data": {
      "application/vnd.plotly.v1+json": {
       "data": [
        {
         "name": "EX_succ_e",
         "type": "scatter",
         "x": [
          0,
          2.2857142857142856,
          4.571428571428571,
          6.857142857142857,
          9.142857142857142,
          11.428571428571427,
          13.714285714285714,
          16
         ],
         "y": [
          0,
          0.012209960165579051,
          0.03341535430290113,
          0.07024338058847605,
          0.13420368922082576,
          0.24528542433170364,
          0.43820431652123865,
          0.7732521858010765
         ]
        },
        {
         "name": "EX_etoh_e",
         "type": "scatter",
         "x": [
          0,
          2.2857142857142856,
          4.571428571428571,
          6.857142857142857,
          9.142857142857142,
          11.428571428571427,
          13.714285714285714,
          16
         ],
         "y": [
          0,
          1.232094473946635,
          3.3719089025071463,
          7.088187011320029,
          13.542355718602039,
          24.751498920587835,
          44.21874514934427,
          78.0280797130258
         ]
        },
        {
         "name": "Ec_biomass_iJO1366_core_53p95M",
         "type": "scatter",
         "x": [
          0,
          2.2857142857142856,
          4.571428571428571,
          6.857142857142857,
          9.142857142857142,
          11.428571428571427,
          13.714285714285714,
          16
         ],
         "y": [
          0.05,
          0.08683645936083247,
          0.1508114133145712,
          0.26191858116862154,
          0.4548816439215894,
          0.7900062279212932,
          1.372026876285927,
          2.3828391191836102
         ]
        },
        {
         "name": "EX_for_e",
         "type": "scatter",
         "x": [
          0,
          2.2857142857142856,
          4.571428571428571,
          6.857142857142857,
          9.142857142857142,
          11.428571428571427,
          13.714285714285714,
          16
         ],
         "y": [
          0,
          2.636241035466356,
          7.214677773994057,
          15.166182351622899,
          28.97579253635025,
          52.959345669933825,
          94.61228255178399,
          166.95215343286145
         ]
        },
        {
         "name": "EX_ac_e",
         "type": "scatter",
         "x": [
          0,
          2.2857142857142856,
          4.571428571428571,
          6.857142857142857,
          9.142857142857142,
          11.428571428571427,
          13.714285714285714,
          16
         ],
         "y": [
          0,
          1.2519177935329096,
          3.426159959713898,
          7.202229724264424,
          13.760240345988555,
          25.149728832106273,
          44.930185980656205,
          79.28348308797962
         ]
        },
        {
         "name": "EX_glc_e",
         "type": "scatter",
         "x": [
          0,
          2.2857142857142856,
          4.571428571428571,
          6.857142857142857,
          9.142857142857142,
          11.428571428571427,
          13.714285714285714,
          16
         ],
         "y": [
          100,
          98.47469060640424,
          95.82564127013033,
          91.22496004929071,
          83.23482263268919,
          69.35811773571601,
          45.25803923682511,
          3.402729687373724
         ]
        }
       ],
       "layout": {}
      },
      "text/html": [
       "<div id=\"b156b112-05c0-42b2-bd2e-5e52afda33b2\" style=\"height: 525px; width: 100%;\" class=\"plotly-graph-div\"></div><script type=\"text/javascript\">require([\"plotly\"], function(Plotly) { window.PLOTLYENV=window.PLOTLYENV || {};window.PLOTLYENV.BASE_URL=\"https://plot.ly\";Plotly.newPlot(\"b156b112-05c0-42b2-bd2e-5e52afda33b2\", [{\"y\": [0.0, 0.012209960165579051, 0.03341535430290113, 0.07024338058847605, 0.13420368922082576, 0.24528542433170364, 0.43820431652123865, 0.7732521858010765], \"x\": [0.0, 2.2857142857142856, 4.571428571428571, 6.857142857142857, 9.142857142857142, 11.428571428571427, 13.714285714285714, 16.0], \"type\": \"scatter\", \"name\": \"EX_succ_e\"}, {\"y\": [0.0, 1.232094473946635, 3.3719089025071463, 7.088187011320029, 13.542355718602039, 24.751498920587835, 44.21874514934427, 78.0280797130258], \"x\": [0.0, 2.2857142857142856, 4.571428571428571, 6.857142857142857, 9.142857142857142, 11.428571428571427, 13.714285714285714, 16.0], \"type\": \"scatter\", \"name\": \"EX_etoh_e\"}, {\"y\": [0.05, 0.08683645936083247, 0.1508114133145712, 0.26191858116862154, 0.4548816439215894, 0.7900062279212932, 1.372026876285927, 2.3828391191836102], \"x\": [0.0, 2.2857142857142856, 4.571428571428571, 6.857142857142857, 9.142857142857142, 11.428571428571427, 13.714285714285714, 16.0], \"type\": \"scatter\", \"name\": \"Ec_biomass_iJO1366_core_53p95M\"}, {\"y\": [0.0, 2.636241035466356, 7.214677773994057, 15.166182351622899, 28.97579253635025, 52.959345669933825, 94.61228255178399, 166.95215343286145], \"x\": [0.0, 2.2857142857142856, 4.571428571428571, 6.857142857142857, 9.142857142857142, 11.428571428571427, 13.714285714285714, 16.0], \"type\": \"scatter\", \"name\": \"EX_for_e\"}, {\"y\": [0.0, 1.2519177935329096, 3.426159959713898, 7.202229724264424, 13.760240345988555, 25.149728832106273, 44.930185980656205, 79.28348308797962], \"x\": [0.0, 2.2857142857142856, 4.571428571428571, 6.857142857142857, 9.142857142857142, 11.428571428571427, 13.714285714285714, 16.0], \"type\": \"scatter\", \"name\": \"EX_ac_e\"}, {\"y\": [100.0, 98.47469060640424, 95.82564127013033, 91.22496004929071, 83.23482263268919, 69.35811773571601, 45.25803923682511, 3.402729687373724], \"x\": [0.0, 2.2857142857142856, 4.571428571428571, 6.857142857142857, 9.142857142857142, 11.428571428571427, 13.714285714285714, 16.0], \"type\": \"scatter\", \"name\": \"EX_glc_e\"}], {}, {\"linkText\": \"Export to plot.ly\", \"showLink\": true})});</script>"
      ],
      "text/vnd.plotly.v1+html": [
       "<div id=\"b156b112-05c0-42b2-bd2e-5e52afda33b2\" style=\"height: 525px; width: 100%;\" class=\"plotly-graph-div\"></div><script type=\"text/javascript\">require([\"plotly\"], function(Plotly) { window.PLOTLYENV=window.PLOTLYENV || {};window.PLOTLYENV.BASE_URL=\"https://plot.ly\";Plotly.newPlot(\"b156b112-05c0-42b2-bd2e-5e52afda33b2\", [{\"y\": [0.0, 0.012209960165579051, 0.03341535430290113, 0.07024338058847605, 0.13420368922082576, 0.24528542433170364, 0.43820431652123865, 0.7732521858010765], \"x\": [0.0, 2.2857142857142856, 4.571428571428571, 6.857142857142857, 9.142857142857142, 11.428571428571427, 13.714285714285714, 16.0], \"type\": \"scatter\", \"name\": \"EX_succ_e\"}, {\"y\": [0.0, 1.232094473946635, 3.3719089025071463, 7.088187011320029, 13.542355718602039, 24.751498920587835, 44.21874514934427, 78.0280797130258], \"x\": [0.0, 2.2857142857142856, 4.571428571428571, 6.857142857142857, 9.142857142857142, 11.428571428571427, 13.714285714285714, 16.0], \"type\": \"scatter\", \"name\": \"EX_etoh_e\"}, {\"y\": [0.05, 0.08683645936083247, 0.1508114133145712, 0.26191858116862154, 0.4548816439215894, 0.7900062279212932, 1.372026876285927, 2.3828391191836102], \"x\": [0.0, 2.2857142857142856, 4.571428571428571, 6.857142857142857, 9.142857142857142, 11.428571428571427, 13.714285714285714, 16.0], \"type\": \"scatter\", \"name\": \"Ec_biomass_iJO1366_core_53p95M\"}, {\"y\": [0.0, 2.636241035466356, 7.214677773994057, 15.166182351622899, 28.97579253635025, 52.959345669933825, 94.61228255178399, 166.95215343286145], \"x\": [0.0, 2.2857142857142856, 4.571428571428571, 6.857142857142857, 9.142857142857142, 11.428571428571427, 13.714285714285714, 16.0], \"type\": \"scatter\", \"name\": \"EX_for_e\"}, {\"y\": [0.0, 1.2519177935329096, 3.426159959713898, 7.202229724264424, 13.760240345988555, 25.149728832106273, 44.930185980656205, 79.28348308797962], \"x\": [0.0, 2.2857142857142856, 4.571428571428571, 6.857142857142857, 9.142857142857142, 11.428571428571427, 13.714285714285714, 16.0], \"type\": \"scatter\", \"name\": \"EX_ac_e\"}, {\"y\": [100.0, 98.47469060640424, 95.82564127013033, 91.22496004929071, 83.23482263268919, 69.35811773571601, 45.25803923682511, 3.402729687373724], \"x\": [0.0, 2.2857142857142856, 4.571428571428571, 6.857142857142857, 9.142857142857142, 11.428571428571427, 13.714285714285714, 16.0], \"type\": \"scatter\", \"name\": \"EX_glc_e\"}], {}, {\"linkText\": \"Export to plot.ly\", \"showLink\": true})});</script>"
      ]
     },
     "metadata": {},
     "output_type": "display_data"
    }
   ],
   "source": [
    "import impact.plotting as implot\n",
    "\n",
    "# Let's grab the iJO1366 E. coli model, cobra's test module has a copy\n",
    "model = cobra.test.create_test_model(\"ecoli\")\n",
    "\n",
    "# Simulate anaerobic conditions by prevent oxygen uptake\n",
    "model.reactions.get_by_id('EX_o2_e').knock_out() \n",
    "\n",
    "# Optimize the model\n",
    "sol = model.optimize()\n",
    "model.summary()\n",
    "\n",
    "# Let's consider one substrate and five products\n",
    "biomass_keys = ['Ec_biomass_iJO1366_core_53p95M']\n",
    "substrate_keys = ['EX_glc_e']\n",
    "product_keys = ['EX_for_e','EX_ac_e','EX_etoh_e','EX_succ_e']\n",
    "analyte_keys = biomass_keys+substrate_keys+product_keys\n",
    "\n",
    "# The initial conditions (mM) [biomass, substrate, \n",
    "#                              product1, product2, ..., product_n]\n",
    "y0 = [0.05, 100, 0, 0, 0, 0]\n",
    "t = np.linspace(0,16,8)\n",
    "\n",
    "# Returns a dictionary of the profiles\n",
    "from impact.helpers.synthetic_data import generate_data\n",
    "dFBA_profiles = generate_data(y0, t, model, \n",
    "                                      biomass_keys, substrate_keys, \n",
    "                                      product_keys, plot = False)\n",
    "\n",
    "implot.plot([implot.go.Scatter(x=t,y=dFBA_profiles[exchange],name=exchange) for exchange in dFBA_profiles])"
   ]
  },
  {
   "cell_type": "markdown",
   "metadata": {
    "collapsed": true
   },
   "source": [
    "Now that we have a simulated 'two-stage' fermentation data, let's try to analyze it. First let's try to curve fit and pull parameters from the overall data"
   ]
  },
  {
   "cell_type": "code",
   "execution_count": 16,
   "metadata": {},
   "outputs": [],
   "source": [
    "# These time courses together form a single trial\n",
    "single_trial = impt.SingleTrial()\n",
    "for analyte in analyte_keys:\n",
    "    # Instantiate the timecourse\n",
    "    timecourse = impt.TimeCourse()\n",
    "    \n",
    "    # Define the trial identifier for the experiment\n",
    "    ti = impt.ReplicateTrialIdentifier()\n",
    "    ti.strain.nickname = 'my_strain'\n",
    "    ti.analyte_name = analyte\n",
    "    timecourse.trial_identifier = ti\n",
    "    \n",
    "    if analyte in biomass_keys:\n",
    "        timecourse.trial_identifier.analyte_type = 'biomass'\n",
    "    elif analyte in substrate_keys:\n",
    "        timecourse.trial_identifier.analyte_type = 'substrate'\n",
    "    elif analyte in product_keys:\n",
    "        timecourse.trial_identifier.analyte_type = 'product'\n",
    "    else:\n",
    "        raise Exception('unid analyte')\n",
    "    \n",
    "    timecourse.time_vector = t\n",
    "    timecourse.data_vector = dFBA_profiles[analyte]\n",
    "    single_trial.add_analyte_data(timecourse)\n",
    "single_trial.calculate()\n",
    "# # Add this to a replicate trial (even though there's one replicate)\n",
    "# replicate_trial = impact.ReplicateTrial()\n",
    "# replicate_trial.add_replicate(single_trial)\n",
    "\n",
    "# # Add this to the experiment\n",
    "# experiment = impact.Experiment(info = {'experiment_title' : 'test experiment'})\n",
    "# experiment.add_replicate_trial(replicate_trial)\n",
    "\n",
    "# import plotly.offline\n",
    "# plotly.offline.init_notebook_mode()\n",
    "# fileName = impact.printGenericTimeCourse_plotly(replicateTrialList=[replicate_trial], \n",
    "#                                                 titersToPlot=biomass_keys,` output_type='image',)\n",
    "\n",
    "# from IPython.display import Image\n",
    "# Image(fileName)"
   ]
  },
  {
   "cell_type": "code",
   "execution_count": null,
   "metadata": {
    "collapsed": true
   },
   "outputs": [],
   "source": [
    "# We can query the rates instead.\n",
    "for keys in [biomass_keys,substrate_keys,product_keys]:\n",
    "#     plt.figure()\n",
    "    data = []\n",
    "    for analyte in keys:\n",
    "        trace = Scatter(x=t,\n",
    "            y=single_trial.analyte_dict[analyte].gradient,\n",
    "            name = analyte)\n",
    "        data.append(trace)\n",
    "    fig = Figure(data=data,\n",
    "                 layout=Layout(title=\"Calculated rates\", \n",
    "                               yaxis = {'title':'Production rate [mmol /  h]'})\n",
    "                 )\n",
    "    iplot(fig)\n",
    "#         plt.plot(t,single_trial.analyte_dict[analyte].gradient)\n",
    "#     plt.legend(keys)"
   ]
  },
  {
   "cell_type": "markdown",
   "metadata": {},
   "source": [
    "## Specific Productivity\n",
    "The specific productivity is the rate, normalized to biomass concentration. This is the value used by dFBA to calculate the initial growth curves.\n",
    "\n",
    "$$ \\frac{dX}{dt} = \\mu X $$\n",
    "\n",
    "$$ \\frac{dP}{dt} = \\dot{P} X $$\n",
    "\n",
    "Here we find the median specific productivity and compare it to the FBA solutions"
   ]
  },
  {
   "cell_type": "code",
   "execution_count": null,
   "metadata": {
    "collapsed": true
   },
   "outputs": [],
   "source": [
    "exchange_keys = biomass_keys + substrate_keys + product_keys\n",
    "\n",
    "median_specific_productivity = {}\n",
    "model_specific_productivity = {}\n",
    "for analyte in exchange_keys:\n",
    "    model_specific_productivity[analyte] = model.solution.x_dict[analyte]\n",
    "    median_specific_productivity[analyte] = np.median(single_trial.analyte_dict[analyte].specific_productivity.data)\n",
    "\n",
    "trace = Bar(x=[analyte for analyte in median_specific_productivity],\n",
    "            y=[median_specific_productivity[analyte] for analyte in median_specific_productivity],\n",
    "           name = 'Calculated')\n",
    "trace2 = Bar(x=[analyte for analyte in model_specific_productivity],\n",
    "            y=[model_specific_productivity[analyte] for analyte in model_specific_productivity],\n",
    "            name = 'Model')\n",
    "data = [trace, trace2]\n",
    "fig = Figure(data=data,\n",
    "             layout=Layout(title=\"Calculated vs Model Specific Productivity\", \n",
    "                           yaxis = {'title':'Specific Productivity [mmol / (gdw h)]'})\n",
    "             )\n",
    "iplot(fig)"
   ]
  },
  {
   "cell_type": "markdown",
   "metadata": {},
   "source": [
    "Here we can see that the specific productivities match those calculated in the COBRA model (which is expected since that's where the generated data came from). For cells in steady-state, this should be a constant."
   ]
  },
  {
   "cell_type": "markdown",
   "metadata": {
    "collapsed": true
   },
   "source": [
    "## Metabolic Model Integration\n",
    "With specific productivities, metabolic model integration becomes straightforward. We can constrain the export fluxes based on the data, and solve the missing fluxes. Since this is model-generated data, this will close the mass balance entirely.\n",
    "\n",
    "For experimental data, this offers a prediction to help close the balance."
   ]
  },
  {
   "cell_type": "code",
   "execution_count": null,
   "metadata": {
    "collapsed": true
   },
   "outputs": [],
   "source": [
    "# Let's take the model and add bounds for the known reactions\n",
    "for analyte in analyte_keys:\n",
    "    with_noise = np.median(single_trial.analyte_dict[analyte].specific_productivity.data)\n",
    "    print(analyte,' ',with_noise)\n",
    "    model.reactions.get_by_id(analyte).lower_bound = with_noise\n",
    "    model.reactions.get_by_id(analyte).upper_bound = with_noise\n",
    "print('\\n\\n\\n')\n",
    "solution = model.optimize()\n",
    "model.summary()"
   ]
  },
  {
   "cell_type": "markdown",
   "metadata": {},
   "source": [
    "## dFBA Batch Integration\n",
    "We can integrate the experimental data across the course of the batch, and solve an FBA for each point to account for any misisng metabolites and get a dynamic flux map for the batch."
   ]
  },
  {
   "cell_type": "code",
   "execution_count": null,
   "metadata": {
    "collapsed": true
   },
   "outputs": [],
   "source": [
    "# dFBA based batch simulation\n",
    "# import copy\n",
    "# model2 = copy.deepcopy(model)\n",
    "# impact.helpers.synthetic_data.dynamic_model_integration(t, y0, model2, single_trial, biomass_keys, substrate_keys, product_keys, extra_points_multiplier = 5)"
   ]
  },
  {
   "cell_type": "markdown",
   "metadata": {},
   "source": [
    "## Carbon Balance\n",
    "From here, the carbon balance is straight forward. The export fluxes match experimental data, the remaining fluxes are estimated, and we can complete the carbon balance. Units are import here, and should all be converted a standard mass unit (g/L) to complete the balance."
   ]
  },
  {
   "cell_type": "code",
   "execution_count": null,
   "metadata": {
    "collapsed": true,
    "scrolled": false
   },
   "outputs": [],
   "source": [
    "# Convert mmol/gdw - hr to g / gdw - hr\n",
    "\n",
    "# Create a dictionary for the mapping of flux reactions to metabolite names to get the molar mass\n",
    "metabolite_export_reaction_dict = {\n",
    "    'EX_for_e':'for_e',\n",
    "    'EX_ac_e':'ac_e',\n",
    "    'EX_etoh_e':'etoh_e',\n",
    "    'EX_glc_e':'glc__D_e',\n",
    "    'EX_succ_e':'succ_e'\n",
    "}\n",
    "\n",
    "mass_flux = {}\n",
    "for analyte in product_keys+substrate_keys:\n",
    "    mass_flux[analyte] = model.solution.x_dict[analyte] \\\n",
    "    * model.metabolites.get_by_id(metabolite_export_reaction_dict[analyte]).formula_weight\n",
    "mass_flux[biomass_keys[0]] = model.solution.x_dict[biomass_keys[0]]*1000\n",
    "print(mass_flux)\n",
    "\n",
    "# The balance is the sum of all metabolites, the uptake is already negative.\n",
    "balance = sum(mass_flux[metabolite] for metabolite in mass_flux)\n",
    "print(balance)\n",
    "# The closure is the total substrate accounted for\n",
    "percent_closure = balance/mass_flux['EX_glc_e']\n",
    "\n",
    "print('\\nThe mass balance is %f%% closed' % ((1-percent_closure)*100))\n",
    "print(mass_flux)\n",
    "\n",
    "# Two situations\n",
    "# 1: balance is > 100% (must be some unaccounted substrate)\n",
    "labels = [analyte.split('_')[1] for analyte in mass_flux]\n",
    "print(percent_closure)\n",
    "if percent_closure < 0:\n",
    "    fig = {\n",
    "    'data': [{'labels': labels + ['Unaccounted substrate'],\n",
    "              'values': [mass_flux[metabolite] for metabolite in mass_flux]+[balance],\n",
    "              'type': 'pie'}],\n",
    "    'layout': {'title': 'Mass balance'}\n",
    "     }\n",
    "# 2: balance is < 100% (must be some unaccounted product)\n",
    "else:\n",
    "    fig = {\n",
    "    'data': [{'labels': labels + ['Missing product'],\n",
    "              'values': [mass_flux[metabolite] for metabolite in mass_flux]+[abs(balance)],\n",
    "              'type': 'pie'}],\n",
    "    'layout': {'title': 'Mass balance'}\n",
    "         }\n",
    "iplot(fig)\n",
    "\n",
    "analyte_keys = substrate_keys + biomass_keys + product_keys\n",
    "\n",
    "# Calculate the waterfall for the products and biomass\n",
    "substrate_consuming_keys = biomass_keys+product_keys\n",
    "running_total = balance\n",
    "base = []\n",
    "for i, key in enumerate(analyte_keys):\n",
    "    if i == 0:\n",
    "        running_total += -mass_flux[key]\n",
    "        base.append(0)\n",
    "    else:\n",
    "        base.append(running_total)\n",
    "        running_total += -mass_flux[key]\n",
    "    \n",
    "\n",
    "base_trace = Bar(x=analyte_keys,\n",
    "                 y=base,\n",
    "                 marker=dict(color='rgba(1,1,1, 0.0)',))\n",
    "\n",
    "substrate_trace = Bar(x=[substrate_keys[0]],\n",
    "                      y=[-mass_flux[substrate_keys[0]]],\n",
    "                        marker=dict(color='rgba(55, 128, 191, 0.7)',\n",
    "                                    line=dict(color='rgba(55, 128, 191, 1.0)',\n",
    "                                              width=2,)))\n",
    "\n",
    "\n",
    "biomass_trace = Bar(x=[biomass_keys[0]],\n",
    "                    y=[-mass_flux[biomass_keys[0]]],\n",
    "                       marker=dict(color='rgba(50, 171, 96, 0.7)',\n",
    "                                   line=dict(color='rgba(50, 171, 96, 1.0)',\n",
    "                                             width=2,)))\n",
    "\n",
    "products_trace = Bar(x=product_keys,\n",
    "                     y=[-mass_flux[metabolite] for metabolite in product_keys],\n",
    "                      marker=dict(color='rgba(219, 64, 82, 0.7)',\n",
    "                                  line=dict(color='rgba(219, 64, 82, 1.0)',\n",
    "                                            width=2,)),\n",
    "                    )\n",
    "\n",
    "balance_base_trace = Bar(x=['Balance'],\n",
    "                 y=[base[1]-balance],\n",
    "                 marker=dict(color='rgba(1,1,1, 0.0)',))\n",
    "\n",
    "balance_trace = Bar(x=['Balance'],\n",
    "                     y=[balance],\n",
    "                      marker=dict(color='rgba(0, 0, 0, 0.7)',\n",
    "                                  line=dict(color='rgba(0, 0, 0, 1.0)',\n",
    "                                            width=2,)),\n",
    "                    )\n",
    "\n",
    "data = [substrate_trace, balance_base_trace, base_trace, balance_trace, biomass_trace,products_trace]\n",
    "layout = Layout(barmode='stack',\n",
    "#                 paper_bgcolor='rgba(245, 246, 249, 1)',\n",
    "#                 plot_bgcolor='rgba(245, 246, 249, 1)',\n",
    "                yaxis={'title': 'Exchange rate (mmol/(gdw h))'},\n",
    "                showlegend=False\n",
    "            )\n",
    "fig = Figure(data=data,layout=layout)\n",
    "iplot(fig)"
   ]
  },
  {
   "cell_type": "markdown",
   "metadata": {
    "collapsed": true
   },
   "source": [
    "## Flux mapping with escher\n",
    "More detail is provided in the escher documentation: http://nbviewer.jupyter.org/github/zakandrewking/escher/blob/master/docs/notebooks/COBRApy%20and%20Escher.ipynb"
   ]
  },
  {
   "cell_type": "code",
   "execution_count": null,
   "metadata": {
    "collapsed": true
   },
   "outputs": [],
   "source": [
    "import escher\n",
    "import json\n",
    "from IPython.display import HTML"
   ]
  },
  {
   "cell_type": "code",
   "execution_count": null,
   "metadata": {
    "collapsed": true
   },
   "outputs": [],
   "source": [
    "b = escher.Builder(map_name='iJO1366.Central metabolism',\n",
    "                   reaction_data=solution.x_dict,\n",
    "                   # color and size according to the absolute value\n",
    "                   reaction_styles=['color', 'size', 'abs', 'text'],\n",
    "                   # change the default colors\n",
    "                   reaction_scale=[{'type': 'min', 'color': '#cccccc', 'size': 4},\n",
    "                                   {'type': 'mean', 'color': '#0000dd', 'size': 20},\n",
    "                                   {'type': 'max', 'color': '#ff0000', 'size': 40}],\n",
    "                   # only show the primary metabolites\n",
    "                   hide_secondary_metabolites=True)\n",
    "b.display_in_notebook()"
   ]
  },
  {
   "cell_type": "code",
   "execution_count": null,
   "metadata": {
    "collapsed": true
   },
   "outputs": [],
   "source": []
  }
 ],
 "metadata": {
  "anaconda-cloud": {},
  "celltoolbar": "Raw Cell Format",
  "kernelspec": {
   "display_name": "Python [default]",
   "language": "python",
   "name": "python3"
  },
  "language_info": {
   "codemirror_mode": {
    "name": "ipython",
    "version": 3
   },
   "file_extension": ".py",
   "mimetype": "text/x-python",
   "name": "python",
   "nbconvert_exporter": "python",
   "pygments_lexer": "ipython3",
   "version": "3.5.3"
  }
 },
 "nbformat": 4,
 "nbformat_minor": 1
}
