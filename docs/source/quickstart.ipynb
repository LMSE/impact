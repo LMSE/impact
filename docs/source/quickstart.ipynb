{
 "cells": [
  {
   "cell_type": "markdown",
   "metadata": {},
   "source": [
    "# Quickstart"
   ]
  },
  {
   "cell_type": "code",
   "execution_count": 1,
   "metadata": {},
   "outputs": [
    {
     "name": "stderr",
     "output_type": "stream",
     "text": [
      "C:\\Users\\Naveen\\Anaconda3\\lib\\site-packages\\IPython\\html.py:14: ShimWarning: The `IPython.html` package has been deprecated since IPython 4.0. You should import from `notebook` instead. `IPython.html.widgets` has moved to `ipywidgets`.\n",
      "  \"`IPython.html.widgets` has moved to `ipywidgets`.\", ShimWarning)\n"
     ]
    }
   ],
   "source": [
    "import impact as impt"
   ]
  },
  {
   "cell_type": "markdown",
   "metadata": {},
   "source": [
    "The impact framework is designed to help scientists parse, interpret, explore and visualize data to understand and engineer micorbial physiology. The core framework is open-source and written entirely in python.\n",
    "\n",
    "Data is parsed into an object-oriented data structure, built on top of a relational mapping to most sql databases. This allows for efficient saving and querying to ease data exploration.\n",
    "\n",
    "Here we provide the basics to get started analyzing data with the core framework. Before getting started, it is worthwhile to understand the basic data schema:\n",
    "\n",
    "| Model                | Function                                                                         |\n",
    "|----------------------|----------------------------------------------------------------------------------|\n",
    "| TrialIdentifier      | Describes a trial (time, analyte, strain, media, etc.)                           |\n",
    "| AnalyteData          | (time, data) points and vectors for quantified data (g/L product, OD, etc.)        |\n",
    "| SingleTrial          | All analytes for a given unit (e.g. a tube, well on plate, bioreactor, etc.)     |\n",
    "| ReplicateTrial       | Contains a set of `SingleTrial`s with replicates grouped to calculate statistics |\n",
    "| Experiment           | All of the trials performed on a given date                                      |\n",
    "\n",
    "On import, data will automatically be parsed into this format. In addition, data will most commonly be queried by metadata in the `TrialIdentifier` which is composed of three main identifiers:\n",
    "\n",
    "| Model                | Function                                                                             |\n",
    "|----------------------|--------------------------------------------------------------------------------------|\n",
    "| Strain               | Describes the organism being characterized (e.g. strain, knockouts, plasmids, etc.)  |\n",
    "| Media                | Described the medium used to characterize the organism (e.g. M9 + 0.02% glc_D)       |\n",
    "| Environment          | The conditions and labware used (e.g. 96-well plate, 250RPM, 37C)                    |\n",
    "\n",
    "\n",
    "## Importing data\n",
    "\n",
    "Data is imported using the `parse_raw_data` function from the `.parsing` module. This function returns an `Experiment`, which is the result of organizing all of your data.\n",
    "\n",
    "To parse data, the data is usually provided in an xlsx file in one of the desired formats. If your data doesn't conform to one of the built-in formats, you can use the provided parsers as a cookbook to build your own. Generally, minor edits are required to conform to new data.\n",
    "\n",
    "Here we use the sample test data, which is a typical format for data from HPLC. Each row is a specific trial and time points, and the columns represent the different analytes, and their types. You can see this data in `sample_data/Fermentation_1_impact.xlsx`"
   ]
  },
  {
   "cell_type": "code",
   "execution_count": 2,
   "metadata": {},
   "outputs": [
    {
     "name": "stdout",
     "output_type": "stream",
     "text": [
      "\n",
      "Importing data from sample_data/Fermentation_1_impact.xlsx...0.0s\n",
      "Parsed 660 timeCourseObjects in 0.573s...Number of lines skipped:  0\n",
      "Parsing time point list...Parsed 660 time points in 0.5s\n",
      "Parsing analyte list...Parsed 6 analytes in 134.1ms\n",
      "Parsing single trial list...Parsed 2 replicates in 0.0s\n",
      "Analyzing data...No blanks were indicated. Blank subtraction will not be done."
     ]
    },
    {
     "name": "stderr",
     "output_type": "stream",
     "text": [
      "c:\\users\\naveen\\documents\\university\\grad school\\university of toronto\\research\\python\\impact\\impact\\impact\\core\\features\\ProductYield.py:22: RuntimeWarning: invalid value encountered in true_divide\n",
      "  self.substrate_consumed\n"
     ]
    },
    {
     "name": "stdout",
     "output_type": "stream",
     "text": [
      "Ran analysis in 0.3s\n",
      "\n"
     ]
    }
   ],
   "source": [
    "from impact.parsers import Parser\n",
    "from pprint import pprint\n",
    "expt = Parser.parse_raw_data('default_titers',file_name = 'sample_data/Fermentation_1_impact.xlsx',id_type='traverse')\n",
    "expt.calculate()"
   ]
  },
  {
   "cell_type": "markdown",
   "metadata": {},
   "source": [
    "The data is now imported and organized, we can quickly get an overview of what we've imported."
   ]
  },
  {
   "cell_type": "code",
   "execution_count": 3,
   "metadata": {},
   "outputs": [
    {
     "name": "stdout",
     "output_type": "stream",
     "text": [
      "strain                        media                 environment    analytes\n",
      "----------------------------  --------------------  -------------  --------------------------------------------------------------------------------------------\n",
      "BD1 + pBD1                    mod M9 + 1.0 mM IPTG  None           ['etoh', 'acetoin', 'glc__D', 'acetald', 'rs23bdo', 'm23bdo', 'od600', 'ac', 'suc', '13bdo']\n",
      "BD4 Δ(adhE,ldhA,pflB) + pBD3  mod M9 + 1.0 mM IPTG  None           ['etoh', 'acetoin', 'glc__D', 'acetald', 'rs23bdo', 'm23bdo', 'od600', 'ac', 'suc', '13bdo']\n"
     ]
    }
   ],
   "source": [
    "print(expt)"
   ]
  },
  {
   "cell_type": "markdown",
   "metadata": {},
   "source": [
    "Before we dive into data analysis, it is worth having a basic understanding of the schema to know where to look for data.\n",
    "\n",
    "Firstly, all data is funneled into a `ReplicateTrial`, even if you only have one replicate. As such, it is convenient to always look for data in this object. This object contains both an `avg` and `std` attribute where you can find the respective statistics. `avg` and `std` attributes are instances of `SingleTrial`, so we can access the statistical data similarly to the raw data itself.\n",
    "\n",
    "## Querying and filtering for data\n",
    "\n",
    "After import, data is all sorted into python objects, associated to an sql database using an object-relational mapper, SQLalchemy. Usually, we're interested in comparing a set of features and a set of conditions (strain, media, environment) and the queryable database allows us to search for the data we are interested in.\n",
    "\n",
    "Although it is usually simple to use the ORM to access the database directly, basic querying can also be done using python list comprehensions. The major limitation is that you will only query experiments loaded in memory, e.g. experiments that were parsed into this notebook."
   ]
  },
  {
   "cell_type": "code",
   "execution_count": 4,
   "metadata": {},
   "outputs": [
    {
     "name": "stdout",
     "output_type": "stream",
     "text": [
      "strain: BD1 + pBD1,\tmedia: mod M9 + 1.0 mM IPTG,\tenv: None \n",
      "strain: BD4 Δ(adhE,ldhA,pflB) + pBD3,\tmedia: mod M9 + 1.0 mM IPTG,\tenv: None \n"
     ]
    }
   ],
   "source": [
    "reps = [rep for rep in expt.replicate_trials]\n",
    "for rep in reps:\n",
    "    print(rep.trial_identifier)"
   ]
  },
  {
   "cell_type": "code",
   "execution_count": 5,
   "metadata": {},
   "outputs": [
    {
     "name": "stdout",
     "output_type": "stream",
     "text": [
      "strain: BD1 + pBD1,\tmedia: mod M9 + 1.0 mM IPTG,\tenv: None \n"
     ]
    }
   ],
   "source": [
    "reps = [rep for rep in expt.replicate_trials\n",
    "       if rep.trial_identifier.strain.name == 'BD1']\n",
    "for rep in reps:\n",
    "    print(rep.trial_identifier)"
   ]
  },
  {
   "cell_type": "markdown",
   "metadata": {},
   "source": [
    "To use the database, we must query data through a `session` object. The session is open for the entire application."
   ]
  },
  {
   "cell_type": "code",
   "execution_count": 6,
   "metadata": {},
   "outputs": [
    {
     "data": {
      "text/plain": [
       "<sqlalchemy.orm.session.Session at 0x20bda1c7d30>"
      ]
     },
     "execution_count": 6,
     "metadata": {},
     "output_type": "execute_result"
    }
   ],
   "source": [
    "from impact.database import session, create_db\n",
    "create_db()\n",
    "session"
   ]
  },
  {
   "cell_type": "markdown",
   "metadata": {},
   "source": [
    "Now that we have a session, we can use the standard SQLalchemy ORM language to query - it is described in detail here http://docs.sqlalchemy.org/en/latest/orm/tutorial.html#querying"
   ]
  },
  {
   "cell_type": "code",
   "execution_count": 7,
   "metadata": {
    "collapsed": true
   },
   "outputs": [],
   "source": [
    "session.add(expt)"
   ]
  },
  {
   "cell_type": "code",
   "execution_count": 8,
   "metadata": {
    "collapsed": true
   },
   "outputs": [],
   "source": [
    "reps = session.query(impt.ReplicateTrial)\\\n",
    "                .join(impt.ReplicateTrialIdentifier)\\\n",
    "                .join(impt.Strain)\\\n",
    "                .filter(impt.Strain.name == 'strain1').all()\n",
    "            \n",
    "for rep in reps:\n",
    "    print(rep.trial_identifier)"
   ]
  },
  {
   "cell_type": "markdown",
   "metadata": {},
   "source": [
    "## Visualization\n",
    "\n",
    "Several packages already exist for visualization in python. The most popular one in matplotlib, it has very simple syntax which should feel familiar for matlab users; however, matplotlib generates static plots. The Impact visualization module is built around plotly, which generated dynamic javascript plots, and as such it is worthwhile understanding the basic syntax of plotly charts."
   ]
  },
  {
   "cell_type": "code",
   "execution_count": 9,
   "metadata": {},
   "outputs": [
    {
     "data": {
      "text/html": [
       "<script>requirejs.config({paths: { 'plotly': ['https://cdn.plot.ly/plotly-latest.min']},});if(!window.Plotly) {{require(['plotly'],function(plotly) {window.Plotly=plotly;});}}</script>"
      ],
      "text/vnd.plotly.v1+html": [
       "<script>requirejs.config({paths: { 'plotly': ['https://cdn.plot.ly/plotly-latest.min']},});if(!window.Plotly) {{require(['plotly'],function(plotly) {window.Plotly=plotly;});}}</script>"
      ]
     },
     "metadata": {},
     "output_type": "display_data"
    },
    {
     "data": {
      "application/vnd.plotly.v1+json": {
       "data": [
        {
         "type": "scatter",
         "x": [
          0,
          1.1111111111111112,
          2.2222222222222223,
          3.3333333333333335,
          4.444444444444445,
          5.555555555555555,
          6.666666666666667,
          7.777777777777779,
          8.88888888888889,
          10
         ],
         "y": [
          0,
          1.234567901234568,
          4.938271604938272,
          11.111111111111112,
          19.75308641975309,
          30.864197530864196,
          44.44444444444445,
          60.49382716049384,
          79.01234567901236,
          100
         ]
        },
        {
         "type": "scatter",
         "x": [
          0,
          1.1111111111111112,
          2.2222222222222223,
          3.3333333333333335,
          4.444444444444445,
          5.555555555555555,
          6.666666666666667,
          7.777777777777779,
          8.88888888888889,
          10
         ],
         "y": [
          0,
          2.469135802469136,
          9.876543209876544,
          22.222222222222225,
          39.50617283950618,
          61.72839506172839,
          88.8888888888889,
          120.98765432098767,
          158.0246913580247,
          200
         ]
        }
       ],
       "layout": {}
      },
      "text/html": [
       "<div id=\"17a98d49-c943-402d-a39e-df464587079a\" style=\"height: 525px; width: 100%;\" class=\"plotly-graph-div\"></div><script type=\"text/javascript\">require([\"plotly\"], function(Plotly) { window.PLOTLYENV=window.PLOTLYENV || {};window.PLOTLYENV.BASE_URL=\"https://plot.ly\";Plotly.newPlot(\"17a98d49-c943-402d-a39e-df464587079a\", [{\"type\": \"scatter\", \"y\": [0.0, 1.234567901234568, 4.938271604938272, 11.111111111111112, 19.75308641975309, 30.864197530864196, 44.44444444444445, 60.49382716049384, 79.01234567901236, 100.0], \"x\": [0.0, 1.1111111111111112, 2.2222222222222223, 3.3333333333333335, 4.444444444444445, 5.555555555555555, 6.666666666666667, 7.777777777777779, 8.88888888888889, 10.0]}, {\"type\": \"scatter\", \"y\": [0.0, 2.469135802469136, 9.876543209876544, 22.222222222222225, 39.50617283950618, 61.72839506172839, 88.8888888888889, 120.98765432098767, 158.0246913580247, 200.0], \"x\": [0.0, 1.1111111111111112, 2.2222222222222223, 3.3333333333333335, 4.444444444444445, 5.555555555555555, 6.666666666666667, 7.777777777777779, 8.88888888888889, 10.0]}], {}, {\"linkText\": \"Export to plot.ly\", \"showLink\": true})});</script>"
      ],
      "text/vnd.plotly.v1+html": [
       "<div id=\"17a98d49-c943-402d-a39e-df464587079a\" style=\"height: 525px; width: 100%;\" class=\"plotly-graph-div\"></div><script type=\"text/javascript\">require([\"plotly\"], function(Plotly) { window.PLOTLYENV=window.PLOTLYENV || {};window.PLOTLYENV.BASE_URL=\"https://plot.ly\";Plotly.newPlot(\"17a98d49-c943-402d-a39e-df464587079a\", [{\"type\": \"scatter\", \"y\": [0.0, 1.234567901234568, 4.938271604938272, 11.111111111111112, 19.75308641975309, 30.864197530864196, 44.44444444444445, 60.49382716049384, 79.01234567901236, 100.0], \"x\": [0.0, 1.1111111111111112, 2.2222222222222223, 3.3333333333333335, 4.444444444444445, 5.555555555555555, 6.666666666666667, 7.777777777777779, 8.88888888888889, 10.0]}, {\"type\": \"scatter\", \"y\": [0.0, 2.469135802469136, 9.876543209876544, 22.222222222222225, 39.50617283950618, 61.72839506172839, 88.8888888888889, 120.98765432098767, 158.0246913580247, 200.0], \"x\": [0.0, 1.1111111111111112, 2.2222222222222223, 3.3333333333333335, 4.444444444444445, 5.555555555555555, 6.666666666666667, 7.777777777777779, 8.88888888888889, 10.0]}], {}, {\"linkText\": \"Export to plot.ly\", \"showLink\": true})});</script>"
      ]
     },
     "metadata": {},
     "output_type": "display_data"
    },
    {
     "data": {
      "application/vnd.plotly.v1+json": {
       "data": [
        {
         "type": "scatter",
         "x": [
          0,
          1.1111111111111112,
          2.2222222222222223,
          3.3333333333333335,
          4.444444444444445,
          5.555555555555555,
          6.666666666666667,
          7.777777777777779,
          8.88888888888889,
          10
         ],
         "y": [
          0,
          1.234567901234568,
          4.938271604938272,
          11.111111111111112,
          19.75308641975309,
          30.864197530864196,
          44.44444444444445,
          60.49382716049384,
          79.01234567901236,
          100
         ]
        },
        {
         "type": "scatter",
         "x": [
          0,
          1.1111111111111112,
          2.2222222222222223,
          3.3333333333333335,
          4.444444444444445,
          5.555555555555555,
          6.666666666666667,
          7.777777777777779,
          8.88888888888889,
          10
         ],
         "y": [
          0,
          2.469135802469136,
          9.876543209876544,
          22.222222222222225,
          39.50617283950618,
          61.72839506172839,
          88.8888888888889,
          120.98765432098767,
          158.0246913580247,
          200
         ]
        }
       ],
       "layout": {
        "height": 400,
        "width": 400
       }
      },
      "text/html": [
       "<div id=\"022737f0-2468-48ee-86fe-a7482df8e20b\" style=\"height: 400px; width: 400px;\" class=\"plotly-graph-div\"></div><script type=\"text/javascript\">require([\"plotly\"], function(Plotly) { window.PLOTLYENV=window.PLOTLYENV || {};window.PLOTLYENV.BASE_URL=\"https://plot.ly\";Plotly.newPlot(\"022737f0-2468-48ee-86fe-a7482df8e20b\", [{\"type\": \"scatter\", \"y\": [0.0, 1.234567901234568, 4.938271604938272, 11.111111111111112, 19.75308641975309, 30.864197530864196, 44.44444444444445, 60.49382716049384, 79.01234567901236, 100.0], \"x\": [0.0, 1.1111111111111112, 2.2222222222222223, 3.3333333333333335, 4.444444444444445, 5.555555555555555, 6.666666666666667, 7.777777777777779, 8.88888888888889, 10.0]}, {\"type\": \"scatter\", \"y\": [0.0, 2.469135802469136, 9.876543209876544, 22.222222222222225, 39.50617283950618, 61.72839506172839, 88.8888888888889, 120.98765432098767, 158.0246913580247, 200.0], \"x\": [0.0, 1.1111111111111112, 2.2222222222222223, 3.3333333333333335, 4.444444444444445, 5.555555555555555, 6.666666666666667, 7.777777777777779, 8.88888888888889, 10.0]}], {\"height\": 400, \"width\": 400}, {\"linkText\": \"Export to plot.ly\", \"showLink\": true})});</script>"
      ],
      "text/vnd.plotly.v1+html": [
       "<div id=\"022737f0-2468-48ee-86fe-a7482df8e20b\" style=\"height: 400px; width: 400px;\" class=\"plotly-graph-div\"></div><script type=\"text/javascript\">require([\"plotly\"], function(Plotly) { window.PLOTLYENV=window.PLOTLYENV || {};window.PLOTLYENV.BASE_URL=\"https://plot.ly\";Plotly.newPlot(\"022737f0-2468-48ee-86fe-a7482df8e20b\", [{\"type\": \"scatter\", \"y\": [0.0, 1.234567901234568, 4.938271604938272, 11.111111111111112, 19.75308641975309, 30.864197530864196, 44.44444444444445, 60.49382716049384, 79.01234567901236, 100.0], \"x\": [0.0, 1.1111111111111112, 2.2222222222222223, 3.3333333333333335, 4.444444444444445, 5.555555555555555, 6.666666666666667, 7.777777777777779, 8.88888888888889, 10.0]}, {\"type\": \"scatter\", \"y\": [0.0, 2.469135802469136, 9.876543209876544, 22.222222222222225, 39.50617283950618, 61.72839506172839, 88.8888888888889, 120.98765432098767, 158.0246913580247, 200.0], \"x\": [0.0, 1.1111111111111112, 2.2222222222222223, 3.3333333333333335, 4.444444444444445, 5.555555555555555, 6.666666666666667, 7.777777777777779, 8.88888888888889, 10.0]}], {\"height\": 400, \"width\": 400}, {\"linkText\": \"Export to plot.ly\", \"showLink\": true})});</script>"
      ]
     },
     "metadata": {},
     "output_type": "display_data"
    }
   ],
   "source": [
    "import impact.plotting as implot\n",
    "import numpy as np\n",
    "\n",
    "# Charts are made up in a hierarchical structure, but can be quickly generated as follows:\n",
    "x = np.linspace(0,10,10) \n",
    "y = np.linspace(0,10,10)**2\n",
    "implot.plot([implot.go.Scatter(x=x,y=y),\n",
    "             implot.go.Scatter(x=x,y=y*2)])\n",
    "\n",
    "# For more control over these plots, they can be built form the ground up\n",
    "# Traces are defined for each feature\n",
    "traces = [implot.go.Scatter(x=x,y=y),\n",
    "             implot.go.Scatter(x=x,y=y*2)]\n",
    "\n",
    "layout = implot.go.Layout(height=400,width=400)\n",
    "\n",
    "# Traces are joined to a figure\n",
    "fig = implot.go.Figure(data=traces, layout=layout)\n",
    "\n",
    "# And a figure is printed using plot\n",
    "implot.plot(fig)"
   ]
  },
  {
   "cell_type": "markdown",
   "metadata": {},
   "source": [
    "It should be noted that the implot package offers a direct wrapper to useful plotly functions, which could also be accessed with plotly directly. The Impact visualization module offers functions to help extract useful data and generate traces."
   ]
  },
  {
   "cell_type": "code",
   "execution_count": 10,
   "metadata": {},
   "outputs": [
    {
     "data": {
      "application/vnd.plotly.v1+json": {
       "data": [
        {
         "error_y": {
          "array": [
           0,
           0,
           0,
           0.060785430919835695,
           0.022881281781171464,
           0.06884643154995972,
           0.2672954302304241,
           0.31852214861850486,
           0.53340304735157,
           0.5258893310349821,
           0.741580167465344
          ],
          "color": "rgb(228,26,28)",
          "type": "data",
          "visible": true
         },
         "legendgroup": null,
         "line": {
          "color": "rgb(228,26,28)"
         },
         "marker": {
          "color": "rgb(228,26,28)"
         },
         "name": "BD1 + pBD1",
         "showlegend": true,
         "type": "scatter",
         "x": [
          0,
          3,
          6,
          9,
          12,
          15,
          24,
          24.1,
          36,
          48,
          60
         ],
         "y": [
          0,
          0,
          0,
          0.04560792698695024,
          0.09177509928706735,
          0.3748415296410528,
          3.9851085167174403,
          3.779114920707004,
          5.953225226588962,
          7.214912087057255,
          8.345426487624069
         ]
        },
        {
         "error_y": {
          "array": [
           0,
           0,
           0,
           0.032143596700895165,
           0.13547606020696745,
           0.5910639006144623,
           0.34208883310321847,
           0.3744173165762586,
           0.7046536871773171,
           1.730065056329376,
           2.0397208434928498
          ],
          "color": "rgb(55,126,184)",
          "type": "data",
          "visible": true
         },
         "legendgroup": null,
         "line": {
          "color": "rgb(55,126,184)"
         },
         "marker": {
          "color": "rgb(55,126,184)"
         },
         "name": "BD4 Δ(adhE,ldhA,pflB) + pBD3",
         "showlegend": true,
         "type": "scatter",
         "x": [
          0,
          3,
          6,
          9,
          12,
          15,
          24,
          24.1,
          36,
          48,
          60
         ],
         "y": [
          0,
          0,
          0,
          0.018558114207984592,
          0.25532491942452396,
          1.289531390271234,
          6.248639204778393,
          5.970767869044091,
          9.222720497181697,
          11.769906294873655,
          13.798980743880364
         ]
        }
       ],
       "layout": {}
      },
      "text/html": [
       "<div id=\"7d4428d3-a4bc-44db-8d2e-4368bb337a05\" style=\"height: 525px; width: 100%;\" class=\"plotly-graph-div\"></div><script type=\"text/javascript\">require([\"plotly\"], function(Plotly) { window.PLOTLYENV=window.PLOTLYENV || {};window.PLOTLYENV.BASE_URL=\"https://plot.ly\";Plotly.newPlot(\"7d4428d3-a4bc-44db-8d2e-4368bb337a05\", [{\"legendgroup\": null, \"marker\": {\"color\": \"rgb(228,26,28)\"}, \"line\": {\"color\": \"rgb(228,26,28)\"}, \"showlegend\": true, \"type\": \"scatter\", \"x\": [0.0, 3.0, 6.0, 9.0, 12.0, 15.0, 24.0, 24.1, 36.0, 48.0, 60.0], \"name\": \"BD1 + pBD1\", \"error_y\": {\"type\": \"data\", \"visible\": true, \"array\": [0.0, 0.0, 0.0, 0.060785430919835695, 0.022881281781171464, 0.06884643154995972, 0.2672954302304241, 0.31852214861850486, 0.53340304735157, 0.5258893310349821, 0.741580167465344], \"color\": \"rgb(228,26,28)\"}, \"y\": [0.0, 0.0, 0.0, 0.04560792698695024, 0.09177509928706735, 0.3748415296410528, 3.9851085167174403, 3.779114920707004, 5.953225226588962, 7.214912087057255, 8.345426487624069]}, {\"legendgroup\": null, \"marker\": {\"color\": \"rgb(55,126,184)\"}, \"line\": {\"color\": \"rgb(55,126,184)\"}, \"showlegend\": true, \"type\": \"scatter\", \"x\": [0.0, 3.0, 6.0, 9.0, 12.0, 15.0, 24.0, 24.1, 36.0, 48.0, 60.0], \"name\": \"BD4 \\u0394(adhE,ldhA,pflB) + pBD3\", \"error_y\": {\"type\": \"data\", \"visible\": true, \"array\": [0.0, 0.0, 0.0, 0.032143596700895165, 0.13547606020696745, 0.5910639006144623, 0.34208883310321847, 0.3744173165762586, 0.7046536871773171, 1.730065056329376, 2.0397208434928498], \"color\": \"rgb(55,126,184)\"}, \"y\": [0.0, 0.0, 0.0, 0.018558114207984592, 0.25532491942452396, 1.289531390271234, 6.248639204778393, 5.970767869044091, 9.222720497181697, 11.769906294873655, 13.798980743880364]}], {}, {\"linkText\": \"Export to plot.ly\", \"showLink\": true})});</script>"
      ],
      "text/vnd.plotly.v1+html": [
       "<div id=\"7d4428d3-a4bc-44db-8d2e-4368bb337a05\" style=\"height: 525px; width: 100%;\" class=\"plotly-graph-div\"></div><script type=\"text/javascript\">require([\"plotly\"], function(Plotly) { window.PLOTLYENV=window.PLOTLYENV || {};window.PLOTLYENV.BASE_URL=\"https://plot.ly\";Plotly.newPlot(\"7d4428d3-a4bc-44db-8d2e-4368bb337a05\", [{\"legendgroup\": null, \"marker\": {\"color\": \"rgb(228,26,28)\"}, \"line\": {\"color\": \"rgb(228,26,28)\"}, \"showlegend\": true, \"type\": \"scatter\", \"x\": [0.0, 3.0, 6.0, 9.0, 12.0, 15.0, 24.0, 24.1, 36.0, 48.0, 60.0], \"name\": \"BD1 + pBD1\", \"error_y\": {\"type\": \"data\", \"visible\": true, \"array\": [0.0, 0.0, 0.0, 0.060785430919835695, 0.022881281781171464, 0.06884643154995972, 0.2672954302304241, 0.31852214861850486, 0.53340304735157, 0.5258893310349821, 0.741580167465344], \"color\": \"rgb(228,26,28)\"}, \"y\": [0.0, 0.0, 0.0, 0.04560792698695024, 0.09177509928706735, 0.3748415296410528, 3.9851085167174403, 3.779114920707004, 5.953225226588962, 7.214912087057255, 8.345426487624069]}, {\"legendgroup\": null, \"marker\": {\"color\": \"rgb(55,126,184)\"}, \"line\": {\"color\": \"rgb(55,126,184)\"}, \"showlegend\": true, \"type\": \"scatter\", \"x\": [0.0, 3.0, 6.0, 9.0, 12.0, 15.0, 24.0, 24.1, 36.0, 48.0, 60.0], \"name\": \"BD4 \\u0394(adhE,ldhA,pflB) + pBD3\", \"error_y\": {\"type\": \"data\", \"visible\": true, \"array\": [0.0, 0.0, 0.0, 0.032143596700895165, 0.13547606020696745, 0.5910639006144623, 0.34208883310321847, 0.3744173165762586, 0.7046536871773171, 1.730065056329376, 2.0397208434928498], \"color\": \"rgb(55,126,184)\"}, \"y\": [0.0, 0.0, 0.0, 0.018558114207984592, 0.25532491942452396, 1.289531390271234, 6.248639204778393, 5.970767869044091, 9.222720497181697, 11.769906294873655, 13.798980743880364]}], {}, {\"linkText\": \"Export to plot.ly\", \"showLink\": true})});</script>"
      ]
     },
     "metadata": {},
     "output_type": "display_data"
    }
   ],
   "source": [
    "from impact.plotting import time_profile_traces\n",
    "\n",
    "implot.plot(time_profile_traces(replicate_trials=expt.replicate_trials,\n",
    "                               analyte='etoh',\n",
    "                               label=lambda rep: str(rep.trial_identifier.strain)))"
   ]
  },
  {
   "cell_type": "code",
   "execution_count": 12,
   "metadata": {
    "scrolled": false
   },
   "outputs": [
    {
     "data": {
      "application/vnd.plotly.v1+json": {
       "data": [
        {
         "name": 1,
         "type": "scatter",
         "x": [
          0,
          3,
          6,
          9,
          12,
          15,
          24,
          24.1,
          36,
          48,
          60
         ],
         "y": [
          0,
          0,
          0,
          0.022207925725494647,
          0.08768377831179398,
          0.3531192643190978,
          3.97067115744858,
          3.82541454584445,
          6.560389032905069,
          7.78129513645796,
          8.86162462865901
         ]
        },
        {
         "name": 2,
         "type": "scatter",
         "x": [
          0,
          3,
          6,
          9,
          12,
          15,
          24,
          24.1,
          36,
          48,
          60
         ],
         "y": [
          0,
          0,
          0,
          0.11461585523535607,
          0.11642604401218566,
          0.4519290809665273,
          4.259330040934234,
          4.0719534270594835,
          5.73926974335686,
          6.742070174774672,
          7.495638517285095
         ]
        },
        {
         "name": 3,
         "type": "scatter",
         "x": [
          0,
          3,
          6,
          9,
          12,
          15,
          24,
          24.1,
          36,
          48,
          60
         ],
         "y": [
          0,
          0,
          0,
          0,
          0.0712154755372224,
          0.31947624363753335,
          3.7253243517695065,
          3.4399767892170776,
          5.5600169035049545,
          7.121370949939134,
          8.679016316928102
         ]
        },
        {
         "error_y": {
          "array": [
           0,
           0,
           0,
           0.060785430919835695,
           0.022881281781171464,
           0.06884643154995972,
           0.2672954302304241,
           0.31852214861850486,
           0.53340304735157,
           0.5258893310349821,
           0.741580167465344
          ]
         },
         "name": "statistic",
         "type": "scatter",
         "x": [
          0,
          3,
          6,
          9,
          12,
          15,
          24,
          24.1,
          36,
          48,
          60
         ],
         "y": [
          0,
          0,
          0,
          0.04560792698695024,
          0.09177509928706735,
          0.3748415296410528,
          3.9851085167174403,
          3.779114920707004,
          5.953225226588962,
          7.214912087057255,
          8.345426487624069
         ]
        }
       ],
       "layout": {
        "title": "BD1 + pBD1"
       }
      },
      "text/html": [
       "<div id=\"c04db2eb-9658-4846-8668-3c1fb9069c5f\" style=\"height: 525px; width: 100%;\" class=\"plotly-graph-div\"></div><script type=\"text/javascript\">require([\"plotly\"], function(Plotly) { window.PLOTLYENV=window.PLOTLYENV || {};window.PLOTLYENV.BASE_URL=\"https://plot.ly\";Plotly.newPlot(\"c04db2eb-9658-4846-8668-3c1fb9069c5f\", [{\"type\": \"scatter\", \"x\": [0.0, 3.0, 6.0, 9.0, 12.0, 15.0, 24.0, 24.1, 36.0, 48.0, 60.0], \"name\": 1, \"y\": [0.0, 0.0, 0.0, 0.022207925725494647, 0.08768377831179398, 0.3531192643190978, 3.97067115744858, 3.82541454584445, 6.560389032905069, 7.78129513645796, 8.86162462865901]}, {\"type\": \"scatter\", \"x\": [0.0, 3.0, 6.0, 9.0, 12.0, 15.0, 24.0, 24.1, 36.0, 48.0, 60.0], \"name\": 2, \"y\": [0.0, 0.0, 0.0, 0.11461585523535607, 0.11642604401218566, 0.4519290809665273, 4.259330040934234, 4.0719534270594835, 5.73926974335686, 6.742070174774672, 7.495638517285095]}, {\"type\": \"scatter\", \"x\": [0.0, 3.0, 6.0, 9.0, 12.0, 15.0, 24.0, 24.1, 36.0, 48.0, 60.0], \"name\": 3, \"y\": [0.0, 0.0, 0.0, 0.0, 0.0712154755372224, 0.31947624363753335, 3.7253243517695065, 3.4399767892170776, 5.5600169035049545, 7.121370949939134, 8.679016316928102]}, {\"type\": \"scatter\", \"x\": [0.0, 3.0, 6.0, 9.0, 12.0, 15.0, 24.0, 24.1, 36.0, 48.0, 60.0], \"name\": \"statistic\", \"error_y\": {\"array\": [0.0, 0.0, 0.0, 0.060785430919835695, 0.022881281781171464, 0.06884643154995972, 0.2672954302304241, 0.31852214861850486, 0.53340304735157, 0.5258893310349821, 0.741580167465344]}, \"y\": [0.0, 0.0, 0.0, 0.04560792698695024, 0.09177509928706735, 0.3748415296410528, 3.9851085167174403, 3.779114920707004, 5.953225226588962, 7.214912087057255, 8.345426487624069]}], {\"title\": \"BD1 + pBD1\"}, {\"linkText\": \"Export to plot.ly\", \"showLink\": true})});</script>"
      ],
      "text/vnd.plotly.v1+html": [
       "<div id=\"c04db2eb-9658-4846-8668-3c1fb9069c5f\" style=\"height: 525px; width: 100%;\" class=\"plotly-graph-div\"></div><script type=\"text/javascript\">require([\"plotly\"], function(Plotly) { window.PLOTLYENV=window.PLOTLYENV || {};window.PLOTLYENV.BASE_URL=\"https://plot.ly\";Plotly.newPlot(\"c04db2eb-9658-4846-8668-3c1fb9069c5f\", [{\"type\": \"scatter\", \"x\": [0.0, 3.0, 6.0, 9.0, 12.0, 15.0, 24.0, 24.1, 36.0, 48.0, 60.0], \"name\": 1, \"y\": [0.0, 0.0, 0.0, 0.022207925725494647, 0.08768377831179398, 0.3531192643190978, 3.97067115744858, 3.82541454584445, 6.560389032905069, 7.78129513645796, 8.86162462865901]}, {\"type\": \"scatter\", \"x\": [0.0, 3.0, 6.0, 9.0, 12.0, 15.0, 24.0, 24.1, 36.0, 48.0, 60.0], \"name\": 2, \"y\": [0.0, 0.0, 0.0, 0.11461585523535607, 0.11642604401218566, 0.4519290809665273, 4.259330040934234, 4.0719534270594835, 5.73926974335686, 6.742070174774672, 7.495638517285095]}, {\"type\": \"scatter\", \"x\": [0.0, 3.0, 6.0, 9.0, 12.0, 15.0, 24.0, 24.1, 36.0, 48.0, 60.0], \"name\": 3, \"y\": [0.0, 0.0, 0.0, 0.0, 0.0712154755372224, 0.31947624363753335, 3.7253243517695065, 3.4399767892170776, 5.5600169035049545, 7.121370949939134, 8.679016316928102]}, {\"type\": \"scatter\", \"x\": [0.0, 3.0, 6.0, 9.0, 12.0, 15.0, 24.0, 24.1, 36.0, 48.0, 60.0], \"name\": \"statistic\", \"error_y\": {\"array\": [0.0, 0.0, 0.0, 0.060785430919835695, 0.022881281781171464, 0.06884643154995972, 0.2672954302304241, 0.31852214861850486, 0.53340304735157, 0.5258893310349821, 0.741580167465344]}, \"y\": [0.0, 0.0, 0.0, 0.04560792698695024, 0.09177509928706735, 0.3748415296410528, 3.9851085167174403, 3.779114920707004, 5.953225226588962, 7.214912087057255, 8.345426487624069]}], {\"title\": \"BD1 + pBD1\"}, {\"linkText\": \"Export to plot.ly\", \"showLink\": true})});</script>"
      ]
     },
     "metadata": {},
     "output_type": "display_data"
    },
    {
     "data": {
      "application/vnd.plotly.v1+json": {
       "data": [
        {
         "name": 1,
         "type": "scatter",
         "x": [
          0,
          3,
          6,
          9,
          12,
          15,
          24,
          24.1,
          36,
          48,
          60
         ],
         "y": [
          0,
          0,
          0,
          0,
          0.11523396847622472,
          0.618598901272178,
          5.858962957356494,
          5.554718790011795,
          9.95519940459296,
          13.466568273130365,
          15.772704623865478
         ]
        },
        {
         "name": 2,
         "type": "scatter",
         "x": [
          0,
          3,
          6,
          9,
          12,
          15,
          24,
          24.1,
          36,
          48,
          60
         ],
         "y": [
          0,
          0,
          0,
          0.05567434262395377,
          0.385658511356254,
          1.7333661311787671,
          6.499504878679508,
          6.280604489520458,
          9.163308041148682,
          11.834881770074489,
          13.925119995963342
         ]
        },
        {
         "name": 3,
         "type": "scatter",
         "x": [
          0,
          3,
          6,
          9,
          12,
          15,
          24,
          24.1,
          36,
          48,
          60
         ],
         "y": [
          0,
          0,
          0,
          0,
          0.26508227844109317,
          1.5166291383627566,
          6.387449778299179,
          6.076980327600017,
          8.549654045803452,
          10.00826884141611,
          11.699117611812271
         ]
        },
        {
         "error_y": {
          "array": [
           0,
           0,
           0,
           0.032143596700895165,
           0.13547606020696745,
           0.5910639006144623,
           0.34208883310321847,
           0.3744173165762586,
           0.7046536871773171,
           1.730065056329376,
           2.0397208434928498
          ]
         },
         "name": "statistic",
         "type": "scatter",
         "x": [
          0,
          3,
          6,
          9,
          12,
          15,
          24,
          24.1,
          36,
          48,
          60
         ],
         "y": [
          0,
          0,
          0,
          0.018558114207984592,
          0.25532491942452396,
          1.289531390271234,
          6.248639204778393,
          5.970767869044091,
          9.222720497181697,
          11.769906294873655,
          13.798980743880364
         ]
        }
       ],
       "layout": {
        "title": "BD4 Δ(adhE,ldhA,pflB) + pBD3"
       }
      },
      "text/html": [
       "<div id=\"71535581-ae08-4db1-917a-2012a4a42302\" style=\"height: 525px; width: 100%;\" class=\"plotly-graph-div\"></div><script type=\"text/javascript\">require([\"plotly\"], function(Plotly) { window.PLOTLYENV=window.PLOTLYENV || {};window.PLOTLYENV.BASE_URL=\"https://plot.ly\";Plotly.newPlot(\"71535581-ae08-4db1-917a-2012a4a42302\", [{\"type\": \"scatter\", \"x\": [0.0, 3.0, 6.0, 9.0, 12.0, 15.0, 24.0, 24.1, 36.0, 48.0, 60.0], \"name\": 1, \"y\": [0.0, 0.0, 0.0, 0.0, 0.11523396847622472, 0.618598901272178, 5.858962957356494, 5.554718790011795, 9.95519940459296, 13.466568273130365, 15.772704623865478]}, {\"type\": \"scatter\", \"x\": [0.0, 3.0, 6.0, 9.0, 12.0, 15.0, 24.0, 24.1, 36.0, 48.0, 60.0], \"name\": 2, \"y\": [0.0, 0.0, 0.0, 0.05567434262395377, 0.385658511356254, 1.7333661311787671, 6.499504878679508, 6.280604489520458, 9.163308041148682, 11.834881770074489, 13.925119995963342]}, {\"type\": \"scatter\", \"x\": [0.0, 3.0, 6.0, 9.0, 12.0, 15.0, 24.0, 24.1, 36.0, 48.0, 60.0], \"name\": 3, \"y\": [0.0, 0.0, 0.0, 0.0, 0.26508227844109317, 1.5166291383627566, 6.387449778299179, 6.076980327600017, 8.549654045803452, 10.00826884141611, 11.699117611812271]}, {\"type\": \"scatter\", \"x\": [0.0, 3.0, 6.0, 9.0, 12.0, 15.0, 24.0, 24.1, 36.0, 48.0, 60.0], \"name\": \"statistic\", \"error_y\": {\"array\": [0.0, 0.0, 0.0, 0.032143596700895165, 0.13547606020696745, 0.5910639006144623, 0.34208883310321847, 0.3744173165762586, 0.7046536871773171, 1.730065056329376, 2.0397208434928498]}, \"y\": [0.0, 0.0, 0.0, 0.018558114207984592, 0.25532491942452396, 1.289531390271234, 6.248639204778393, 5.970767869044091, 9.222720497181697, 11.769906294873655, 13.798980743880364]}], {\"title\": \"BD4 \\u0394(adhE,ldhA,pflB) + pBD3\"}, {\"linkText\": \"Export to plot.ly\", \"showLink\": true})});</script>"
      ],
      "text/vnd.plotly.v1+html": [
       "<div id=\"71535581-ae08-4db1-917a-2012a4a42302\" style=\"height: 525px; width: 100%;\" class=\"plotly-graph-div\"></div><script type=\"text/javascript\">require([\"plotly\"], function(Plotly) { window.PLOTLYENV=window.PLOTLYENV || {};window.PLOTLYENV.BASE_URL=\"https://plot.ly\";Plotly.newPlot(\"71535581-ae08-4db1-917a-2012a4a42302\", [{\"type\": \"scatter\", \"x\": [0.0, 3.0, 6.0, 9.0, 12.0, 15.0, 24.0, 24.1, 36.0, 48.0, 60.0], \"name\": 1, \"y\": [0.0, 0.0, 0.0, 0.0, 0.11523396847622472, 0.618598901272178, 5.858962957356494, 5.554718790011795, 9.95519940459296, 13.466568273130365, 15.772704623865478]}, {\"type\": \"scatter\", \"x\": [0.0, 3.0, 6.0, 9.0, 12.0, 15.0, 24.0, 24.1, 36.0, 48.0, 60.0], \"name\": 2, \"y\": [0.0, 0.0, 0.0, 0.05567434262395377, 0.385658511356254, 1.7333661311787671, 6.499504878679508, 6.280604489520458, 9.163308041148682, 11.834881770074489, 13.925119995963342]}, {\"type\": \"scatter\", \"x\": [0.0, 3.0, 6.0, 9.0, 12.0, 15.0, 24.0, 24.1, 36.0, 48.0, 60.0], \"name\": 3, \"y\": [0.0, 0.0, 0.0, 0.0, 0.26508227844109317, 1.5166291383627566, 6.387449778299179, 6.076980327600017, 8.549654045803452, 10.00826884141611, 11.699117611812271]}, {\"type\": \"scatter\", \"x\": [0.0, 3.0, 6.0, 9.0, 12.0, 15.0, 24.0, 24.1, 36.0, 48.0, 60.0], \"name\": \"statistic\", \"error_y\": {\"array\": [0.0, 0.0, 0.0, 0.032143596700895165, 0.13547606020696745, 0.5910639006144623, 0.34208883310321847, 0.3744173165762586, 0.7046536871773171, 1.730065056329376, 2.0397208434928498]}, \"y\": [0.0, 0.0, 0.0, 0.018558114207984592, 0.25532491942452396, 1.289531390271234, 6.248639204778393, 5.970767869044091, 9.222720497181697, 11.769906294873655, 13.798980743880364]}], {\"title\": \"BD4 \\u0394(adhE,ldhA,pflB) + pBD3\"}, {\"linkText\": \"Export to plot.ly\", \"showLink\": true})});</script>"
      ]
     },
     "metadata": {},
     "output_type": "display_data"
    }
   ],
   "source": [
    "\n",
    "for rep in expt.replicate_trials:\n",
    "    layout = implot.go.Layout(title=str(rep.trial_identifier.strain))\n",
    "    data = [implot.go.Scatter(x=trial.analyte_dict['etoh'].time_vector,\n",
    "                              y=trial.analyte_dict['etoh'].data_vector,\n",
    "                              name=trial.trial_identifier.replicate_id)\n",
    "            for trial in rep.single_trials]\n",
    "    data.append(implot.go.Scatter(x=rep.avg.analyte_dict['etoh'].time_vector,\n",
    "                              y=rep.avg.analyte_dict['etoh'].data_vector,\n",
    "                               error_y = {'array':rep.std.analyte_dict['etoh'].data_vector},\n",
    "                              name='statistic'))\n",
    "    data = sorted(data,key=lambda data: str(data['name']))\n",
    "    implot.plot(implot.go.Figure(data=data,layout=layout))"
   ]
  },
  {
   "cell_type": "code",
   "execution_count": 13,
   "metadata": {},
   "outputs": [
    {
     "data": {
      "application/vnd.plotly.v1+json": {
       "data": [
        {
         "error_y": {
          "array": [
           0,
           0,
           0,
           0.060785430919835695,
           0.022881281781171464,
           0.06884643154995972,
           0.2672954302304241,
           0.31852214861850486,
           0.53340304735157,
           0.5258893310349821,
           0.741580167465344
          ],
          "type": "data"
         },
         "name": "strain: BD1 + pBD1,\tmedia: mod M9 + 1.0 mM IPTG,\tenv: None ",
         "type": "scatter",
         "x": [
          0,
          3,
          6,
          9,
          12,
          15,
          24,
          24.1,
          36,
          48,
          60
         ],
         "y": [
          0,
          0,
          0,
          0.04560792698695024,
          0.09177509928706735,
          0.3748415296410528,
          3.9851085167174403,
          3.779114920707004,
          5.953225226588962,
          7.214912087057255,
          8.345426487624069
         ]
        },
        {
         "error_y": {
          "array": [
           0,
           0,
           0,
           0.032143596700895165,
           0.13547606020696745,
           0.5910639006144623,
           0.34208883310321847,
           0.3744173165762586,
           0.7046536871773171,
           1.730065056329376,
           2.0397208434928498
          ],
          "type": "data"
         },
         "name": "strain: BD4 Δ(adhE,ldhA,pflB) + pBD3,\tmedia: mod M9 + 1.0 mM IPTG,\tenv: None ",
         "type": "scatter",
         "x": [
          0,
          3,
          6,
          9,
          12,
          15,
          24,
          24.1,
          36,
          48,
          60
         ],
         "y": [
          0,
          0,
          0,
          0.018558114207984592,
          0.25532491942452396,
          1.289531390271234,
          6.248639204778393,
          5.970767869044091,
          9.222720497181697,
          11.769906294873655,
          13.798980743880364
         ]
        }
       ],
       "layout": {}
      },
      "text/html": [
       "<div id=\"ab407ad0-7e7e-4078-beff-9923b85f7de6\" style=\"height: 525px; width: 100%;\" class=\"plotly-graph-div\"></div><script type=\"text/javascript\">require([\"plotly\"], function(Plotly) { window.PLOTLYENV=window.PLOTLYENV || {};window.PLOTLYENV.BASE_URL=\"https://plot.ly\";Plotly.newPlot(\"ab407ad0-7e7e-4078-beff-9923b85f7de6\", [{\"type\": \"scatter\", \"x\": [0.0, 3.0, 6.0, 9.0, 12.0, 15.0, 24.0, 24.1, 36.0, 48.0, 60.0], \"name\": \"strain: BD1 + pBD1,\\tmedia: mod M9 + 1.0 mM IPTG,\\tenv: None \", \"error_y\": {\"type\": \"data\", \"array\": [0.0, 0.0, 0.0, 0.060785430919835695, 0.022881281781171464, 0.06884643154995972, 0.2672954302304241, 0.31852214861850486, 0.53340304735157, 0.5258893310349821, 0.741580167465344]}, \"y\": [0.0, 0.0, 0.0, 0.04560792698695024, 0.09177509928706735, 0.3748415296410528, 3.9851085167174403, 3.779114920707004, 5.953225226588962, 7.214912087057255, 8.345426487624069]}, {\"type\": \"scatter\", \"x\": [0.0, 3.0, 6.0, 9.0, 12.0, 15.0, 24.0, 24.1, 36.0, 48.0, 60.0], \"name\": \"strain: BD4 \\u0394(adhE,ldhA,pflB) + pBD3,\\tmedia: mod M9 + 1.0 mM IPTG,\\tenv: None \", \"error_y\": {\"type\": \"data\", \"array\": [0.0, 0.0, 0.0, 0.032143596700895165, 0.13547606020696745, 0.5910639006144623, 0.34208883310321847, 0.3744173165762586, 0.7046536871773171, 1.730065056329376, 2.0397208434928498]}, \"y\": [0.0, 0.0, 0.0, 0.018558114207984592, 0.25532491942452396, 1.289531390271234, 6.248639204778393, 5.970767869044091, 9.222720497181697, 11.769906294873655, 13.798980743880364]}], {}, {\"linkText\": \"Export to plot.ly\", \"showLink\": true})});</script>"
      ],
      "text/vnd.plotly.v1+html": [
       "<div id=\"ab407ad0-7e7e-4078-beff-9923b85f7de6\" style=\"height: 525px; width: 100%;\" class=\"plotly-graph-div\"></div><script type=\"text/javascript\">require([\"plotly\"], function(Plotly) { window.PLOTLYENV=window.PLOTLYENV || {};window.PLOTLYENV.BASE_URL=\"https://plot.ly\";Plotly.newPlot(\"ab407ad0-7e7e-4078-beff-9923b85f7de6\", [{\"type\": \"scatter\", \"x\": [0.0, 3.0, 6.0, 9.0, 12.0, 15.0, 24.0, 24.1, 36.0, 48.0, 60.0], \"name\": \"strain: BD1 + pBD1,\\tmedia: mod M9 + 1.0 mM IPTG,\\tenv: None \", \"error_y\": {\"type\": \"data\", \"array\": [0.0, 0.0, 0.0, 0.060785430919835695, 0.022881281781171464, 0.06884643154995972, 0.2672954302304241, 0.31852214861850486, 0.53340304735157, 0.5258893310349821, 0.741580167465344]}, \"y\": [0.0, 0.0, 0.0, 0.04560792698695024, 0.09177509928706735, 0.3748415296410528, 3.9851085167174403, 3.779114920707004, 5.953225226588962, 7.214912087057255, 8.345426487624069]}, {\"type\": \"scatter\", \"x\": [0.0, 3.0, 6.0, 9.0, 12.0, 15.0, 24.0, 24.1, 36.0, 48.0, 60.0], \"name\": \"strain: BD4 \\u0394(adhE,ldhA,pflB) + pBD3,\\tmedia: mod M9 + 1.0 mM IPTG,\\tenv: None \", \"error_y\": {\"type\": \"data\", \"array\": [0.0, 0.0, 0.0, 0.032143596700895165, 0.13547606020696745, 0.5910639006144623, 0.34208883310321847, 0.3744173165762586, 0.7046536871773171, 1.730065056329376, 2.0397208434928498]}, \"y\": [0.0, 0.0, 0.0, 0.018558114207984592, 0.25532491942452396, 1.289531390271234, 6.248639204778393, 5.970767869044091, 9.222720497181697, 11.769906294873655, 13.798980743880364]}], {}, {\"linkText\": \"Export to plot.ly\", \"showLink\": true})});</script>"
      ]
     },
     "metadata": {},
     "output_type": "display_data"
    }
   ],
   "source": [
    "import impact.plotting\n",
    "import plotly.graph_objs as go\n",
    "from plotly.offline import iplot\n",
    "\n",
    "iplot(\n",
    "    [go.Scatter(\n",
    "            x=rep.avg.analyte_dict['etoh'].time_vector,\n",
    "            y=rep.avg.analyte_dict['etoh'].data_vector,\n",
    "            name=str(rep.trial_identifier),\n",
    "            error_y=dict(type='data', array=rep.std.analyte_dict['etoh'].data_vector)\n",
    "               )\n",
    "     for rep in expt.replicate_trials]\n",
    ")"
   ]
  },
  {
   "cell_type": "markdown",
   "metadata": {},
   "source": [
    "## Exploring features\n",
    "\n",
    "With a standard schema for the data, we can now begin to explore some of the features which have been generated. Features include things like:\n",
    "\n",
    "- rate ($g\\ \\ h^{-1}$)\n",
    "- yield ($g_{product}\\ \\ g_{substrate}^{-1}$)\n",
    "- specific productivity ($g\\ \\ gdw^{-1}\\ \\ h^{-1}$)\n",
    "- normalized data (e.g. $a.u. fluorescence\\ \\ OD_{600}^{-1}$)"
   ]
  },
  {
   "cell_type": "code",
   "execution_count": 14,
   "metadata": {},
   "outputs": [
    {
     "data": {
      "application/vnd.plotly.v1+json": {
       "data": [
        {
         "error_y": {
          "array": [
           0,
           0,
           0.019472670735263865,
           0.0009851249956540002,
           0.0017248873684871852,
           0.009287392527633363,
           0.0023160973082442804,
           0.004299336871744332,
           0.004071342059950282,
           0.003583619492073132,
           0.004210246256375147
          ],
          "type": "data"
         },
         "name": "strain: BD1 + pBD1,\tmedia: mod M9 + 1.0 mM IPTG,\tenv: None ",
         "type": "scatter",
         "x": [
          0,
          3,
          6,
          9,
          12,
          15,
          24,
          24.1,
          36,
          48,
          60
         ],
         "y": [
          0,
          0,
          0.01564890946365877,
          0.010619662467210874,
          0.017436658976059477,
          0.07751973999309701,
          0.03595552075617601,
          0.015735742232773433,
          0.016643617641242395,
          0.01121112743277961,
          0.009998774588647485
         ]
        },
        {
         "error_y": {
          "array": [
           0,
           0,
           0.009920863179288631,
           0.008026247119628318,
           0.010400647936428739,
           0.03799790327095704,
           0.008289246970199483,
           0.010012638801921549,
           0.011204725997720797,
           0.007535899607446374,
           0.003729925233555683
          ],
          "type": "data"
         },
         "name": "strain: BD4 Δ(adhE,ldhA,pflB) + pBD3,\tmedia: mod M9 + 1.0 mM IPTG,\tenv: None ",
         "type": "scatter",
         "x": [
          0,
          3,
          6,
          9,
          12,
          15,
          24,
          24.1,
          36,
          48,
          60
         ],
         "y": [
          0,
          0,
          0.005727813027155738,
          0.02955205729005024,
          0.05995882267131114,
          0.09692174834661399,
          0.04068014297398128,
          0.020138830778217823,
          0.022391449174249126,
          0.018040038248173,
          0.016315916849858444
         ]
        }
       ],
       "layout": {}
      },
      "text/html": [
       "<div id=\"c1f75b4e-d519-46cb-861c-5b56652e4ac5\" style=\"height: 525px; width: 100%;\" class=\"plotly-graph-div\"></div><script type=\"text/javascript\">require([\"plotly\"], function(Plotly) { window.PLOTLYENV=window.PLOTLYENV || {};window.PLOTLYENV.BASE_URL=\"https://plot.ly\";Plotly.newPlot(\"c1f75b4e-d519-46cb-861c-5b56652e4ac5\", [{\"type\": \"scatter\", \"x\": [0.0, 3.0, 6.0, 9.0, 12.0, 15.0, 24.0, 24.1, 36.0, 48.0, 60.0], \"name\": \"strain: BD1 + pBD1,\\tmedia: mod M9 + 1.0 mM IPTG,\\tenv: None \", \"error_y\": {\"type\": \"data\", \"array\": [0.0, 0.0, 0.019472670735263865, 0.0009851249956540002, 0.0017248873684871852, 0.009287392527633363, 0.0023160973082442804, 0.004299336871744332, 0.004071342059950282, 0.003583619492073132, 0.004210246256375147]}, \"y\": [0.0, 0.0, 0.01564890946365877, 0.010619662467210874, 0.017436658976059477, 0.07751973999309701, 0.03595552075617601, 0.015735742232773433, 0.016643617641242395, 0.01121112743277961, 0.009998774588647485]}, {\"type\": \"scatter\", \"x\": [0.0, 3.0, 6.0, 9.0, 12.0, 15.0, 24.0, 24.1, 36.0, 48.0, 60.0], \"name\": \"strain: BD4 \\u0394(adhE,ldhA,pflB) + pBD3,\\tmedia: mod M9 + 1.0 mM IPTG,\\tenv: None \", \"error_y\": {\"type\": \"data\", \"array\": [0.0, 0.0, 0.009920863179288631, 0.008026247119628318, 0.010400647936428739, 0.03799790327095704, 0.008289246970199483, 0.010012638801921549, 0.011204725997720797, 0.007535899607446374, 0.003729925233555683]}, \"y\": [0.0, 0.0, 0.005727813027155738, 0.02955205729005024, 0.05995882267131114, 0.09692174834661399, 0.04068014297398128, 0.020138830778217823, 0.022391449174249126, 0.018040038248173, 0.016315916849858444]}], {}, {\"linkText\": \"Export to plot.ly\", \"showLink\": true})});</script>"
      ],
      "text/vnd.plotly.v1+html": [
       "<div id=\"c1f75b4e-d519-46cb-861c-5b56652e4ac5\" style=\"height: 525px; width: 100%;\" class=\"plotly-graph-div\"></div><script type=\"text/javascript\">require([\"plotly\"], function(Plotly) { window.PLOTLYENV=window.PLOTLYENV || {};window.PLOTLYENV.BASE_URL=\"https://plot.ly\";Plotly.newPlot(\"c1f75b4e-d519-46cb-861c-5b56652e4ac5\", [{\"type\": \"scatter\", \"x\": [0.0, 3.0, 6.0, 9.0, 12.0, 15.0, 24.0, 24.1, 36.0, 48.0, 60.0], \"name\": \"strain: BD1 + pBD1,\\tmedia: mod M9 + 1.0 mM IPTG,\\tenv: None \", \"error_y\": {\"type\": \"data\", \"array\": [0.0, 0.0, 0.019472670735263865, 0.0009851249956540002, 0.0017248873684871852, 0.009287392527633363, 0.0023160973082442804, 0.004299336871744332, 0.004071342059950282, 0.003583619492073132, 0.004210246256375147]}, \"y\": [0.0, 0.0, 0.01564890946365877, 0.010619662467210874, 0.017436658976059477, 0.07751973999309701, 0.03595552075617601, 0.015735742232773433, 0.016643617641242395, 0.01121112743277961, 0.009998774588647485]}, {\"type\": \"scatter\", \"x\": [0.0, 3.0, 6.0, 9.0, 12.0, 15.0, 24.0, 24.1, 36.0, 48.0, 60.0], \"name\": \"strain: BD4 \\u0394(adhE,ldhA,pflB) + pBD3,\\tmedia: mod M9 + 1.0 mM IPTG,\\tenv: None \", \"error_y\": {\"type\": \"data\", \"array\": [0.0, 0.0, 0.009920863179288631, 0.008026247119628318, 0.010400647936428739, 0.03799790327095704, 0.008289246970199483, 0.010012638801921549, 0.011204725997720797, 0.007535899607446374, 0.003729925233555683]}, \"y\": [0.0, 0.0, 0.005727813027155738, 0.02955205729005024, 0.05995882267131114, 0.09692174834661399, 0.04068014297398128, 0.020138830778217823, 0.022391449174249126, 0.018040038248173, 0.016315916849858444]}], {}, {\"linkText\": \"Export to plot.ly\", \"showLink\": true})});</script>"
      ]
     },
     "metadata": {},
     "output_type": "display_data"
    }
   ],
   "source": [
    "iplot(\n",
    "    [go.Scatter(\n",
    "            x=rep.avg.analyte_dict['etoh'].time_vector,\n",
    "            y=rep.avg.analyte_dict['etoh'].specific_productivity,\n",
    "            name=str(rep.trial_identifier),\n",
    "            error_y=dict(type='data', array=rep.std.analyte_dict['etoh'].specific_productivity)\n",
    "               )\n",
    "     for rep in expt.replicate_trials]\n",
    ")"
   ]
  },
  {
   "cell_type": "markdown",
   "metadata": {},
   "source": [
    "We can also choose to plot only the end points, making it easier to interpret a large number of strains:"
   ]
  },
  {
   "cell_type": "code",
   "execution_count": 15,
   "metadata": {},
   "outputs": [
    {
     "data": {
      "application/vnd.plotly.v1+json": {
       "data": [
        {
         "error_y": {
          "array": [
           0.741580167465344
          ],
          "type": "data"
         },
         "name": "BD1 + pBD1",
         "type": "bar",
         "x": [
          "BD1 + pBD1"
         ],
         "y": [
          8.345426487624069
         ]
        },
        {
         "error_y": {
          "array": [
           2.0397208434928498
          ],
          "type": "data"
         },
         "name": "BD4 Δ(adhE,ldhA,pflB) + pBD3",
         "type": "bar",
         "x": [
          "BD4 Δ(adhE,ldhA,pflB) + pBD3"
         ],
         "y": [
          13.798980743880364
         ]
        }
       ],
       "layout": {}
      },
      "text/html": [
       "<div id=\"7f2f5fc5-3a7f-4bf4-b428-a44000f761b0\" style=\"height: 525px; width: 100%;\" class=\"plotly-graph-div\"></div><script type=\"text/javascript\">require([\"plotly\"], function(Plotly) { window.PLOTLYENV=window.PLOTLYENV || {};window.PLOTLYENV.BASE_URL=\"https://plot.ly\";Plotly.newPlot(\"7f2f5fc5-3a7f-4bf4-b428-a44000f761b0\", [{\"type\": \"bar\", \"x\": [\"BD1 + pBD1\"], \"name\": \"BD1 + pBD1\", \"error_y\": {\"type\": \"data\", \"array\": [0.741580167465344]}, \"y\": [8.345426487624069]}, {\"type\": \"bar\", \"x\": [\"BD4 \\u0394(adhE,ldhA,pflB) + pBD3\"], \"name\": \"BD4 \\u0394(adhE,ldhA,pflB) + pBD3\", \"error_y\": {\"type\": \"data\", \"array\": [2.0397208434928498]}, \"y\": [13.798980743880364]}], {}, {\"linkText\": \"Export to plot.ly\", \"showLink\": true})});</script>"
      ],
      "text/vnd.plotly.v1+html": [
       "<div id=\"7f2f5fc5-3a7f-4bf4-b428-a44000f761b0\" style=\"height: 525px; width: 100%;\" class=\"plotly-graph-div\"></div><script type=\"text/javascript\">require([\"plotly\"], function(Plotly) { window.PLOTLYENV=window.PLOTLYENV || {};window.PLOTLYENV.BASE_URL=\"https://plot.ly\";Plotly.newPlot(\"7f2f5fc5-3a7f-4bf4-b428-a44000f761b0\", [{\"type\": \"bar\", \"x\": [\"BD1 + pBD1\"], \"name\": \"BD1 + pBD1\", \"error_y\": {\"type\": \"data\", \"array\": [0.741580167465344]}, \"y\": [8.345426487624069]}, {\"type\": \"bar\", \"x\": [\"BD4 \\u0394(adhE,ldhA,pflB) + pBD3\"], \"name\": \"BD4 \\u0394(adhE,ldhA,pflB) + pBD3\", \"error_y\": {\"type\": \"data\", \"array\": [2.0397208434928498]}, \"y\": [13.798980743880364]}], {}, {\"linkText\": \"Export to plot.ly\", \"showLink\": true})});</script>"
      ]
     },
     "metadata": {},
     "output_type": "display_data"
    }
   ],
   "source": [
    "iplot(\n",
    "    [go.Bar(\n",
    "            x=[str(rep.trial_identifier.strain)],\n",
    "            y=[rep.avg.analyte_dict['etoh'].data_vector[-1]],\n",
    "            name=str(rep.trial_identifier.strain),\n",
    "            error_y=dict(type='data', array=[rep.std.analyte_dict['etoh'].data_vector[-1]])\n",
    "               )\n",
    "    for rep in expt.replicate_trials]\n",
    ")"
   ]
  },
  {
   "cell_type": "markdown",
   "metadata": {},
   "source": [
    "Using only the end point, it becomes easier to visualize all analytes:\n",
    "\n"
   ]
  },
  {
   "cell_type": "code",
   "execution_count": 16,
   "metadata": {},
   "outputs": [
    {
     "data": {
      "text/plain": [
       "10"
      ]
     },
     "execution_count": 16,
     "metadata": {},
     "output_type": "execute_result"
    }
   ],
   "source": [
    "unique_analytes = list(set([analyte for rep in expt.replicate_trials for analyte in rep.avg.analyte_dict]))\n",
    "len(unique_analytes)"
   ]
  },
  {
   "cell_type": "code",
   "execution_count": 17,
   "metadata": {},
   "outputs": [
    {
     "name": "stdout",
     "output_type": "stream",
     "text": [
      "This is the format of your plot grid:\n",
      "[ (1,1) x1,y1 ]    [ (1,2) x2,y2 ]    [ (1,3) x3,y3 ]    [ (1,4) x4,y4 ]    [ (1,5) x5,y5 ]  \n",
      "[ (2,1) x6,y6 ]    [ (2,2) x7,y7 ]    [ (2,3) x8,y8 ]    [ (2,4) x9,y9 ]    [ (2,5) x10,y10 ]\n",
      "\n"
     ]
    },
    {
     "data": {
      "application/vnd.plotly.v1+json": {
       "data": [
        {
         "error_y": {
          "array": [
           0.741580167465344
          ]
         },
         "legendgroup": "BD1 + pBD1",
         "marker": {
          "color": "rgb(228,26,28)"
         },
         "name": "BD1 + pBD1",
         "showlegend": true,
         "type": "bar",
         "x": [
          "BD1 + pBD1"
         ],
         "xaxis": "x1",
         "y": [
          8.345426487624069
         ],
         "yaxis": "y1"
        },
        {
         "error_y": {
          "array": [
           2.0397208434928498
          ]
         },
         "legendgroup": "BD4 Δ(adhE,ldhA,pflB) + pBD3",
         "marker": {
          "color": "rgb(55,126,184)"
         },
         "name": "BD4 Δ(adhE,ldhA,pflB) + pBD3",
         "showlegend": true,
         "type": "bar",
         "x": [
          "BD4 Δ(adhE,ldhA,pflB) + pBD3"
         ],
         "xaxis": "x1",
         "y": [
          13.798980743880364
         ],
         "yaxis": "y1"
        },
        {
         "error_y": {
          "array": [
           0.42409637919645266
          ]
         },
         "legendgroup": "BD1 + pBD1",
         "marker": {
          "color": "rgb(228,26,28)"
         },
         "name": "BD1 + pBD1",
         "showlegend": false,
         "type": "bar",
         "x": [
          "BD1 + pBD1"
         ],
         "xaxis": "x2",
         "y": [
          1.017870363796793
         ],
         "yaxis": "y2"
        },
        {
         "error_y": {
          "array": [
           0.9981662059779962
          ]
         },
         "legendgroup": "BD4 Δ(adhE,ldhA,pflB) + pBD3",
         "marker": {
          "color": "rgb(55,126,184)"
         },
         "name": "BD4 Δ(adhE,ldhA,pflB) + pBD3",
         "showlegend": false,
         "type": "bar",
         "x": [
          "BD4 Δ(adhE,ldhA,pflB) + pBD3"
         ],
         "xaxis": "x2",
         "y": [
          1.8943058922166216
         ],
         "yaxis": "y2"
        },
        {
         "error_y": {
          "array": [
           0.10309233643146144
          ]
         },
         "legendgroup": "BD1 + pBD1",
         "marker": {
          "color": "rgb(228,26,28)"
         },
         "name": "BD1 + pBD1",
         "showlegend": false,
         "type": "bar",
         "x": [
          "BD1 + pBD1"
         ],
         "xaxis": "x3",
         "y": [
          0.3187480445016844
         ],
         "yaxis": "y3"
        },
        {
         "error_y": {
          "array": [
           0.039811250255633444
          ]
         },
         "legendgroup": "BD4 Δ(adhE,ldhA,pflB) + pBD3",
         "marker": {
          "color": "rgb(55,126,184)"
         },
         "name": "BD4 Δ(adhE,ldhA,pflB) + pBD3",
         "showlegend": false,
         "type": "bar",
         "x": [
          "BD4 Δ(adhE,ldhA,pflB) + pBD3"
         ],
         "xaxis": "x3",
         "y": [
          0.3235067269142055
         ],
         "yaxis": "y3"
        },
        {
         "error_y": {
          "array": [
           4.36028276879441
          ]
         },
         "legendgroup": "BD1 + pBD1",
         "marker": {
          "color": "rgb(228,26,28)"
         },
         "name": "BD1 + pBD1",
         "showlegend": false,
         "type": "bar",
         "x": [
          "BD1 + pBD1"
         ],
         "xaxis": "x4",
         "y": [
          26.856197530864193
         ],
         "yaxis": "y4"
        },
        {
         "error_y": {
          "array": [
           6.9543377986358585
          ]
         },
         "legendgroup": "BD4 Δ(adhE,ldhA,pflB) + pBD3",
         "marker": {
          "color": "rgb(55,126,184)"
         },
         "name": "BD4 Δ(adhE,ldhA,pflB) + pBD3",
         "showlegend": false,
         "type": "bar",
         "x": [
          "BD4 Δ(adhE,ldhA,pflB) + pBD3"
         ],
         "xaxis": "x4",
         "y": [
          6.882030864197531
         ],
         "yaxis": "y4"
        },
        {
         "error_y": {
          "array": [
           0.009666687406774031
          ]
         },
         "legendgroup": "BD1 + pBD1",
         "marker": {
          "color": "rgb(228,26,28)"
         },
         "name": "BD1 + pBD1",
         "showlegend": false,
         "type": "bar",
         "x": [
          "BD1 + pBD1"
         ],
         "xaxis": "x5",
         "y": [
          0.005581064576472953
         ],
         "yaxis": "y5"
        },
        {
         "error_y": {
          "array": [
           0.02765577732169713
          ]
         },
         "legendgroup": "BD4 Δ(adhE,ldhA,pflB) + pBD3",
         "marker": {
          "color": "rgb(55,126,184)"
         },
         "name": "BD4 Δ(adhE,ldhA,pflB) + pBD3",
         "showlegend": false,
         "type": "bar",
         "x": [
          "BD4 Δ(adhE,ldhA,pflB) + pBD3"
         ],
         "xaxis": "x5",
         "y": [
          0.03193265618477807
         ],
         "yaxis": "y5"
        },
        {
         "error_y": {
          "array": [
           0.15077713092850248
          ]
         },
         "legendgroup": "BD1 + pBD1",
         "marker": {
          "color": "rgb(228,26,28)"
         },
         "name": "BD1 + pBD1",
         "showlegend": false,
         "type": "bar",
         "x": [
          "BD1 + pBD1"
         ],
         "xaxis": "x6",
         "y": [
          1.0711701683595383
         ],
         "yaxis": "y6"
        },
        {
         "error_y": {
          "array": [
           0.38376785752812387
          ]
         },
         "legendgroup": "BD4 Δ(adhE,ldhA,pflB) + pBD3",
         "marker": {
          "color": "rgb(55,126,184)"
         },
         "name": "BD4 Δ(adhE,ldhA,pflB) + pBD3",
         "showlegend": false,
         "type": "bar",
         "x": [
          "BD4 Δ(adhE,ldhA,pflB) + pBD3"
         ],
         "xaxis": "x6",
         "y": [
          2.5655272637323563
         ],
         "yaxis": "y6"
        },
        {
         "error_y": {
          "array": [
           0.5992495306631455
          ]
         },
         "legendgroup": "BD1 + pBD1",
         "marker": {
          "color": "rgb(228,26,28)"
         },
         "name": "BD1 + pBD1",
         "showlegend": false,
         "type": "bar",
         "x": [
          "BD1 + pBD1"
         ],
         "xaxis": "x7",
         "y": [
          9.59
         ],
         "yaxis": "y7"
        },
        {
         "error_y": {
          "array": [
           1.3312149838900298
          ]
         },
         "legendgroup": "BD4 Δ(adhE,ldhA,pflB) + pBD3",
         "marker": {
          "color": "rgb(55,126,184)"
         },
         "name": "BD4 Δ(adhE,ldhA,pflB) + pBD3",
         "showlegend": false,
         "type": "bar",
         "x": [
          "BD4 Δ(adhE,ldhA,pflB) + pBD3"
         ],
         "xaxis": "x7",
         "y": [
          10.503333333333334
         ],
         "yaxis": "y7"
        },
        {
         "error_y": {
          "array": [
           0.260397246638052
          ]
         },
         "legendgroup": "BD1 + pBD1",
         "marker": {
          "color": "rgb(228,26,28)"
         },
         "name": "BD1 + pBD1",
         "showlegend": false,
         "type": "bar",
         "x": [
          "BD1 + pBD1"
         ],
         "xaxis": "x8",
         "y": [
          1.4404951565843218
         ],
         "yaxis": "y8"
        },
        {
         "error_y": {
          "array": [
           0.04887259323090543
          ]
         },
         "legendgroup": "BD4 Δ(adhE,ldhA,pflB) + pBD3",
         "marker": {
          "color": "rgb(55,126,184)"
         },
         "name": "BD4 Δ(adhE,ldhA,pflB) + pBD3",
         "showlegend": false,
         "type": "bar",
         "x": [
          "BD4 Δ(adhE,ldhA,pflB) + pBD3"
         ],
         "xaxis": "x8",
         "y": [
          0.3836046899652034
         ],
         "yaxis": "y8"
        },
        {
         "error_y": {
          "array": [
           0.24887442182150862
          ]
         },
         "legendgroup": "BD1 + pBD1",
         "marker": {
          "color": "rgb(228,26,28)"
         },
         "name": "BD1 + pBD1",
         "showlegend": false,
         "type": "bar",
         "x": [
          "BD1 + pBD1"
         ],
         "xaxis": "x9",
         "y": [
          1.6081003724353746
         ],
         "yaxis": "y9"
        },
        {
         "error_y": {
          "array": [
           0.12442204788082055
          ]
         },
         "legendgroup": "BD4 Δ(adhE,ldhA,pflB) + pBD3",
         "marker": {
          "color": "rgb(55,126,184)"
         },
         "name": "BD4 Δ(adhE,ldhA,pflB) + pBD3",
         "showlegend": false,
         "type": "bar",
         "x": [
          "BD4 Δ(adhE,ldhA,pflB) + pBD3"
         ],
         "xaxis": "x9",
         "y": [
          2.460552002115609
         ],
         "yaxis": "y9"
        },
        {
         "error_y": {
          "array": [
           0.0587713436590096
          ]
         },
         "legendgroup": "BD1 + pBD1",
         "marker": {
          "color": "rgb(228,26,28)"
         },
         "name": "BD1 + pBD1",
         "showlegend": false,
         "type": "bar",
         "x": [
          "BD1 + pBD1"
         ],
         "xaxis": "x10",
         "y": [
          0.22649243573289776
         ],
         "yaxis": "y10"
        },
        {
         "error_y": {
          "array": [
           0.07156419548243635
          ]
         },
         "legendgroup": "BD4 Δ(adhE,ldhA,pflB) + pBD3",
         "marker": {
          "color": "rgb(55,126,184)"
         },
         "name": "BD4 Δ(adhE,ldhA,pflB) + pBD3",
         "showlegend": false,
         "type": "bar",
         "x": [
          "BD4 Δ(adhE,ldhA,pflB) + pBD3"
         ],
         "xaxis": "x10",
         "y": [
          0.31825924629564817
         ],
         "yaxis": "y10"
        }
       ],
       "layout": {
        "annotations": [
         {
          "font": {
           "size": 16
          },
          "showarrow": false,
          "text": "etoh",
          "x": 0.08399999999999999,
          "xanchor": "center",
          "xref": "paper",
          "y": 1,
          "yanchor": "bottom",
          "yref": "paper"
         },
         {
          "font": {
           "size": 16
          },
          "showarrow": false,
          "text": "acetoin",
          "x": 0.292,
          "xanchor": "center",
          "xref": "paper",
          "y": 1,
          "yanchor": "bottom",
          "yref": "paper"
         },
         {
          "font": {
           "size": 16
          },
          "showarrow": false,
          "text": "acetald",
          "x": 0.5,
          "xanchor": "center",
          "xref": "paper",
          "y": 1,
          "yanchor": "bottom",
          "yref": "paper"
         },
         {
          "font": {
           "size": 16
          },
          "showarrow": false,
          "text": "glc__D",
          "x": 0.708,
          "xanchor": "center",
          "xref": "paper",
          "y": 1,
          "yanchor": "bottom",
          "yref": "paper"
         },
         {
          "font": {
           "size": 16
          },
          "showarrow": false,
          "text": "rs23bdo",
          "x": 0.9159999999999999,
          "xanchor": "center",
          "xref": "paper",
          "y": 1,
          "yanchor": "bottom",
          "yref": "paper"
         },
         {
          "font": {
           "size": 16
          },
          "showarrow": false,
          "text": "m23bdo",
          "x": 0.08399999999999999,
          "xanchor": "center",
          "xref": "paper",
          "y": 0.375,
          "yanchor": "bottom",
          "yref": "paper"
         },
         {
          "font": {
           "size": 16
          },
          "showarrow": false,
          "text": "od600",
          "x": 0.292,
          "xanchor": "center",
          "xref": "paper",
          "y": 0.375,
          "yanchor": "bottom",
          "yref": "paper"
         },
         {
          "font": {
           "size": 16
          },
          "showarrow": false,
          "text": "ac",
          "x": 0.5,
          "xanchor": "center",
          "xref": "paper",
          "y": 0.375,
          "yanchor": "bottom",
          "yref": "paper"
         },
         {
          "font": {
           "size": 16
          },
          "showarrow": false,
          "text": "suc",
          "x": 0.708,
          "xanchor": "center",
          "xref": "paper",
          "y": 0.375,
          "yanchor": "bottom",
          "yref": "paper"
         },
         {
          "font": {
           "size": 16
          },
          "showarrow": false,
          "text": "13bdo",
          "x": 0.9159999999999999,
          "xanchor": "center",
          "xref": "paper",
          "y": 0.375,
          "yanchor": "bottom",
          "yref": "paper"
         }
        ],
        "xaxis1": {
         "anchor": "y1",
         "domain": [
          0,
          0.16799999999999998
         ],
         "showticklabels": false
        },
        "xaxis10": {
         "anchor": "y10",
         "domain": [
          0.832,
          1
         ],
         "showticklabels": false
        },
        "xaxis2": {
         "anchor": "y2",
         "domain": [
          0.208,
          0.376
         ],
         "showticklabels": false
        },
        "xaxis3": {
         "anchor": "y3",
         "domain": [
          0.416,
          0.584
         ],
         "showticklabels": false
        },
        "xaxis4": {
         "anchor": "y4",
         "domain": [
          0.624,
          0.792
         ],
         "showticklabels": false
        },
        "xaxis5": {
         "anchor": "y5",
         "domain": [
          0.832,
          1
         ],
         "showticklabels": false
        },
        "xaxis6": {
         "anchor": "y6",
         "domain": [
          0,
          0.16799999999999998
         ],
         "showticklabels": false
        },
        "xaxis7": {
         "anchor": "y7",
         "domain": [
          0.208,
          0.376
         ],
         "showticklabels": false
        },
        "xaxis8": {
         "anchor": "y8",
         "domain": [
          0.416,
          0.584
         ],
         "showticklabels": false
        },
        "xaxis9": {
         "anchor": "y9",
         "domain": [
          0.624,
          0.792
         ],
         "showticklabels": false
        },
        "yaxis1": {
         "anchor": "x1",
         "domain": [
          0.625,
          1
         ]
        },
        "yaxis10": {
         "anchor": "x10",
         "domain": [
          0,
          0.375
         ]
        },
        "yaxis2": {
         "anchor": "x2",
         "domain": [
          0.625,
          1
         ]
        },
        "yaxis3": {
         "anchor": "x3",
         "domain": [
          0.625,
          1
         ]
        },
        "yaxis4": {
         "anchor": "x4",
         "domain": [
          0.625,
          1
         ]
        },
        "yaxis5": {
         "anchor": "x5",
         "domain": [
          0.625,
          1
         ]
        },
        "yaxis6": {
         "anchor": "x6",
         "domain": [
          0,
          0.375
         ]
        },
        "yaxis7": {
         "anchor": "x7",
         "domain": [
          0,
          0.375
         ]
        },
        "yaxis8": {
         "anchor": "x8",
         "domain": [
          0,
          0.375
         ]
        },
        "yaxis9": {
         "anchor": "x9",
         "domain": [
          0,
          0.375
         ]
        }
       }
      },
      "text/html": [
       "<div id=\"d86974ce-01ca-4af2-816c-9415a568db76\" style=\"height: 525px; width: 100%;\" class=\"plotly-graph-div\"></div><script type=\"text/javascript\">require([\"plotly\"], function(Plotly) { window.PLOTLYENV=window.PLOTLYENV || {};window.PLOTLYENV.BASE_URL=\"https://plot.ly\";Plotly.newPlot(\"d86974ce-01ca-4af2-816c-9415a568db76\", [{\"legendgroup\": \"BD1 + pBD1\", \"xaxis\": \"x1\", \"marker\": {\"color\": \"rgb(228,26,28)\"}, \"showlegend\": true, \"type\": \"bar\", \"y\": [8.345426487624069], \"name\": \"BD1 + pBD1\", \"error_y\": {\"array\": [0.741580167465344]}, \"yaxis\": \"y1\", \"x\": [\"BD1 + pBD1\"]}, {\"legendgroup\": \"BD4 \\u0394(adhE,ldhA,pflB) + pBD3\", \"xaxis\": \"x1\", \"marker\": {\"color\": \"rgb(55,126,184)\"}, \"showlegend\": true, \"type\": \"bar\", \"y\": [13.798980743880364], \"name\": \"BD4 \\u0394(adhE,ldhA,pflB) + pBD3\", \"error_y\": {\"array\": [2.0397208434928498]}, \"yaxis\": \"y1\", \"x\": [\"BD4 \\u0394(adhE,ldhA,pflB) + pBD3\"]}, {\"legendgroup\": \"BD1 + pBD1\", \"xaxis\": \"x2\", \"marker\": {\"color\": \"rgb(228,26,28)\"}, \"showlegend\": false, \"type\": \"bar\", \"y\": [1.017870363796793], \"name\": \"BD1 + pBD1\", \"error_y\": {\"array\": [0.42409637919645266]}, \"yaxis\": \"y2\", \"x\": [\"BD1 + pBD1\"]}, {\"legendgroup\": \"BD4 \\u0394(adhE,ldhA,pflB) + pBD3\", \"xaxis\": \"x2\", \"marker\": {\"color\": \"rgb(55,126,184)\"}, \"showlegend\": false, \"type\": \"bar\", \"y\": [1.8943058922166216], \"name\": \"BD4 \\u0394(adhE,ldhA,pflB) + pBD3\", \"error_y\": {\"array\": [0.9981662059779962]}, \"yaxis\": \"y2\", \"x\": [\"BD4 \\u0394(adhE,ldhA,pflB) + pBD3\"]}, {\"legendgroup\": \"BD1 + pBD1\", \"xaxis\": \"x3\", \"marker\": {\"color\": \"rgb(228,26,28)\"}, \"showlegend\": false, \"type\": \"bar\", \"y\": [0.3187480445016844], \"name\": \"BD1 + pBD1\", \"error_y\": {\"array\": [0.10309233643146144]}, \"yaxis\": \"y3\", \"x\": [\"BD1 + pBD1\"]}, {\"legendgroup\": \"BD4 \\u0394(adhE,ldhA,pflB) + pBD3\", \"xaxis\": \"x3\", \"marker\": {\"color\": \"rgb(55,126,184)\"}, \"showlegend\": false, \"type\": \"bar\", \"y\": [0.3235067269142055], \"name\": \"BD4 \\u0394(adhE,ldhA,pflB) + pBD3\", \"error_y\": {\"array\": [0.039811250255633444]}, \"yaxis\": \"y3\", \"x\": [\"BD4 \\u0394(adhE,ldhA,pflB) + pBD3\"]}, {\"legendgroup\": \"BD1 + pBD1\", \"xaxis\": \"x4\", \"marker\": {\"color\": \"rgb(228,26,28)\"}, \"showlegend\": false, \"type\": \"bar\", \"y\": [26.856197530864193], \"name\": \"BD1 + pBD1\", \"error_y\": {\"array\": [4.36028276879441]}, \"yaxis\": \"y4\", \"x\": [\"BD1 + pBD1\"]}, {\"legendgroup\": \"BD4 \\u0394(adhE,ldhA,pflB) + pBD3\", \"xaxis\": \"x4\", \"marker\": {\"color\": \"rgb(55,126,184)\"}, \"showlegend\": false, \"type\": \"bar\", \"y\": [6.882030864197531], \"name\": \"BD4 \\u0394(adhE,ldhA,pflB) + pBD3\", \"error_y\": {\"array\": [6.9543377986358585]}, \"yaxis\": \"y4\", \"x\": [\"BD4 \\u0394(adhE,ldhA,pflB) + pBD3\"]}, {\"legendgroup\": \"BD1 + pBD1\", \"xaxis\": \"x5\", \"marker\": {\"color\": \"rgb(228,26,28)\"}, \"showlegend\": false, \"type\": \"bar\", \"y\": [0.005581064576472953], \"name\": \"BD1 + pBD1\", \"error_y\": {\"array\": [0.009666687406774031]}, \"yaxis\": \"y5\", \"x\": [\"BD1 + pBD1\"]}, {\"legendgroup\": \"BD4 \\u0394(adhE,ldhA,pflB) + pBD3\", \"xaxis\": \"x5\", \"marker\": {\"color\": \"rgb(55,126,184)\"}, \"showlegend\": false, \"type\": \"bar\", \"y\": [0.03193265618477807], \"name\": \"BD4 \\u0394(adhE,ldhA,pflB) + pBD3\", \"error_y\": {\"array\": [0.02765577732169713]}, \"yaxis\": \"y5\", \"x\": [\"BD4 \\u0394(adhE,ldhA,pflB) + pBD3\"]}, {\"legendgroup\": \"BD1 + pBD1\", \"xaxis\": \"x6\", \"marker\": {\"color\": \"rgb(228,26,28)\"}, \"showlegend\": false, \"type\": \"bar\", \"y\": [1.0711701683595383], \"name\": \"BD1 + pBD1\", \"error_y\": {\"array\": [0.15077713092850248]}, \"yaxis\": \"y6\", \"x\": [\"BD1 + pBD1\"]}, {\"legendgroup\": \"BD4 \\u0394(adhE,ldhA,pflB) + pBD3\", \"xaxis\": \"x6\", \"marker\": {\"color\": \"rgb(55,126,184)\"}, \"showlegend\": false, \"type\": \"bar\", \"y\": [2.5655272637323563], \"name\": \"BD4 \\u0394(adhE,ldhA,pflB) + pBD3\", \"error_y\": {\"array\": [0.38376785752812387]}, \"yaxis\": \"y6\", \"x\": [\"BD4 \\u0394(adhE,ldhA,pflB) + pBD3\"]}, {\"legendgroup\": \"BD1 + pBD1\", \"xaxis\": \"x7\", \"marker\": {\"color\": \"rgb(228,26,28)\"}, \"showlegend\": false, \"type\": \"bar\", \"y\": [9.59], \"name\": \"BD1 + pBD1\", \"error_y\": {\"array\": [0.5992495306631455]}, \"yaxis\": \"y7\", \"x\": [\"BD1 + pBD1\"]}, {\"legendgroup\": \"BD4 \\u0394(adhE,ldhA,pflB) + pBD3\", \"xaxis\": \"x7\", \"marker\": {\"color\": \"rgb(55,126,184)\"}, \"showlegend\": false, \"type\": \"bar\", \"y\": [10.503333333333334], \"name\": \"BD4 \\u0394(adhE,ldhA,pflB) + pBD3\", \"error_y\": {\"array\": [1.3312149838900298]}, \"yaxis\": \"y7\", \"x\": [\"BD4 \\u0394(adhE,ldhA,pflB) + pBD3\"]}, {\"legendgroup\": \"BD1 + pBD1\", \"xaxis\": \"x8\", \"marker\": {\"color\": \"rgb(228,26,28)\"}, \"showlegend\": false, \"type\": \"bar\", \"y\": [1.4404951565843218], \"name\": \"BD1 + pBD1\", \"error_y\": {\"array\": [0.260397246638052]}, \"yaxis\": \"y8\", \"x\": [\"BD1 + pBD1\"]}, {\"legendgroup\": \"BD4 \\u0394(adhE,ldhA,pflB) + pBD3\", \"xaxis\": \"x8\", \"marker\": {\"color\": \"rgb(55,126,184)\"}, \"showlegend\": false, \"type\": \"bar\", \"y\": [0.3836046899652034], \"name\": \"BD4 \\u0394(adhE,ldhA,pflB) + pBD3\", \"error_y\": {\"array\": [0.04887259323090543]}, \"yaxis\": \"y8\", \"x\": [\"BD4 \\u0394(adhE,ldhA,pflB) + pBD3\"]}, {\"legendgroup\": \"BD1 + pBD1\", \"xaxis\": \"x9\", \"marker\": {\"color\": \"rgb(228,26,28)\"}, \"showlegend\": false, \"type\": \"bar\", \"y\": [1.6081003724353746], \"name\": \"BD1 + pBD1\", \"error_y\": {\"array\": [0.24887442182150862]}, \"yaxis\": \"y9\", \"x\": [\"BD1 + pBD1\"]}, {\"legendgroup\": \"BD4 \\u0394(adhE,ldhA,pflB) + pBD3\", \"xaxis\": \"x9\", \"marker\": {\"color\": \"rgb(55,126,184)\"}, \"showlegend\": false, \"type\": \"bar\", \"y\": [2.460552002115609], \"name\": \"BD4 \\u0394(adhE,ldhA,pflB) + pBD3\", \"error_y\": {\"array\": [0.12442204788082055]}, \"yaxis\": \"y9\", \"x\": [\"BD4 \\u0394(adhE,ldhA,pflB) + pBD3\"]}, {\"legendgroup\": \"BD1 + pBD1\", \"xaxis\": \"x10\", \"marker\": {\"color\": \"rgb(228,26,28)\"}, \"showlegend\": false, \"type\": \"bar\", \"y\": [0.22649243573289776], \"name\": \"BD1 + pBD1\", \"error_y\": {\"array\": [0.0587713436590096]}, \"yaxis\": \"y10\", \"x\": [\"BD1 + pBD1\"]}, {\"legendgroup\": \"BD4 \\u0394(adhE,ldhA,pflB) + pBD3\", \"xaxis\": \"x10\", \"marker\": {\"color\": \"rgb(55,126,184)\"}, \"showlegend\": false, \"type\": \"bar\", \"y\": [0.31825924629564817], \"name\": \"BD4 \\u0394(adhE,ldhA,pflB) + pBD3\", \"error_y\": {\"array\": [0.07156419548243635]}, \"yaxis\": \"y10\", \"x\": [\"BD4 \\u0394(adhE,ldhA,pflB) + pBD3\"]}], {\"yaxis6\": {\"domain\": [0.0, 0.375], \"anchor\": \"x6\"}, \"yaxis7\": {\"domain\": [0.0, 0.375], \"anchor\": \"x7\"}, \"xaxis5\": {\"domain\": [0.832, 1.0], \"showticklabels\": false, \"anchor\": \"y5\"}, \"xaxis7\": {\"domain\": [0.208, 0.376], \"showticklabels\": false, \"anchor\": \"y7\"}, \"yaxis8\": {\"domain\": [0.0, 0.375], \"anchor\": \"x8\"}, \"xaxis8\": {\"domain\": [0.416, 0.584], \"showticklabels\": false, \"anchor\": \"y8\"}, \"yaxis1\": {\"domain\": [0.625, 1.0], \"anchor\": \"x1\"}, \"yaxis10\": {\"domain\": [0.0, 0.375], \"anchor\": \"x10\"}, \"yaxis3\": {\"domain\": [0.625, 1.0], \"anchor\": \"x3\"}, \"yaxis9\": {\"domain\": [0.0, 0.375], \"anchor\": \"x9\"}, \"xaxis3\": {\"domain\": [0.416, 0.584], \"showticklabels\": false, \"anchor\": \"y3\"}, \"yaxis2\": {\"domain\": [0.625, 1.0], \"anchor\": \"x2\"}, \"xaxis2\": {\"domain\": [0.208, 0.376], \"showticklabels\": false, \"anchor\": \"y2\"}, \"xaxis9\": {\"domain\": [0.624, 0.792], \"showticklabels\": false, \"anchor\": \"y9\"}, \"xaxis10\": {\"domain\": [0.832, 1.0], \"showticklabels\": false, \"anchor\": \"y10\"}, \"yaxis4\": {\"domain\": [0.625, 1.0], \"anchor\": \"x4\"}, \"xaxis1\": {\"domain\": [0.0, 0.16799999999999998], \"showticklabels\": false, \"anchor\": \"y1\"}, \"annotations\": [{\"yref\": \"paper\", \"xref\": \"paper\", \"xanchor\": \"center\", \"font\": {\"size\": 16}, \"showarrow\": false, \"text\": \"etoh\", \"y\": 1.0, \"yanchor\": \"bottom\", \"x\": 0.08399999999999999}, {\"yref\": \"paper\", \"xref\": \"paper\", \"xanchor\": \"center\", \"font\": {\"size\": 16}, \"showarrow\": false, \"text\": \"acetoin\", \"y\": 1.0, \"yanchor\": \"bottom\", \"x\": 0.292}, {\"yref\": \"paper\", \"xref\": \"paper\", \"xanchor\": \"center\", \"font\": {\"size\": 16}, \"showarrow\": false, \"text\": \"acetald\", \"y\": 1.0, \"yanchor\": \"bottom\", \"x\": 0.5}, {\"yref\": \"paper\", \"xref\": \"paper\", \"xanchor\": \"center\", \"font\": {\"size\": 16}, \"showarrow\": false, \"text\": \"glc__D\", \"y\": 1.0, \"yanchor\": \"bottom\", \"x\": 0.708}, {\"yref\": \"paper\", \"xref\": \"paper\", \"xanchor\": \"center\", \"font\": {\"size\": 16}, \"showarrow\": false, \"text\": \"rs23bdo\", \"y\": 1.0, \"yanchor\": \"bottom\", \"x\": 0.9159999999999999}, {\"yref\": \"paper\", \"xref\": \"paper\", \"xanchor\": \"center\", \"font\": {\"size\": 16}, \"showarrow\": false, \"text\": \"m23bdo\", \"y\": 0.375, \"yanchor\": \"bottom\", \"x\": 0.08399999999999999}, {\"yref\": \"paper\", \"xref\": \"paper\", \"xanchor\": \"center\", \"font\": {\"size\": 16}, \"showarrow\": false, \"text\": \"od600\", \"y\": 0.375, \"yanchor\": \"bottom\", \"x\": 0.292}, {\"yref\": \"paper\", \"xref\": \"paper\", \"xanchor\": \"center\", \"font\": {\"size\": 16}, \"showarrow\": false, \"text\": \"ac\", \"y\": 0.375, \"yanchor\": \"bottom\", \"x\": 0.5}, {\"yref\": \"paper\", \"xref\": \"paper\", \"xanchor\": \"center\", \"font\": {\"size\": 16}, \"showarrow\": false, \"text\": \"suc\", \"y\": 0.375, \"yanchor\": \"bottom\", \"x\": 0.708}, {\"yref\": \"paper\", \"xref\": \"paper\", \"xanchor\": \"center\", \"font\": {\"size\": 16}, \"showarrow\": false, \"text\": \"13bdo\", \"y\": 0.375, \"yanchor\": \"bottom\", \"x\": 0.9159999999999999}], \"xaxis6\": {\"domain\": [0.0, 0.16799999999999998], \"showticklabels\": false, \"anchor\": \"y6\"}, \"xaxis4\": {\"domain\": [0.624, 0.792], \"showticklabels\": false, \"anchor\": \"y4\"}, \"yaxis5\": {\"domain\": [0.625, 1.0], \"anchor\": \"x5\"}}, {\"linkText\": \"Export to plot.ly\", \"showLink\": true})});</script>"
      ],
      "text/vnd.plotly.v1+html": [
       "<div id=\"d86974ce-01ca-4af2-816c-9415a568db76\" style=\"height: 525px; width: 100%;\" class=\"plotly-graph-div\"></div><script type=\"text/javascript\">require([\"plotly\"], function(Plotly) { window.PLOTLYENV=window.PLOTLYENV || {};window.PLOTLYENV.BASE_URL=\"https://plot.ly\";Plotly.newPlot(\"d86974ce-01ca-4af2-816c-9415a568db76\", [{\"legendgroup\": \"BD1 + pBD1\", \"xaxis\": \"x1\", \"marker\": {\"color\": \"rgb(228,26,28)\"}, \"showlegend\": true, \"type\": \"bar\", \"y\": [8.345426487624069], \"name\": \"BD1 + pBD1\", \"error_y\": {\"array\": [0.741580167465344]}, \"yaxis\": \"y1\", \"x\": [\"BD1 + pBD1\"]}, {\"legendgroup\": \"BD4 \\u0394(adhE,ldhA,pflB) + pBD3\", \"xaxis\": \"x1\", \"marker\": {\"color\": \"rgb(55,126,184)\"}, \"showlegend\": true, \"type\": \"bar\", \"y\": [13.798980743880364], \"name\": \"BD4 \\u0394(adhE,ldhA,pflB) + pBD3\", \"error_y\": {\"array\": [2.0397208434928498]}, \"yaxis\": \"y1\", \"x\": [\"BD4 \\u0394(adhE,ldhA,pflB) + pBD3\"]}, {\"legendgroup\": \"BD1 + pBD1\", \"xaxis\": \"x2\", \"marker\": {\"color\": \"rgb(228,26,28)\"}, \"showlegend\": false, \"type\": \"bar\", \"y\": [1.017870363796793], \"name\": \"BD1 + pBD1\", \"error_y\": {\"array\": [0.42409637919645266]}, \"yaxis\": \"y2\", \"x\": [\"BD1 + pBD1\"]}, {\"legendgroup\": \"BD4 \\u0394(adhE,ldhA,pflB) + pBD3\", \"xaxis\": \"x2\", \"marker\": {\"color\": \"rgb(55,126,184)\"}, \"showlegend\": false, \"type\": \"bar\", \"y\": [1.8943058922166216], \"name\": \"BD4 \\u0394(adhE,ldhA,pflB) + pBD3\", \"error_y\": {\"array\": [0.9981662059779962]}, \"yaxis\": \"y2\", \"x\": [\"BD4 \\u0394(adhE,ldhA,pflB) + pBD3\"]}, {\"legendgroup\": \"BD1 + pBD1\", \"xaxis\": \"x3\", \"marker\": {\"color\": \"rgb(228,26,28)\"}, \"showlegend\": false, \"type\": \"bar\", \"y\": [0.3187480445016844], \"name\": \"BD1 + pBD1\", \"error_y\": {\"array\": [0.10309233643146144]}, \"yaxis\": \"y3\", \"x\": [\"BD1 + pBD1\"]}, {\"legendgroup\": \"BD4 \\u0394(adhE,ldhA,pflB) + pBD3\", \"xaxis\": \"x3\", \"marker\": {\"color\": \"rgb(55,126,184)\"}, \"showlegend\": false, \"type\": \"bar\", \"y\": [0.3235067269142055], \"name\": \"BD4 \\u0394(adhE,ldhA,pflB) + pBD3\", \"error_y\": {\"array\": [0.039811250255633444]}, \"yaxis\": \"y3\", \"x\": [\"BD4 \\u0394(adhE,ldhA,pflB) + pBD3\"]}, {\"legendgroup\": \"BD1 + pBD1\", \"xaxis\": \"x4\", \"marker\": {\"color\": \"rgb(228,26,28)\"}, \"showlegend\": false, \"type\": \"bar\", \"y\": [26.856197530864193], \"name\": \"BD1 + pBD1\", \"error_y\": {\"array\": [4.36028276879441]}, \"yaxis\": \"y4\", \"x\": [\"BD1 + pBD1\"]}, {\"legendgroup\": \"BD4 \\u0394(adhE,ldhA,pflB) + pBD3\", \"xaxis\": \"x4\", \"marker\": {\"color\": \"rgb(55,126,184)\"}, \"showlegend\": false, \"type\": \"bar\", \"y\": [6.882030864197531], \"name\": \"BD4 \\u0394(adhE,ldhA,pflB) + pBD3\", \"error_y\": {\"array\": [6.9543377986358585]}, \"yaxis\": \"y4\", \"x\": [\"BD4 \\u0394(adhE,ldhA,pflB) + pBD3\"]}, {\"legendgroup\": \"BD1 + pBD1\", \"xaxis\": \"x5\", \"marker\": {\"color\": \"rgb(228,26,28)\"}, \"showlegend\": false, \"type\": \"bar\", \"y\": [0.005581064576472953], \"name\": \"BD1 + pBD1\", \"error_y\": {\"array\": [0.009666687406774031]}, \"yaxis\": \"y5\", \"x\": [\"BD1 + pBD1\"]}, {\"legendgroup\": \"BD4 \\u0394(adhE,ldhA,pflB) + pBD3\", \"xaxis\": \"x5\", \"marker\": {\"color\": \"rgb(55,126,184)\"}, \"showlegend\": false, \"type\": \"bar\", \"y\": [0.03193265618477807], \"name\": \"BD4 \\u0394(adhE,ldhA,pflB) + pBD3\", \"error_y\": {\"array\": [0.02765577732169713]}, \"yaxis\": \"y5\", \"x\": [\"BD4 \\u0394(adhE,ldhA,pflB) + pBD3\"]}, {\"legendgroup\": \"BD1 + pBD1\", \"xaxis\": \"x6\", \"marker\": {\"color\": \"rgb(228,26,28)\"}, \"showlegend\": false, \"type\": \"bar\", \"y\": [1.0711701683595383], \"name\": \"BD1 + pBD1\", \"error_y\": {\"array\": [0.15077713092850248]}, \"yaxis\": \"y6\", \"x\": [\"BD1 + pBD1\"]}, {\"legendgroup\": \"BD4 \\u0394(adhE,ldhA,pflB) + pBD3\", \"xaxis\": \"x6\", \"marker\": {\"color\": \"rgb(55,126,184)\"}, \"showlegend\": false, \"type\": \"bar\", \"y\": [2.5655272637323563], \"name\": \"BD4 \\u0394(adhE,ldhA,pflB) + pBD3\", \"error_y\": {\"array\": [0.38376785752812387]}, \"yaxis\": \"y6\", \"x\": [\"BD4 \\u0394(adhE,ldhA,pflB) + pBD3\"]}, {\"legendgroup\": \"BD1 + pBD1\", \"xaxis\": \"x7\", \"marker\": {\"color\": \"rgb(228,26,28)\"}, \"showlegend\": false, \"type\": \"bar\", \"y\": [9.59], \"name\": \"BD1 + pBD1\", \"error_y\": {\"array\": [0.5992495306631455]}, \"yaxis\": \"y7\", \"x\": [\"BD1 + pBD1\"]}, {\"legendgroup\": \"BD4 \\u0394(adhE,ldhA,pflB) + pBD3\", \"xaxis\": \"x7\", \"marker\": {\"color\": \"rgb(55,126,184)\"}, \"showlegend\": false, \"type\": \"bar\", \"y\": [10.503333333333334], \"name\": \"BD4 \\u0394(adhE,ldhA,pflB) + pBD3\", \"error_y\": {\"array\": [1.3312149838900298]}, \"yaxis\": \"y7\", \"x\": [\"BD4 \\u0394(adhE,ldhA,pflB) + pBD3\"]}, {\"legendgroup\": \"BD1 + pBD1\", \"xaxis\": \"x8\", \"marker\": {\"color\": \"rgb(228,26,28)\"}, \"showlegend\": false, \"type\": \"bar\", \"y\": [1.4404951565843218], \"name\": \"BD1 + pBD1\", \"error_y\": {\"array\": [0.260397246638052]}, \"yaxis\": \"y8\", \"x\": [\"BD1 + pBD1\"]}, {\"legendgroup\": \"BD4 \\u0394(adhE,ldhA,pflB) + pBD3\", \"xaxis\": \"x8\", \"marker\": {\"color\": \"rgb(55,126,184)\"}, \"showlegend\": false, \"type\": \"bar\", \"y\": [0.3836046899652034], \"name\": \"BD4 \\u0394(adhE,ldhA,pflB) + pBD3\", \"error_y\": {\"array\": [0.04887259323090543]}, \"yaxis\": \"y8\", \"x\": [\"BD4 \\u0394(adhE,ldhA,pflB) + pBD3\"]}, {\"legendgroup\": \"BD1 + pBD1\", \"xaxis\": \"x9\", \"marker\": {\"color\": \"rgb(228,26,28)\"}, \"showlegend\": false, \"type\": \"bar\", \"y\": [1.6081003724353746], \"name\": \"BD1 + pBD1\", \"error_y\": {\"array\": [0.24887442182150862]}, \"yaxis\": \"y9\", \"x\": [\"BD1 + pBD1\"]}, {\"legendgroup\": \"BD4 \\u0394(adhE,ldhA,pflB) + pBD3\", \"xaxis\": \"x9\", \"marker\": {\"color\": \"rgb(55,126,184)\"}, \"showlegend\": false, \"type\": \"bar\", \"y\": [2.460552002115609], \"name\": \"BD4 \\u0394(adhE,ldhA,pflB) + pBD3\", \"error_y\": {\"array\": [0.12442204788082055]}, \"yaxis\": \"y9\", \"x\": [\"BD4 \\u0394(adhE,ldhA,pflB) + pBD3\"]}, {\"legendgroup\": \"BD1 + pBD1\", \"xaxis\": \"x10\", \"marker\": {\"color\": \"rgb(228,26,28)\"}, \"showlegend\": false, \"type\": \"bar\", \"y\": [0.22649243573289776], \"name\": \"BD1 + pBD1\", \"error_y\": {\"array\": [0.0587713436590096]}, \"yaxis\": \"y10\", \"x\": [\"BD1 + pBD1\"]}, {\"legendgroup\": \"BD4 \\u0394(adhE,ldhA,pflB) + pBD3\", \"xaxis\": \"x10\", \"marker\": {\"color\": \"rgb(55,126,184)\"}, \"showlegend\": false, \"type\": \"bar\", \"y\": [0.31825924629564817], \"name\": \"BD4 \\u0394(adhE,ldhA,pflB) + pBD3\", \"error_y\": {\"array\": [0.07156419548243635]}, \"yaxis\": \"y10\", \"x\": [\"BD4 \\u0394(adhE,ldhA,pflB) + pBD3\"]}], {\"yaxis6\": {\"domain\": [0.0, 0.375], \"anchor\": \"x6\"}, \"yaxis7\": {\"domain\": [0.0, 0.375], \"anchor\": \"x7\"}, \"xaxis5\": {\"domain\": [0.832, 1.0], \"showticklabels\": false, \"anchor\": \"y5\"}, \"xaxis7\": {\"domain\": [0.208, 0.376], \"showticklabels\": false, \"anchor\": \"y7\"}, \"yaxis8\": {\"domain\": [0.0, 0.375], \"anchor\": \"x8\"}, \"xaxis8\": {\"domain\": [0.416, 0.584], \"showticklabels\": false, \"anchor\": \"y8\"}, \"yaxis1\": {\"domain\": [0.625, 1.0], \"anchor\": \"x1\"}, \"yaxis10\": {\"domain\": [0.0, 0.375], \"anchor\": \"x10\"}, \"yaxis3\": {\"domain\": [0.625, 1.0], \"anchor\": \"x3\"}, \"yaxis9\": {\"domain\": [0.0, 0.375], \"anchor\": \"x9\"}, \"xaxis3\": {\"domain\": [0.416, 0.584], \"showticklabels\": false, \"anchor\": \"y3\"}, \"yaxis2\": {\"domain\": [0.625, 1.0], \"anchor\": \"x2\"}, \"xaxis2\": {\"domain\": [0.208, 0.376], \"showticklabels\": false, \"anchor\": \"y2\"}, \"xaxis9\": {\"domain\": [0.624, 0.792], \"showticklabels\": false, \"anchor\": \"y9\"}, \"xaxis10\": {\"domain\": [0.832, 1.0], \"showticklabels\": false, \"anchor\": \"y10\"}, \"yaxis4\": {\"domain\": [0.625, 1.0], \"anchor\": \"x4\"}, \"xaxis1\": {\"domain\": [0.0, 0.16799999999999998], \"showticklabels\": false, \"anchor\": \"y1\"}, \"annotations\": [{\"yref\": \"paper\", \"xref\": \"paper\", \"xanchor\": \"center\", \"font\": {\"size\": 16}, \"showarrow\": false, \"text\": \"etoh\", \"y\": 1.0, \"yanchor\": \"bottom\", \"x\": 0.08399999999999999}, {\"yref\": \"paper\", \"xref\": \"paper\", \"xanchor\": \"center\", \"font\": {\"size\": 16}, \"showarrow\": false, \"text\": \"acetoin\", \"y\": 1.0, \"yanchor\": \"bottom\", \"x\": 0.292}, {\"yref\": \"paper\", \"xref\": \"paper\", \"xanchor\": \"center\", \"font\": {\"size\": 16}, \"showarrow\": false, \"text\": \"acetald\", \"y\": 1.0, \"yanchor\": \"bottom\", \"x\": 0.5}, {\"yref\": \"paper\", \"xref\": \"paper\", \"xanchor\": \"center\", \"font\": {\"size\": 16}, \"showarrow\": false, \"text\": \"glc__D\", \"y\": 1.0, \"yanchor\": \"bottom\", \"x\": 0.708}, {\"yref\": \"paper\", \"xref\": \"paper\", \"xanchor\": \"center\", \"font\": {\"size\": 16}, \"showarrow\": false, \"text\": \"rs23bdo\", \"y\": 1.0, \"yanchor\": \"bottom\", \"x\": 0.9159999999999999}, {\"yref\": \"paper\", \"xref\": \"paper\", \"xanchor\": \"center\", \"font\": {\"size\": 16}, \"showarrow\": false, \"text\": \"m23bdo\", \"y\": 0.375, \"yanchor\": \"bottom\", \"x\": 0.08399999999999999}, {\"yref\": \"paper\", \"xref\": \"paper\", \"xanchor\": \"center\", \"font\": {\"size\": 16}, \"showarrow\": false, \"text\": \"od600\", \"y\": 0.375, \"yanchor\": \"bottom\", \"x\": 0.292}, {\"yref\": \"paper\", \"xref\": \"paper\", \"xanchor\": \"center\", \"font\": {\"size\": 16}, \"showarrow\": false, \"text\": \"ac\", \"y\": 0.375, \"yanchor\": \"bottom\", \"x\": 0.5}, {\"yref\": \"paper\", \"xref\": \"paper\", \"xanchor\": \"center\", \"font\": {\"size\": 16}, \"showarrow\": false, \"text\": \"suc\", \"y\": 0.375, \"yanchor\": \"bottom\", \"x\": 0.708}, {\"yref\": \"paper\", \"xref\": \"paper\", \"xanchor\": \"center\", \"font\": {\"size\": 16}, \"showarrow\": false, \"text\": \"13bdo\", \"y\": 0.375, \"yanchor\": \"bottom\", \"x\": 0.9159999999999999}], \"xaxis6\": {\"domain\": [0.0, 0.16799999999999998], \"showticklabels\": false, \"anchor\": \"y6\"}, \"xaxis4\": {\"domain\": [0.624, 0.792], \"showticklabels\": false, \"anchor\": \"y4\"}, \"yaxis5\": {\"domain\": [0.625, 1.0], \"anchor\": \"x5\"}}, {\"linkText\": \"Export to plot.ly\", \"showLink\": true})});</script>"
      ]
     },
     "metadata": {},
     "output_type": "display_data"
    }
   ],
   "source": [
    "fig = implot.tools.make_subplots(rows=2,cols=5,subplot_titles=unique_analytes)\n",
    "colors = implot.cl.scales['3']['qual']['Set1']\n",
    "\n",
    "row, col, flag = 1, 0, True\n",
    "for analyte in unique_analytes:\n",
    "    col += 1\n",
    "    if col == 6:\n",
    "        row += 1\n",
    "        col = 1\n",
    "\n",
    "    for rep, color in zip(expt.replicate_trials,colors):\n",
    "        trace = go.Bar(\n",
    "            x=[str(rep.trial_identifier.strain)],\n",
    "            y=[rep.avg.analyte_dict[analyte].data_vector[-1]],\n",
    "            name=str(rep.trial_identifier.strain),\n",
    "            error_y={'array':[rep.std.analyte_dict[analyte].data_vector[-1]]},\n",
    "            marker={'color':color},\n",
    "            showlegend=flag,\n",
    "            legendgroup=str(rep.trial_identifier.strain)\n",
    "        )\n",
    "        fig.append_trace(trace,row,col)\n",
    "    flag = False\n",
    "\n",
    "# Finally we can set some aesthetics\n",
    "for x in range(1,11):\n",
    "    fig['layout']['xaxis'+str(x)]['showticklabels'] = False\n",
    "\n",
    "implot.plot(fig)"
   ]
  },
  {
   "cell_type": "code",
   "execution_count": null,
   "metadata": {
    "collapsed": true
   },
   "outputs": [],
   "source": []
  }
 ],
 "metadata": {
  "anaconda-cloud": {},
  "kernelspec": {
   "display_name": "Python [default]",
   "language": "python",
   "name": "python3"
  },
  "language_info": {
   "codemirror_mode": {
    "name": "ipython",
    "version": 3
   },
   "file_extension": ".py",
   "mimetype": "text/x-python",
   "name": "python",
   "nbconvert_exporter": "python",
   "pygments_lexer": "ipython3",
   "version": "3.5.3"
  }
 },
 "nbformat": 4,
 "nbformat_minor": 1
}
