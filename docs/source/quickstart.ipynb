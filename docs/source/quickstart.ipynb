{
 "cells": [
  {
   "cell_type": "code",
   "execution_count": 1,
   "metadata": {},
   "outputs": [
    {
     "name": "stderr",
     "output_type": "stream",
     "text": [
      "C:\\Users\\kraj5\\Anaconda3\\lib\\site-packages\\IPython\\html.py:14: ShimWarning: The `IPython.html` package has been deprecated since IPython 4.0. You should import from `notebook` instead. `IPython.html.widgets` has moved to `ipywidgets`.\n",
      "  \"`IPython.html.widgets` has moved to `ipywidgets`.\", ShimWarning)\n"
     ]
    }
   ],
   "source": [
    "import impact as impt\n",
    "import os"
   ]
  },
  {
   "cell_type": "markdown",
   "metadata": {},
   "source": [
    "The impact framework is designed to help scientists parse, interpret, explore and visualize data to understand and engineer micorbial physiology. The core framework is open-source and written entirely in python.\n",
    "\n",
    "Data is parsed into an object-oriented data structure, built on top of a relational mapping to most sql databases. This allows for efficient saving and querying to ease data exploration.\n",
    "\n",
    "Here we provide the basics to get started analyzing data with the core framework. Before getting started, it is worthwhile to understand the basic data schema:\n",
    "\n",
    "| Model                | Function                                                                         |\n",
    "|----------------------|----------------------------------------------------------------------------------|\n",
    "| TrialIdentifier      | Describes a trial (time, analyte, strain, media, etc.)                           |\n",
    "| AnalyteData          | (time, data) points and vectors for quantified data (g/L product, OD, etc.)        |\n",
    "| SingleTrial          | All analytes for a given unit (e.g. a tube, well on plate, bioreactor, etc.)     |\n",
    "| ReplicateTrial       | Contains a set of `SingleTrial`s with replicates grouped to calculate statistics |\n",
    "| Experiment           | All of the trials performed on a given date                                      |\n",
    "\n",
    "On import, data will automatically be parsed into this format. In addition, data will most commonly be queried by metadata in the `TrialIdentifier` which is composed of three main identifiers:\n",
    "\n",
    "| Model                | Function                                                                             |\n",
    "|----------------------|--------------------------------------------------------------------------------------|\n",
    "| Strain               | Describes the organism being characterized (e.g. strain, knockouts, plasmids, etc.)  |\n",
    "| Media                | Described the medium used to characterize the organism (e.g. M9 + 0.02% glc_D)       |\n",
    "| Environment          | The conditions and labware used (e.g. 96-well plate, 250RPM, 37C)                    |\n",
    "\n",
    "\n",
    "## Importing data\n",
    "\n",
    "Data is imported using the `parse_raw_data` method of the `Parser` class from the `impact.parsers` module. This function returns an `Experiment`, which is the result of organizing all of your data.\n",
    "\n",
    "To parse data, the data is usually provided in an xlsx file in one of the desired formats. If your data doesn't conform to one of the built-in formats, you can use the provided parsers as a cookbook to build your own. Generally, minor edits are required to conform to new data.\n",
    "\n",
    "Here we use the sample test data, which is a typical format for data from HPLC. Each row is a specific trial and time points, and the columns represent the different analytes, and their types. You can see this data in `sample_data/Fermentation_1_impact.xlsx`"
   ]
  },
  {
   "cell_type": "code",
   "execution_count": 15,
   "metadata": {},
   "outputs": [
    {
     "name": "stdout",
     "output_type": "stream",
     "text": [
      "\n",
      "Importing data from sample_data\\Fermentation_1_impact.xlsx...0.0s\n",
      "Parsed 600 timeCourseObjects in 0.421s...Number of lines skipped:  0\n",
      "Parsing time point list...Parsed 600 time points in 0.1s\n",
      "Parsing analyte list...Parsed 6 single trials in 101.7ms\n",
      "Parsing single trial list...Parsed 2 replicates in 0.0s\n",
      "Analyzing data...No blanks were indicated. Blank subtraction will not be done.Ran analysis in 0.2s\n",
      "\n"
     ]
    },
    {
     "name": "stderr",
     "output_type": "stream",
     "text": [
      "c:\\users\\kraj5\\onedrive\\research\\phd_uoft\\paper_submissions\\impact_mec\\impact\\impact\\core\\features\\ProductYield.py:22: RuntimeWarning: invalid value encountered in true_divide\n",
      "  self.substrate_consumed\n"
     ]
    }
   ],
   "source": [
    "from impact.parsers import Parser\n",
    "from pprint import pprint\n",
    "expt = Parser.parse_raw_data('default_titers',\n",
    "                             file_name = os.path.join('sample_data','Fermentation_1_impact.xlsx'),\n",
    "                             id_type='traverse')\n",
    "expt.calculate()"
   ]
  },
  {
   "cell_type": "markdown",
   "metadata": {},
   "source": [
    "The data is now imported and organized, we can quickly get an overview of what we've imported."
   ]
  },
  {
   "cell_type": "code",
   "execution_count": 16,
   "metadata": {},
   "outputs": [
    {
     "name": "stdout",
     "output_type": "stream",
     "text": [
      "strain                        media                   environment    analytes\n",
      "----------------------------  ----------------------  -------------  ------------------------------------------------------------------------------------\n",
      "BD2 Δ(adhE,ldhA,pflB) + pBD1  mod M9 + 1.0 a.u. IPTG  None           ['m23bdo', '13bdo', 'acet', 'ac', 'od', 'glc__D', 'acald', 'suc', 'etoh', 'rs23bdo']\n",
      "BD4 Δ(adhE,ldhA,pflB) + pBD3  mod M9 + 1.0 a.u. IPTG  None           ['m23bdo', '13bdo', 'acet', 'ac', 'od', 'glc__D', 'acald', 'suc', 'etoh', 'rs23bdo']\n"
     ]
    }
   ],
   "source": [
    "print(expt)"
   ]
  },
  {
   "cell_type": "markdown",
   "metadata": {},
   "source": [
    "Before we dive into data analysis, it is worth having a basic understanding of the schema to know where to look for data.\n",
    "\n",
    "Firstly, all data is funneled into a `ReplicateTrial`, even if you only have one replicate. As such, it is convenient to always look for data in this object. This object contains both an `avg` and `std` attribute where you can find the respective statistics. `avg` and `std` attributes are instances of `SingleTrial`, so we can access the statistical data similarly to the raw data itself.\n",
    "\n",
    "## Querying and filtering for data\n",
    "\n",
    "After import, data is all sorted into python objects, associated to an sql database using an object-relational mapper, SQLalchemy. Usually, we're interested in comparing a set of features and a set of conditions (strain, media, environment) and the queryable database allows us to search for the data we are interested in.\n",
    "\n",
    "Although it is usually simple to use the ORM to access the database directly, basic querying can also be done using python list comprehensions. The major limitation is that you will only query experiments loaded in memory, e.g. experiments that were parsed into this notebook."
   ]
  },
  {
   "cell_type": "code",
   "execution_count": 17,
   "metadata": {},
   "outputs": [
    {
     "name": "stdout",
     "output_type": "stream",
     "text": [
      "strain: BD2 Δ(adhE,ldhA,pflB) + pBD1,\tmedia: mod M9 + 1.0 a.u. IPTG,\tenv: None \n",
      "strain: BD4 Δ(adhE,ldhA,pflB) + pBD3,\tmedia: mod M9 + 1.0 a.u. IPTG,\tenv: None \n"
     ]
    }
   ],
   "source": [
    "reps = [rep for rep in expt.replicate_trials]\n",
    "for rep in reps:\n",
    "    print(rep.trial_identifier)"
   ]
  },
  {
   "cell_type": "code",
   "execution_count": 18,
   "metadata": {},
   "outputs": [
    {
     "name": "stdout",
     "output_type": "stream",
     "text": [
      "strain: BD2 Δ(adhE,ldhA,pflB) + pBD1,\tmedia: mod M9 + 1.0 a.u. IPTG,\tenv: None \n"
     ]
    }
   ],
   "source": [
    "reps = [rep for rep in expt.replicate_trials\n",
    "       if rep.trial_identifier.strain.name == 'BD2']\n",
    "for rep in reps:\n",
    "    print(rep.trial_identifier)"
   ]
  },
  {
   "cell_type": "markdown",
   "metadata": {},
   "source": [
    "To use the database, we must query data through a `session` object. The session is open for the entire application."
   ]
  },
  {
   "cell_type": "code",
   "execution_count": 19,
   "metadata": {},
   "outputs": [],
   "source": [
    "session = impt.database.create_session()\n",
    "engine = impt.database.bind_engine()\n",
    "impt.database.Base.metadata.create_all(engine)"
   ]
  },
  {
   "cell_type": "markdown",
   "metadata": {},
   "source": [
    "Now that we have a session, we can use the standard SQLalchemy ORM language to add elements or query - it is described in detail here http://docs.sqlalchemy.org/en/latest/orm/tutorial.html#querying\n",
    "\n",
    "Let us add the experiment to our database and then delete it from memory"
   ]
  },
  {
   "cell_type": "code",
   "execution_count": 20,
   "metadata": {
    "scrolled": true
   },
   "outputs": [],
   "source": [
    "session.add(expt)\n",
    "session.commit()\n",
    "del expt"
   ]
  },
  {
   "cell_type": "markdown",
   "metadata": {},
   "source": [
    "We will attempt to retrieve elements from the database. We will look for replicate trials which use the strain BD2 as follows and print the trial_identifier for that replicate trial. We also retrieve the experiment object for further use in this document."
   ]
  },
  {
   "cell_type": "code",
   "execution_count": 25,
   "metadata": {
    "scrolled": true
   },
   "outputs": [
    {
     "name": "stdout",
     "output_type": "stream",
     "text": [
      "strain: BD2 Δ(adhE,ldhA,pflB) + pBD1,\tmedia: mod M9 + 1.0 a.u. IPTG,\tenv: None \n"
     ]
    }
   ],
   "source": [
    "reps = session.query(impt.ReplicateTrial)\\\n",
    "                .join(impt.ReplicateTrialIdentifier)\\\n",
    "                .join(impt.Strain)\\\n",
    "                .filter(impt.Strain.name == 'BD2').all()\n",
    "            \n",
    "for rep in reps:\n",
    "    print(rep.trial_identifier)\n",
    "    \n",
    "expt = session.query(impt.Experiment).all()[0]"
   ]
  },
  {
   "cell_type": "markdown",
   "metadata": {
    "scrolled": true
   },
   "source": [
    "## Visualization\n",
    "\n",
    "Several packages already exist for visualization in python. The most popular one in matplotlib, it has very simple syntax which should feel familiar for matlab users; however, matplotlib generates static plots. The Impact visualization module is built around plotly, which generated dynamic javascript plots, and as such it is worthwhile understanding the basic syntax of plotly charts."
   ]
  },
  {
   "cell_type": "code",
   "execution_count": 22,
   "metadata": {},
   "outputs": [
    {
     "data": {
      "text/html": [
       "<script>requirejs.config({paths: { 'plotly': ['https://cdn.plot.ly/plotly-latest.min']},});if(!window.Plotly) {{require(['plotly'],function(plotly) {window.Plotly=plotly;});}}</script>"
      ],
      "text/vnd.plotly.v1+html": [
       "<script>requirejs.config({paths: { 'plotly': ['https://cdn.plot.ly/plotly-latest.min']},});if(!window.Plotly) {{require(['plotly'],function(plotly) {window.Plotly=plotly;});}}</script>"
      ]
     },
     "metadata": {},
     "output_type": "display_data"
    },
    {
     "data": {
      "application/vnd.plotly.v1+json": {
       "data": [
        {
         "type": "scatter",
         "x": [
          0,
          1.1111111111111112,
          2.2222222222222223,
          3.3333333333333335,
          4.444444444444445,
          5.555555555555555,
          6.666666666666667,
          7.777777777777779,
          8.88888888888889,
          10
         ],
         "y": [
          0,
          1.234567901234568,
          4.938271604938272,
          11.111111111111112,
          19.75308641975309,
          30.864197530864196,
          44.44444444444445,
          60.49382716049384,
          79.01234567901236,
          100
         ]
        },
        {
         "type": "scatter",
         "x": [
          0,
          1.1111111111111112,
          2.2222222222222223,
          3.3333333333333335,
          4.444444444444445,
          5.555555555555555,
          6.666666666666667,
          7.777777777777779,
          8.88888888888889,
          10
         ],
         "y": [
          0,
          2.469135802469136,
          9.876543209876544,
          22.222222222222225,
          39.50617283950618,
          61.72839506172839,
          88.8888888888889,
          120.98765432098767,
          158.0246913580247,
          200
         ]
        }
       ],
       "layout": {}
      },
      "text/html": [
       "<div id=\"bc866f35-cf9b-4f6a-a0b5-05fa7f834753\" style=\"height: 525px; width: 100%;\" class=\"plotly-graph-div\"></div><script type=\"text/javascript\">require([\"plotly\"], function(Plotly) { window.PLOTLYENV=window.PLOTLYENV || {};window.PLOTLYENV.BASE_URL=\"https://plot.ly\";Plotly.newPlot(\"bc866f35-cf9b-4f6a-a0b5-05fa7f834753\", [{\"type\": \"scatter\", \"x\": [0.0, 1.1111111111111112, 2.2222222222222223, 3.3333333333333335, 4.444444444444445, 5.555555555555555, 6.666666666666667, 7.777777777777779, 8.88888888888889, 10.0], \"y\": [0.0, 1.234567901234568, 4.938271604938272, 11.111111111111112, 19.75308641975309, 30.864197530864196, 44.44444444444445, 60.49382716049384, 79.01234567901236, 100.0]}, {\"type\": \"scatter\", \"x\": [0.0, 1.1111111111111112, 2.2222222222222223, 3.3333333333333335, 4.444444444444445, 5.555555555555555, 6.666666666666667, 7.777777777777779, 8.88888888888889, 10.0], \"y\": [0.0, 2.469135802469136, 9.876543209876544, 22.222222222222225, 39.50617283950618, 61.72839506172839, 88.8888888888889, 120.98765432098767, 158.0246913580247, 200.0]}], {}, {\"showLink\": true, \"linkText\": \"Export to plot.ly\"})});</script>"
      ],
      "text/vnd.plotly.v1+html": [
       "<div id=\"bc866f35-cf9b-4f6a-a0b5-05fa7f834753\" style=\"height: 525px; width: 100%;\" class=\"plotly-graph-div\"></div><script type=\"text/javascript\">require([\"plotly\"], function(Plotly) { window.PLOTLYENV=window.PLOTLYENV || {};window.PLOTLYENV.BASE_URL=\"https://plot.ly\";Plotly.newPlot(\"bc866f35-cf9b-4f6a-a0b5-05fa7f834753\", [{\"type\": \"scatter\", \"x\": [0.0, 1.1111111111111112, 2.2222222222222223, 3.3333333333333335, 4.444444444444445, 5.555555555555555, 6.666666666666667, 7.777777777777779, 8.88888888888889, 10.0], \"y\": [0.0, 1.234567901234568, 4.938271604938272, 11.111111111111112, 19.75308641975309, 30.864197530864196, 44.44444444444445, 60.49382716049384, 79.01234567901236, 100.0]}, {\"type\": \"scatter\", \"x\": [0.0, 1.1111111111111112, 2.2222222222222223, 3.3333333333333335, 4.444444444444445, 5.555555555555555, 6.666666666666667, 7.777777777777779, 8.88888888888889, 10.0], \"y\": [0.0, 2.469135802469136, 9.876543209876544, 22.222222222222225, 39.50617283950618, 61.72839506172839, 88.8888888888889, 120.98765432098767, 158.0246913580247, 200.0]}], {}, {\"showLink\": true, \"linkText\": \"Export to plot.ly\"})});</script>"
      ]
     },
     "metadata": {},
     "output_type": "display_data"
    },
    {
     "data": {
      "application/vnd.plotly.v1+json": {
       "data": [
        {
         "type": "scatter",
         "x": [
          0,
          1.1111111111111112,
          2.2222222222222223,
          3.3333333333333335,
          4.444444444444445,
          5.555555555555555,
          6.666666666666667,
          7.777777777777779,
          8.88888888888889,
          10
         ],
         "y": [
          0,
          1.234567901234568,
          4.938271604938272,
          11.111111111111112,
          19.75308641975309,
          30.864197530864196,
          44.44444444444445,
          60.49382716049384,
          79.01234567901236,
          100
         ]
        },
        {
         "type": "scatter",
         "x": [
          0,
          1.1111111111111112,
          2.2222222222222223,
          3.3333333333333335,
          4.444444444444445,
          5.555555555555555,
          6.666666666666667,
          7.777777777777779,
          8.88888888888889,
          10
         ],
         "y": [
          0,
          2.469135802469136,
          9.876543209876544,
          22.222222222222225,
          39.50617283950618,
          61.72839506172839,
          88.8888888888889,
          120.98765432098767,
          158.0246913580247,
          200
         ]
        }
       ],
       "layout": {
        "height": 400,
        "width": 400
       }
      },
      "text/html": [
       "<div id=\"2c62ac81-a174-4bee-8907-7da94258b3cf\" style=\"height: 400px; width: 400px;\" class=\"plotly-graph-div\"></div><script type=\"text/javascript\">require([\"plotly\"], function(Plotly) { window.PLOTLYENV=window.PLOTLYENV || {};window.PLOTLYENV.BASE_URL=\"https://plot.ly\";Plotly.newPlot(\"2c62ac81-a174-4bee-8907-7da94258b3cf\", [{\"type\": \"scatter\", \"x\": [0.0, 1.1111111111111112, 2.2222222222222223, 3.3333333333333335, 4.444444444444445, 5.555555555555555, 6.666666666666667, 7.777777777777779, 8.88888888888889, 10.0], \"y\": [0.0, 1.234567901234568, 4.938271604938272, 11.111111111111112, 19.75308641975309, 30.864197530864196, 44.44444444444445, 60.49382716049384, 79.01234567901236, 100.0]}, {\"type\": \"scatter\", \"x\": [0.0, 1.1111111111111112, 2.2222222222222223, 3.3333333333333335, 4.444444444444445, 5.555555555555555, 6.666666666666667, 7.777777777777779, 8.88888888888889, 10.0], \"y\": [0.0, 2.469135802469136, 9.876543209876544, 22.222222222222225, 39.50617283950618, 61.72839506172839, 88.8888888888889, 120.98765432098767, 158.0246913580247, 200.0]}], {\"height\": 400, \"width\": 400}, {\"showLink\": true, \"linkText\": \"Export to plot.ly\"})});</script>"
      ],
      "text/vnd.plotly.v1+html": [
       "<div id=\"2c62ac81-a174-4bee-8907-7da94258b3cf\" style=\"height: 400px; width: 400px;\" class=\"plotly-graph-div\"></div><script type=\"text/javascript\">require([\"plotly\"], function(Plotly) { window.PLOTLYENV=window.PLOTLYENV || {};window.PLOTLYENV.BASE_URL=\"https://plot.ly\";Plotly.newPlot(\"2c62ac81-a174-4bee-8907-7da94258b3cf\", [{\"type\": \"scatter\", \"x\": [0.0, 1.1111111111111112, 2.2222222222222223, 3.3333333333333335, 4.444444444444445, 5.555555555555555, 6.666666666666667, 7.777777777777779, 8.88888888888889, 10.0], \"y\": [0.0, 1.234567901234568, 4.938271604938272, 11.111111111111112, 19.75308641975309, 30.864197530864196, 44.44444444444445, 60.49382716049384, 79.01234567901236, 100.0]}, {\"type\": \"scatter\", \"x\": [0.0, 1.1111111111111112, 2.2222222222222223, 3.3333333333333335, 4.444444444444445, 5.555555555555555, 6.666666666666667, 7.777777777777779, 8.88888888888889, 10.0], \"y\": [0.0, 2.469135802469136, 9.876543209876544, 22.222222222222225, 39.50617283950618, 61.72839506172839, 88.8888888888889, 120.98765432098767, 158.0246913580247, 200.0]}], {\"height\": 400, \"width\": 400}, {\"showLink\": true, \"linkText\": \"Export to plot.ly\"})});</script>"
      ]
     },
     "metadata": {},
     "output_type": "display_data"
    }
   ],
   "source": [
    "import impact.plotting as implot\n",
    "import numpy as np\n",
    "\n",
    "# Charts are made up in a hierarchical structure, but can be quickly generated as follows:\n",
    "x = np.linspace(0,10,10) \n",
    "y = np.linspace(0,10,10)**2\n",
    "implot.plot([implot.go.Scatter(x=x,y=y),\n",
    "             implot.go.Scatter(x=x,y=y*2)])\n",
    "\n",
    "# For more control over these plots, they can be built form the ground up\n",
    "# Traces are defined for each feature\n",
    "traces = [implot.go.Scatter(x=x,y=y),\n",
    "             implot.go.Scatter(x=x,y=y*2)]\n",
    "\n",
    "layout = implot.go.Layout(height=400,width=400)\n",
    "\n",
    "# Traces are joined to a figure\n",
    "fig = implot.go.Figure(data=traces, layout=layout)\n",
    "\n",
    "# And a figure is printed using plot\n",
    "implot.plot(fig)"
   ]
  },
  {
   "cell_type": "markdown",
   "metadata": {},
   "source": [
    "It should be noted that the implot package offers a direct wrapper to useful plotly functions, which could also be accessed with plotly directly. The Impact visualization module offers functions to help extract useful data and generate traces. Below, we generate plots of analyte titer vs time for each analyte. Impact comes built with plotting routines that generate seperate plots of timecourses/max. values, with experiments separated by strain name, knockouts, plasmids, media and media components."
   ]
  },
  {
   "cell_type": "code",
   "execution_count": 32,
   "metadata": {
    "scrolled": false
   },
   "outputs": [
    {
     "data": {
      "application/vnd.plotly.v1+json": {
       "data": [
        {
         "error_y": {
          "array": [
           0.0038827414791751656,
           0,
           0,
           0.00488649524462417,
           0.032730902509312605,
           0.09168223509557519,
           0.07308720339105172,
           0.11835932175711475,
           0.07696563403238425,
           0.09104379118263398
          ],
          "color": "rgb(27,158,119)",
          "type": "data",
          "visible": true
         },
         "legendgroup": "BD2 Δ(adhE,ldhA,pflB) + pBD1mod M9 + 1.0 a.u. IPTG",
         "line": {
          "color": "rgb(27,158,119)"
         },
         "marker": {
          "color": "rgb(27,158,119)"
         },
         "name": "BD2 Δ(adhE,ldhA,pflB) + pBD1 in mod M9 + 1.0 a.u. IPTG",
         "showlegend": true,
         "type": "scatter",
         "x": [
          0,
          3,
          6,
          9,
          15,
          24,
          24.1,
          36,
          48,
          60
         ],
         "y": [
          0.002241701838195508,
          0,
          0,
          0.016557673577292334,
          0.17434256296090164,
          0.8614860164185334,
          0.8158480589954084,
          1.334631974398219,
          2.3776417296662182,
          2.737102484424037
         ]
        },
        {
         "error_y": {
          "array": [
           0,
           0.007444152629039282,
           0,
           0.019627913916130987,
           0.19894566344152384,
           0.002018242334387201,
           0.06864053420427355,
           0.05572317086200779,
           0.28114573543022126,
           0.14803557175495363
          ],
          "color": "rgb(217,95,2)",
          "type": "data",
          "visible": true
         },
         "legendgroup": "BD4 Δ(adhE,ldhA,pflB) + pBD3mod M9 + 1.0 a.u. IPTG",
         "line": {
          "color": "rgb(217,95,2)"
         },
         "marker": {
          "color": "rgb(217,95,2)"
         },
         "name": "BD4 Δ(adhE,ldhA,pflB) + pBD3 in mod M9 + 1.0 a.u. IPTG",
         "showlegend": true,
         "type": "scatter",
         "x": [
          0,
          3,
          6,
          9,
          15,
          24,
          24.1,
          36,
          48,
          60
         ],
         "y": [
          0,
          0.00429788352426449,
          0,
          0.057503517152884064,
          0.3721998052038403,
          0.41188565774623936,
          0.33614705564058567,
          0.9890929610562282,
          1.6357002612742144,
          1.7657885379466014
         ]
        }
       ],
       "layout": {
        "title": "m23bdo  vs time for different strains in mod M9 media"
       }
      },
      "text/html": [
       "<div id=\"c3b68279-1795-4e41-8820-3ff7a0e0ca46\" style=\"height: 525px; width: 100%;\" class=\"plotly-graph-div\"></div><script type=\"text/javascript\">require([\"plotly\"], function(Plotly) { window.PLOTLYENV=window.PLOTLYENV || {};window.PLOTLYENV.BASE_URL=\"https://plot.ly\";Plotly.newPlot(\"c3b68279-1795-4e41-8820-3ff7a0e0ca46\", [{\"type\": \"scatter\", \"x\": [0.0, 3.0, 6.0, 9.0, 15.0, 24.0, 24.1, 36.0, 48.0, 60.0], \"y\": [0.002241701838195508, 0.0, 0.0, 0.016557673577292334, 0.17434256296090164, 0.8614860164185334, 0.8158480589954084, 1.334631974398219, 2.3776417296662182, 2.737102484424037], \"error_y\": {\"type\": \"data\", \"array\": [0.0038827414791751656, 0.0, 0.0, 0.00488649524462417, 0.032730902509312605, 0.09168223509557519, 0.07308720339105172, 0.11835932175711475, 0.07696563403238425, 0.09104379118263398], \"visible\": true, \"color\": \"rgb(27,158,119)\"}, \"marker\": {\"color\": \"rgb(27,158,119)\"}, \"line\": {\"color\": \"rgb(27,158,119)\"}, \"showlegend\": true, \"legendgroup\": \"BD2 \\u0394(adhE,ldhA,pflB) + pBD1mod M9 + 1.0 a.u. IPTG\", \"name\": \"BD2 \\u0394(adhE,ldhA,pflB) + pBD1 in mod M9 + 1.0 a.u. IPTG\"}, {\"type\": \"scatter\", \"x\": [0.0, 3.0, 6.0, 9.0, 15.0, 24.0, 24.1, 36.0, 48.0, 60.0], \"y\": [0.0, 0.00429788352426449, 0.0, 0.057503517152884064, 0.3721998052038403, 0.41188565774623936, 0.33614705564058567, 0.9890929610562282, 1.6357002612742144, 1.7657885379466014], \"error_y\": {\"type\": \"data\", \"array\": [0.0, 0.007444152629039282, 0.0, 0.019627913916130987, 0.19894566344152384, 0.002018242334387201, 0.06864053420427355, 0.05572317086200779, 0.28114573543022126, 0.14803557175495363], \"visible\": true, \"color\": \"rgb(217,95,2)\"}, \"marker\": {\"color\": \"rgb(217,95,2)\"}, \"line\": {\"color\": \"rgb(217,95,2)\"}, \"showlegend\": true, \"legendgroup\": \"BD4 \\u0394(adhE,ldhA,pflB) + pBD3mod M9 + 1.0 a.u. IPTG\", \"name\": \"BD4 \\u0394(adhE,ldhA,pflB) + pBD3 in mod M9 + 1.0 a.u. IPTG\"}], {\"title\": \"m23bdo  vs time for different strains in mod M9 media\"}, {\"showLink\": true, \"linkText\": \"Export to plot.ly\"})});</script>"
      ],
      "text/vnd.plotly.v1+html": [
       "<div id=\"c3b68279-1795-4e41-8820-3ff7a0e0ca46\" style=\"height: 525px; width: 100%;\" class=\"plotly-graph-div\"></div><script type=\"text/javascript\">require([\"plotly\"], function(Plotly) { window.PLOTLYENV=window.PLOTLYENV || {};window.PLOTLYENV.BASE_URL=\"https://plot.ly\";Plotly.newPlot(\"c3b68279-1795-4e41-8820-3ff7a0e0ca46\", [{\"type\": \"scatter\", \"x\": [0.0, 3.0, 6.0, 9.0, 15.0, 24.0, 24.1, 36.0, 48.0, 60.0], \"y\": [0.002241701838195508, 0.0, 0.0, 0.016557673577292334, 0.17434256296090164, 0.8614860164185334, 0.8158480589954084, 1.334631974398219, 2.3776417296662182, 2.737102484424037], \"error_y\": {\"type\": \"data\", \"array\": [0.0038827414791751656, 0.0, 0.0, 0.00488649524462417, 0.032730902509312605, 0.09168223509557519, 0.07308720339105172, 0.11835932175711475, 0.07696563403238425, 0.09104379118263398], \"visible\": true, \"color\": \"rgb(27,158,119)\"}, \"marker\": {\"color\": \"rgb(27,158,119)\"}, \"line\": {\"color\": \"rgb(27,158,119)\"}, \"showlegend\": true, \"legendgroup\": \"BD2 \\u0394(adhE,ldhA,pflB) + pBD1mod M9 + 1.0 a.u. IPTG\", \"name\": \"BD2 \\u0394(adhE,ldhA,pflB) + pBD1 in mod M9 + 1.0 a.u. IPTG\"}, {\"type\": \"scatter\", \"x\": [0.0, 3.0, 6.0, 9.0, 15.0, 24.0, 24.1, 36.0, 48.0, 60.0], \"y\": [0.0, 0.00429788352426449, 0.0, 0.057503517152884064, 0.3721998052038403, 0.41188565774623936, 0.33614705564058567, 0.9890929610562282, 1.6357002612742144, 1.7657885379466014], \"error_y\": {\"type\": \"data\", \"array\": [0.0, 0.007444152629039282, 0.0, 0.019627913916130987, 0.19894566344152384, 0.002018242334387201, 0.06864053420427355, 0.05572317086200779, 0.28114573543022126, 0.14803557175495363], \"visible\": true, \"color\": \"rgb(217,95,2)\"}, \"marker\": {\"color\": \"rgb(217,95,2)\"}, \"line\": {\"color\": \"rgb(217,95,2)\"}, \"showlegend\": true, \"legendgroup\": \"BD4 \\u0394(adhE,ldhA,pflB) + pBD3mod M9 + 1.0 a.u. IPTG\", \"name\": \"BD4 \\u0394(adhE,ldhA,pflB) + pBD3 in mod M9 + 1.0 a.u. IPTG\"}], {\"title\": \"m23bdo  vs time for different strains in mod M9 media\"}, {\"showLink\": true, \"linkText\": \"Export to plot.ly\"})});</script>"
      ]
     },
     "metadata": {},
     "output_type": "display_data"
    },
    {
     "data": {
      "application/vnd.plotly.v1+json": {
       "data": [
        {
         "error_y": {
          "array": [
           0,
           0,
           0,
           0,
           0,
           0,
           0.025432162153361474,
           0,
           0,
           0.08390032281716181
          ],
          "color": "rgb(27,158,119)",
          "type": "data",
          "visible": true
         },
         "legendgroup": "BD2 Δ(adhE,ldhA,pflB) + pBD1mod M9 + 1.0 a.u. IPTG",
         "line": {
          "color": "rgb(27,158,119)"
         },
         "marker": {
          "color": "rgb(27,158,119)"
         },
         "name": "BD2 Δ(adhE,ldhA,pflB) + pBD1 in mod M9 + 1.0 a.u. IPTG",
         "showlegend": true,
         "type": "scatter",
         "x": [
          0,
          3,
          6,
          9,
          15,
          24,
          24.1,
          36,
          48,
          60
         ],
         "y": [
          0,
          0,
          0,
          0,
          0,
          0,
          0.10363782051282051,
          0,
          0,
          0.45725961538461535
         ]
        },
        {
         "error_y": {
          "array": [
           0,
           0,
           0,
           0,
           0,
           0,
           0.005857497850199244,
           0,
           0,
           0.015228499774263838
          ],
          "color": "rgb(217,95,2)",
          "type": "data",
          "visible": true
         },
         "legendgroup": "BD4 Δ(adhE,ldhA,pflB) + pBD3mod M9 + 1.0 a.u. IPTG",
         "line": {
          "color": "rgb(217,95,2)"
         },
         "marker": {
          "color": "rgb(217,95,2)"
         },
         "name": "BD4 Δ(adhE,ldhA,pflB) + pBD3 in mod M9 + 1.0 a.u. IPTG",
         "showlegend": true,
         "type": "scatter",
         "x": [
          0,
          3,
          6,
          9,
          15,
          24,
          24.1,
          36,
          48,
          60
         ],
         "y": [
          0,
          0,
          0,
          0,
          0,
          0,
          0.04074519230769231,
          0,
          0,
          0.1880128205128205
         ]
        }
       ],
       "layout": {
        "title": "13bdo  vs time for different strains in mod M9 media"
       }
      },
      "text/html": [
       "<div id=\"f1c7d43a-4390-4570-8ff7-82e41d89d08a\" style=\"height: 525px; width: 100%;\" class=\"plotly-graph-div\"></div><script type=\"text/javascript\">require([\"plotly\"], function(Plotly) { window.PLOTLYENV=window.PLOTLYENV || {};window.PLOTLYENV.BASE_URL=\"https://plot.ly\";Plotly.newPlot(\"f1c7d43a-4390-4570-8ff7-82e41d89d08a\", [{\"type\": \"scatter\", \"x\": [0.0, 3.0, 6.0, 9.0, 15.0, 24.0, 24.1, 36.0, 48.0, 60.0], \"y\": [0.0, 0.0, 0.0, 0.0, 0.0, 0.0, 0.10363782051282051, 0.0, 0.0, 0.45725961538461535], \"error_y\": {\"type\": \"data\", \"array\": [0.0, 0.0, 0.0, 0.0, 0.0, 0.0, 0.025432162153361474, 0.0, 0.0, 0.08390032281716181], \"visible\": true, \"color\": \"rgb(27,158,119)\"}, \"marker\": {\"color\": \"rgb(27,158,119)\"}, \"line\": {\"color\": \"rgb(27,158,119)\"}, \"showlegend\": true, \"legendgroup\": \"BD2 \\u0394(adhE,ldhA,pflB) + pBD1mod M9 + 1.0 a.u. IPTG\", \"name\": \"BD2 \\u0394(adhE,ldhA,pflB) + pBD1 in mod M9 + 1.0 a.u. IPTG\"}, {\"type\": \"scatter\", \"x\": [0.0, 3.0, 6.0, 9.0, 15.0, 24.0, 24.1, 36.0, 48.0, 60.0], \"y\": [0.0, 0.0, 0.0, 0.0, 0.0, 0.0, 0.04074519230769231, 0.0, 0.0, 0.1880128205128205], \"error_y\": {\"type\": \"data\", \"array\": [0.0, 0.0, 0.0, 0.0, 0.0, 0.0, 0.005857497850199244, 0.0, 0.0, 0.015228499774263838], \"visible\": true, \"color\": \"rgb(217,95,2)\"}, \"marker\": {\"color\": \"rgb(217,95,2)\"}, \"line\": {\"color\": \"rgb(217,95,2)\"}, \"showlegend\": true, \"legendgroup\": \"BD4 \\u0394(adhE,ldhA,pflB) + pBD3mod M9 + 1.0 a.u. IPTG\", \"name\": \"BD4 \\u0394(adhE,ldhA,pflB) + pBD3 in mod M9 + 1.0 a.u. IPTG\"}], {\"title\": \"13bdo  vs time for different strains in mod M9 media\"}, {\"showLink\": true, \"linkText\": \"Export to plot.ly\"})});</script>"
      ],
      "text/vnd.plotly.v1+html": [
       "<div id=\"f1c7d43a-4390-4570-8ff7-82e41d89d08a\" style=\"height: 525px; width: 100%;\" class=\"plotly-graph-div\"></div><script type=\"text/javascript\">require([\"plotly\"], function(Plotly) { window.PLOTLYENV=window.PLOTLYENV || {};window.PLOTLYENV.BASE_URL=\"https://plot.ly\";Plotly.newPlot(\"f1c7d43a-4390-4570-8ff7-82e41d89d08a\", [{\"type\": \"scatter\", \"x\": [0.0, 3.0, 6.0, 9.0, 15.0, 24.0, 24.1, 36.0, 48.0, 60.0], \"y\": [0.0, 0.0, 0.0, 0.0, 0.0, 0.0, 0.10363782051282051, 0.0, 0.0, 0.45725961538461535], \"error_y\": {\"type\": \"data\", \"array\": [0.0, 0.0, 0.0, 0.0, 0.0, 0.0, 0.025432162153361474, 0.0, 0.0, 0.08390032281716181], \"visible\": true, \"color\": \"rgb(27,158,119)\"}, \"marker\": {\"color\": \"rgb(27,158,119)\"}, \"line\": {\"color\": \"rgb(27,158,119)\"}, \"showlegend\": true, \"legendgroup\": \"BD2 \\u0394(adhE,ldhA,pflB) + pBD1mod M9 + 1.0 a.u. IPTG\", \"name\": \"BD2 \\u0394(adhE,ldhA,pflB) + pBD1 in mod M9 + 1.0 a.u. IPTG\"}, {\"type\": \"scatter\", \"x\": [0.0, 3.0, 6.0, 9.0, 15.0, 24.0, 24.1, 36.0, 48.0, 60.0], \"y\": [0.0, 0.0, 0.0, 0.0, 0.0, 0.0, 0.04074519230769231, 0.0, 0.0, 0.1880128205128205], \"error_y\": {\"type\": \"data\", \"array\": [0.0, 0.0, 0.0, 0.0, 0.0, 0.0, 0.005857497850199244, 0.0, 0.0, 0.015228499774263838], \"visible\": true, \"color\": \"rgb(217,95,2)\"}, \"marker\": {\"color\": \"rgb(217,95,2)\"}, \"line\": {\"color\": \"rgb(217,95,2)\"}, \"showlegend\": true, \"legendgroup\": \"BD4 \\u0394(adhE,ldhA,pflB) + pBD3mod M9 + 1.0 a.u. IPTG\", \"name\": \"BD4 \\u0394(adhE,ldhA,pflB) + pBD3 in mod M9 + 1.0 a.u. IPTG\"}], {\"title\": \"13bdo  vs time for different strains in mod M9 media\"}, {\"showLink\": true, \"linkText\": \"Export to plot.ly\"})});</script>"
      ]
     },
     "metadata": {},
     "output_type": "display_data"
    },
    {
     "data": {
      "application/vnd.plotly.v1+json": {
       "data": [
        {
         "error_y": {
          "array": [
           0.0025478525214389204,
           0.007705989161144149,
           0.0024511218232051643,
           0.00260675407705139,
           0.009545762122483563,
           0.20357513270702515,
           0.17752143391626615,
           0.4723032009827741,
           1.0329015108999227,
           1.2870632944777394
          ],
          "color": "rgb(27,158,119)",
          "type": "data",
          "visible": true
         },
         "legendgroup": "BD2 Δ(adhE,ldhA,pflB) + pBD1mod M9 + 1.0 a.u. IPTG",
         "line": {
          "color": "rgb(27,158,119)"
         },
         "marker": {
          "color": "rgb(27,158,119)"
         },
         "name": "BD2 Δ(adhE,ldhA,pflB) + pBD1 in mod M9 + 1.0 a.u. IPTG",
         "showlegend": true,
         "type": "scatter",
         "x": [
          0,
          3,
          6,
          9,
          15,
          24,
          24.1,
          36,
          48,
          60
         ],
         "y": [
          0.01093993515823352,
          0.008860806566665652,
          0.01632200461803196,
          0.043448716518423115,
          0.3604262382647559,
          0.5433287017785847,
          0.4604610594427936,
          0.9639381062012125,
          1.46945033249154,
          2.1074115018069826
         ]
        },
        {
         "error_y": {
          "array": [
           0.0011715029402624125,
           0.0013490251497279122,
           0.0013989224086292337,
           0.013030239569928692,
           0.005541490229308608,
           0.03685065115519479,
           0.01911559718514721,
           0.26400502145346344,
           0.4923154730745574,
           0.45008958150345885
          ],
          "color": "rgb(217,95,2)",
          "type": "data",
          "visible": true
         },
         "legendgroup": "BD4 Δ(adhE,ldhA,pflB) + pBD3mod M9 + 1.0 a.u. IPTG",
         "line": {
          "color": "rgb(217,95,2)"
         },
         "marker": {
          "color": "rgb(217,95,2)"
         },
         "name": "BD4 Δ(adhE,ldhA,pflB) + pBD3 in mod M9 + 1.0 a.u. IPTG",
         "showlegend": true,
         "type": "scatter",
         "x": [
          0,
          3,
          6,
          9,
          15,
          24,
          24.1,
          36,
          48,
          60
         ],
         "y": [
          0.011098827912385858,
          0.014205688360598656,
          0.028725781532605132,
          0.13099186266256926,
          0.35941540989259524,
          0.4495785961318066,
          0.3757847442671833,
          0.3881479528189941,
          0.7950621541124487,
          1.1064547645851717
         ]
        }
       ],
       "layout": {
        "title": "acet  vs time for different strains in mod M9 media"
       }
      },
      "text/html": [
       "<div id=\"5f99e102-f78f-4ad6-9341-bf6c16e6b443\" style=\"height: 525px; width: 100%;\" class=\"plotly-graph-div\"></div><script type=\"text/javascript\">require([\"plotly\"], function(Plotly) { window.PLOTLYENV=window.PLOTLYENV || {};window.PLOTLYENV.BASE_URL=\"https://plot.ly\";Plotly.newPlot(\"5f99e102-f78f-4ad6-9341-bf6c16e6b443\", [{\"type\": \"scatter\", \"x\": [0.0, 3.0, 6.0, 9.0, 15.0, 24.0, 24.1, 36.0, 48.0, 60.0], \"y\": [0.01093993515823352, 0.008860806566665652, 0.01632200461803196, 0.043448716518423115, 0.3604262382647559, 0.5433287017785847, 0.4604610594427936, 0.9639381062012125, 1.46945033249154, 2.1074115018069826], \"error_y\": {\"type\": \"data\", \"array\": [0.0025478525214389204, 0.007705989161144149, 0.0024511218232051643, 0.00260675407705139, 0.009545762122483563, 0.20357513270702515, 0.17752143391626615, 0.4723032009827741, 1.0329015108999227, 1.2870632944777394], \"visible\": true, \"color\": \"rgb(27,158,119)\"}, \"marker\": {\"color\": \"rgb(27,158,119)\"}, \"line\": {\"color\": \"rgb(27,158,119)\"}, \"showlegend\": true, \"legendgroup\": \"BD2 \\u0394(adhE,ldhA,pflB) + pBD1mod M9 + 1.0 a.u. IPTG\", \"name\": \"BD2 \\u0394(adhE,ldhA,pflB) + pBD1 in mod M9 + 1.0 a.u. IPTG\"}, {\"type\": \"scatter\", \"x\": [0.0, 3.0, 6.0, 9.0, 15.0, 24.0, 24.1, 36.0, 48.0, 60.0], \"y\": [0.011098827912385858, 0.014205688360598656, 0.028725781532605132, 0.13099186266256926, 0.35941540989259524, 0.4495785961318066, 0.3757847442671833, 0.3881479528189941, 0.7950621541124487, 1.1064547645851717], \"error_y\": {\"type\": \"data\", \"array\": [0.0011715029402624125, 0.0013490251497279122, 0.0013989224086292337, 0.013030239569928692, 0.005541490229308608, 0.03685065115519479, 0.01911559718514721, 0.26400502145346344, 0.4923154730745574, 0.45008958150345885], \"visible\": true, \"color\": \"rgb(217,95,2)\"}, \"marker\": {\"color\": \"rgb(217,95,2)\"}, \"line\": {\"color\": \"rgb(217,95,2)\"}, \"showlegend\": true, \"legendgroup\": \"BD4 \\u0394(adhE,ldhA,pflB) + pBD3mod M9 + 1.0 a.u. IPTG\", \"name\": \"BD4 \\u0394(adhE,ldhA,pflB) + pBD3 in mod M9 + 1.0 a.u. IPTG\"}], {\"title\": \"acet  vs time for different strains in mod M9 media\"}, {\"showLink\": true, \"linkText\": \"Export to plot.ly\"})});</script>"
      ],
      "text/vnd.plotly.v1+html": [
       "<div id=\"5f99e102-f78f-4ad6-9341-bf6c16e6b443\" style=\"height: 525px; width: 100%;\" class=\"plotly-graph-div\"></div><script type=\"text/javascript\">require([\"plotly\"], function(Plotly) { window.PLOTLYENV=window.PLOTLYENV || {};window.PLOTLYENV.BASE_URL=\"https://plot.ly\";Plotly.newPlot(\"5f99e102-f78f-4ad6-9341-bf6c16e6b443\", [{\"type\": \"scatter\", \"x\": [0.0, 3.0, 6.0, 9.0, 15.0, 24.0, 24.1, 36.0, 48.0, 60.0], \"y\": [0.01093993515823352, 0.008860806566665652, 0.01632200461803196, 0.043448716518423115, 0.3604262382647559, 0.5433287017785847, 0.4604610594427936, 0.9639381062012125, 1.46945033249154, 2.1074115018069826], \"error_y\": {\"type\": \"data\", \"array\": [0.0025478525214389204, 0.007705989161144149, 0.0024511218232051643, 0.00260675407705139, 0.009545762122483563, 0.20357513270702515, 0.17752143391626615, 0.4723032009827741, 1.0329015108999227, 1.2870632944777394], \"visible\": true, \"color\": \"rgb(27,158,119)\"}, \"marker\": {\"color\": \"rgb(27,158,119)\"}, \"line\": {\"color\": \"rgb(27,158,119)\"}, \"showlegend\": true, \"legendgroup\": \"BD2 \\u0394(adhE,ldhA,pflB) + pBD1mod M9 + 1.0 a.u. IPTG\", \"name\": \"BD2 \\u0394(adhE,ldhA,pflB) + pBD1 in mod M9 + 1.0 a.u. IPTG\"}, {\"type\": \"scatter\", \"x\": [0.0, 3.0, 6.0, 9.0, 15.0, 24.0, 24.1, 36.0, 48.0, 60.0], \"y\": [0.011098827912385858, 0.014205688360598656, 0.028725781532605132, 0.13099186266256926, 0.35941540989259524, 0.4495785961318066, 0.3757847442671833, 0.3881479528189941, 0.7950621541124487, 1.1064547645851717], \"error_y\": {\"type\": \"data\", \"array\": [0.0011715029402624125, 0.0013490251497279122, 0.0013989224086292337, 0.013030239569928692, 0.005541490229308608, 0.03685065115519479, 0.01911559718514721, 0.26400502145346344, 0.4923154730745574, 0.45008958150345885], \"visible\": true, \"color\": \"rgb(217,95,2)\"}, \"marker\": {\"color\": \"rgb(217,95,2)\"}, \"line\": {\"color\": \"rgb(217,95,2)\"}, \"showlegend\": true, \"legendgroup\": \"BD4 \\u0394(adhE,ldhA,pflB) + pBD3mod M9 + 1.0 a.u. IPTG\", \"name\": \"BD4 \\u0394(adhE,ldhA,pflB) + pBD3 in mod M9 + 1.0 a.u. IPTG\"}], {\"title\": \"acet  vs time for different strains in mod M9 media\"}, {\"showLink\": true, \"linkText\": \"Export to plot.ly\"})});</script>"
      ]
     },
     "metadata": {},
     "output_type": "display_data"
    },
    {
     "data": {
      "application/vnd.plotly.v1+json": {
       "data": [
        {
         "error_y": {
          "array": [
           0.004757519798942464,
           0.0077449094806196885,
           0.014376659474070096,
           0.028999208908409436,
           0.023689257653242687,
           0.059059999028835276,
           0.07330964712667211,
           0.3546531094098365,
           0.3937714396599519,
           0.44046008095224504
          ],
          "color": "rgb(27,158,119)",
          "type": "data",
          "visible": true
         },
         "legendgroup": "BD2 Δ(adhE,ldhA,pflB) + pBD1mod M9 + 1.0 a.u. IPTG",
         "line": {
          "color": "rgb(27,158,119)"
         },
         "marker": {
          "color": "rgb(27,158,119)"
         },
         "name": "BD2 Δ(adhE,ldhA,pflB) + pBD1 in mod M9 + 1.0 a.u. IPTG",
         "showlegend": true,
         "type": "scatter",
         "x": [
          0,
          3,
          6,
          9,
          15,
          24,
          24.1,
          36,
          48,
          60
         ],
         "y": [
          0.09287389829043202,
          0.19243341762303054,
          0.3447531089930623,
          0.6157644427154249,
          0.6116281052108322,
          0.6189385506494629,
          0.5866726188160539,
          0.6091288076249756,
          0.8594709503123039,
          0.6745729149106312
         ]
        },
        {
         "error_y": {
          "array": [
           0.009990103885231411,
           0.011148583266493838,
           0.026332098717499294,
           0.06763868478010407,
           0.0014742148705181963,
           0.0042297242807735665,
           0.01041102951666066,
           0.02561269447371623,
           0.03978213899936137,
           0.04018678753009877
          ],
          "color": "rgb(217,95,2)",
          "type": "data",
          "visible": true
         },
         "legendgroup": "BD4 Δ(adhE,ldhA,pflB) + pBD3mod M9 + 1.0 a.u. IPTG",
         "line": {
          "color": "rgb(217,95,2)"
         },
         "marker": {
          "color": "rgb(217,95,2)"
         },
         "name": "BD4 Δ(adhE,ldhA,pflB) + pBD3 in mod M9 + 1.0 a.u. IPTG",
         "showlegend": true,
         "type": "scatter",
         "x": [
          0,
          3,
          6,
          9,
          15,
          24,
          24.1,
          36,
          48,
          60
         ],
         "y": [
          0.046761857831377374,
          0.16842766431087766,
          0.3508264021266938,
          0.7229968056366033,
          0.13883598089433527,
          0.08006499816291685,
          0.09179920032851369,
          0.20912872549655273,
          0.27163615811882685,
          0.2678122328124662
         ]
        }
       ],
       "layout": {
        "title": "ac  vs time for different strains in mod M9 media"
       }
      },
      "text/html": [
       "<div id=\"41fe7b02-9c21-42c3-a316-6163444c9894\" style=\"height: 525px; width: 100%;\" class=\"plotly-graph-div\"></div><script type=\"text/javascript\">require([\"plotly\"], function(Plotly) { window.PLOTLYENV=window.PLOTLYENV || {};window.PLOTLYENV.BASE_URL=\"https://plot.ly\";Plotly.newPlot(\"41fe7b02-9c21-42c3-a316-6163444c9894\", [{\"type\": \"scatter\", \"x\": [0.0, 3.0, 6.0, 9.0, 15.0, 24.0, 24.1, 36.0, 48.0, 60.0], \"y\": [0.09287389829043202, 0.19243341762303054, 0.3447531089930623, 0.6157644427154249, 0.6116281052108322, 0.6189385506494629, 0.5866726188160539, 0.6091288076249756, 0.8594709503123039, 0.6745729149106312], \"error_y\": {\"type\": \"data\", \"array\": [0.004757519798942464, 0.0077449094806196885, 0.014376659474070096, 0.028999208908409436, 0.023689257653242687, 0.059059999028835276, 0.07330964712667211, 0.3546531094098365, 0.3937714396599519, 0.44046008095224504], \"visible\": true, \"color\": \"rgb(27,158,119)\"}, \"marker\": {\"color\": \"rgb(27,158,119)\"}, \"line\": {\"color\": \"rgb(27,158,119)\"}, \"showlegend\": true, \"legendgroup\": \"BD2 \\u0394(adhE,ldhA,pflB) + pBD1mod M9 + 1.0 a.u. IPTG\", \"name\": \"BD2 \\u0394(adhE,ldhA,pflB) + pBD1 in mod M9 + 1.0 a.u. IPTG\"}, {\"type\": \"scatter\", \"x\": [0.0, 3.0, 6.0, 9.0, 15.0, 24.0, 24.1, 36.0, 48.0, 60.0], \"y\": [0.046761857831377374, 0.16842766431087766, 0.3508264021266938, 0.7229968056366033, 0.13883598089433527, 0.08006499816291685, 0.09179920032851369, 0.20912872549655273, 0.27163615811882685, 0.2678122328124662], \"error_y\": {\"type\": \"data\", \"array\": [0.009990103885231411, 0.011148583266493838, 0.026332098717499294, 0.06763868478010407, 0.0014742148705181963, 0.0042297242807735665, 0.01041102951666066, 0.02561269447371623, 0.03978213899936137, 0.04018678753009877], \"visible\": true, \"color\": \"rgb(217,95,2)\"}, \"marker\": {\"color\": \"rgb(217,95,2)\"}, \"line\": {\"color\": \"rgb(217,95,2)\"}, \"showlegend\": true, \"legendgroup\": \"BD4 \\u0394(adhE,ldhA,pflB) + pBD3mod M9 + 1.0 a.u. IPTG\", \"name\": \"BD4 \\u0394(adhE,ldhA,pflB) + pBD3 in mod M9 + 1.0 a.u. IPTG\"}], {\"title\": \"ac  vs time for different strains in mod M9 media\"}, {\"showLink\": true, \"linkText\": \"Export to plot.ly\"})});</script>"
      ],
      "text/vnd.plotly.v1+html": [
       "<div id=\"41fe7b02-9c21-42c3-a316-6163444c9894\" style=\"height: 525px; width: 100%;\" class=\"plotly-graph-div\"></div><script type=\"text/javascript\">require([\"plotly\"], function(Plotly) { window.PLOTLYENV=window.PLOTLYENV || {};window.PLOTLYENV.BASE_URL=\"https://plot.ly\";Plotly.newPlot(\"41fe7b02-9c21-42c3-a316-6163444c9894\", [{\"type\": \"scatter\", \"x\": [0.0, 3.0, 6.0, 9.0, 15.0, 24.0, 24.1, 36.0, 48.0, 60.0], \"y\": [0.09287389829043202, 0.19243341762303054, 0.3447531089930623, 0.6157644427154249, 0.6116281052108322, 0.6189385506494629, 0.5866726188160539, 0.6091288076249756, 0.8594709503123039, 0.6745729149106312], \"error_y\": {\"type\": \"data\", \"array\": [0.004757519798942464, 0.0077449094806196885, 0.014376659474070096, 0.028999208908409436, 0.023689257653242687, 0.059059999028835276, 0.07330964712667211, 0.3546531094098365, 0.3937714396599519, 0.44046008095224504], \"visible\": true, \"color\": \"rgb(27,158,119)\"}, \"marker\": {\"color\": \"rgb(27,158,119)\"}, \"line\": {\"color\": \"rgb(27,158,119)\"}, \"showlegend\": true, \"legendgroup\": \"BD2 \\u0394(adhE,ldhA,pflB) + pBD1mod M9 + 1.0 a.u. IPTG\", \"name\": \"BD2 \\u0394(adhE,ldhA,pflB) + pBD1 in mod M9 + 1.0 a.u. IPTG\"}, {\"type\": \"scatter\", \"x\": [0.0, 3.0, 6.0, 9.0, 15.0, 24.0, 24.1, 36.0, 48.0, 60.0], \"y\": [0.046761857831377374, 0.16842766431087766, 0.3508264021266938, 0.7229968056366033, 0.13883598089433527, 0.08006499816291685, 0.09179920032851369, 0.20912872549655273, 0.27163615811882685, 0.2678122328124662], \"error_y\": {\"type\": \"data\", \"array\": [0.009990103885231411, 0.011148583266493838, 0.026332098717499294, 0.06763868478010407, 0.0014742148705181963, 0.0042297242807735665, 0.01041102951666066, 0.02561269447371623, 0.03978213899936137, 0.04018678753009877], \"visible\": true, \"color\": \"rgb(217,95,2)\"}, \"marker\": {\"color\": \"rgb(217,95,2)\"}, \"line\": {\"color\": \"rgb(217,95,2)\"}, \"showlegend\": true, \"legendgroup\": \"BD4 \\u0394(adhE,ldhA,pflB) + pBD3mod M9 + 1.0 a.u. IPTG\", \"name\": \"BD4 \\u0394(adhE,ldhA,pflB) + pBD3 in mod M9 + 1.0 a.u. IPTG\"}], {\"title\": \"ac  vs time for different strains in mod M9 media\"}, {\"showLink\": true, \"linkText\": \"Export to plot.ly\"})});</script>"
      ]
     },
     "metadata": {},
     "output_type": "display_data"
    },
    {
     "data": {
      "application/vnd.plotly.v1+json": {
       "data": [
        {
         "error_y": {
          "array": [
           0.010408329997330658,
           0.0160416125540213,
           0.05686240703077332,
           0.23065125189341568,
           1.345263295170627,
           0.20526405757787544,
           0.3722006627255431,
           0.4386342439892262,
           0.10583005244258371,
           0.30263509380109893
          ],
          "color": "rgb(27,158,119)",
          "type": "data",
          "visible": true
         },
         "legendgroup": "BD2 Δ(adhE,ldhA,pflB) + pBD1mod M9 + 1.0 a.u. IPTG",
         "line": {
          "color": "rgb(27,158,119)"
         },
         "marker": {
          "color": "rgb(27,158,119)"
         },
         "name": "BD2 Δ(adhE,ldhA,pflB) + pBD1 in mod M9 + 1.0 a.u. IPTG",
         "showlegend": true,
         "type": "scatter",
         "x": [
          0,
          3,
          6,
          9,
          15,
          24,
          24.1,
          36,
          48,
          60
         ],
         "y": [
          0.19833333333333333,
          0.43166666666666664,
          1.2166666666666668,
          3.78,
          8.333333333333334,
          10.066666666666665,
          11.413333333333334,
          9.14,
          7.72,
          7.506
         ]
        },
        {
         "error_y": {
          "array": [
           0.001527525231651936,
           0.02350177298276306,
           0.1800925687898679,
           0.31005375877955965,
           0.8380930735902788,
           0.30287511177601384,
           1.0491901638883203,
           0.3504283093587043,
           0.47511402140258224,
           0.26153393661244023
          ],
          "color": "rgb(217,95,2)",
          "type": "data",
          "visible": true
         },
         "legendgroup": "BD4 Δ(adhE,ldhA,pflB) + pBD3mod M9 + 1.0 a.u. IPTG",
         "line": {
          "color": "rgb(217,95,2)"
         },
         "marker": {
          "color": "rgb(217,95,2)"
         },
         "name": "BD4 Δ(adhE,ldhA,pflB) + pBD3 in mod M9 + 1.0 a.u. IPTG",
         "showlegend": true,
         "type": "scatter",
         "x": [
          0,
          3,
          6,
          9,
          15,
          24,
          24.1,
          36,
          48,
          60
         ],
         "y": [
          0.20266666666666666,
          0.5603333333333333,
          1.8666666666666665,
          5.373333333333332,
          9.62,
          9.226666666666667,
          11.799999999999999,
          8.02,
          8.226666666666667,
          7.219999999999999
         ]
        }
       ],
       "layout": {
        "title": "od  vs time for different strains in mod M9 media"
       }
      },
      "text/html": [
       "<div id=\"bfa1ae74-d13c-4f4b-9c3d-092772cb31ff\" style=\"height: 525px; width: 100%;\" class=\"plotly-graph-div\"></div><script type=\"text/javascript\">require([\"plotly\"], function(Plotly) { window.PLOTLYENV=window.PLOTLYENV || {};window.PLOTLYENV.BASE_URL=\"https://plot.ly\";Plotly.newPlot(\"bfa1ae74-d13c-4f4b-9c3d-092772cb31ff\", [{\"type\": \"scatter\", \"x\": [0.0, 3.0, 6.0, 9.0, 15.0, 24.0, 24.1, 36.0, 48.0, 60.0], \"y\": [0.19833333333333333, 0.43166666666666664, 1.2166666666666668, 3.78, 8.333333333333334, 10.066666666666665, 11.413333333333334, 9.14, 7.72, 7.506], \"error_y\": {\"type\": \"data\", \"array\": [0.010408329997330658, 0.0160416125540213, 0.05686240703077332, 0.23065125189341568, 1.345263295170627, 0.20526405757787544, 0.3722006627255431, 0.4386342439892262, 0.10583005244258371, 0.30263509380109893], \"visible\": true, \"color\": \"rgb(27,158,119)\"}, \"marker\": {\"color\": \"rgb(27,158,119)\"}, \"line\": {\"color\": \"rgb(27,158,119)\"}, \"showlegend\": true, \"legendgroup\": \"BD2 \\u0394(adhE,ldhA,pflB) + pBD1mod M9 + 1.0 a.u. IPTG\", \"name\": \"BD2 \\u0394(adhE,ldhA,pflB) + pBD1 in mod M9 + 1.0 a.u. IPTG\"}, {\"type\": \"scatter\", \"x\": [0.0, 3.0, 6.0, 9.0, 15.0, 24.0, 24.1, 36.0, 48.0, 60.0], \"y\": [0.20266666666666666, 0.5603333333333333, 1.8666666666666665, 5.373333333333332, 9.62, 9.226666666666667, 11.799999999999999, 8.02, 8.226666666666667, 7.219999999999999], \"error_y\": {\"type\": \"data\", \"array\": [0.001527525231651936, 0.02350177298276306, 0.1800925687898679, 0.31005375877955965, 0.8380930735902788, 0.30287511177601384, 1.0491901638883203, 0.3504283093587043, 0.47511402140258224, 0.26153393661244023], \"visible\": true, \"color\": \"rgb(217,95,2)\"}, \"marker\": {\"color\": \"rgb(217,95,2)\"}, \"line\": {\"color\": \"rgb(217,95,2)\"}, \"showlegend\": true, \"legendgroup\": \"BD4 \\u0394(adhE,ldhA,pflB) + pBD3mod M9 + 1.0 a.u. IPTG\", \"name\": \"BD4 \\u0394(adhE,ldhA,pflB) + pBD3 in mod M9 + 1.0 a.u. IPTG\"}], {\"title\": \"od  vs time for different strains in mod M9 media\"}, {\"showLink\": true, \"linkText\": \"Export to plot.ly\"})});</script>"
      ],
      "text/vnd.plotly.v1+html": [
       "<div id=\"bfa1ae74-d13c-4f4b-9c3d-092772cb31ff\" style=\"height: 525px; width: 100%;\" class=\"plotly-graph-div\"></div><script type=\"text/javascript\">require([\"plotly\"], function(Plotly) { window.PLOTLYENV=window.PLOTLYENV || {};window.PLOTLYENV.BASE_URL=\"https://plot.ly\";Plotly.newPlot(\"bfa1ae74-d13c-4f4b-9c3d-092772cb31ff\", [{\"type\": \"scatter\", \"x\": [0.0, 3.0, 6.0, 9.0, 15.0, 24.0, 24.1, 36.0, 48.0, 60.0], \"y\": [0.19833333333333333, 0.43166666666666664, 1.2166666666666668, 3.78, 8.333333333333334, 10.066666666666665, 11.413333333333334, 9.14, 7.72, 7.506], \"error_y\": {\"type\": \"data\", \"array\": [0.010408329997330658, 0.0160416125540213, 0.05686240703077332, 0.23065125189341568, 1.345263295170627, 0.20526405757787544, 0.3722006627255431, 0.4386342439892262, 0.10583005244258371, 0.30263509380109893], \"visible\": true, \"color\": \"rgb(27,158,119)\"}, \"marker\": {\"color\": \"rgb(27,158,119)\"}, \"line\": {\"color\": \"rgb(27,158,119)\"}, \"showlegend\": true, \"legendgroup\": \"BD2 \\u0394(adhE,ldhA,pflB) + pBD1mod M9 + 1.0 a.u. IPTG\", \"name\": \"BD2 \\u0394(adhE,ldhA,pflB) + pBD1 in mod M9 + 1.0 a.u. IPTG\"}, {\"type\": \"scatter\", \"x\": [0.0, 3.0, 6.0, 9.0, 15.0, 24.0, 24.1, 36.0, 48.0, 60.0], \"y\": [0.20266666666666666, 0.5603333333333333, 1.8666666666666665, 5.373333333333332, 9.62, 9.226666666666667, 11.799999999999999, 8.02, 8.226666666666667, 7.219999999999999], \"error_y\": {\"type\": \"data\", \"array\": [0.001527525231651936, 0.02350177298276306, 0.1800925687898679, 0.31005375877955965, 0.8380930735902788, 0.30287511177601384, 1.0491901638883203, 0.3504283093587043, 0.47511402140258224, 0.26153393661244023], \"visible\": true, \"color\": \"rgb(217,95,2)\"}, \"marker\": {\"color\": \"rgb(217,95,2)\"}, \"line\": {\"color\": \"rgb(217,95,2)\"}, \"showlegend\": true, \"legendgroup\": \"BD4 \\u0394(adhE,ldhA,pflB) + pBD3mod M9 + 1.0 a.u. IPTG\", \"name\": \"BD4 \\u0394(adhE,ldhA,pflB) + pBD3 in mod M9 + 1.0 a.u. IPTG\"}], {\"title\": \"od  vs time for different strains in mod M9 media\"}, {\"showLink\": true, \"linkText\": \"Export to plot.ly\"})});</script>"
      ]
     },
     "metadata": {},
     "output_type": "display_data"
    },
    {
     "data": {
      "application/vnd.plotly.v1+json": {
       "data": [
        {
         "error_y": {
          "array": [
           0.37718754969534274,
           0.32155561314596665,
           0.20837120972563156,
           0.490109744342807,
           1.0507030966245958,
           1.978933023592655,
           2.4995954868897394,
           1.774762421454294,
           4.5834284805063525,
           5.3415869683582775
          ],
          "color": "rgb(27,158,119)",
          "type": "data",
          "visible": true
         },
         "legendgroup": "BD2 Δ(adhE,ldhA,pflB) + pBD1mod M9 + 1.0 a.u. IPTG",
         "line": {
          "color": "rgb(27,158,119)"
         },
         "marker": {
          "color": "rgb(27,158,119)"
         },
         "name": "BD2 Δ(adhE,ldhA,pflB) + pBD1 in mod M9 + 1.0 a.u. IPTG",
         "showlegend": true,
         "type": "scatter",
         "x": [
          0,
          3,
          6,
          9,
          15,
          24,
          24.1,
          36,
          48,
          60
         ],
         "y": [
          30.91819135802469,
          30.479648148148147,
          29.672814814814814,
          25.400604938271602,
          12.45685185185185,
          2.3974629629629627,
          31.601629629629628,
          23.530314814814815,
          14.686506172839506,
          8.757407407407408
         ]
        },
        {
         "error_y": {
          "array": [
           1.2024863669640249,
           1.6769676179779658,
           0.33279865056107477,
           1.010045025638964,
           1.4049962378335659,
           0.10820752587363194,
           0.5555279827519797,
           5.128659368906065,
           7.46367920104848,
           4.855023946988776
          ],
          "color": "rgb(217,95,2)",
          "type": "data",
          "visible": true
         },
         "legendgroup": "BD4 Δ(adhE,ldhA,pflB) + pBD3mod M9 + 1.0 a.u. IPTG",
         "line": {
          "color": "rgb(217,95,2)"
         },
         "marker": {
          "color": "rgb(217,95,2)"
         },
         "name": "BD4 Δ(adhE,ldhA,pflB) + pBD3 in mod M9 + 1.0 a.u. IPTG",
         "showlegend": true,
         "type": "scatter",
         "x": [
          0,
          3,
          6,
          9,
          15,
          24,
          24.1,
          36,
          48,
          60
         ],
         "y": [
          30.34346913580247,
          28.602179012345676,
          28.463654320987654,
          21.551802469135804,
          2.3583703703703702,
          0.09937037037037037,
          29.48943827160494,
          17.259246913580245,
          7.0219753086419745,
          2.803049382716049
         ]
        }
       ],
       "layout": {
        "title": "glc__D  vs time for different strains in mod M9 media"
       }
      },
      "text/html": [
       "<div id=\"48f646f3-f5b2-4b78-8a2c-7ec9cb3bff0e\" style=\"height: 525px; width: 100%;\" class=\"plotly-graph-div\"></div><script type=\"text/javascript\">require([\"plotly\"], function(Plotly) { window.PLOTLYENV=window.PLOTLYENV || {};window.PLOTLYENV.BASE_URL=\"https://plot.ly\";Plotly.newPlot(\"48f646f3-f5b2-4b78-8a2c-7ec9cb3bff0e\", [{\"type\": \"scatter\", \"x\": [0.0, 3.0, 6.0, 9.0, 15.0, 24.0, 24.1, 36.0, 48.0, 60.0], \"y\": [30.91819135802469, 30.479648148148147, 29.672814814814814, 25.400604938271602, 12.45685185185185, 2.3974629629629627, 31.601629629629628, 23.530314814814815, 14.686506172839506, 8.757407407407408], \"error_y\": {\"type\": \"data\", \"array\": [0.37718754969534274, 0.32155561314596665, 0.20837120972563156, 0.490109744342807, 1.0507030966245958, 1.978933023592655, 2.4995954868897394, 1.774762421454294, 4.5834284805063525, 5.3415869683582775], \"visible\": true, \"color\": \"rgb(27,158,119)\"}, \"marker\": {\"color\": \"rgb(27,158,119)\"}, \"line\": {\"color\": \"rgb(27,158,119)\"}, \"showlegend\": true, \"legendgroup\": \"BD2 \\u0394(adhE,ldhA,pflB) + pBD1mod M9 + 1.0 a.u. IPTG\", \"name\": \"BD2 \\u0394(adhE,ldhA,pflB) + pBD1 in mod M9 + 1.0 a.u. IPTG\"}, {\"type\": \"scatter\", \"x\": [0.0, 3.0, 6.0, 9.0, 15.0, 24.0, 24.1, 36.0, 48.0, 60.0], \"y\": [30.34346913580247, 28.602179012345676, 28.463654320987654, 21.551802469135804, 2.3583703703703702, 0.09937037037037037, 29.48943827160494, 17.259246913580245, 7.0219753086419745, 2.803049382716049], \"error_y\": {\"type\": \"data\", \"array\": [1.2024863669640249, 1.6769676179779658, 0.33279865056107477, 1.010045025638964, 1.4049962378335659, 0.10820752587363194, 0.5555279827519797, 5.128659368906065, 7.46367920104848, 4.855023946988776], \"visible\": true, \"color\": \"rgb(217,95,2)\"}, \"marker\": {\"color\": \"rgb(217,95,2)\"}, \"line\": {\"color\": \"rgb(217,95,2)\"}, \"showlegend\": true, \"legendgroup\": \"BD4 \\u0394(adhE,ldhA,pflB) + pBD3mod M9 + 1.0 a.u. IPTG\", \"name\": \"BD4 \\u0394(adhE,ldhA,pflB) + pBD3 in mod M9 + 1.0 a.u. IPTG\"}], {\"title\": \"glc__D  vs time for different strains in mod M9 media\"}, {\"showLink\": true, \"linkText\": \"Export to plot.ly\"})});</script>"
      ],
      "text/vnd.plotly.v1+html": [
       "<div id=\"48f646f3-f5b2-4b78-8a2c-7ec9cb3bff0e\" style=\"height: 525px; width: 100%;\" class=\"plotly-graph-div\"></div><script type=\"text/javascript\">require([\"plotly\"], function(Plotly) { window.PLOTLYENV=window.PLOTLYENV || {};window.PLOTLYENV.BASE_URL=\"https://plot.ly\";Plotly.newPlot(\"48f646f3-f5b2-4b78-8a2c-7ec9cb3bff0e\", [{\"type\": \"scatter\", \"x\": [0.0, 3.0, 6.0, 9.0, 15.0, 24.0, 24.1, 36.0, 48.0, 60.0], \"y\": [30.91819135802469, 30.479648148148147, 29.672814814814814, 25.400604938271602, 12.45685185185185, 2.3974629629629627, 31.601629629629628, 23.530314814814815, 14.686506172839506, 8.757407407407408], \"error_y\": {\"type\": \"data\", \"array\": [0.37718754969534274, 0.32155561314596665, 0.20837120972563156, 0.490109744342807, 1.0507030966245958, 1.978933023592655, 2.4995954868897394, 1.774762421454294, 4.5834284805063525, 5.3415869683582775], \"visible\": true, \"color\": \"rgb(27,158,119)\"}, \"marker\": {\"color\": \"rgb(27,158,119)\"}, \"line\": {\"color\": \"rgb(27,158,119)\"}, \"showlegend\": true, \"legendgroup\": \"BD2 \\u0394(adhE,ldhA,pflB) + pBD1mod M9 + 1.0 a.u. IPTG\", \"name\": \"BD2 \\u0394(adhE,ldhA,pflB) + pBD1 in mod M9 + 1.0 a.u. IPTG\"}, {\"type\": \"scatter\", \"x\": [0.0, 3.0, 6.0, 9.0, 15.0, 24.0, 24.1, 36.0, 48.0, 60.0], \"y\": [30.34346913580247, 28.602179012345676, 28.463654320987654, 21.551802469135804, 2.3583703703703702, 0.09937037037037037, 29.48943827160494, 17.259246913580245, 7.0219753086419745, 2.803049382716049], \"error_y\": {\"type\": \"data\", \"array\": [1.2024863669640249, 1.6769676179779658, 0.33279865056107477, 1.010045025638964, 1.4049962378335659, 0.10820752587363194, 0.5555279827519797, 5.128659368906065, 7.46367920104848, 4.855023946988776], \"visible\": true, \"color\": \"rgb(217,95,2)\"}, \"marker\": {\"color\": \"rgb(217,95,2)\"}, \"line\": {\"color\": \"rgb(217,95,2)\"}, \"showlegend\": true, \"legendgroup\": \"BD4 \\u0394(adhE,ldhA,pflB) + pBD3mod M9 + 1.0 a.u. IPTG\", \"name\": \"BD4 \\u0394(adhE,ldhA,pflB) + pBD3 in mod M9 + 1.0 a.u. IPTG\"}], {\"title\": \"glc__D  vs time for different strains in mod M9 media\"}, {\"showLink\": true, \"linkText\": \"Export to plot.ly\"})});</script>"
      ]
     },
     "metadata": {},
     "output_type": "display_data"
    },
    {
     "data": {
      "application/vnd.plotly.v1+json": {
       "data": [
        {
         "error_y": {
          "array": [
           0,
           0.02589260500862426,
           0,
           0.002356779593718489,
           0.03721366265967678,
           0.07710454080783834,
           0.06909970333884335,
           0.18084072466004486,
           0.08596007449369693,
           0.03677687609989001
          ],
          "color": "rgb(27,158,119)",
          "type": "data",
          "visible": true
         },
         "legendgroup": "BD2 Δ(adhE,ldhA,pflB) + pBD1mod M9 + 1.0 a.u. IPTG",
         "line": {
          "color": "rgb(27,158,119)"
         },
         "marker": {
          "color": "rgb(27,158,119)"
         },
         "name": "BD2 Δ(adhE,ldhA,pflB) + pBD1 in mod M9 + 1.0 a.u. IPTG",
         "showlegend": true,
         "type": "scatter",
         "x": [
          0,
          3,
          6,
          9,
          15,
          24,
          24.1,
          36,
          48,
          60
         ],
         "y": [
          0,
          0.014949102471749869,
          0,
          0.009550108052651109,
          0.027453377282021057,
          0.1109777127764074,
          0.12832434713642282,
          0.11191271383146696,
          0.07215879737763128,
          0.03980121222704882
         ]
        },
        {
         "error_y": {
          "array": [
           0,
           0.005520058892079545,
           0,
           0.0038690823741288146,
           0.025486775197427466,
           0.002873455313685243,
           0.05994104898788787,
           0.022791712582249053,
           0.040880624974715396,
           0.019245539021303312
          ],
          "color": "rgb(217,95,2)",
          "type": "data",
          "visible": true
         },
         "legendgroup": "BD4 Δ(adhE,ldhA,pflB) + pBD3mod M9 + 1.0 a.u. IPTG",
         "line": {
          "color": "rgb(217,95,2)"
         },
         "marker": {
          "color": "rgb(217,95,2)"
         },
         "name": "BD4 Δ(adhE,ldhA,pflB) + pBD3 in mod M9 + 1.0 a.u. IPTG",
         "showlegend": true,
         "type": "scatter",
         "x": [
          0,
          3,
          6,
          9,
          15,
          24,
          24.1,
          36,
          48,
          60
         ],
         "y": [
          0,
          0.003187007487284713,
          0,
          0.002233815750220107,
          0.04050701068884475,
          0.0016589901988605356,
          0.04996616533147061,
          0.03086231108976738,
          0.042933647668318385,
          0.15196131933378443
         ]
        }
       ],
       "layout": {
        "title": "acald  vs time for different strains in mod M9 media"
       }
      },
      "text/html": [
       "<div id=\"7f942348-7835-4cbb-97f5-329fbeb1e0c1\" style=\"height: 525px; width: 100%;\" class=\"plotly-graph-div\"></div><script type=\"text/javascript\">require([\"plotly\"], function(Plotly) { window.PLOTLYENV=window.PLOTLYENV || {};window.PLOTLYENV.BASE_URL=\"https://plot.ly\";Plotly.newPlot(\"7f942348-7835-4cbb-97f5-329fbeb1e0c1\", [{\"type\": \"scatter\", \"x\": [0.0, 3.0, 6.0, 9.0, 15.0, 24.0, 24.1, 36.0, 48.0, 60.0], \"y\": [0.0, 0.014949102471749869, 0.0, 0.009550108052651109, 0.027453377282021057, 0.1109777127764074, 0.12832434713642282, 0.11191271383146696, 0.07215879737763128, 0.03980121222704882], \"error_y\": {\"type\": \"data\", \"array\": [0.0, 0.02589260500862426, 0.0, 0.002356779593718489, 0.03721366265967678, 0.07710454080783834, 0.06909970333884335, 0.18084072466004486, 0.08596007449369693, 0.03677687609989001], \"visible\": true, \"color\": \"rgb(27,158,119)\"}, \"marker\": {\"color\": \"rgb(27,158,119)\"}, \"line\": {\"color\": \"rgb(27,158,119)\"}, \"showlegend\": true, \"legendgroup\": \"BD2 \\u0394(adhE,ldhA,pflB) + pBD1mod M9 + 1.0 a.u. IPTG\", \"name\": \"BD2 \\u0394(adhE,ldhA,pflB) + pBD1 in mod M9 + 1.0 a.u. IPTG\"}, {\"type\": \"scatter\", \"x\": [0.0, 3.0, 6.0, 9.0, 15.0, 24.0, 24.1, 36.0, 48.0, 60.0], \"y\": [0.0, 0.003187007487284713, 0.0, 0.002233815750220107, 0.04050701068884475, 0.0016589901988605356, 0.04996616533147061, 0.03086231108976738, 0.042933647668318385, 0.15196131933378443], \"error_y\": {\"type\": \"data\", \"array\": [0.0, 0.005520058892079545, 0.0, 0.0038690823741288146, 0.025486775197427466, 0.002873455313685243, 0.05994104898788787, 0.022791712582249053, 0.040880624974715396, 0.019245539021303312], \"visible\": true, \"color\": \"rgb(217,95,2)\"}, \"marker\": {\"color\": \"rgb(217,95,2)\"}, \"line\": {\"color\": \"rgb(217,95,2)\"}, \"showlegend\": true, \"legendgroup\": \"BD4 \\u0394(adhE,ldhA,pflB) + pBD3mod M9 + 1.0 a.u. IPTG\", \"name\": \"BD4 \\u0394(adhE,ldhA,pflB) + pBD3 in mod M9 + 1.0 a.u. IPTG\"}], {\"title\": \"acald  vs time for different strains in mod M9 media\"}, {\"showLink\": true, \"linkText\": \"Export to plot.ly\"})});</script>"
      ],
      "text/vnd.plotly.v1+html": [
       "<div id=\"7f942348-7835-4cbb-97f5-329fbeb1e0c1\" style=\"height: 525px; width: 100%;\" class=\"plotly-graph-div\"></div><script type=\"text/javascript\">require([\"plotly\"], function(Plotly) { window.PLOTLYENV=window.PLOTLYENV || {};window.PLOTLYENV.BASE_URL=\"https://plot.ly\";Plotly.newPlot(\"7f942348-7835-4cbb-97f5-329fbeb1e0c1\", [{\"type\": \"scatter\", \"x\": [0.0, 3.0, 6.0, 9.0, 15.0, 24.0, 24.1, 36.0, 48.0, 60.0], \"y\": [0.0, 0.014949102471749869, 0.0, 0.009550108052651109, 0.027453377282021057, 0.1109777127764074, 0.12832434713642282, 0.11191271383146696, 0.07215879737763128, 0.03980121222704882], \"error_y\": {\"type\": \"data\", \"array\": [0.0, 0.02589260500862426, 0.0, 0.002356779593718489, 0.03721366265967678, 0.07710454080783834, 0.06909970333884335, 0.18084072466004486, 0.08596007449369693, 0.03677687609989001], \"visible\": true, \"color\": \"rgb(27,158,119)\"}, \"marker\": {\"color\": \"rgb(27,158,119)\"}, \"line\": {\"color\": \"rgb(27,158,119)\"}, \"showlegend\": true, \"legendgroup\": \"BD2 \\u0394(adhE,ldhA,pflB) + pBD1mod M9 + 1.0 a.u. IPTG\", \"name\": \"BD2 \\u0394(adhE,ldhA,pflB) + pBD1 in mod M9 + 1.0 a.u. IPTG\"}, {\"type\": \"scatter\", \"x\": [0.0, 3.0, 6.0, 9.0, 15.0, 24.0, 24.1, 36.0, 48.0, 60.0], \"y\": [0.0, 0.003187007487284713, 0.0, 0.002233815750220107, 0.04050701068884475, 0.0016589901988605356, 0.04996616533147061, 0.03086231108976738, 0.042933647668318385, 0.15196131933378443], \"error_y\": {\"type\": \"data\", \"array\": [0.0, 0.005520058892079545, 0.0, 0.0038690823741288146, 0.025486775197427466, 0.002873455313685243, 0.05994104898788787, 0.022791712582249053, 0.040880624974715396, 0.019245539021303312], \"visible\": true, \"color\": \"rgb(217,95,2)\"}, \"marker\": {\"color\": \"rgb(217,95,2)\"}, \"line\": {\"color\": \"rgb(217,95,2)\"}, \"showlegend\": true, \"legendgroup\": \"BD4 \\u0394(adhE,ldhA,pflB) + pBD3mod M9 + 1.0 a.u. IPTG\", \"name\": \"BD4 \\u0394(adhE,ldhA,pflB) + pBD3 in mod M9 + 1.0 a.u. IPTG\"}], {\"title\": \"acald  vs time for different strains in mod M9 media\"}, {\"showLink\": true, \"linkText\": \"Export to plot.ly\"})});</script>"
      ]
     },
     "metadata": {},
     "output_type": "display_data"
    },
    {
     "data": {
      "application/vnd.plotly.v1+json": {
       "data": [
        {
         "error_y": {
          "array": [
           0.0015291676163518217,
           0,
           0,
           0.0046784142685050096,
           0.003119109644193624,
           0.1436735379835505,
           0.17724283004181704,
           0.44813840246796116,
           0.15183187016312505,
           0.27637032547997575
          ],
          "color": "rgb(27,158,119)",
          "type": "data",
          "visible": true
         },
         "legendgroup": "BD2 Δ(adhE,ldhA,pflB) + pBD1mod M9 + 1.0 a.u. IPTG",
         "line": {
          "color": "rgb(27,158,119)"
         },
         "marker": {
          "color": "rgb(27,158,119)"
         },
         "name": "BD2 Δ(adhE,ldhA,pflB) + pBD1 in mod M9 + 1.0 a.u. IPTG",
         "showlegend": true,
         "type": "scatter",
         "x": [
          0,
          3,
          6,
          9,
          15,
          24,
          24.1,
          36,
          48,
          60
         ],
         "y": [
          0.01934710095422791,
          0,
          0,
          0.02616954404213588,
          0.12221438173524031,
          1.3007872137867198,
          1.2786858672895958,
          1.319443647662913,
          1.7365644489499086,
          1.6205997619939616
         ]
        },
        {
         "error_y": {
          "array": [
           0.0035430036177197225,
           0,
           0.0015666350794455337,
           0.03228833297921601,
           0.013873911764041208,
           0.032899204051522475,
           0.03125886100894012,
           0.3261493672573723,
           0.5153160893523374,
           0.4529890896259119
          ],
          "color": "rgb(217,95,2)",
          "type": "data",
          "visible": true
         },
         "legendgroup": "BD4 Δ(adhE,ldhA,pflB) + pBD3mod M9 + 1.0 a.u. IPTG",
         "line": {
          "color": "rgb(217,95,2)"
         },
         "marker": {
          "color": "rgb(217,95,2)"
         },
         "name": "BD4 Δ(adhE,ldhA,pflB) + pBD3 in mod M9 + 1.0 a.u. IPTG",
         "showlegend": true,
         "type": "scatter",
         "x": [
          0,
          3,
          6,
          9,
          15,
          24,
          24.1,
          36,
          48,
          60
         ],
         "y": [
          0.01727509972012253,
          0,
          0.011901372942239459,
          0.07778427397139519,
          0.305898133415607,
          0.037388672675584544,
          0.0360662979042246,
          1.1243133525795004,
          1.2897028494611806,
          1.0487105758423871
         ]
        }
       ],
       "layout": {
        "title": "suc  vs time for different strains in mod M9 media"
       }
      },
      "text/html": [
       "<div id=\"a012f4c9-ed16-4258-a7ec-b0afeed632c2\" style=\"height: 525px; width: 100%;\" class=\"plotly-graph-div\"></div><script type=\"text/javascript\">require([\"plotly\"], function(Plotly) { window.PLOTLYENV=window.PLOTLYENV || {};window.PLOTLYENV.BASE_URL=\"https://plot.ly\";Plotly.newPlot(\"a012f4c9-ed16-4258-a7ec-b0afeed632c2\", [{\"type\": \"scatter\", \"x\": [0.0, 3.0, 6.0, 9.0, 15.0, 24.0, 24.1, 36.0, 48.0, 60.0], \"y\": [0.01934710095422791, 0.0, 0.0, 0.02616954404213588, 0.12221438173524031, 1.3007872137867198, 1.2786858672895958, 1.319443647662913, 1.7365644489499086, 1.6205997619939616], \"error_y\": {\"type\": \"data\", \"array\": [0.0015291676163518217, 0.0, 0.0, 0.0046784142685050096, 0.003119109644193624, 0.1436735379835505, 0.17724283004181704, 0.44813840246796116, 0.15183187016312505, 0.27637032547997575], \"visible\": true, \"color\": \"rgb(27,158,119)\"}, \"marker\": {\"color\": \"rgb(27,158,119)\"}, \"line\": {\"color\": \"rgb(27,158,119)\"}, \"showlegend\": true, \"legendgroup\": \"BD2 \\u0394(adhE,ldhA,pflB) + pBD1mod M9 + 1.0 a.u. IPTG\", \"name\": \"BD2 \\u0394(adhE,ldhA,pflB) + pBD1 in mod M9 + 1.0 a.u. IPTG\"}, {\"type\": \"scatter\", \"x\": [0.0, 3.0, 6.0, 9.0, 15.0, 24.0, 24.1, 36.0, 48.0, 60.0], \"y\": [0.01727509972012253, 0.0, 0.011901372942239459, 0.07778427397139519, 0.305898133415607, 0.037388672675584544, 0.0360662979042246, 1.1243133525795004, 1.2897028494611806, 1.0487105758423871], \"error_y\": {\"type\": \"data\", \"array\": [0.0035430036177197225, 0.0, 0.0015666350794455337, 0.03228833297921601, 0.013873911764041208, 0.032899204051522475, 0.03125886100894012, 0.3261493672573723, 0.5153160893523374, 0.4529890896259119], \"visible\": true, \"color\": \"rgb(217,95,2)\"}, \"marker\": {\"color\": \"rgb(217,95,2)\"}, \"line\": {\"color\": \"rgb(217,95,2)\"}, \"showlegend\": true, \"legendgroup\": \"BD4 \\u0394(adhE,ldhA,pflB) + pBD3mod M9 + 1.0 a.u. IPTG\", \"name\": \"BD4 \\u0394(adhE,ldhA,pflB) + pBD3 in mod M9 + 1.0 a.u. IPTG\"}], {\"title\": \"suc  vs time for different strains in mod M9 media\"}, {\"showLink\": true, \"linkText\": \"Export to plot.ly\"})});</script>"
      ],
      "text/vnd.plotly.v1+html": [
       "<div id=\"a012f4c9-ed16-4258-a7ec-b0afeed632c2\" style=\"height: 525px; width: 100%;\" class=\"plotly-graph-div\"></div><script type=\"text/javascript\">require([\"plotly\"], function(Plotly) { window.PLOTLYENV=window.PLOTLYENV || {};window.PLOTLYENV.BASE_URL=\"https://plot.ly\";Plotly.newPlot(\"a012f4c9-ed16-4258-a7ec-b0afeed632c2\", [{\"type\": \"scatter\", \"x\": [0.0, 3.0, 6.0, 9.0, 15.0, 24.0, 24.1, 36.0, 48.0, 60.0], \"y\": [0.01934710095422791, 0.0, 0.0, 0.02616954404213588, 0.12221438173524031, 1.3007872137867198, 1.2786858672895958, 1.319443647662913, 1.7365644489499086, 1.6205997619939616], \"error_y\": {\"type\": \"data\", \"array\": [0.0015291676163518217, 0.0, 0.0, 0.0046784142685050096, 0.003119109644193624, 0.1436735379835505, 0.17724283004181704, 0.44813840246796116, 0.15183187016312505, 0.27637032547997575], \"visible\": true, \"color\": \"rgb(27,158,119)\"}, \"marker\": {\"color\": \"rgb(27,158,119)\"}, \"line\": {\"color\": \"rgb(27,158,119)\"}, \"showlegend\": true, \"legendgroup\": \"BD2 \\u0394(adhE,ldhA,pflB) + pBD1mod M9 + 1.0 a.u. IPTG\", \"name\": \"BD2 \\u0394(adhE,ldhA,pflB) + pBD1 in mod M9 + 1.0 a.u. IPTG\"}, {\"type\": \"scatter\", \"x\": [0.0, 3.0, 6.0, 9.0, 15.0, 24.0, 24.1, 36.0, 48.0, 60.0], \"y\": [0.01727509972012253, 0.0, 0.011901372942239459, 0.07778427397139519, 0.305898133415607, 0.037388672675584544, 0.0360662979042246, 1.1243133525795004, 1.2897028494611806, 1.0487105758423871], \"error_y\": {\"type\": \"data\", \"array\": [0.0035430036177197225, 0.0, 0.0015666350794455337, 0.03228833297921601, 0.013873911764041208, 0.032899204051522475, 0.03125886100894012, 0.3261493672573723, 0.5153160893523374, 0.4529890896259119], \"visible\": true, \"color\": \"rgb(217,95,2)\"}, \"marker\": {\"color\": \"rgb(217,95,2)\"}, \"line\": {\"color\": \"rgb(217,95,2)\"}, \"showlegend\": true, \"legendgroup\": \"BD4 \\u0394(adhE,ldhA,pflB) + pBD3mod M9 + 1.0 a.u. IPTG\", \"name\": \"BD4 \\u0394(adhE,ldhA,pflB) + pBD3 in mod M9 + 1.0 a.u. IPTG\"}], {\"title\": \"suc  vs time for different strains in mod M9 media\"}, {\"showLink\": true, \"linkText\": \"Export to plot.ly\"})});</script>"
      ]
     },
     "metadata": {},
     "output_type": "display_data"
    },
    {
     "data": {
      "application/vnd.plotly.v1+json": {
       "data": [
        {
         "error_y": {
          "array": [
           0.007509598705866823,
           0.004867896225478199,
           0.007962159249955598,
           0.027097041245798776,
           0.0946675865239348,
           0.3741426908814886,
           0.33662054764817434,
           0.5432538000280659,
           1.030723648499335,
           1.049945468880901
          ],
          "color": "rgb(27,158,119)",
          "type": "data",
          "visible": true
         },
         "legendgroup": "BD2 Δ(adhE,ldhA,pflB) + pBD1mod M9 + 1.0 a.u. IPTG",
         "line": {
          "color": "rgb(27,158,119)"
         },
         "marker": {
          "color": "rgb(27,158,119)"
         },
         "name": "BD2 Δ(adhE,ldhA,pflB) + pBD1 in mod M9 + 1.0 a.u. IPTG",
         "showlegend": true,
         "type": "scatter",
         "x": [
          0,
          3,
          6,
          9,
          15,
          24,
          24.1,
          36,
          48,
          60
         ],
         "y": [
          0.09340868428079159,
          0.10775774165809927,
          0.10659510008598921,
          0.1933664255184057,
          1.6793253735485376,
          3.928624740087587,
          3.8027062427334903,
          5.6352648320897485,
          7.686046829436486,
          8.928778217184808
         ]
        },
        {
         "error_y": {
          "array": [
           0.020465015120293924,
           0.004633185468251466,
           0.017894373421116907,
           0.16754167798672526,
           0.3472515652382571,
           0.13538087039289284,
           0.03355545463103947,
           1.602969607592279,
           2.371149448191305,
           1.4406276063805479
          ],
          "color": "rgb(217,95,2)",
          "type": "data",
          "visible": true
         },
         "legendgroup": "BD4 Δ(adhE,ldhA,pflB) + pBD3mod M9 + 1.0 a.u. IPTG",
         "line": {
          "color": "rgb(217,95,2)"
         },
         "marker": {
          "color": "rgb(217,95,2)"
         },
         "name": "BD4 Δ(adhE,ldhA,pflB) + pBD3 in mod M9 + 1.0 a.u. IPTG",
         "showlegend": true,
         "type": "scatter",
         "x": [
          0,
          3,
          6,
          9,
          15,
          24,
          24.1,
          36,
          48,
          60
         ],
         "y": [
          0.18285850042363885,
          0.21887095519519972,
          0.3175777529691511,
          1.2729012006954825,
          5.953298811498588,
          6.779171686208716,
          6.631972432990427,
          10.96294474193772,
          14.369057755744352,
          15.871499723530981
         ]
        }
       ],
       "layout": {
        "title": "etoh  vs time for different strains in mod M9 media"
       }
      },
      "text/html": [
       "<div id=\"46688e4e-a524-4c5c-8aa8-314a14e52e00\" style=\"height: 525px; width: 100%;\" class=\"plotly-graph-div\"></div><script type=\"text/javascript\">require([\"plotly\"], function(Plotly) { window.PLOTLYENV=window.PLOTLYENV || {};window.PLOTLYENV.BASE_URL=\"https://plot.ly\";Plotly.newPlot(\"46688e4e-a524-4c5c-8aa8-314a14e52e00\", [{\"type\": \"scatter\", \"x\": [0.0, 3.0, 6.0, 9.0, 15.0, 24.0, 24.1, 36.0, 48.0, 60.0], \"y\": [0.09340868428079159, 0.10775774165809927, 0.10659510008598921, 0.1933664255184057, 1.6793253735485376, 3.928624740087587, 3.8027062427334903, 5.6352648320897485, 7.686046829436486, 8.928778217184808], \"error_y\": {\"type\": \"data\", \"array\": [0.007509598705866823, 0.004867896225478199, 0.007962159249955598, 0.027097041245798776, 0.0946675865239348, 0.3741426908814886, 0.33662054764817434, 0.5432538000280659, 1.030723648499335, 1.049945468880901], \"visible\": true, \"color\": \"rgb(27,158,119)\"}, \"marker\": {\"color\": \"rgb(27,158,119)\"}, \"line\": {\"color\": \"rgb(27,158,119)\"}, \"showlegend\": true, \"legendgroup\": \"BD2 \\u0394(adhE,ldhA,pflB) + pBD1mod M9 + 1.0 a.u. IPTG\", \"name\": \"BD2 \\u0394(adhE,ldhA,pflB) + pBD1 in mod M9 + 1.0 a.u. IPTG\"}, {\"type\": \"scatter\", \"x\": [0.0, 3.0, 6.0, 9.0, 15.0, 24.0, 24.1, 36.0, 48.0, 60.0], \"y\": [0.18285850042363885, 0.21887095519519972, 0.3175777529691511, 1.2729012006954825, 5.953298811498588, 6.779171686208716, 6.631972432990427, 10.96294474193772, 14.369057755744352, 15.871499723530981], \"error_y\": {\"type\": \"data\", \"array\": [0.020465015120293924, 0.004633185468251466, 0.017894373421116907, 0.16754167798672526, 0.3472515652382571, 0.13538087039289284, 0.03355545463103947, 1.602969607592279, 2.371149448191305, 1.4406276063805479], \"visible\": true, \"color\": \"rgb(217,95,2)\"}, \"marker\": {\"color\": \"rgb(217,95,2)\"}, \"line\": {\"color\": \"rgb(217,95,2)\"}, \"showlegend\": true, \"legendgroup\": \"BD4 \\u0394(adhE,ldhA,pflB) + pBD3mod M9 + 1.0 a.u. IPTG\", \"name\": \"BD4 \\u0394(adhE,ldhA,pflB) + pBD3 in mod M9 + 1.0 a.u. IPTG\"}], {\"title\": \"etoh  vs time for different strains in mod M9 media\"}, {\"showLink\": true, \"linkText\": \"Export to plot.ly\"})});</script>"
      ],
      "text/vnd.plotly.v1+html": [
       "<div id=\"46688e4e-a524-4c5c-8aa8-314a14e52e00\" style=\"height: 525px; width: 100%;\" class=\"plotly-graph-div\"></div><script type=\"text/javascript\">require([\"plotly\"], function(Plotly) { window.PLOTLYENV=window.PLOTLYENV || {};window.PLOTLYENV.BASE_URL=\"https://plot.ly\";Plotly.newPlot(\"46688e4e-a524-4c5c-8aa8-314a14e52e00\", [{\"type\": \"scatter\", \"x\": [0.0, 3.0, 6.0, 9.0, 15.0, 24.0, 24.1, 36.0, 48.0, 60.0], \"y\": [0.09340868428079159, 0.10775774165809927, 0.10659510008598921, 0.1933664255184057, 1.6793253735485376, 3.928624740087587, 3.8027062427334903, 5.6352648320897485, 7.686046829436486, 8.928778217184808], \"error_y\": {\"type\": \"data\", \"array\": [0.007509598705866823, 0.004867896225478199, 0.007962159249955598, 0.027097041245798776, 0.0946675865239348, 0.3741426908814886, 0.33662054764817434, 0.5432538000280659, 1.030723648499335, 1.049945468880901], \"visible\": true, \"color\": \"rgb(27,158,119)\"}, \"marker\": {\"color\": \"rgb(27,158,119)\"}, \"line\": {\"color\": \"rgb(27,158,119)\"}, \"showlegend\": true, \"legendgroup\": \"BD2 \\u0394(adhE,ldhA,pflB) + pBD1mod M9 + 1.0 a.u. IPTG\", \"name\": \"BD2 \\u0394(adhE,ldhA,pflB) + pBD1 in mod M9 + 1.0 a.u. IPTG\"}, {\"type\": \"scatter\", \"x\": [0.0, 3.0, 6.0, 9.0, 15.0, 24.0, 24.1, 36.0, 48.0, 60.0], \"y\": [0.18285850042363885, 0.21887095519519972, 0.3175777529691511, 1.2729012006954825, 5.953298811498588, 6.779171686208716, 6.631972432990427, 10.96294474193772, 14.369057755744352, 15.871499723530981], \"error_y\": {\"type\": \"data\", \"array\": [0.020465015120293924, 0.004633185468251466, 0.017894373421116907, 0.16754167798672526, 0.3472515652382571, 0.13538087039289284, 0.03355545463103947, 1.602969607592279, 2.371149448191305, 1.4406276063805479], \"visible\": true, \"color\": \"rgb(217,95,2)\"}, \"marker\": {\"color\": \"rgb(217,95,2)\"}, \"line\": {\"color\": \"rgb(217,95,2)\"}, \"showlegend\": true, \"legendgroup\": \"BD4 \\u0394(adhE,ldhA,pflB) + pBD3mod M9 + 1.0 a.u. IPTG\", \"name\": \"BD4 \\u0394(adhE,ldhA,pflB) + pBD3 in mod M9 + 1.0 a.u. IPTG\"}], {\"title\": \"etoh  vs time for different strains in mod M9 media\"}, {\"showLink\": true, \"linkText\": \"Export to plot.ly\"})});</script>"
      ]
     },
     "metadata": {},
     "output_type": "display_data"
    },
    {
     "data": {
      "application/vnd.plotly.v1+json": {
       "data": [
        {
         "error_y": {
          "array": [
           0,
           0,
           0,
           0,
           0,
           0.005087148826659097,
           0.004458458319190794,
           0.010802326391349249,
           0.02751030629826926,
           0.03944517939475146
          ],
          "color": "rgb(27,158,119)",
          "type": "data",
          "visible": true
         },
         "legendgroup": "BD2 Δ(adhE,ldhA,pflB) + pBD1mod M9 + 1.0 a.u. IPTG",
         "line": {
          "color": "rgb(27,158,119)"
         },
         "marker": {
          "color": "rgb(27,158,119)"
         },
         "name": "BD2 Δ(adhE,ldhA,pflB) + pBD1 in mod M9 + 1.0 a.u. IPTG",
         "showlegend": true,
         "type": "scatter",
         "x": [
          0,
          3,
          6,
          9,
          15,
          24,
          24.1,
          36,
          48,
          60
         ],
         "y": [
          0,
          0,
          0,
          0,
          0,
          0.0058052347602925046,
          0.005078614164463615,
          0.012460770217831577,
          0.03171621600729713,
          0.080608506098975
         ]
        },
        {
         "error_y": {
          "array": [
           0,
           0,
           0,
           0,
           0.0018208718660959397,
           0.00025544133144502087,
           0,
           0.010135294137019312,
           0.00434943216445388,
           0.010675572543128353
          ],
          "color": "rgb(217,95,2)",
          "type": "data",
          "visible": true
         },
         "legendgroup": "BD4 Δ(adhE,ldhA,pflB) + pBD3mod M9 + 1.0 a.u. IPTG",
         "line": {
          "color": "rgb(217,95,2)"
         },
         "marker": {
          "color": "rgb(217,95,2)"
         },
         "name": "BD4 Δ(adhE,ldhA,pflB) + pBD3 in mod M9 + 1.0 a.u. IPTG",
         "showlegend": true,
         "type": "scatter",
         "x": [
          0,
          3,
          6,
          9,
          15,
          24,
          24.1,
          36,
          48,
          60
         ],
         "y": [
          0,
          0,
          0,
          0,
          0.001051280862050307,
          0.00507088415812501,
          0,
          0.005851614798324135,
          0.02813722307252292,
          0.04777143917258012
         ]
        }
       ],
       "layout": {
        "title": "rs23bdo  vs time for different strains in mod M9 media"
       }
      },
      "text/html": [
       "<div id=\"9394039b-7964-46b2-b956-e6819bd2da2c\" style=\"height: 525px; width: 100%;\" class=\"plotly-graph-div\"></div><script type=\"text/javascript\">require([\"plotly\"], function(Plotly) { window.PLOTLYENV=window.PLOTLYENV || {};window.PLOTLYENV.BASE_URL=\"https://plot.ly\";Plotly.newPlot(\"9394039b-7964-46b2-b956-e6819bd2da2c\", [{\"type\": \"scatter\", \"x\": [0.0, 3.0, 6.0, 9.0, 15.0, 24.0, 24.1, 36.0, 48.0, 60.0], \"y\": [0.0, 0.0, 0.0, 0.0, 0.0, 0.0058052347602925046, 0.005078614164463615, 0.012460770217831577, 0.03171621600729713, 0.080608506098975], \"error_y\": {\"type\": \"data\", \"array\": [0.0, 0.0, 0.0, 0.0, 0.0, 0.005087148826659097, 0.004458458319190794, 0.010802326391349249, 0.02751030629826926, 0.03944517939475146], \"visible\": true, \"color\": \"rgb(27,158,119)\"}, \"marker\": {\"color\": \"rgb(27,158,119)\"}, \"line\": {\"color\": \"rgb(27,158,119)\"}, \"showlegend\": true, \"legendgroup\": \"BD2 \\u0394(adhE,ldhA,pflB) + pBD1mod M9 + 1.0 a.u. IPTG\", \"name\": \"BD2 \\u0394(adhE,ldhA,pflB) + pBD1 in mod M9 + 1.0 a.u. IPTG\"}, {\"type\": \"scatter\", \"x\": [0.0, 3.0, 6.0, 9.0, 15.0, 24.0, 24.1, 36.0, 48.0, 60.0], \"y\": [0.0, 0.0, 0.0, 0.0, 0.001051280862050307, 0.00507088415812501, 0.0, 0.005851614798324135, 0.02813722307252292, 0.04777143917258012], \"error_y\": {\"type\": \"data\", \"array\": [0.0, 0.0, 0.0, 0.0, 0.0018208718660959397, 0.00025544133144502087, 0.0, 0.010135294137019312, 0.00434943216445388, 0.010675572543128353], \"visible\": true, \"color\": \"rgb(217,95,2)\"}, \"marker\": {\"color\": \"rgb(217,95,2)\"}, \"line\": {\"color\": \"rgb(217,95,2)\"}, \"showlegend\": true, \"legendgroup\": \"BD4 \\u0394(adhE,ldhA,pflB) + pBD3mod M9 + 1.0 a.u. IPTG\", \"name\": \"BD4 \\u0394(adhE,ldhA,pflB) + pBD3 in mod M9 + 1.0 a.u. IPTG\"}], {\"title\": \"rs23bdo  vs time for different strains in mod M9 media\"}, {\"showLink\": true, \"linkText\": \"Export to plot.ly\"})});</script>"
      ],
      "text/vnd.plotly.v1+html": [
       "<div id=\"9394039b-7964-46b2-b956-e6819bd2da2c\" style=\"height: 525px; width: 100%;\" class=\"plotly-graph-div\"></div><script type=\"text/javascript\">require([\"plotly\"], function(Plotly) { window.PLOTLYENV=window.PLOTLYENV || {};window.PLOTLYENV.BASE_URL=\"https://plot.ly\";Plotly.newPlot(\"9394039b-7964-46b2-b956-e6819bd2da2c\", [{\"type\": \"scatter\", \"x\": [0.0, 3.0, 6.0, 9.0, 15.0, 24.0, 24.1, 36.0, 48.0, 60.0], \"y\": [0.0, 0.0, 0.0, 0.0, 0.0, 0.0058052347602925046, 0.005078614164463615, 0.012460770217831577, 0.03171621600729713, 0.080608506098975], \"error_y\": {\"type\": \"data\", \"array\": [0.0, 0.0, 0.0, 0.0, 0.0, 0.005087148826659097, 0.004458458319190794, 0.010802326391349249, 0.02751030629826926, 0.03944517939475146], \"visible\": true, \"color\": \"rgb(27,158,119)\"}, \"marker\": {\"color\": \"rgb(27,158,119)\"}, \"line\": {\"color\": \"rgb(27,158,119)\"}, \"showlegend\": true, \"legendgroup\": \"BD2 \\u0394(adhE,ldhA,pflB) + pBD1mod M9 + 1.0 a.u. IPTG\", \"name\": \"BD2 \\u0394(adhE,ldhA,pflB) + pBD1 in mod M9 + 1.0 a.u. IPTG\"}, {\"type\": \"scatter\", \"x\": [0.0, 3.0, 6.0, 9.0, 15.0, 24.0, 24.1, 36.0, 48.0, 60.0], \"y\": [0.0, 0.0, 0.0, 0.0, 0.001051280862050307, 0.00507088415812501, 0.0, 0.005851614798324135, 0.02813722307252292, 0.04777143917258012], \"error_y\": {\"type\": \"data\", \"array\": [0.0, 0.0, 0.0, 0.0, 0.0018208718660959397, 0.00025544133144502087, 0.0, 0.010135294137019312, 0.00434943216445388, 0.010675572543128353], \"visible\": true, \"color\": \"rgb(217,95,2)\"}, \"marker\": {\"color\": \"rgb(217,95,2)\"}, \"line\": {\"color\": \"rgb(217,95,2)\"}, \"showlegend\": true, \"legendgroup\": \"BD4 \\u0394(adhE,ldhA,pflB) + pBD3mod M9 + 1.0 a.u. IPTG\", \"name\": \"BD4 \\u0394(adhE,ldhA,pflB) + pBD3 in mod M9 + 1.0 a.u. IPTG\"}], {\"title\": \"rs23bdo  vs time for different strains in mod M9 media\"}, {\"showLink\": true, \"linkText\": \"Export to plot.ly\"})});</script>"
      ]
     },
     "metadata": {},
     "output_type": "display_data"
    }
   ],
   "source": [
    "implot.plot_timecourse_orderby_basemedia(expt)"
   ]
  },
  {
   "cell_type": "markdown",
   "metadata": {
    "scrolled": false
   },
   "source": [
    "## Exploring features\n",
    "\n",
    "With a standard schema for the data, we can now begin to explore some of the features which have been generated. Features include things like:\n",
    "\n",
    "- rate ($g\\ \\ h^{-1}$)\n",
    "- yield ($g_{product}\\ \\ g_{substrate}^{-1}$)\n",
    "- specific productivity ($g\\ \\ gdw^{-1}\\ \\ h^{-1}$)\n",
    "- normalized data (e.g. $a.u. fluorescence\\ \\ OD_{600}^{-1}$)"
   ]
  },
  {
   "cell_type": "code",
   "execution_count": 36,
   "metadata": {
    "scrolled": false
   },
   "outputs": [
    {
     "data": {
      "application/vnd.plotly.v1+json": {
       "data": [
        {
         "error_y": {
          "array": [
           0.005032135146623468,
           0.0012731908202300338,
           0.0004854672202730266,
           0.0007033912584619006,
           0.0011660397511271657,
           0.0005109731366980594,
           0.0012117158868993653,
           0.00030462069595870437,
           0.0009621001167165276,
           0.0011610014834609187
          ],
          "color": "rgb(27,158,119)",
          "type": "data",
          "visible": true
         },
         "legendgroup": "BD2 Δ(adhE,ldhA,pflB) + pBD1mod M9 + 1.0 a.u. IPTG",
         "line": {
          "color": "rgb(27,158,119)"
         },
         "marker": {
          "color": "rgb(27,158,119)"
         },
         "name": "BD2 Δ(adhE,ldhA,pflB) + pBD1 in mod M9 + 1.0 a.u. IPTG",
         "showlegend": true,
         "type": "scatter",
         "x": [
          0,
          3,
          6,
          9,
          15,
          24,
          24.1,
          36,
          48,
          60
         ],
         "y": [
          -0.0035582568860246157,
          -0.0009002818627291197,
          0.002254173974936192,
          0.005120463451940477,
          0.006884562311738364,
          0.007010871237757931,
          0.0034701678545739135,
          0.007160945543388322,
          0.007578663520710616,
          0.003957311461423788
         ]
        },
        {
         "error_y": {
          "array": [
           0.009931577074370453,
           0,
           0.0016851800342453174,
           0.0034544602082702608,
           0.00016886175216605383,
           0.002173075251313797,
           0.0003490487044441708,
           0.0013037166350397182,
           0.0006629512645140608,
           0.0018745516624121454
          ],
          "color": "rgb(217,95,2)",
          "type": "data",
          "visible": true
         },
         "legendgroup": "BD4 Δ(adhE,ldhA,pflB) + pBD3mod M9 + 1.0 a.u. IPTG",
         "line": {
          "color": "rgb(217,95,2)"
         },
         "marker": {
          "color": "rgb(217,95,2)"
         },
         "name": "BD4 Δ(adhE,ldhA,pflB) + pBD3 in mod M9 + 1.0 a.u. IPTG",
         "showlegend": true,
         "type": "scatter",
         "x": [
          0,
          3,
          6,
          9,
          15,
          24,
          24.1,
          36,
          48,
          60
         ],
         "y": [
          0.007022685497164199,
          0,
          0.004631451800574476,
          0.007793013151748432,
          0.00246562706189241,
          -0.00047301525394637025,
          0.0040894170445105816,
          0.006807685892257685,
          0.003908001546220045,
          0.001540202702355899
         ]
        }
       ],
       "layout": {
        "title": "m23bdo Specific Productivity vs time for different strains in mod M9 media"
       }
      },
      "text/html": [
       "<div id=\"d6b0e0a2-b7ff-476a-9bae-6a73bd6ceb79\" style=\"height: 525px; width: 100%;\" class=\"plotly-graph-div\"></div><script type=\"text/javascript\">require([\"plotly\"], function(Plotly) { window.PLOTLYENV=window.PLOTLYENV || {};window.PLOTLYENV.BASE_URL=\"https://plot.ly\";Plotly.newPlot(\"d6b0e0a2-b7ff-476a-9bae-6a73bd6ceb79\", [{\"type\": \"scatter\", \"x\": [0.0, 3.0, 6.0, 9.0, 15.0, 24.0, 24.1, 36.0, 48.0, 60.0], \"y\": [-0.0035582568860246157, -0.0009002818627291197, 0.002254173974936192, 0.005120463451940477, 0.006884562311738364, 0.007010871237757931, 0.0034701678545739135, 0.007160945543388322, 0.007578663520710616, 0.003957311461423788], \"error_y\": {\"type\": \"data\", \"array\": [0.005032135146623468, 0.0012731908202300338, 0.0004854672202730266, 0.0007033912584619006, 0.0011660397511271657, 0.0005109731366980594, 0.0012117158868993653, 0.00030462069595870437, 0.0009621001167165276, 0.0011610014834609187], \"visible\": true, \"color\": \"rgb(27,158,119)\"}, \"marker\": {\"color\": \"rgb(27,158,119)\"}, \"line\": {\"color\": \"rgb(27,158,119)\"}, \"showlegend\": true, \"legendgroup\": \"BD2 \\u0394(adhE,ldhA,pflB) + pBD1mod M9 + 1.0 a.u. IPTG\", \"name\": \"BD2 \\u0394(adhE,ldhA,pflB) + pBD1 in mod M9 + 1.0 a.u. IPTG\"}, {\"type\": \"scatter\", \"x\": [0.0, 3.0, 6.0, 9.0, 15.0, 24.0, 24.1, 36.0, 48.0, 60.0], \"y\": [0.007022685497164199, 0.0, 0.004631451800574476, 0.007793013151748432, 0.00246562706189241, -0.00047301525394637025, 0.0040894170445105816, 0.006807685892257685, 0.003908001546220045, 0.001540202702355899], \"error_y\": {\"type\": \"data\", \"array\": [0.009931577074370453, 0.0, 0.0016851800342453174, 0.0034544602082702608, 0.00016886175216605383, 0.002173075251313797, 0.0003490487044441708, 0.0013037166350397182, 0.0006629512645140608, 0.0018745516624121454], \"visible\": true, \"color\": \"rgb(217,95,2)\"}, \"marker\": {\"color\": \"rgb(217,95,2)\"}, \"line\": {\"color\": \"rgb(217,95,2)\"}, \"showlegend\": true, \"legendgroup\": \"BD4 \\u0394(adhE,ldhA,pflB) + pBD3mod M9 + 1.0 a.u. IPTG\", \"name\": \"BD4 \\u0394(adhE,ldhA,pflB) + pBD3 in mod M9 + 1.0 a.u. IPTG\"}], {\"title\": \"m23bdo Specific Productivity vs time for different strains in mod M9 media\"}, {\"showLink\": true, \"linkText\": \"Export to plot.ly\"})});</script>"
      ],
      "text/vnd.plotly.v1+html": [
       "<div id=\"d6b0e0a2-b7ff-476a-9bae-6a73bd6ceb79\" style=\"height: 525px; width: 100%;\" class=\"plotly-graph-div\"></div><script type=\"text/javascript\">require([\"plotly\"], function(Plotly) { window.PLOTLYENV=window.PLOTLYENV || {};window.PLOTLYENV.BASE_URL=\"https://plot.ly\";Plotly.newPlot(\"d6b0e0a2-b7ff-476a-9bae-6a73bd6ceb79\", [{\"type\": \"scatter\", \"x\": [0.0, 3.0, 6.0, 9.0, 15.0, 24.0, 24.1, 36.0, 48.0, 60.0], \"y\": [-0.0035582568860246157, -0.0009002818627291197, 0.002254173974936192, 0.005120463451940477, 0.006884562311738364, 0.007010871237757931, 0.0034701678545739135, 0.007160945543388322, 0.007578663520710616, 0.003957311461423788], \"error_y\": {\"type\": \"data\", \"array\": [0.005032135146623468, 0.0012731908202300338, 0.0004854672202730266, 0.0007033912584619006, 0.0011660397511271657, 0.0005109731366980594, 0.0012117158868993653, 0.00030462069595870437, 0.0009621001167165276, 0.0011610014834609187], \"visible\": true, \"color\": \"rgb(27,158,119)\"}, \"marker\": {\"color\": \"rgb(27,158,119)\"}, \"line\": {\"color\": \"rgb(27,158,119)\"}, \"showlegend\": true, \"legendgroup\": \"BD2 \\u0394(adhE,ldhA,pflB) + pBD1mod M9 + 1.0 a.u. IPTG\", \"name\": \"BD2 \\u0394(adhE,ldhA,pflB) + pBD1 in mod M9 + 1.0 a.u. IPTG\"}, {\"type\": \"scatter\", \"x\": [0.0, 3.0, 6.0, 9.0, 15.0, 24.0, 24.1, 36.0, 48.0, 60.0], \"y\": [0.007022685497164199, 0.0, 0.004631451800574476, 0.007793013151748432, 0.00246562706189241, -0.00047301525394637025, 0.0040894170445105816, 0.006807685892257685, 0.003908001546220045, 0.001540202702355899], \"error_y\": {\"type\": \"data\", \"array\": [0.009931577074370453, 0.0, 0.0016851800342453174, 0.0034544602082702608, 0.00016886175216605383, 0.002173075251313797, 0.0003490487044441708, 0.0013037166350397182, 0.0006629512645140608, 0.0018745516624121454], \"visible\": true, \"color\": \"rgb(217,95,2)\"}, \"marker\": {\"color\": \"rgb(217,95,2)\"}, \"line\": {\"color\": \"rgb(217,95,2)\"}, \"showlegend\": true, \"legendgroup\": \"BD4 \\u0394(adhE,ldhA,pflB) + pBD3mod M9 + 1.0 a.u. IPTG\", \"name\": \"BD4 \\u0394(adhE,ldhA,pflB) + pBD3 in mod M9 + 1.0 a.u. IPTG\"}], {\"title\": \"m23bdo Specific Productivity vs time for different strains in mod M9 media\"}, {\"showLink\": true, \"linkText\": \"Export to plot.ly\"})});</script>"
      ]
     },
     "metadata": {},
     "output_type": "display_data"
    },
    {
     "data": {
      "application/vnd.plotly.v1+json": {
       "data": [
        {
         "error_y": {
          "array": [
           0,
           0,
           0,
           0,
           0,
           0.00021104331495740277,
           0,
           9.143139525657008e-05,
           0.0003892034083978503,
           0.0006733823735836271
          ],
          "color": "rgb(27,158,119)",
          "type": "data",
          "visible": true
         },
         "legendgroup": "BD2 Δ(adhE,ldhA,pflB) + pBD1mod M9 + 1.0 a.u. IPTG",
         "line": {
          "color": "rgb(27,158,119)"
         },
         "marker": {
          "color": "rgb(27,158,119)"
         },
         "name": "BD2 Δ(adhE,ldhA,pflB) + pBD1 in mod M9 + 1.0 a.u. IPTG",
         "showlegend": true,
         "type": "scatter",
         "x": [
          0,
          3,
          6,
          9,
          15,
          24,
          24.1,
          36,
          48,
          60
         ],
         "y": [
          0,
          0,
          0,
          0,
          0,
          0.0011279799746456416,
          0,
          -0.0004738176593959874,
          0.0024714134241904735,
          0.005065340134071277
         ]
        },
        {
         "error_y": {
          "array": [
           0,
           0,
           0,
           0,
           0,
           6.63985063329876e-05,
           0,
           1.9526684956674817e-05,
           0.00010273274954089347,
           0.00014135422275005552
          ],
          "color": "rgb(217,95,2)",
          "type": "data",
          "visible": true
         },
         "legendgroup": "BD4 Δ(adhE,ldhA,pflB) + pBD3mod M9 + 1.0 a.u. IPTG",
         "line": {
          "color": "rgb(217,95,2)"
         },
         "marker": {
          "color": "rgb(217,95,2)"
         },
         "name": "BD4 Δ(adhE,ldhA,pflB) + pBD3 in mod M9 + 1.0 a.u. IPTG",
         "showlegend": true,
         "type": "scatter",
         "x": [
          0,
          3,
          6,
          9,
          15,
          24,
          24.1,
          36,
          48,
          60
         ],
         "y": [
          0,
          0,
          0,
          0,
          0,
          0.00048668975470763146,
          0,
          -0.00021207875640186767,
          0.0009566283234561553,
          0.0021706603550852225
         ]
        }
       ],
       "layout": {
        "title": "13bdo Specific Productivity vs time for different strains in mod M9 media"
       }
      },
      "text/html": [
       "<div id=\"11c5d7bc-0e3a-4461-8350-cf77bb90ada4\" style=\"height: 525px; width: 100%;\" class=\"plotly-graph-div\"></div><script type=\"text/javascript\">require([\"plotly\"], function(Plotly) { window.PLOTLYENV=window.PLOTLYENV || {};window.PLOTLYENV.BASE_URL=\"https://plot.ly\";Plotly.newPlot(\"11c5d7bc-0e3a-4461-8350-cf77bb90ada4\", [{\"type\": \"scatter\", \"x\": [0.0, 3.0, 6.0, 9.0, 15.0, 24.0, 24.1, 36.0, 48.0, 60.0], \"y\": [0.0, 0.0, 0.0, 0.0, 0.0, 0.0011279799746456416, 0.0, -0.0004738176593959874, 0.0024714134241904735, 0.005065340134071277], \"error_y\": {\"type\": \"data\", \"array\": [0.0, 0.0, 0.0, 0.0, 0.0, 0.00021104331495740277, 0.0, 9.143139525657008e-05, 0.0003892034083978503, 0.0006733823735836271], \"visible\": true, \"color\": \"rgb(27,158,119)\"}, \"marker\": {\"color\": \"rgb(27,158,119)\"}, \"line\": {\"color\": \"rgb(27,158,119)\"}, \"showlegend\": true, \"legendgroup\": \"BD2 \\u0394(adhE,ldhA,pflB) + pBD1mod M9 + 1.0 a.u. IPTG\", \"name\": \"BD2 \\u0394(adhE,ldhA,pflB) + pBD1 in mod M9 + 1.0 a.u. IPTG\"}, {\"type\": \"scatter\", \"x\": [0.0, 3.0, 6.0, 9.0, 15.0, 24.0, 24.1, 36.0, 48.0, 60.0], \"y\": [0.0, 0.0, 0.0, 0.0, 0.0, 0.00048668975470763146, 0.0, -0.00021207875640186767, 0.0009566283234561553, 0.0021706603550852225], \"error_y\": {\"type\": \"data\", \"array\": [0.0, 0.0, 0.0, 0.0, 0.0, 6.63985063329876e-05, 0.0, 1.9526684956674817e-05, 0.00010273274954089347, 0.00014135422275005552], \"visible\": true, \"color\": \"rgb(217,95,2)\"}, \"marker\": {\"color\": \"rgb(217,95,2)\"}, \"line\": {\"color\": \"rgb(217,95,2)\"}, \"showlegend\": true, \"legendgroup\": \"BD4 \\u0394(adhE,ldhA,pflB) + pBD3mod M9 + 1.0 a.u. IPTG\", \"name\": \"BD4 \\u0394(adhE,ldhA,pflB) + pBD3 in mod M9 + 1.0 a.u. IPTG\"}], {\"title\": \"13bdo Specific Productivity vs time for different strains in mod M9 media\"}, {\"showLink\": true, \"linkText\": \"Export to plot.ly\"})});</script>"
      ],
      "text/vnd.plotly.v1+html": [
       "<div id=\"11c5d7bc-0e3a-4461-8350-cf77bb90ada4\" style=\"height: 525px; width: 100%;\" class=\"plotly-graph-div\"></div><script type=\"text/javascript\">require([\"plotly\"], function(Plotly) { window.PLOTLYENV=window.PLOTLYENV || {};window.PLOTLYENV.BASE_URL=\"https://plot.ly\";Plotly.newPlot(\"11c5d7bc-0e3a-4461-8350-cf77bb90ada4\", [{\"type\": \"scatter\", \"x\": [0.0, 3.0, 6.0, 9.0, 15.0, 24.0, 24.1, 36.0, 48.0, 60.0], \"y\": [0.0, 0.0, 0.0, 0.0, 0.0, 0.0011279799746456416, 0.0, -0.0004738176593959874, 0.0024714134241904735, 0.005065340134071277], \"error_y\": {\"type\": \"data\", \"array\": [0.0, 0.0, 0.0, 0.0, 0.0, 0.00021104331495740277, 0.0, 9.143139525657008e-05, 0.0003892034083978503, 0.0006733823735836271], \"visible\": true, \"color\": \"rgb(27,158,119)\"}, \"marker\": {\"color\": \"rgb(27,158,119)\"}, \"line\": {\"color\": \"rgb(27,158,119)\"}, \"showlegend\": true, \"legendgroup\": \"BD2 \\u0394(adhE,ldhA,pflB) + pBD1mod M9 + 1.0 a.u. IPTG\", \"name\": \"BD2 \\u0394(adhE,ldhA,pflB) + pBD1 in mod M9 + 1.0 a.u. IPTG\"}, {\"type\": \"scatter\", \"x\": [0.0, 3.0, 6.0, 9.0, 15.0, 24.0, 24.1, 36.0, 48.0, 60.0], \"y\": [0.0, 0.0, 0.0, 0.0, 0.0, 0.00048668975470763146, 0.0, -0.00021207875640186767, 0.0009566283234561553, 0.0021706603550852225], \"error_y\": {\"type\": \"data\", \"array\": [0.0, 0.0, 0.0, 0.0, 0.0, 6.63985063329876e-05, 0.0, 1.9526684956674817e-05, 0.00010273274954089347, 0.00014135422275005552], \"visible\": true, \"color\": \"rgb(217,95,2)\"}, \"marker\": {\"color\": \"rgb(217,95,2)\"}, \"line\": {\"color\": \"rgb(217,95,2)\"}, \"showlegend\": true, \"legendgroup\": \"BD4 \\u0394(adhE,ldhA,pflB) + pBD3mod M9 + 1.0 a.u. IPTG\", \"name\": \"BD4 \\u0394(adhE,ldhA,pflB) + pBD3 in mod M9 + 1.0 a.u. IPTG\"}], {\"title\": \"13bdo Specific Productivity vs time for different strains in mod M9 media\"}, {\"showLink\": true, \"linkText\": \"Export to plot.ly\"})});</script>"
      ]
     },
     "metadata": {},
     "output_type": "display_data"
    },
    {
     "data": {
      "application/vnd.plotly.v1+json": {
       "data": [
        {
         "error_y": {
          "array": [
           0.013541686023435789,
           0.0009796164057666009,
           0.0006586012243701594,
           0.0005661888164090048,
           0.0012676079095750097,
           0.0016434964556203508,
           0.002382775910583026,
           0.0031492698893060933,
           0.004165734107003451,
           0.005049443690146827
          ],
          "color": "rgb(27,158,119)",
          "type": "data",
          "visible": true
         },
         "legendgroup": "BD2 Δ(adhE,ldhA,pflB) + pBD1mod M9 + 1.0 a.u. IPTG",
         "line": {
          "color": "rgb(27,158,119)"
         },
         "marker": {
          "color": "rgb(27,158,119)"
         },
         "name": "BD2 Δ(adhE,ldhA,pflB) + pBD1 in mod M9 + 1.0 a.u. IPTG",
         "showlegend": true,
         "type": "scatter",
         "x": [
          0,
          3,
          6,
          9,
          15,
          24,
          24.1,
          36,
          48,
          60
         ],
         "y": [
          -0.0029454275547302015,
          0.002051273516093495,
          0.004747855748446949,
          0.010141245610953373,
          0.003977636047774232,
          0.001064657578785839,
          0.0031331165601137974,
          0.004495544507657232,
          0.006155572434940367,
          0.0072361794130300595
         ]
        },
        {
         "error_y": {
          "array": [
           0.0020779762279660354,
           0.00033809196655908537,
           0.00011028005694231459,
           0.00043325013681696795,
           0.0003547703370393107,
           0.00024096896314133184,
           0.0017369291561995454,
           0.0020758432706020876,
           0.0012509456512425762,
           0.0012592579865500827
          ],
          "color": "rgb(217,95,2)",
          "type": "data",
          "visible": true
         },
         "legendgroup": "BD4 Δ(adhE,ldhA,pflB) + pBD3mod M9 + 1.0 a.u. IPTG",
         "line": {
          "color": "rgb(217,95,2)"
         },
         "marker": {
          "color": "rgb(217,95,2)"
         },
         "name": "BD4 Δ(adhE,ldhA,pflB) + pBD3 in mod M9 + 1.0 a.u. IPTG",
         "showlegend": true,
         "type": "scatter",
         "x": [
          0,
          3,
          6,
          9,
          15,
          24,
          24.1,
          36,
          48,
          60
         ],
         "y": [
          0.005118054501865014,
          0.00525103285840466,
          0.01041925422422655,
          0.006858225492562586,
          0.0022328376236125155,
          0.00019790918293939076,
          -0.0004721193856925436,
          0.0021424408402638388,
          0.003662670687170391,
          0.0035596838713859175
         ]
        }
       ],
       "layout": {
        "title": "acet Specific Productivity vs time for different strains in mod M9 media"
       }
      },
      "text/html": [
       "<div id=\"4ab796b8-8180-4e4c-b7f4-03e19edd5cfa\" style=\"height: 525px; width: 100%;\" class=\"plotly-graph-div\"></div><script type=\"text/javascript\">require([\"plotly\"], function(Plotly) { window.PLOTLYENV=window.PLOTLYENV || {};window.PLOTLYENV.BASE_URL=\"https://plot.ly\";Plotly.newPlot(\"4ab796b8-8180-4e4c-b7f4-03e19edd5cfa\", [{\"type\": \"scatter\", \"x\": [0.0, 3.0, 6.0, 9.0, 15.0, 24.0, 24.1, 36.0, 48.0, 60.0], \"y\": [-0.0029454275547302015, 0.002051273516093495, 0.004747855748446949, 0.010141245610953373, 0.003977636047774232, 0.001064657578785839, 0.0031331165601137974, 0.004495544507657232, 0.006155572434940367, 0.0072361794130300595], \"error_y\": {\"type\": \"data\", \"array\": [0.013541686023435789, 0.0009796164057666009, 0.0006586012243701594, 0.0005661888164090048, 0.0012676079095750097, 0.0016434964556203508, 0.002382775910583026, 0.0031492698893060933, 0.004165734107003451, 0.005049443690146827], \"visible\": true, \"color\": \"rgb(27,158,119)\"}, \"marker\": {\"color\": \"rgb(27,158,119)\"}, \"line\": {\"color\": \"rgb(27,158,119)\"}, \"showlegend\": true, \"legendgroup\": \"BD2 \\u0394(adhE,ldhA,pflB) + pBD1mod M9 + 1.0 a.u. IPTG\", \"name\": \"BD2 \\u0394(adhE,ldhA,pflB) + pBD1 in mod M9 + 1.0 a.u. IPTG\"}, {\"type\": \"scatter\", \"x\": [0.0, 3.0, 6.0, 9.0, 15.0, 24.0, 24.1, 36.0, 48.0, 60.0], \"y\": [0.005118054501865014, 0.00525103285840466, 0.01041925422422655, 0.006858225492562586, 0.0022328376236125155, 0.00019790918293939076, -0.0004721193856925436, 0.0021424408402638388, 0.003662670687170391, 0.0035596838713859175], \"error_y\": {\"type\": \"data\", \"array\": [0.0020779762279660354, 0.00033809196655908537, 0.00011028005694231459, 0.00043325013681696795, 0.0003547703370393107, 0.00024096896314133184, 0.0017369291561995454, 0.0020758432706020876, 0.0012509456512425762, 0.0012592579865500827], \"visible\": true, \"color\": \"rgb(217,95,2)\"}, \"marker\": {\"color\": \"rgb(217,95,2)\"}, \"line\": {\"color\": \"rgb(217,95,2)\"}, \"showlegend\": true, \"legendgroup\": \"BD4 \\u0394(adhE,ldhA,pflB) + pBD3mod M9 + 1.0 a.u. IPTG\", \"name\": \"BD4 \\u0394(adhE,ldhA,pflB) + pBD3 in mod M9 + 1.0 a.u. IPTG\"}], {\"title\": \"acet Specific Productivity vs time for different strains in mod M9 media\"}, {\"showLink\": true, \"linkText\": \"Export to plot.ly\"})});</script>"
      ],
      "text/vnd.plotly.v1+html": [
       "<div id=\"4ab796b8-8180-4e4c-b7f4-03e19edd5cfa\" style=\"height: 525px; width: 100%;\" class=\"plotly-graph-div\"></div><script type=\"text/javascript\">require([\"plotly\"], function(Plotly) { window.PLOTLYENV=window.PLOTLYENV || {};window.PLOTLYENV.BASE_URL=\"https://plot.ly\";Plotly.newPlot(\"4ab796b8-8180-4e4c-b7f4-03e19edd5cfa\", [{\"type\": \"scatter\", \"x\": [0.0, 3.0, 6.0, 9.0, 15.0, 24.0, 24.1, 36.0, 48.0, 60.0], \"y\": [-0.0029454275547302015, 0.002051273516093495, 0.004747855748446949, 0.010141245610953373, 0.003977636047774232, 0.001064657578785839, 0.0031331165601137974, 0.004495544507657232, 0.006155572434940367, 0.0072361794130300595], \"error_y\": {\"type\": \"data\", \"array\": [0.013541686023435789, 0.0009796164057666009, 0.0006586012243701594, 0.0005661888164090048, 0.0012676079095750097, 0.0016434964556203508, 0.002382775910583026, 0.0031492698893060933, 0.004165734107003451, 0.005049443690146827], \"visible\": true, \"color\": \"rgb(27,158,119)\"}, \"marker\": {\"color\": \"rgb(27,158,119)\"}, \"line\": {\"color\": \"rgb(27,158,119)\"}, \"showlegend\": true, \"legendgroup\": \"BD2 \\u0394(adhE,ldhA,pflB) + pBD1mod M9 + 1.0 a.u. IPTG\", \"name\": \"BD2 \\u0394(adhE,ldhA,pflB) + pBD1 in mod M9 + 1.0 a.u. IPTG\"}, {\"type\": \"scatter\", \"x\": [0.0, 3.0, 6.0, 9.0, 15.0, 24.0, 24.1, 36.0, 48.0, 60.0], \"y\": [0.005118054501865014, 0.00525103285840466, 0.01041925422422655, 0.006858225492562586, 0.0022328376236125155, 0.00019790918293939076, -0.0004721193856925436, 0.0021424408402638388, 0.003662670687170391, 0.0035596838713859175], \"error_y\": {\"type\": \"data\", \"array\": [0.0020779762279660354, 0.00033809196655908537, 0.00011028005694231459, 0.00043325013681696795, 0.0003547703370393107, 0.00024096896314133184, 0.0017369291561995454, 0.0020758432706020876, 0.0012509456512425762, 0.0012592579865500827], \"visible\": true, \"color\": \"rgb(217,95,2)\"}, \"marker\": {\"color\": \"rgb(217,95,2)\"}, \"line\": {\"color\": \"rgb(217,95,2)\"}, \"showlegend\": true, \"legendgroup\": \"BD4 \\u0394(adhE,ldhA,pflB) + pBD3mod M9 + 1.0 a.u. IPTG\", \"name\": \"BD4 \\u0394(adhE,ldhA,pflB) + pBD3 in mod M9 + 1.0 a.u. IPTG\"}], {\"title\": \"acet Specific Productivity vs time for different strains in mod M9 media\"}, {\"showLink\": true, \"linkText\": \"Export to plot.ly\"})});</script>"
      ]
     },
     "metadata": {},
     "output_type": "display_data"
    },
    {
     "data": {
      "application/vnd.plotly.v1+json": {
       "data": [
        {
         "error_y": {
          "array": [
           0.02096450038494998,
           0.0027356176278310836,
           0.002594551287055786,
           0.0006348862023304796,
           0.0002865255015050033,
           0.0004595711709261915,
           0.0017800590493338058,
           0.0011555386306205894,
           0.00039267328557916146,
           0.0005972432465550123
          ],
          "color": "rgb(27,158,119)",
          "type": "data",
          "visible": true
         },
         "legendgroup": "BD2 Δ(adhE,ldhA,pflB) + pBD1mod M9 + 1.0 a.u. IPTG",
         "line": {
          "color": "rgb(27,158,119)"
         },
         "marker": {
          "color": "rgb(27,158,119)"
         },
         "name": "BD2 Δ(adhE,ldhA,pflB) + pBD1 in mod M9 + 1.0 a.u. IPTG",
         "showlegend": true,
         "type": "scatter",
         "x": [
          0,
          3,
          6,
          9,
          15,
          24,
          24.1,
          36,
          48,
          60
         ],
         "y": [
          0.16784892939678853,
          0.09728622733726877,
          0.05798188770656871,
          0.00785194775274582,
          2.5673581813148047e-05,
          -0.0002799839248126427,
          -5.253770979285788e-05,
          0.001219574690284771,
          0.000350391331403079,
          -0.002033236089246108
         ]
        },
        {
         "error_y": {
          "array": [
           0.0018695932928562955,
           0.002893697074535358,
           0.000284910861403464,
           0.00045119926520513026,
           0.000536317669255413,
           0.00012849774117114284,
           0.00021219481370869696,
           0.00014652969576283976,
           6.765618582925493e-05,
           0.00015114325071979615
          ],
          "color": "rgb(217,95,2)",
          "type": "data",
          "visible": true
         },
         "legendgroup": "BD4 Δ(adhE,ldhA,pflB) + pBD3mod M9 + 1.0 a.u. IPTG",
         "line": {
          "color": "rgb(217,95,2)"
         },
         "marker": {
          "color": "rgb(217,95,2)"
         },
         "name": "BD4 Δ(adhE,ldhA,pflB) + pBD3 in mod M9 + 1.0 a.u. IPTG",
         "showlegend": true,
         "type": "scatter",
         "x": [
          0,
          3,
          6,
          9,
          15,
          24,
          24.1,
          36,
          48,
          60
         ],
         "y": [
          0.20011331946066693,
          0.09044076891071624,
          0.04949915487865023,
          -0.004391228206695885,
          -0.004485503542489787,
          -0.0005631979530851842,
          0.0009250761708801803,
          0.0009411693763298371,
          0.0002982032362629106,
          -4.138158916135808e-05
         ]
        }
       ],
       "layout": {
        "title": "ac Specific Productivity vs time for different strains in mod M9 media"
       }
      },
      "text/html": [
       "<div id=\"ce8729ee-3309-487e-a476-789c19158cbe\" style=\"height: 525px; width: 100%;\" class=\"plotly-graph-div\"></div><script type=\"text/javascript\">require([\"plotly\"], function(Plotly) { window.PLOTLYENV=window.PLOTLYENV || {};window.PLOTLYENV.BASE_URL=\"https://plot.ly\";Plotly.newPlot(\"ce8729ee-3309-487e-a476-789c19158cbe\", [{\"type\": \"scatter\", \"x\": [0.0, 3.0, 6.0, 9.0, 15.0, 24.0, 24.1, 36.0, 48.0, 60.0], \"y\": [0.16784892939678853, 0.09728622733726877, 0.05798188770656871, 0.00785194775274582, 2.5673581813148047e-05, -0.0002799839248126427, -5.253770979285788e-05, 0.001219574690284771, 0.000350391331403079, -0.002033236089246108], \"error_y\": {\"type\": \"data\", \"array\": [0.02096450038494998, 0.0027356176278310836, 0.002594551287055786, 0.0006348862023304796, 0.0002865255015050033, 0.0004595711709261915, 0.0017800590493338058, 0.0011555386306205894, 0.00039267328557916146, 0.0005972432465550123], \"visible\": true, \"color\": \"rgb(27,158,119)\"}, \"marker\": {\"color\": \"rgb(27,158,119)\"}, \"line\": {\"color\": \"rgb(27,158,119)\"}, \"showlegend\": true, \"legendgroup\": \"BD2 \\u0394(adhE,ldhA,pflB) + pBD1mod M9 + 1.0 a.u. IPTG\", \"name\": \"BD2 \\u0394(adhE,ldhA,pflB) + pBD1 in mod M9 + 1.0 a.u. IPTG\"}, {\"type\": \"scatter\", \"x\": [0.0, 3.0, 6.0, 9.0, 15.0, 24.0, 24.1, 36.0, 48.0, 60.0], \"y\": [0.20011331946066693, 0.09044076891071624, 0.04949915487865023, -0.004391228206695885, -0.004485503542489787, -0.0005631979530851842, 0.0009250761708801803, 0.0009411693763298371, 0.0002982032362629106, -4.138158916135808e-05], \"error_y\": {\"type\": \"data\", \"array\": [0.0018695932928562955, 0.002893697074535358, 0.000284910861403464, 0.00045119926520513026, 0.000536317669255413, 0.00012849774117114284, 0.00021219481370869696, 0.00014652969576283976, 6.765618582925493e-05, 0.00015114325071979615], \"visible\": true, \"color\": \"rgb(217,95,2)\"}, \"marker\": {\"color\": \"rgb(217,95,2)\"}, \"line\": {\"color\": \"rgb(217,95,2)\"}, \"showlegend\": true, \"legendgroup\": \"BD4 \\u0394(adhE,ldhA,pflB) + pBD3mod M9 + 1.0 a.u. IPTG\", \"name\": \"BD4 \\u0394(adhE,ldhA,pflB) + pBD3 in mod M9 + 1.0 a.u. IPTG\"}], {\"title\": \"ac Specific Productivity vs time for different strains in mod M9 media\"}, {\"showLink\": true, \"linkText\": \"Export to plot.ly\"})});</script>"
      ],
      "text/vnd.plotly.v1+html": [
       "<div id=\"ce8729ee-3309-487e-a476-789c19158cbe\" style=\"height: 525px; width: 100%;\" class=\"plotly-graph-div\"></div><script type=\"text/javascript\">require([\"plotly\"], function(Plotly) { window.PLOTLYENV=window.PLOTLYENV || {};window.PLOTLYENV.BASE_URL=\"https://plot.ly\";Plotly.newPlot(\"ce8729ee-3309-487e-a476-789c19158cbe\", [{\"type\": \"scatter\", \"x\": [0.0, 3.0, 6.0, 9.0, 15.0, 24.0, 24.1, 36.0, 48.0, 60.0], \"y\": [0.16784892939678853, 0.09728622733726877, 0.05798188770656871, 0.00785194775274582, 2.5673581813148047e-05, -0.0002799839248126427, -5.253770979285788e-05, 0.001219574690284771, 0.000350391331403079, -0.002033236089246108], \"error_y\": {\"type\": \"data\", \"array\": [0.02096450038494998, 0.0027356176278310836, 0.002594551287055786, 0.0006348862023304796, 0.0002865255015050033, 0.0004595711709261915, 0.0017800590493338058, 0.0011555386306205894, 0.00039267328557916146, 0.0005972432465550123], \"visible\": true, \"color\": \"rgb(27,158,119)\"}, \"marker\": {\"color\": \"rgb(27,158,119)\"}, \"line\": {\"color\": \"rgb(27,158,119)\"}, \"showlegend\": true, \"legendgroup\": \"BD2 \\u0394(adhE,ldhA,pflB) + pBD1mod M9 + 1.0 a.u. IPTG\", \"name\": \"BD2 \\u0394(adhE,ldhA,pflB) + pBD1 in mod M9 + 1.0 a.u. IPTG\"}, {\"type\": \"scatter\", \"x\": [0.0, 3.0, 6.0, 9.0, 15.0, 24.0, 24.1, 36.0, 48.0, 60.0], \"y\": [0.20011331946066693, 0.09044076891071624, 0.04949915487865023, -0.004391228206695885, -0.004485503542489787, -0.0005631979530851842, 0.0009250761708801803, 0.0009411693763298371, 0.0002982032362629106, -4.138158916135808e-05], \"error_y\": {\"type\": \"data\", \"array\": [0.0018695932928562955, 0.002893697074535358, 0.000284910861403464, 0.00045119926520513026, 0.000536317669255413, 0.00012849774117114284, 0.00021219481370869696, 0.00014652969576283976, 6.765618582925493e-05, 0.00015114325071979615], \"visible\": true, \"color\": \"rgb(217,95,2)\"}, \"marker\": {\"color\": \"rgb(217,95,2)\"}, \"line\": {\"color\": \"rgb(217,95,2)\"}, \"showlegend\": true, \"legendgroup\": \"BD4 \\u0394(adhE,ldhA,pflB) + pBD3mod M9 + 1.0 a.u. IPTG\", \"name\": \"BD4 \\u0394(adhE,ldhA,pflB) + pBD3 in mod M9 + 1.0 a.u. IPTG\"}], {\"title\": \"ac Specific Productivity vs time for different strains in mod M9 media\"}, {\"showLink\": true, \"linkText\": \"Export to plot.ly\"})});</script>"
      ]
     },
     "metadata": {},
     "output_type": "display_data"
    },
    {
     "data": {
      "application/vnd.plotly.v1+json": {
       "data": [
        {
         "error_y": {
          "array": [
           0.048657321321537036,
           0.011599246732496153,
           0.015854143752232097,
           0.0205088467718696,
           0.007134265329380801,
           0.010851554094076558,
           0.0019216051399031922,
           0.001780896860349506,
           0.0019765208209506363,
           0.0038228230109939574
          ],
          "color": "rgb(27,158,119)",
          "type": "data",
          "visible": true
         },
         "legendgroup": "BD2 Δ(adhE,ldhA,pflB) + pBD1mod M9 + 1.0 a.u. IPTG",
         "line": {
          "color": "rgb(27,158,119)"
         },
         "marker": {
          "color": "rgb(27,158,119)"
         },
         "name": "BD2 Δ(adhE,ldhA,pflB) + pBD1 in mod M9 + 1.0 a.u. IPTG",
         "showlegend": true,
         "type": "scatter",
         "x": [
          0,
          3,
          6,
          9,
          15,
          24,
          24.1,
          36,
          48,
          60
         ],
         "y": [
          0.3941606152132468,
          0.39311748218217435,
          0.45865718482905976,
          0.20818302150539483,
          0.05123185689198481,
          0.033754631282467966,
          -0.006716097482851201,
          -0.016977081718331566,
          -0.008815681231771365,
          -0.0025014630895967053
         ]
        },
        {
         "error_y": {
          "array": [
           0.03363693108363671,
           0.026907373477663688,
           0.02991716449458754,
           0.022928622916283694,
           0.002170627648231879,
           0.0074199270233387266,
           0.0036622589496795093,
           0.004828888016745945,
           0.0025713005636343496,
           0.0040899049565988185
          ],
          "color": "rgb(217,95,2)",
          "type": "data",
          "visible": true
         },
         "legendgroup": "BD4 Δ(adhE,ldhA,pflB) + pBD3mod M9 + 1.0 a.u. IPTG",
         "line": {
          "color": "rgb(217,95,2)"
         },
         "marker": {
          "color": "rgb(217,95,2)"
         },
         "name": "BD4 Δ(adhE,ldhA,pflB) + pBD3 in mod M9 + 1.0 a.u. IPTG",
         "showlegend": true,
         "type": "scatter",
         "x": [
          0,
          3,
          6,
          9,
          15,
          24,
          24.1,
          36,
          48,
          60
         ],
         "y": [
          0.5883633203953509,
          0.494022031042292,
          0.4315850960062059,
          0.16140553467911833,
          0.026765780481571546,
          0.026150321130764414,
          -0.008780817438988356,
          -0.018495968776583247,
          -0.004148045171050308,
          -0.011639805115887678
         ]
        }
       ],
       "layout": {
        "title": "od Specific Productivity vs time for different strains in mod M9 media"
       }
      },
      "text/html": [
       "<div id=\"77dc2d20-7efd-4a87-8e58-cbdf6282caf1\" style=\"height: 525px; width: 100%;\" class=\"plotly-graph-div\"></div><script type=\"text/javascript\">require([\"plotly\"], function(Plotly) { window.PLOTLYENV=window.PLOTLYENV || {};window.PLOTLYENV.BASE_URL=\"https://plot.ly\";Plotly.newPlot(\"77dc2d20-7efd-4a87-8e58-cbdf6282caf1\", [{\"type\": \"scatter\", \"x\": [0.0, 3.0, 6.0, 9.0, 15.0, 24.0, 24.1, 36.0, 48.0, 60.0], \"y\": [0.3941606152132468, 0.39311748218217435, 0.45865718482905976, 0.20818302150539483, 0.05123185689198481, 0.033754631282467966, -0.006716097482851201, -0.016977081718331566, -0.008815681231771365, -0.0025014630895967053], \"error_y\": {\"type\": \"data\", \"array\": [0.048657321321537036, 0.011599246732496153, 0.015854143752232097, 0.0205088467718696, 0.007134265329380801, 0.010851554094076558, 0.0019216051399031922, 0.001780896860349506, 0.0019765208209506363, 0.0038228230109939574], \"visible\": true, \"color\": \"rgb(27,158,119)\"}, \"marker\": {\"color\": \"rgb(27,158,119)\"}, \"line\": {\"color\": \"rgb(27,158,119)\"}, \"showlegend\": true, \"legendgroup\": \"BD2 \\u0394(adhE,ldhA,pflB) + pBD1mod M9 + 1.0 a.u. IPTG\", \"name\": \"BD2 \\u0394(adhE,ldhA,pflB) + pBD1 in mod M9 + 1.0 a.u. IPTG\"}, {\"type\": \"scatter\", \"x\": [0.0, 3.0, 6.0, 9.0, 15.0, 24.0, 24.1, 36.0, 48.0, 60.0], \"y\": [0.5883633203953509, 0.494022031042292, 0.4315850960062059, 0.16140553467911833, 0.026765780481571546, 0.026150321130764414, -0.008780817438988356, -0.018495968776583247, -0.004148045171050308, -0.011639805115887678], \"error_y\": {\"type\": \"data\", \"array\": [0.03363693108363671, 0.026907373477663688, 0.02991716449458754, 0.022928622916283694, 0.002170627648231879, 0.0074199270233387266, 0.0036622589496795093, 0.004828888016745945, 0.0025713005636343496, 0.0040899049565988185], \"visible\": true, \"color\": \"rgb(217,95,2)\"}, \"marker\": {\"color\": \"rgb(217,95,2)\"}, \"line\": {\"color\": \"rgb(217,95,2)\"}, \"showlegend\": true, \"legendgroup\": \"BD4 \\u0394(adhE,ldhA,pflB) + pBD3mod M9 + 1.0 a.u. IPTG\", \"name\": \"BD4 \\u0394(adhE,ldhA,pflB) + pBD3 in mod M9 + 1.0 a.u. IPTG\"}], {\"title\": \"od Specific Productivity vs time for different strains in mod M9 media\"}, {\"showLink\": true, \"linkText\": \"Export to plot.ly\"})});</script>"
      ],
      "text/vnd.plotly.v1+html": [
       "<div id=\"77dc2d20-7efd-4a87-8e58-cbdf6282caf1\" style=\"height: 525px; width: 100%;\" class=\"plotly-graph-div\"></div><script type=\"text/javascript\">require([\"plotly\"], function(Plotly) { window.PLOTLYENV=window.PLOTLYENV || {};window.PLOTLYENV.BASE_URL=\"https://plot.ly\";Plotly.newPlot(\"77dc2d20-7efd-4a87-8e58-cbdf6282caf1\", [{\"type\": \"scatter\", \"x\": [0.0, 3.0, 6.0, 9.0, 15.0, 24.0, 24.1, 36.0, 48.0, 60.0], \"y\": [0.3941606152132468, 0.39311748218217435, 0.45865718482905976, 0.20818302150539483, 0.05123185689198481, 0.033754631282467966, -0.006716097482851201, -0.016977081718331566, -0.008815681231771365, -0.0025014630895967053], \"error_y\": {\"type\": \"data\", \"array\": [0.048657321321537036, 0.011599246732496153, 0.015854143752232097, 0.0205088467718696, 0.007134265329380801, 0.010851554094076558, 0.0019216051399031922, 0.001780896860349506, 0.0019765208209506363, 0.0038228230109939574], \"visible\": true, \"color\": \"rgb(27,158,119)\"}, \"marker\": {\"color\": \"rgb(27,158,119)\"}, \"line\": {\"color\": \"rgb(27,158,119)\"}, \"showlegend\": true, \"legendgroup\": \"BD2 \\u0394(adhE,ldhA,pflB) + pBD1mod M9 + 1.0 a.u. IPTG\", \"name\": \"BD2 \\u0394(adhE,ldhA,pflB) + pBD1 in mod M9 + 1.0 a.u. IPTG\"}, {\"type\": \"scatter\", \"x\": [0.0, 3.0, 6.0, 9.0, 15.0, 24.0, 24.1, 36.0, 48.0, 60.0], \"y\": [0.5883633203953509, 0.494022031042292, 0.4315850960062059, 0.16140553467911833, 0.026765780481571546, 0.026150321130764414, -0.008780817438988356, -0.018495968776583247, -0.004148045171050308, -0.011639805115887678], \"error_y\": {\"type\": \"data\", \"array\": [0.03363693108363671, 0.026907373477663688, 0.02991716449458754, 0.022928622916283694, 0.002170627648231879, 0.0074199270233387266, 0.0036622589496795093, 0.004828888016745945, 0.0025713005636343496, 0.0040899049565988185], \"visible\": true, \"color\": \"rgb(217,95,2)\"}, \"marker\": {\"color\": \"rgb(217,95,2)\"}, \"line\": {\"color\": \"rgb(217,95,2)\"}, \"showlegend\": true, \"legendgroup\": \"BD4 \\u0394(adhE,ldhA,pflB) + pBD3mod M9 + 1.0 a.u. IPTG\", \"name\": \"BD4 \\u0394(adhE,ldhA,pflB) + pBD3 in mod M9 + 1.0 a.u. IPTG\"}], {\"title\": \"od Specific Productivity vs time for different strains in mod M9 media\"}, {\"showLink\": true, \"linkText\": \"Export to plot.ly\"})});</script>"
      ]
     },
     "metadata": {},
     "output_type": "display_data"
    },
    {
     "data": {
      "application/vnd.plotly.v1+json": {
       "data": [
        {
         "error_y": {
          "array": [
           0.2016205986129818,
           0.10901582298950852,
           0.037490948173998354,
           0.04165544233485797,
           0.017866923378711715,
           0.026600355073591684,
           0.013889050416984315,
           0.023356278320888112,
           0.016918795239337946,
           0.026663759949498857
          ],
          "color": "rgb(27,158,119)",
          "type": "data",
          "visible": true
         },
         "legendgroup": "BD2 Δ(adhE,ldhA,pflB) + pBD1mod M9 + 1.0 a.u. IPTG",
         "line": {
          "color": "rgb(27,158,119)"
         },
         "marker": {
          "color": "rgb(27,158,119)"
         },
         "name": "BD2 Δ(adhE,ldhA,pflB) + pBD1 in mod M9 + 1.0 a.u. IPTG",
         "showlegend": true,
         "type": "scatter",
         "x": [
          0,
          3,
          6,
          9,
          15,
          24,
          24.1,
          36,
          48,
          60
         ],
         "y": [
          -0.745671475301109,
          -0.47931916088229043,
          -0.6961447795210333,
          -0.5076977554539855,
          -0.18614186410565847,
          0.20936146302388878,
          0.15414148807447067,
          -0.07682502707695478,
          -0.07978817852621652,
          -0.06648145744537237
         ]
        },
        {
         "error_y": {
          "array": [
           3.697201470484508,
           0.234031505145024,
           0.1483400411221915,
           0.00922600811402534,
           0.010360476985473203,
           0.01397332140896904,
           0.030931119562412325,
           0.03159371520437128,
           0.016056441895493684,
           0.03092926758670751
          ],
          "color": "rgb(217,95,2)",
          "type": "data",
          "visible": true
         },
         "legendgroup": "BD4 Δ(adhE,ldhA,pflB) + pBD3mod M9 + 1.0 a.u. IPTG",
         "line": {
          "color": "rgb(217,95,2)"
         },
         "marker": {
          "color": "rgb(217,95,2)"
         },
         "name": "BD4 Δ(adhE,ldhA,pflB) + pBD3 in mod M9 + 1.0 a.u. IPTG",
         "showlegend": true,
         "type": "scatter",
         "x": [
          0,
          3,
          6,
          9,
          15,
          24,
          24.1,
          36,
          48,
          60
         ],
         "y": [
          -2.84522290677325,
          -0.5668835129136158,
          -0.6211418209390397,
          -0.540178780439629,
          -0.14929076132576172,
          0.3234422725118195,
          0.12192445355674915,
          -0.11700310547606334,
          -0.07279541282672303,
          -0.04858497641493767
         ]
        }
       ],
       "layout": {
        "title": "glc__D Specific Productivity vs time for different strains in mod M9 media"
       }
      },
      "text/html": [
       "<div id=\"158d9923-b465-4d81-ac1d-25425c3c6f7d\" style=\"height: 525px; width: 100%;\" class=\"plotly-graph-div\"></div><script type=\"text/javascript\">require([\"plotly\"], function(Plotly) { window.PLOTLYENV=window.PLOTLYENV || {};window.PLOTLYENV.BASE_URL=\"https://plot.ly\";Plotly.newPlot(\"158d9923-b465-4d81-ac1d-25425c3c6f7d\", [{\"type\": \"scatter\", \"x\": [0.0, 3.0, 6.0, 9.0, 15.0, 24.0, 24.1, 36.0, 48.0, 60.0], \"y\": [-0.745671475301109, -0.47931916088229043, -0.6961447795210333, -0.5076977554539855, -0.18614186410565847, 0.20936146302388878, 0.15414148807447067, -0.07682502707695478, -0.07978817852621652, -0.06648145744537237], \"error_y\": {\"type\": \"data\", \"array\": [0.2016205986129818, 0.10901582298950852, 0.037490948173998354, 0.04165544233485797, 0.017866923378711715, 0.026600355073591684, 0.013889050416984315, 0.023356278320888112, 0.016918795239337946, 0.026663759949498857], \"visible\": true, \"color\": \"rgb(27,158,119)\"}, \"marker\": {\"color\": \"rgb(27,158,119)\"}, \"line\": {\"color\": \"rgb(27,158,119)\"}, \"showlegend\": true, \"legendgroup\": \"BD2 \\u0394(adhE,ldhA,pflB) + pBD1mod M9 + 1.0 a.u. IPTG\", \"name\": \"BD2 \\u0394(adhE,ldhA,pflB) + pBD1 in mod M9 + 1.0 a.u. IPTG\"}, {\"type\": \"scatter\", \"x\": [0.0, 3.0, 6.0, 9.0, 15.0, 24.0, 24.1, 36.0, 48.0, 60.0], \"y\": [-2.84522290677325, -0.5668835129136158, -0.6211418209390397, -0.540178780439629, -0.14929076132576172, 0.3234422725118195, 0.12192445355674915, -0.11700310547606334, -0.07279541282672303, -0.04858497641493767], \"error_y\": {\"type\": \"data\", \"array\": [3.697201470484508, 0.234031505145024, 0.1483400411221915, 0.00922600811402534, 0.010360476985473203, 0.01397332140896904, 0.030931119562412325, 0.03159371520437128, 0.016056441895493684, 0.03092926758670751], \"visible\": true, \"color\": \"rgb(217,95,2)\"}, \"marker\": {\"color\": \"rgb(217,95,2)\"}, \"line\": {\"color\": \"rgb(217,95,2)\"}, \"showlegend\": true, \"legendgroup\": \"BD4 \\u0394(adhE,ldhA,pflB) + pBD3mod M9 + 1.0 a.u. IPTG\", \"name\": \"BD4 \\u0394(adhE,ldhA,pflB) + pBD3 in mod M9 + 1.0 a.u. IPTG\"}], {\"title\": \"glc__D Specific Productivity vs time for different strains in mod M9 media\"}, {\"showLink\": true, \"linkText\": \"Export to plot.ly\"})});</script>"
      ],
      "text/vnd.plotly.v1+html": [
       "<div id=\"158d9923-b465-4d81-ac1d-25425c3c6f7d\" style=\"height: 525px; width: 100%;\" class=\"plotly-graph-div\"></div><script type=\"text/javascript\">require([\"plotly\"], function(Plotly) { window.PLOTLYENV=window.PLOTLYENV || {};window.PLOTLYENV.BASE_URL=\"https://plot.ly\";Plotly.newPlot(\"158d9923-b465-4d81-ac1d-25425c3c6f7d\", [{\"type\": \"scatter\", \"x\": [0.0, 3.0, 6.0, 9.0, 15.0, 24.0, 24.1, 36.0, 48.0, 60.0], \"y\": [-0.745671475301109, -0.47931916088229043, -0.6961447795210333, -0.5076977554539855, -0.18614186410565847, 0.20936146302388878, 0.15414148807447067, -0.07682502707695478, -0.07978817852621652, -0.06648145744537237], \"error_y\": {\"type\": \"data\", \"array\": [0.2016205986129818, 0.10901582298950852, 0.037490948173998354, 0.04165544233485797, 0.017866923378711715, 0.026600355073591684, 0.013889050416984315, 0.023356278320888112, 0.016918795239337946, 0.026663759949498857], \"visible\": true, \"color\": \"rgb(27,158,119)\"}, \"marker\": {\"color\": \"rgb(27,158,119)\"}, \"line\": {\"color\": \"rgb(27,158,119)\"}, \"showlegend\": true, \"legendgroup\": \"BD2 \\u0394(adhE,ldhA,pflB) + pBD1mod M9 + 1.0 a.u. IPTG\", \"name\": \"BD2 \\u0394(adhE,ldhA,pflB) + pBD1 in mod M9 + 1.0 a.u. IPTG\"}, {\"type\": \"scatter\", \"x\": [0.0, 3.0, 6.0, 9.0, 15.0, 24.0, 24.1, 36.0, 48.0, 60.0], \"y\": [-2.84522290677325, -0.5668835129136158, -0.6211418209390397, -0.540178780439629, -0.14929076132576172, 0.3234422725118195, 0.12192445355674915, -0.11700310547606334, -0.07279541282672303, -0.04858497641493767], \"error_y\": {\"type\": \"data\", \"array\": [3.697201470484508, 0.234031505145024, 0.1483400411221915, 0.00922600811402534, 0.010360476985473203, 0.01397332140896904, 0.030931119562412325, 0.03159371520437128, 0.016056441895493684, 0.03092926758670751], \"visible\": true, \"color\": \"rgb(217,95,2)\"}, \"marker\": {\"color\": \"rgb(217,95,2)\"}, \"line\": {\"color\": \"rgb(217,95,2)\"}, \"showlegend\": true, \"legendgroup\": \"BD4 \\u0394(adhE,ldhA,pflB) + pBD3mod M9 + 1.0 a.u. IPTG\", \"name\": \"BD4 \\u0394(adhE,ldhA,pflB) + pBD3 in mod M9 + 1.0 a.u. IPTG\"}], {\"title\": \"glc__D Specific Productivity vs time for different strains in mod M9 media\"}, {\"showLink\": true, \"linkText\": \"Export to plot.ly\"})});</script>"
      ]
     },
     "metadata": {},
     "output_type": "display_data"
    },
    {
     "data": {
      "application/vnd.plotly.v1+json": {
       "data": [
        {
         "error_y": {
          "array": [
           0.03355749755691083,
           0,
           0.0028732748202532133,
           0.000951791554945923,
           0.0005353050604321671,
           0.0006499851746600394,
           0.0008156868814624182,
           0.0002837508456357504,
           0.0008595986132887114,
           0.0009412671461974685
          ],
          "color": "rgb(27,158,119)",
          "type": "data",
          "visible": true
         },
         "legendgroup": "BD2 Δ(adhE,ldhA,pflB) + pBD1mod M9 + 1.0 a.u. IPTG",
         "line": {
          "color": "rgb(27,158,119)"
         },
         "marker": {
          "color": "rgb(27,158,119)"
         },
         "name": "BD2 Δ(adhE,ldhA,pflB) + pBD1 in mod M9 + 1.0 a.u. IPTG",
         "showlegend": true,
         "type": "scatter",
         "x": [
          0,
          3,
          6,
          9,
          15,
          24,
          24.1,
          36,
          48,
          60
         ],
         "y": [
          0.02372873408214265,
          0,
          -0.0007562729076916897,
          0.0008499011143664076,
          0.000871776155578737,
          0.0011023489780103955,
          2.1233168520213444e-05,
          -0.0002600346227189258,
          -0.00039356361564359663,
          -0.0003344013205677089
         ]
        },
        {
         "error_y": {
          "array": [
           0.007364557535788628,
           0,
           0.0006352341028867595,
           0.0004150254273780648,
           3.500396337938387e-05,
           0.0006101509438889644,
           0.00016382854248723258,
           9.251387115607629e-05,
           0.00012654173367029708,
           0.0005589715712654504
          ],
          "color": "rgb(217,95,2)",
          "type": "data",
          "visible": true
         },
         "legendgroup": "BD4 Δ(adhE,ldhA,pflB) + pBD3mod M9 + 1.0 a.u. IPTG",
         "line": {
          "color": "rgb(217,95,2)"
         },
         "marker": {
          "color": "rgb(217,95,2)"
         },
         "name": "BD4 Δ(adhE,ldhA,pflB) + pBD3 in mod M9 + 1.0 a.u. IPTG",
         "showlegend": true,
         "type": "scatter",
         "x": [
          0,
          3,
          6,
          9,
          15,
          24,
          24.1,
          36,
          48,
          60
         ],
         "y": [
          0.005207528573994629,
          0,
          -0.00011413783951971252,
          0.000834239864250551,
          -5.854699485040925e-06,
          0.00011561053350803582,
          0.00021808490765891486,
          -3.3389814433688345e-05,
          0.0006129660129714354,
          0.001256075220431171
         ]
        }
       ],
       "layout": {
        "title": "acald Specific Productivity vs time for different strains in mod M9 media"
       }
      },
      "text/html": [
       "<div id=\"d895286b-bf90-4b5f-94b2-bb067f8bf3f9\" style=\"height: 525px; width: 100%;\" class=\"plotly-graph-div\"></div><script type=\"text/javascript\">require([\"plotly\"], function(Plotly) { window.PLOTLYENV=window.PLOTLYENV || {};window.PLOTLYENV.BASE_URL=\"https://plot.ly\";Plotly.newPlot(\"d895286b-bf90-4b5f-94b2-bb067f8bf3f9\", [{\"type\": \"scatter\", \"x\": [0.0, 3.0, 6.0, 9.0, 15.0, 24.0, 24.1, 36.0, 48.0, 60.0], \"y\": [0.02372873408214265, 0.0, -0.0007562729076916897, 0.0008499011143664076, 0.000871776155578737, 0.0011023489780103955, 2.1233168520213444e-05, -0.0002600346227189258, -0.00039356361564359663, -0.0003344013205677089], \"error_y\": {\"type\": \"data\", \"array\": [0.03355749755691083, 0.0, 0.0028732748202532133, 0.000951791554945923, 0.0005353050604321671, 0.0006499851746600394, 0.0008156868814624182, 0.0002837508456357504, 0.0008595986132887114, 0.0009412671461974685], \"visible\": true, \"color\": \"rgb(27,158,119)\"}, \"marker\": {\"color\": \"rgb(27,158,119)\"}, \"line\": {\"color\": \"rgb(27,158,119)\"}, \"showlegend\": true, \"legendgroup\": \"BD2 \\u0394(adhE,ldhA,pflB) + pBD1mod M9 + 1.0 a.u. IPTG\", \"name\": \"BD2 \\u0394(adhE,ldhA,pflB) + pBD1 in mod M9 + 1.0 a.u. IPTG\"}, {\"type\": \"scatter\", \"x\": [0.0, 3.0, 6.0, 9.0, 15.0, 24.0, 24.1, 36.0, 48.0, 60.0], \"y\": [0.005207528573994629, 0.0, -0.00011413783951971252, 0.000834239864250551, -5.854699485040925e-06, 0.00011561053350803582, 0.00021808490765891486, -3.3389814433688345e-05, 0.0006129660129714354, 0.001256075220431171], \"error_y\": {\"type\": \"data\", \"array\": [0.007364557535788628, 0.0, 0.0006352341028867595, 0.0004150254273780648, 3.500396337938387e-05, 0.0006101509438889644, 0.00016382854248723258, 9.251387115607629e-05, 0.00012654173367029708, 0.0005589715712654504], \"visible\": true, \"color\": \"rgb(217,95,2)\"}, \"marker\": {\"color\": \"rgb(217,95,2)\"}, \"line\": {\"color\": \"rgb(217,95,2)\"}, \"showlegend\": true, \"legendgroup\": \"BD4 \\u0394(adhE,ldhA,pflB) + pBD3mod M9 + 1.0 a.u. IPTG\", \"name\": \"BD4 \\u0394(adhE,ldhA,pflB) + pBD3 in mod M9 + 1.0 a.u. IPTG\"}], {\"title\": \"acald Specific Productivity vs time for different strains in mod M9 media\"}, {\"showLink\": true, \"linkText\": \"Export to plot.ly\"})});</script>"
      ],
      "text/vnd.plotly.v1+html": [
       "<div id=\"d895286b-bf90-4b5f-94b2-bb067f8bf3f9\" style=\"height: 525px; width: 100%;\" class=\"plotly-graph-div\"></div><script type=\"text/javascript\">require([\"plotly\"], function(Plotly) { window.PLOTLYENV=window.PLOTLYENV || {};window.PLOTLYENV.BASE_URL=\"https://plot.ly\";Plotly.newPlot(\"d895286b-bf90-4b5f-94b2-bb067f8bf3f9\", [{\"type\": \"scatter\", \"x\": [0.0, 3.0, 6.0, 9.0, 15.0, 24.0, 24.1, 36.0, 48.0, 60.0], \"y\": [0.02372873408214265, 0.0, -0.0007562729076916897, 0.0008499011143664076, 0.000871776155578737, 0.0011023489780103955, 2.1233168520213444e-05, -0.0002600346227189258, -0.00039356361564359663, -0.0003344013205677089], \"error_y\": {\"type\": \"data\", \"array\": [0.03355749755691083, 0.0, 0.0028732748202532133, 0.000951791554945923, 0.0005353050604321671, 0.0006499851746600394, 0.0008156868814624182, 0.0002837508456357504, 0.0008595986132887114, 0.0009412671461974685], \"visible\": true, \"color\": \"rgb(27,158,119)\"}, \"marker\": {\"color\": \"rgb(27,158,119)\"}, \"line\": {\"color\": \"rgb(27,158,119)\"}, \"showlegend\": true, \"legendgroup\": \"BD2 \\u0394(adhE,ldhA,pflB) + pBD1mod M9 + 1.0 a.u. IPTG\", \"name\": \"BD2 \\u0394(adhE,ldhA,pflB) + pBD1 in mod M9 + 1.0 a.u. IPTG\"}, {\"type\": \"scatter\", \"x\": [0.0, 3.0, 6.0, 9.0, 15.0, 24.0, 24.1, 36.0, 48.0, 60.0], \"y\": [0.005207528573994629, 0.0, -0.00011413783951971252, 0.000834239864250551, -5.854699485040925e-06, 0.00011561053350803582, 0.00021808490765891486, -3.3389814433688345e-05, 0.0006129660129714354, 0.001256075220431171], \"error_y\": {\"type\": \"data\", \"array\": [0.007364557535788628, 0.0, 0.0006352341028867595, 0.0004150254273780648, 3.500396337938387e-05, 0.0006101509438889644, 0.00016382854248723258, 9.251387115607629e-05, 0.00012654173367029708, 0.0005589715712654504], \"visible\": true, \"color\": \"rgb(217,95,2)\"}, \"marker\": {\"color\": \"rgb(217,95,2)\"}, \"line\": {\"color\": \"rgb(217,95,2)\"}, \"showlegend\": true, \"legendgroup\": \"BD4 \\u0394(adhE,ldhA,pflB) + pBD3mod M9 + 1.0 a.u. IPTG\", \"name\": \"BD4 \\u0394(adhE,ldhA,pflB) + pBD3 in mod M9 + 1.0 a.u. IPTG\"}], {\"title\": \"acald Specific Productivity vs time for different strains in mod M9 media\"}, {\"showLink\": true, \"linkText\": \"Export to plot.ly\"})});</script>"
      ]
     },
     "metadata": {},
     "output_type": "display_data"
    },
    {
     "data": {
      "application/vnd.plotly.v1+json": {
       "data": [
        {
         "error_y": {
          "array": [
           0.0031461514975894274,
           0.0002569823650816304,
           0.0003925375418841965,
           0.00011164735600293424,
           0.0006991494630225348,
           0.0013795493180876707,
           0.0018202362046467785,
           0.0009789503246634694,
           0.0032174279142780124,
           0.0029168545861862267
          ],
          "color": "rgb(27,158,119)",
          "type": "data",
          "visible": true
         },
         "legendgroup": "BD2 Δ(adhE,ldhA,pflB) + pBD1mod M9 + 1.0 a.u. IPTG",
         "line": {
          "color": "rgb(27,158,119)"
         },
         "marker": {
          "color": "rgb(27,158,119)"
         },
         "name": "BD2 Δ(adhE,ldhA,pflB) + pBD1 in mod M9 + 1.0 a.u. IPTG",
         "showlegend": true,
         "type": "scatter",
         "x": [
          0,
          3,
          6,
          9,
          15,
          24,
          24.1,
          36,
          48,
          60
         ],
         "y": [
          -0.032635375599896224,
          -0.007462223803742438,
          0.003572221143298244,
          0.0035978201645763034,
          0.01026446390482218,
          0.012602724570841209,
          0.00014088267147980118,
          0.002128845769005473,
          0.0016517904430770958,
          -0.0013834874765891673
         ]
        },
        {
         "error_y": {
          "array": [
           0.0046799044632028905,
           0.0006625044879239641,
           0.001779305661550599,
           0.00035260070792752824,
           0.00018488931042692094,
           0.0005344645010454236,
           0.0019900388811989944,
           0.0024384504676522767,
           0.0031782489007260582,
           0.004529088044375791
          ],
          "color": "rgb(217,95,2)",
          "type": "data",
          "visible": true
         },
         "legendgroup": "BD4 Δ(adhE,ldhA,pflB) + pBD3mod M9 + 1.0 a.u. IPTG",
         "line": {
          "color": "rgb(217,95,2)"
         },
         "marker": {
          "color": "rgb(217,95,2)"
         },
         "name": "BD4 Δ(adhE,ldhA,pflB) + pBD3 in mod M9 + 1.0 a.u. IPTG",
         "showlegend": true,
         "type": "scatter",
         "x": [
          0,
          3,
          6,
          9,
          15,
          24,
          24.1,
          36,
          48,
          60
         ],
         "y": [
          -0.02839899649968013,
          -0.0015945211087933415,
          0.006818086075228046,
          0.006092968994400191,
          -0.00026838400669850453,
          -0.0032279028759876773,
          0.007681442752932951,
          0.0066267206334621985,
          -0.0005215045181880766,
          -0.0026521483430455906
         ]
        }
       ],
       "layout": {
        "title": "suc Specific Productivity vs time for different strains in mod M9 media"
       }
      },
      "text/html": [
       "<div id=\"30ad9a62-a67b-406c-b6b5-0b2670be2ed8\" style=\"height: 525px; width: 100%;\" class=\"plotly-graph-div\"></div><script type=\"text/javascript\">require([\"plotly\"], function(Plotly) { window.PLOTLYENV=window.PLOTLYENV || {};window.PLOTLYENV.BASE_URL=\"https://plot.ly\";Plotly.newPlot(\"30ad9a62-a67b-406c-b6b5-0b2670be2ed8\", [{\"type\": \"scatter\", \"x\": [0.0, 3.0, 6.0, 9.0, 15.0, 24.0, 24.1, 36.0, 48.0, 60.0], \"y\": [-0.032635375599896224, -0.007462223803742438, 0.003572221143298244, 0.0035978201645763034, 0.01026446390482218, 0.012602724570841209, 0.00014088267147980118, 0.002128845769005473, 0.0016517904430770958, -0.0013834874765891673], \"error_y\": {\"type\": \"data\", \"array\": [0.0031461514975894274, 0.0002569823650816304, 0.0003925375418841965, 0.00011164735600293424, 0.0006991494630225348, 0.0013795493180876707, 0.0018202362046467785, 0.0009789503246634694, 0.0032174279142780124, 0.0029168545861862267], \"visible\": true, \"color\": \"rgb(27,158,119)\"}, \"marker\": {\"color\": \"rgb(27,158,119)\"}, \"line\": {\"color\": \"rgb(27,158,119)\"}, \"showlegend\": true, \"legendgroup\": \"BD2 \\u0394(adhE,ldhA,pflB) + pBD1mod M9 + 1.0 a.u. IPTG\", \"name\": \"BD2 \\u0394(adhE,ldhA,pflB) + pBD1 in mod M9 + 1.0 a.u. IPTG\"}, {\"type\": \"scatter\", \"x\": [0.0, 3.0, 6.0, 9.0, 15.0, 24.0, 24.1, 36.0, 48.0, 60.0], \"y\": [-0.02839899649968013, -0.0015945211087933415, 0.006818086075228046, 0.006092968994400191, -0.00026838400669850453, -0.0032279028759876773, 0.007681442752932951, 0.0066267206334621985, -0.0005215045181880766, -0.0026521483430455906], \"error_y\": {\"type\": \"data\", \"array\": [0.0046799044632028905, 0.0006625044879239641, 0.001779305661550599, 0.00035260070792752824, 0.00018488931042692094, 0.0005344645010454236, 0.0019900388811989944, 0.0024384504676522767, 0.0031782489007260582, 0.004529088044375791], \"visible\": true, \"color\": \"rgb(217,95,2)\"}, \"marker\": {\"color\": \"rgb(217,95,2)\"}, \"line\": {\"color\": \"rgb(217,95,2)\"}, \"showlegend\": true, \"legendgroup\": \"BD4 \\u0394(adhE,ldhA,pflB) + pBD3mod M9 + 1.0 a.u. IPTG\", \"name\": \"BD4 \\u0394(adhE,ldhA,pflB) + pBD3 in mod M9 + 1.0 a.u. IPTG\"}], {\"title\": \"suc Specific Productivity vs time for different strains in mod M9 media\"}, {\"showLink\": true, \"linkText\": \"Export to plot.ly\"})});</script>"
      ],
      "text/vnd.plotly.v1+html": [
       "<div id=\"30ad9a62-a67b-406c-b6b5-0b2670be2ed8\" style=\"height: 525px; width: 100%;\" class=\"plotly-graph-div\"></div><script type=\"text/javascript\">require([\"plotly\"], function(Plotly) { window.PLOTLYENV=window.PLOTLYENV || {};window.PLOTLYENV.BASE_URL=\"https://plot.ly\";Plotly.newPlot(\"30ad9a62-a67b-406c-b6b5-0b2670be2ed8\", [{\"type\": \"scatter\", \"x\": [0.0, 3.0, 6.0, 9.0, 15.0, 24.0, 24.1, 36.0, 48.0, 60.0], \"y\": [-0.032635375599896224, -0.007462223803742438, 0.003572221143298244, 0.0035978201645763034, 0.01026446390482218, 0.012602724570841209, 0.00014088267147980118, 0.002128845769005473, 0.0016517904430770958, -0.0013834874765891673], \"error_y\": {\"type\": \"data\", \"array\": [0.0031461514975894274, 0.0002569823650816304, 0.0003925375418841965, 0.00011164735600293424, 0.0006991494630225348, 0.0013795493180876707, 0.0018202362046467785, 0.0009789503246634694, 0.0032174279142780124, 0.0029168545861862267], \"visible\": true, \"color\": \"rgb(27,158,119)\"}, \"marker\": {\"color\": \"rgb(27,158,119)\"}, \"line\": {\"color\": \"rgb(27,158,119)\"}, \"showlegend\": true, \"legendgroup\": \"BD2 \\u0394(adhE,ldhA,pflB) + pBD1mod M9 + 1.0 a.u. IPTG\", \"name\": \"BD2 \\u0394(adhE,ldhA,pflB) + pBD1 in mod M9 + 1.0 a.u. IPTG\"}, {\"type\": \"scatter\", \"x\": [0.0, 3.0, 6.0, 9.0, 15.0, 24.0, 24.1, 36.0, 48.0, 60.0], \"y\": [-0.02839899649968013, -0.0015945211087933415, 0.006818086075228046, 0.006092968994400191, -0.00026838400669850453, -0.0032279028759876773, 0.007681442752932951, 0.0066267206334621985, -0.0005215045181880766, -0.0026521483430455906], \"error_y\": {\"type\": \"data\", \"array\": [0.0046799044632028905, 0.0006625044879239641, 0.001779305661550599, 0.00035260070792752824, 0.00018488931042692094, 0.0005344645010454236, 0.0019900388811989944, 0.0024384504676522767, 0.0031782489007260582, 0.004529088044375791], \"visible\": true, \"color\": \"rgb(217,95,2)\"}, \"marker\": {\"color\": \"rgb(217,95,2)\"}, \"line\": {\"color\": \"rgb(217,95,2)\"}, \"showlegend\": true, \"legendgroup\": \"BD4 \\u0394(adhE,ldhA,pflB) + pBD3mod M9 + 1.0 a.u. IPTG\", \"name\": \"BD4 \\u0394(adhE,ldhA,pflB) + pBD3 in mod M9 + 1.0 a.u. IPTG\"}], {\"title\": \"suc Specific Productivity vs time for different strains in mod M9 media\"}, {\"showLink\": true, \"linkText\": \"Export to plot.ly\"})});</script>"
      ]
     },
     "metadata": {},
     "output_type": "display_data"
    },
    {
     "data": {
      "application/vnd.plotly.v1+json": {
       "data": [
        {
         "error_y": {
          "array": [
           0.004294523920875994,
           0.0033485318717822172,
           0.0021945669567357134,
           0.0003557509620153154,
           0.002384877992940707,
           0.0019906531509581897,
           0.004652152232427491,
           0.004565301282799999,
           0.0027611587327783706,
           0.006677305172588282
          ],
          "color": "rgb(27,158,119)",
          "type": "data",
          "visible": true
         },
         "legendgroup": "BD2 Δ(adhE,ldhA,pflB) + pBD1mod M9 + 1.0 a.u. IPTG",
         "line": {
          "color": "rgb(27,158,119)"
         },
         "marker": {
          "color": "rgb(27,158,119)"
         },
         "name": "BD2 Δ(adhE,ldhA,pflB) + pBD1 in mod M9 + 1.0 a.u. IPTG",
         "showlegend": true,
         "type": "scatter",
         "x": [
          0,
          3,
          6,
          9,
          15,
          24,
          24.1,
          36,
          48,
          60
         ],
         "y": [
          0.02400473009719545,
          0.00518879223057327,
          0.011662117373968592,
          0.04623198440265344,
          0.030138235019292164,
          0.023150011686413532,
          0.012552502462804071,
          0.017701950989430296,
          0.0177834923429369,
          0.013961069252366967
         ]
        },
        {
         "error_y": {
          "array": [
           0.029795212550282068,
           0.0036173377599079634,
           0.005249962841402477,
           0.0012931761468373115,
           0.001966524096182004,
           0.0034408812176936086,
           0.008753626210714002,
           0.00977706642669254,
           0.005346141247733953,
           0.011703359258121025
          ],
          "color": "rgb(217,95,2)",
          "type": "data",
          "visible": true
         },
         "legendgroup": "BD4 Δ(adhE,ldhA,pflB) + pBD3mod M9 + 1.0 a.u. IPTG",
         "line": {
          "color": "rgb(217,95,2)"
         },
         "marker": {
          "color": "rgb(217,95,2)"
         },
         "name": "BD4 Δ(adhE,ldhA,pflB) + pBD3 in mod M9 + 1.0 a.u. IPTG",
         "showlegend": true,
         "type": "scatter",
         "x": [
          0,
          3,
          6,
          9,
          15,
          24,
          24.1,
          36,
          48,
          60
         ],
         "y": [
          0.059247259229344186,
          0.040189006632826624,
          0.09370751267297439,
          0.11651891097622975,
          0.038281483283964225,
          0.008083000565831258,
          0.029709555710675933,
          0.0403228921814425,
          0.024700676323323498,
          0.017281685794187533
         ]
        }
       ],
       "layout": {
        "title": "etoh Specific Productivity vs time for different strains in mod M9 media"
       }
      },
      "text/html": [
       "<div id=\"8cdace5a-9bf4-4ca2-8e1b-56d86f19609d\" style=\"height: 525px; width: 100%;\" class=\"plotly-graph-div\"></div><script type=\"text/javascript\">require([\"plotly\"], function(Plotly) { window.PLOTLYENV=window.PLOTLYENV || {};window.PLOTLYENV.BASE_URL=\"https://plot.ly\";Plotly.newPlot(\"8cdace5a-9bf4-4ca2-8e1b-56d86f19609d\", [{\"type\": \"scatter\", \"x\": [0.0, 3.0, 6.0, 9.0, 15.0, 24.0, 24.1, 36.0, 48.0, 60.0], \"y\": [0.02400473009719545, 0.00518879223057327, 0.011662117373968592, 0.04623198440265344, 0.030138235019292164, 0.023150011686413532, 0.012552502462804071, 0.017701950989430296, 0.0177834923429369, 0.013961069252366967], \"error_y\": {\"type\": \"data\", \"array\": [0.004294523920875994, 0.0033485318717822172, 0.0021945669567357134, 0.0003557509620153154, 0.002384877992940707, 0.0019906531509581897, 0.004652152232427491, 0.004565301282799999, 0.0027611587327783706, 0.006677305172588282], \"visible\": true, \"color\": \"rgb(27,158,119)\"}, \"marker\": {\"color\": \"rgb(27,158,119)\"}, \"line\": {\"color\": \"rgb(27,158,119)\"}, \"showlegend\": true, \"legendgroup\": \"BD2 \\u0394(adhE,ldhA,pflB) + pBD1mod M9 + 1.0 a.u. IPTG\", \"name\": \"BD2 \\u0394(adhE,ldhA,pflB) + pBD1 in mod M9 + 1.0 a.u. IPTG\"}, {\"type\": \"scatter\", \"x\": [0.0, 3.0, 6.0, 9.0, 15.0, 24.0, 24.1, 36.0, 48.0, 60.0], \"y\": [0.059247259229344186, 0.040189006632826624, 0.09370751267297439, 0.11651891097622975, 0.038281483283964225, 0.008083000565831258, 0.029709555710675933, 0.0403228921814425, 0.024700676323323498, 0.017281685794187533], \"error_y\": {\"type\": \"data\", \"array\": [0.029795212550282068, 0.0036173377599079634, 0.005249962841402477, 0.0012931761468373115, 0.001966524096182004, 0.0034408812176936086, 0.008753626210714002, 0.00977706642669254, 0.005346141247733953, 0.011703359258121025], \"visible\": true, \"color\": \"rgb(217,95,2)\"}, \"marker\": {\"color\": \"rgb(217,95,2)\"}, \"line\": {\"color\": \"rgb(217,95,2)\"}, \"showlegend\": true, \"legendgroup\": \"BD4 \\u0394(adhE,ldhA,pflB) + pBD3mod M9 + 1.0 a.u. IPTG\", \"name\": \"BD4 \\u0394(adhE,ldhA,pflB) + pBD3 in mod M9 + 1.0 a.u. IPTG\"}], {\"title\": \"etoh Specific Productivity vs time for different strains in mod M9 media\"}, {\"showLink\": true, \"linkText\": \"Export to plot.ly\"})});</script>"
      ],
      "text/vnd.plotly.v1+html": [
       "<div id=\"8cdace5a-9bf4-4ca2-8e1b-56d86f19609d\" style=\"height: 525px; width: 100%;\" class=\"plotly-graph-div\"></div><script type=\"text/javascript\">require([\"plotly\"], function(Plotly) { window.PLOTLYENV=window.PLOTLYENV || {};window.PLOTLYENV.BASE_URL=\"https://plot.ly\";Plotly.newPlot(\"8cdace5a-9bf4-4ca2-8e1b-56d86f19609d\", [{\"type\": \"scatter\", \"x\": [0.0, 3.0, 6.0, 9.0, 15.0, 24.0, 24.1, 36.0, 48.0, 60.0], \"y\": [0.02400473009719545, 0.00518879223057327, 0.011662117373968592, 0.04623198440265344, 0.030138235019292164, 0.023150011686413532, 0.012552502462804071, 0.017701950989430296, 0.0177834923429369, 0.013961069252366967], \"error_y\": {\"type\": \"data\", \"array\": [0.004294523920875994, 0.0033485318717822172, 0.0021945669567357134, 0.0003557509620153154, 0.002384877992940707, 0.0019906531509581897, 0.004652152232427491, 0.004565301282799999, 0.0027611587327783706, 0.006677305172588282], \"visible\": true, \"color\": \"rgb(27,158,119)\"}, \"marker\": {\"color\": \"rgb(27,158,119)\"}, \"line\": {\"color\": \"rgb(27,158,119)\"}, \"showlegend\": true, \"legendgroup\": \"BD2 \\u0394(adhE,ldhA,pflB) + pBD1mod M9 + 1.0 a.u. IPTG\", \"name\": \"BD2 \\u0394(adhE,ldhA,pflB) + pBD1 in mod M9 + 1.0 a.u. IPTG\"}, {\"type\": \"scatter\", \"x\": [0.0, 3.0, 6.0, 9.0, 15.0, 24.0, 24.1, 36.0, 48.0, 60.0], \"y\": [0.059247259229344186, 0.040189006632826624, 0.09370751267297439, 0.11651891097622975, 0.038281483283964225, 0.008083000565831258, 0.029709555710675933, 0.0403228921814425, 0.024700676323323498, 0.017281685794187533], \"error_y\": {\"type\": \"data\", \"array\": [0.029795212550282068, 0.0036173377599079634, 0.005249962841402477, 0.0012931761468373115, 0.001966524096182004, 0.0034408812176936086, 0.008753626210714002, 0.00977706642669254, 0.005346141247733953, 0.011703359258121025], \"visible\": true, \"color\": \"rgb(217,95,2)\"}, \"marker\": {\"color\": \"rgb(217,95,2)\"}, \"line\": {\"color\": \"rgb(217,95,2)\"}, \"showlegend\": true, \"legendgroup\": \"BD4 \\u0394(adhE,ldhA,pflB) + pBD3mod M9 + 1.0 a.u. IPTG\", \"name\": \"BD4 \\u0394(adhE,ldhA,pflB) + pBD3 in mod M9 + 1.0 a.u. IPTG\"}], {\"title\": \"etoh Specific Productivity vs time for different strains in mod M9 media\"}, {\"showLink\": true, \"linkText\": \"Export to plot.ly\"})});</script>"
      ]
     },
     "metadata": {},
     "output_type": "display_data"
    },
    {
     "data": {
      "application/vnd.plotly.v1+json": {
       "data": [
        {
         "error_y": {
          "array": [
           0,
           0,
           0,
           0,
           3.080338146891543e-05,
           3.938586047830564e-05,
           8.515164222483329e-05,
           0.00011535967926260888,
           0.00013274042532930336,
           0.00010737755755448563
          ],
          "color": "rgb(27,158,119)",
          "type": "data",
          "visible": true
         },
         "legendgroup": "BD2 Δ(adhE,ldhA,pflB) + pBD1mod M9 + 1.0 a.u. IPTG",
         "line": {
          "color": "rgb(27,158,119)"
         },
         "marker": {
          "color": "rgb(27,158,119)"
         },
         "name": "BD2 Δ(adhE,ldhA,pflB) + pBD1 in mod M9 + 1.0 a.u. IPTG",
         "showlegend": true,
         "type": "scatter",
         "x": [
          0,
          3,
          6,
          9,
          15,
          24,
          24.1,
          36,
          48,
          60
         ],
         "y": [
          0,
          0,
          0,
          0,
          4.354922589560429e-05,
          5.4855037559883564e-05,
          5.0071827945017174e-05,
          0.0001198866853780204,
          0.00036926935046513107,
          0.0005394938430593107
         ]
        },
        {
         "error_y": {
          "array": [
           0,
           0,
           0,
           3.264680836571856e-05,
           1.295995756818657e-06,
           1.745486584219525e-05,
           5.746524242215134e-05,
           1.5246554733033048e-05,
           7.319401491319158e-05,
           0.00012796956066018304
          ],
          "color": "rgb(217,95,2)",
          "type": "data",
          "visible": true
         },
         "legendgroup": "BD4 Δ(adhE,ldhA,pflB) + pBD3mod M9 + 1.0 a.u. IPTG",
         "line": {
          "color": "rgb(217,95,2)"
         },
         "marker": {
          "color": "rgb(217,95,2)"
         },
         "name": "BD4 Δ(adhE,ldhA,pflB) + pBD3 in mod M9 + 1.0 a.u. IPTG",
         "showlegend": true,
         "type": "scatter",
         "x": [
          0,
          3,
          6,
          9,
          15,
          24,
          24.1,
          36,
          48,
          60
         ],
         "y": [
          0,
          0,
          0,
          2.3084779579497298e-05,
          3.5226082318756356e-05,
          -1.23424540017177e-05,
          4.873272428686969e-06,
          0.00014646079936890075,
          0.00020900152290970103,
          0.0002230371439662293
         ]
        }
       ],
       "layout": {
        "title": "rs23bdo Specific Productivity vs time for different strains in mod M9 media"
       }
      },
      "text/html": [
       "<div id=\"bd257dc4-55a4-42bf-9891-89a76ea7d1f5\" style=\"height: 525px; width: 100%;\" class=\"plotly-graph-div\"></div><script type=\"text/javascript\">require([\"plotly\"], function(Plotly) { window.PLOTLYENV=window.PLOTLYENV || {};window.PLOTLYENV.BASE_URL=\"https://plot.ly\";Plotly.newPlot(\"bd257dc4-55a4-42bf-9891-89a76ea7d1f5\", [{\"type\": \"scatter\", \"x\": [0.0, 3.0, 6.0, 9.0, 15.0, 24.0, 24.1, 36.0, 48.0, 60.0], \"y\": [0.0, 0.0, 0.0, 0.0, 4.354922589560429e-05, 5.4855037559883564e-05, 5.0071827945017174e-05, 0.0001198866853780204, 0.00036926935046513107, 0.0005394938430593107], \"error_y\": {\"type\": \"data\", \"array\": [0.0, 0.0, 0.0, 0.0, 3.080338146891543e-05, 3.938586047830564e-05, 8.515164222483329e-05, 0.00011535967926260888, 0.00013274042532930336, 0.00010737755755448563], \"visible\": true, \"color\": \"rgb(27,158,119)\"}, \"marker\": {\"color\": \"rgb(27,158,119)\"}, \"line\": {\"color\": \"rgb(27,158,119)\"}, \"showlegend\": true, \"legendgroup\": \"BD2 \\u0394(adhE,ldhA,pflB) + pBD1mod M9 + 1.0 a.u. IPTG\", \"name\": \"BD2 \\u0394(adhE,ldhA,pflB) + pBD1 in mod M9 + 1.0 a.u. IPTG\"}, {\"type\": \"scatter\", \"x\": [0.0, 3.0, 6.0, 9.0, 15.0, 24.0, 24.1, 36.0, 48.0, 60.0], \"y\": [0.0, 0.0, 0.0, 2.3084779579497298e-05, 3.5226082318756356e-05, -1.23424540017177e-05, 4.873272428686969e-06, 0.00014646079936890075, 0.00020900152290970103, 0.0002230371439662293], \"error_y\": {\"type\": \"data\", \"array\": [0.0, 0.0, 0.0, 3.264680836571856e-05, 1.295995756818657e-06, 1.745486584219525e-05, 5.746524242215134e-05, 1.5246554733033048e-05, 7.319401491319158e-05, 0.00012796956066018304], \"visible\": true, \"color\": \"rgb(217,95,2)\"}, \"marker\": {\"color\": \"rgb(217,95,2)\"}, \"line\": {\"color\": \"rgb(217,95,2)\"}, \"showlegend\": true, \"legendgroup\": \"BD4 \\u0394(adhE,ldhA,pflB) + pBD3mod M9 + 1.0 a.u. IPTG\", \"name\": \"BD4 \\u0394(adhE,ldhA,pflB) + pBD3 in mod M9 + 1.0 a.u. IPTG\"}], {\"title\": \"rs23bdo Specific Productivity vs time for different strains in mod M9 media\"}, {\"showLink\": true, \"linkText\": \"Export to plot.ly\"})});</script>"
      ],
      "text/vnd.plotly.v1+html": [
       "<div id=\"bd257dc4-55a4-42bf-9891-89a76ea7d1f5\" style=\"height: 525px; width: 100%;\" class=\"plotly-graph-div\"></div><script type=\"text/javascript\">require([\"plotly\"], function(Plotly) { window.PLOTLYENV=window.PLOTLYENV || {};window.PLOTLYENV.BASE_URL=\"https://plot.ly\";Plotly.newPlot(\"bd257dc4-55a4-42bf-9891-89a76ea7d1f5\", [{\"type\": \"scatter\", \"x\": [0.0, 3.0, 6.0, 9.0, 15.0, 24.0, 24.1, 36.0, 48.0, 60.0], \"y\": [0.0, 0.0, 0.0, 0.0, 4.354922589560429e-05, 5.4855037559883564e-05, 5.0071827945017174e-05, 0.0001198866853780204, 0.00036926935046513107, 0.0005394938430593107], \"error_y\": {\"type\": \"data\", \"array\": [0.0, 0.0, 0.0, 0.0, 3.080338146891543e-05, 3.938586047830564e-05, 8.515164222483329e-05, 0.00011535967926260888, 0.00013274042532930336, 0.00010737755755448563], \"visible\": true, \"color\": \"rgb(27,158,119)\"}, \"marker\": {\"color\": \"rgb(27,158,119)\"}, \"line\": {\"color\": \"rgb(27,158,119)\"}, \"showlegend\": true, \"legendgroup\": \"BD2 \\u0394(adhE,ldhA,pflB) + pBD1mod M9 + 1.0 a.u. IPTG\", \"name\": \"BD2 \\u0394(adhE,ldhA,pflB) + pBD1 in mod M9 + 1.0 a.u. IPTG\"}, {\"type\": \"scatter\", \"x\": [0.0, 3.0, 6.0, 9.0, 15.0, 24.0, 24.1, 36.0, 48.0, 60.0], \"y\": [0.0, 0.0, 0.0, 2.3084779579497298e-05, 3.5226082318756356e-05, -1.23424540017177e-05, 4.873272428686969e-06, 0.00014646079936890075, 0.00020900152290970103, 0.0002230371439662293], \"error_y\": {\"type\": \"data\", \"array\": [0.0, 0.0, 0.0, 3.264680836571856e-05, 1.295995756818657e-06, 1.745486584219525e-05, 5.746524242215134e-05, 1.5246554733033048e-05, 7.319401491319158e-05, 0.00012796956066018304], \"visible\": true, \"color\": \"rgb(217,95,2)\"}, \"marker\": {\"color\": \"rgb(217,95,2)\"}, \"line\": {\"color\": \"rgb(217,95,2)\"}, \"showlegend\": true, \"legendgroup\": \"BD4 \\u0394(adhE,ldhA,pflB) + pBD3mod M9 + 1.0 a.u. IPTG\", \"name\": \"BD4 \\u0394(adhE,ldhA,pflB) + pBD3 in mod M9 + 1.0 a.u. IPTG\"}], {\"title\": \"rs23bdo Specific Productivity vs time for different strains in mod M9 media\"}, {\"showLink\": true, \"linkText\": \"Export to plot.ly\"})});</script>"
      ]
     },
     "metadata": {},
     "output_type": "display_data"
    }
   ],
   "source": [
    "implot.plot_timecourse_orderby_basemedia(expt,feature='specific_productivity')"
   ]
  },
  {
   "cell_type": "code",
   "execution_count": 38,
   "metadata": {
    "scrolled": false
   },
   "outputs": [
    {
     "data": {
      "application/vnd.plotly.v1+json": {
       "data": [
        {
         "error_y": {
          "array": [
           0.09104379118263398
          ],
          "color": "rgb(27,158,119)",
          "type": "data",
          "visible": true
         },
         "legendgroup": "BD2 Δ(adhE,ldhA,pflB) + pBD1mod M9 + 1.0 a.u. IPTG",
         "marker": {
          "color": "rgb(27,158,119)"
         },
         "name": "BD2 Δ(adhE,ldhA,pflB) + pBD1 in mod M9 + 1.0 a.u. IPTG",
         "showlegend": true,
         "type": "bar",
         "x": [
          "BD2 Δ(adhE,ldhA,pflB) + pBD1 in mod M9 + 1.0 a.u. IPTG"
         ],
         "y": [
          2.737102484424037
         ]
        },
        {
         "error_y": {
          "array": [
           0.14803557175495363
          ],
          "color": "rgb(217,95,2)",
          "type": "data",
          "visible": true
         },
         "legendgroup": "BD4 Δ(adhE,ldhA,pflB) + pBD3mod M9 + 1.0 a.u. IPTG",
         "marker": {
          "color": "rgb(217,95,2)"
         },
         "name": "BD4 Δ(adhE,ldhA,pflB) + pBD3 in mod M9 + 1.0 a.u. IPTG",
         "showlegend": true,
         "type": "bar",
         "x": [
          "BD4 Δ(adhE,ldhA,pflB) + pBD3 in mod M9 + 1.0 a.u. IPTG"
         ],
         "y": [
          1.7657885379466014
         ]
        }
       ],
       "layout": {
        "title": "Max m23bdo  for different strains in mod M9 media"
       }
      },
      "text/html": [
       "<div id=\"0aa7df8c-7061-44c0-a3dd-4d2a555f5649\" style=\"height: 525px; width: 100%;\" class=\"plotly-graph-div\"></div><script type=\"text/javascript\">require([\"plotly\"], function(Plotly) { window.PLOTLYENV=window.PLOTLYENV || {};window.PLOTLYENV.BASE_URL=\"https://plot.ly\";Plotly.newPlot(\"0aa7df8c-7061-44c0-a3dd-4d2a555f5649\", [{\"type\": \"bar\", \"x\": [\"BD2 \\u0394(adhE,ldhA,pflB) + pBD1 in mod M9 + 1.0 a.u. IPTG\"], \"y\": [2.737102484424037], \"error_y\": {\"type\": \"data\", \"array\": [0.09104379118263398], \"visible\": true, \"color\": \"rgb(27,158,119)\"}, \"marker\": {\"color\": \"rgb(27,158,119)\"}, \"showlegend\": true, \"legendgroup\": \"BD2 \\u0394(adhE,ldhA,pflB) + pBD1mod M9 + 1.0 a.u. IPTG\", \"name\": \"BD2 \\u0394(adhE,ldhA,pflB) + pBD1 in mod M9 + 1.0 a.u. IPTG\"}, {\"type\": \"bar\", \"x\": [\"BD4 \\u0394(adhE,ldhA,pflB) + pBD3 in mod M9 + 1.0 a.u. IPTG\"], \"y\": [1.7657885379466014], \"error_y\": {\"type\": \"data\", \"array\": [0.14803557175495363], \"visible\": true, \"color\": \"rgb(217,95,2)\"}, \"marker\": {\"color\": \"rgb(217,95,2)\"}, \"showlegend\": true, \"legendgroup\": \"BD4 \\u0394(adhE,ldhA,pflB) + pBD3mod M9 + 1.0 a.u. IPTG\", \"name\": \"BD4 \\u0394(adhE,ldhA,pflB) + pBD3 in mod M9 + 1.0 a.u. IPTG\"}], {\"title\": \"Max m23bdo  for different strains in mod M9 media\"}, {\"showLink\": true, \"linkText\": \"Export to plot.ly\"})});</script>"
      ],
      "text/vnd.plotly.v1+html": [
       "<div id=\"0aa7df8c-7061-44c0-a3dd-4d2a555f5649\" style=\"height: 525px; width: 100%;\" class=\"plotly-graph-div\"></div><script type=\"text/javascript\">require([\"plotly\"], function(Plotly) { window.PLOTLYENV=window.PLOTLYENV || {};window.PLOTLYENV.BASE_URL=\"https://plot.ly\";Plotly.newPlot(\"0aa7df8c-7061-44c0-a3dd-4d2a555f5649\", [{\"type\": \"bar\", \"x\": [\"BD2 \\u0394(adhE,ldhA,pflB) + pBD1 in mod M9 + 1.0 a.u. IPTG\"], \"y\": [2.737102484424037], \"error_y\": {\"type\": \"data\", \"array\": [0.09104379118263398], \"visible\": true, \"color\": \"rgb(27,158,119)\"}, \"marker\": {\"color\": \"rgb(27,158,119)\"}, \"showlegend\": true, \"legendgroup\": \"BD2 \\u0394(adhE,ldhA,pflB) + pBD1mod M9 + 1.0 a.u. IPTG\", \"name\": \"BD2 \\u0394(adhE,ldhA,pflB) + pBD1 in mod M9 + 1.0 a.u. IPTG\"}, {\"type\": \"bar\", \"x\": [\"BD4 \\u0394(adhE,ldhA,pflB) + pBD3 in mod M9 + 1.0 a.u. IPTG\"], \"y\": [1.7657885379466014], \"error_y\": {\"type\": \"data\", \"array\": [0.14803557175495363], \"visible\": true, \"color\": \"rgb(217,95,2)\"}, \"marker\": {\"color\": \"rgb(217,95,2)\"}, \"showlegend\": true, \"legendgroup\": \"BD4 \\u0394(adhE,ldhA,pflB) + pBD3mod M9 + 1.0 a.u. IPTG\", \"name\": \"BD4 \\u0394(adhE,ldhA,pflB) + pBD3 in mod M9 + 1.0 a.u. IPTG\"}], {\"title\": \"Max m23bdo  for different strains in mod M9 media\"}, {\"showLink\": true, \"linkText\": \"Export to plot.ly\"})});</script>"
      ]
     },
     "metadata": {},
     "output_type": "display_data"
    },
    {
     "data": {
      "application/vnd.plotly.v1+json": {
       "data": [
        {
         "error_y": {
          "array": [
           0.08390032281716181
          ],
          "color": "rgb(27,158,119)",
          "type": "data",
          "visible": true
         },
         "legendgroup": "BD2 Δ(adhE,ldhA,pflB) + pBD1mod M9 + 1.0 a.u. IPTG",
         "marker": {
          "color": "rgb(27,158,119)"
         },
         "name": "BD2 Δ(adhE,ldhA,pflB) + pBD1 in mod M9 + 1.0 a.u. IPTG",
         "showlegend": true,
         "type": "bar",
         "x": [
          "BD2 Δ(adhE,ldhA,pflB) + pBD1 in mod M9 + 1.0 a.u. IPTG"
         ],
         "y": [
          0.45725961538461535
         ]
        },
        {
         "error_y": {
          "array": [
           0.015228499774263838
          ],
          "color": "rgb(217,95,2)",
          "type": "data",
          "visible": true
         },
         "legendgroup": "BD4 Δ(adhE,ldhA,pflB) + pBD3mod M9 + 1.0 a.u. IPTG",
         "marker": {
          "color": "rgb(217,95,2)"
         },
         "name": "BD4 Δ(adhE,ldhA,pflB) + pBD3 in mod M9 + 1.0 a.u. IPTG",
         "showlegend": true,
         "type": "bar",
         "x": [
          "BD4 Δ(adhE,ldhA,pflB) + pBD3 in mod M9 + 1.0 a.u. IPTG"
         ],
         "y": [
          0.1880128205128205
         ]
        }
       ],
       "layout": {
        "title": "Max 13bdo  for different strains in mod M9 media"
       }
      },
      "text/html": [
       "<div id=\"acb98613-05fb-4389-9256-69f8ad9907c1\" style=\"height: 525px; width: 100%;\" class=\"plotly-graph-div\"></div><script type=\"text/javascript\">require([\"plotly\"], function(Plotly) { window.PLOTLYENV=window.PLOTLYENV || {};window.PLOTLYENV.BASE_URL=\"https://plot.ly\";Plotly.newPlot(\"acb98613-05fb-4389-9256-69f8ad9907c1\", [{\"type\": \"bar\", \"x\": [\"BD2 \\u0394(adhE,ldhA,pflB) + pBD1 in mod M9 + 1.0 a.u. IPTG\"], \"y\": [0.45725961538461535], \"error_y\": {\"type\": \"data\", \"array\": [0.08390032281716181], \"visible\": true, \"color\": \"rgb(27,158,119)\"}, \"marker\": {\"color\": \"rgb(27,158,119)\"}, \"showlegend\": true, \"legendgroup\": \"BD2 \\u0394(adhE,ldhA,pflB) + pBD1mod M9 + 1.0 a.u. IPTG\", \"name\": \"BD2 \\u0394(adhE,ldhA,pflB) + pBD1 in mod M9 + 1.0 a.u. IPTG\"}, {\"type\": \"bar\", \"x\": [\"BD4 \\u0394(adhE,ldhA,pflB) + pBD3 in mod M9 + 1.0 a.u. IPTG\"], \"y\": [0.1880128205128205], \"error_y\": {\"type\": \"data\", \"array\": [0.015228499774263838], \"visible\": true, \"color\": \"rgb(217,95,2)\"}, \"marker\": {\"color\": \"rgb(217,95,2)\"}, \"showlegend\": true, \"legendgroup\": \"BD4 \\u0394(adhE,ldhA,pflB) + pBD3mod M9 + 1.0 a.u. IPTG\", \"name\": \"BD4 \\u0394(adhE,ldhA,pflB) + pBD3 in mod M9 + 1.0 a.u. IPTG\"}], {\"title\": \"Max 13bdo  for different strains in mod M9 media\"}, {\"showLink\": true, \"linkText\": \"Export to plot.ly\"})});</script>"
      ],
      "text/vnd.plotly.v1+html": [
       "<div id=\"acb98613-05fb-4389-9256-69f8ad9907c1\" style=\"height: 525px; width: 100%;\" class=\"plotly-graph-div\"></div><script type=\"text/javascript\">require([\"plotly\"], function(Plotly) { window.PLOTLYENV=window.PLOTLYENV || {};window.PLOTLYENV.BASE_URL=\"https://plot.ly\";Plotly.newPlot(\"acb98613-05fb-4389-9256-69f8ad9907c1\", [{\"type\": \"bar\", \"x\": [\"BD2 \\u0394(adhE,ldhA,pflB) + pBD1 in mod M9 + 1.0 a.u. IPTG\"], \"y\": [0.45725961538461535], \"error_y\": {\"type\": \"data\", \"array\": [0.08390032281716181], \"visible\": true, \"color\": \"rgb(27,158,119)\"}, \"marker\": {\"color\": \"rgb(27,158,119)\"}, \"showlegend\": true, \"legendgroup\": \"BD2 \\u0394(adhE,ldhA,pflB) + pBD1mod M9 + 1.0 a.u. IPTG\", \"name\": \"BD2 \\u0394(adhE,ldhA,pflB) + pBD1 in mod M9 + 1.0 a.u. IPTG\"}, {\"type\": \"bar\", \"x\": [\"BD4 \\u0394(adhE,ldhA,pflB) + pBD3 in mod M9 + 1.0 a.u. IPTG\"], \"y\": [0.1880128205128205], \"error_y\": {\"type\": \"data\", \"array\": [0.015228499774263838], \"visible\": true, \"color\": \"rgb(217,95,2)\"}, \"marker\": {\"color\": \"rgb(217,95,2)\"}, \"showlegend\": true, \"legendgroup\": \"BD4 \\u0394(adhE,ldhA,pflB) + pBD3mod M9 + 1.0 a.u. IPTG\", \"name\": \"BD4 \\u0394(adhE,ldhA,pflB) + pBD3 in mod M9 + 1.0 a.u. IPTG\"}], {\"title\": \"Max 13bdo  for different strains in mod M9 media\"}, {\"showLink\": true, \"linkText\": \"Export to plot.ly\"})});</script>"
      ]
     },
     "metadata": {},
     "output_type": "display_data"
    },
    {
     "data": {
      "application/vnd.plotly.v1+json": {
       "data": [
        {
         "error_y": {
          "array": [
           1.2870632944777394
          ],
          "color": "rgb(27,158,119)",
          "type": "data",
          "visible": true
         },
         "legendgroup": "BD2 Δ(adhE,ldhA,pflB) + pBD1mod M9 + 1.0 a.u. IPTG",
         "marker": {
          "color": "rgb(27,158,119)"
         },
         "name": "BD2 Δ(adhE,ldhA,pflB) + pBD1 in mod M9 + 1.0 a.u. IPTG",
         "showlegend": true,
         "type": "bar",
         "x": [
          "BD2 Δ(adhE,ldhA,pflB) + pBD1 in mod M9 + 1.0 a.u. IPTG"
         ],
         "y": [
          2.1074115018069826
         ]
        },
        {
         "error_y": {
          "array": [
           0.45008958150345885
          ],
          "color": "rgb(217,95,2)",
          "type": "data",
          "visible": true
         },
         "legendgroup": "BD4 Δ(adhE,ldhA,pflB) + pBD3mod M9 + 1.0 a.u. IPTG",
         "marker": {
          "color": "rgb(217,95,2)"
         },
         "name": "BD4 Δ(adhE,ldhA,pflB) + pBD3 in mod M9 + 1.0 a.u. IPTG",
         "showlegend": true,
         "type": "bar",
         "x": [
          "BD4 Δ(adhE,ldhA,pflB) + pBD3 in mod M9 + 1.0 a.u. IPTG"
         ],
         "y": [
          1.1064547645851717
         ]
        }
       ],
       "layout": {
        "title": "Max acet  for different strains in mod M9 media"
       }
      },
      "text/html": [
       "<div id=\"423c06d1-96c2-49df-9ce0-e5bed6b41054\" style=\"height: 525px; width: 100%;\" class=\"plotly-graph-div\"></div><script type=\"text/javascript\">require([\"plotly\"], function(Plotly) { window.PLOTLYENV=window.PLOTLYENV || {};window.PLOTLYENV.BASE_URL=\"https://plot.ly\";Plotly.newPlot(\"423c06d1-96c2-49df-9ce0-e5bed6b41054\", [{\"type\": \"bar\", \"x\": [\"BD2 \\u0394(adhE,ldhA,pflB) + pBD1 in mod M9 + 1.0 a.u. IPTG\"], \"y\": [2.1074115018069826], \"error_y\": {\"type\": \"data\", \"array\": [1.2870632944777394], \"visible\": true, \"color\": \"rgb(27,158,119)\"}, \"marker\": {\"color\": \"rgb(27,158,119)\"}, \"showlegend\": true, \"legendgroup\": \"BD2 \\u0394(adhE,ldhA,pflB) + pBD1mod M9 + 1.0 a.u. IPTG\", \"name\": \"BD2 \\u0394(adhE,ldhA,pflB) + pBD1 in mod M9 + 1.0 a.u. IPTG\"}, {\"type\": \"bar\", \"x\": [\"BD4 \\u0394(adhE,ldhA,pflB) + pBD3 in mod M9 + 1.0 a.u. IPTG\"], \"y\": [1.1064547645851717], \"error_y\": {\"type\": \"data\", \"array\": [0.45008958150345885], \"visible\": true, \"color\": \"rgb(217,95,2)\"}, \"marker\": {\"color\": \"rgb(217,95,2)\"}, \"showlegend\": true, \"legendgroup\": \"BD4 \\u0394(adhE,ldhA,pflB) + pBD3mod M9 + 1.0 a.u. IPTG\", \"name\": \"BD4 \\u0394(adhE,ldhA,pflB) + pBD3 in mod M9 + 1.0 a.u. IPTG\"}], {\"title\": \"Max acet  for different strains in mod M9 media\"}, {\"showLink\": true, \"linkText\": \"Export to plot.ly\"})});</script>"
      ],
      "text/vnd.plotly.v1+html": [
       "<div id=\"423c06d1-96c2-49df-9ce0-e5bed6b41054\" style=\"height: 525px; width: 100%;\" class=\"plotly-graph-div\"></div><script type=\"text/javascript\">require([\"plotly\"], function(Plotly) { window.PLOTLYENV=window.PLOTLYENV || {};window.PLOTLYENV.BASE_URL=\"https://plot.ly\";Plotly.newPlot(\"423c06d1-96c2-49df-9ce0-e5bed6b41054\", [{\"type\": \"bar\", \"x\": [\"BD2 \\u0394(adhE,ldhA,pflB) + pBD1 in mod M9 + 1.0 a.u. IPTG\"], \"y\": [2.1074115018069826], \"error_y\": {\"type\": \"data\", \"array\": [1.2870632944777394], \"visible\": true, \"color\": \"rgb(27,158,119)\"}, \"marker\": {\"color\": \"rgb(27,158,119)\"}, \"showlegend\": true, \"legendgroup\": \"BD2 \\u0394(adhE,ldhA,pflB) + pBD1mod M9 + 1.0 a.u. IPTG\", \"name\": \"BD2 \\u0394(adhE,ldhA,pflB) + pBD1 in mod M9 + 1.0 a.u. IPTG\"}, {\"type\": \"bar\", \"x\": [\"BD4 \\u0394(adhE,ldhA,pflB) + pBD3 in mod M9 + 1.0 a.u. IPTG\"], \"y\": [1.1064547645851717], \"error_y\": {\"type\": \"data\", \"array\": [0.45008958150345885], \"visible\": true, \"color\": \"rgb(217,95,2)\"}, \"marker\": {\"color\": \"rgb(217,95,2)\"}, \"showlegend\": true, \"legendgroup\": \"BD4 \\u0394(adhE,ldhA,pflB) + pBD3mod M9 + 1.0 a.u. IPTG\", \"name\": \"BD4 \\u0394(adhE,ldhA,pflB) + pBD3 in mod M9 + 1.0 a.u. IPTG\"}], {\"title\": \"Max acet  for different strains in mod M9 media\"}, {\"showLink\": true, \"linkText\": \"Export to plot.ly\"})});</script>"
      ]
     },
     "metadata": {},
     "output_type": "display_data"
    },
    {
     "data": {
      "application/vnd.plotly.v1+json": {
       "data": [
        {
         "error_y": {
          "array": [
           0.3937714396599519
          ],
          "color": "rgb(27,158,119)",
          "type": "data",
          "visible": true
         },
         "legendgroup": "BD2 Δ(adhE,ldhA,pflB) + pBD1mod M9 + 1.0 a.u. IPTG",
         "marker": {
          "color": "rgb(27,158,119)"
         },
         "name": "BD2 Δ(adhE,ldhA,pflB) + pBD1 in mod M9 + 1.0 a.u. IPTG",
         "showlegend": true,
         "type": "bar",
         "x": [
          "BD2 Δ(adhE,ldhA,pflB) + pBD1 in mod M9 + 1.0 a.u. IPTG"
         ],
         "y": [
          0.8594709503123039
         ]
        },
        {
         "error_y": {
          "array": [
           0.06763868478010407
          ],
          "color": "rgb(217,95,2)",
          "type": "data",
          "visible": true
         },
         "legendgroup": "BD4 Δ(adhE,ldhA,pflB) + pBD3mod M9 + 1.0 a.u. IPTG",
         "marker": {
          "color": "rgb(217,95,2)"
         },
         "name": "BD4 Δ(adhE,ldhA,pflB) + pBD3 in mod M9 + 1.0 a.u. IPTG",
         "showlegend": true,
         "type": "bar",
         "x": [
          "BD4 Δ(adhE,ldhA,pflB) + pBD3 in mod M9 + 1.0 a.u. IPTG"
         ],
         "y": [
          0.7229968056366033
         ]
        }
       ],
       "layout": {
        "title": "Max ac  for different strains in mod M9 media"
       }
      },
      "text/html": [
       "<div id=\"d490c000-a96e-4209-8292-805cf8dda6a0\" style=\"height: 525px; width: 100%;\" class=\"plotly-graph-div\"></div><script type=\"text/javascript\">require([\"plotly\"], function(Plotly) { window.PLOTLYENV=window.PLOTLYENV || {};window.PLOTLYENV.BASE_URL=\"https://plot.ly\";Plotly.newPlot(\"d490c000-a96e-4209-8292-805cf8dda6a0\", [{\"type\": \"bar\", \"x\": [\"BD2 \\u0394(adhE,ldhA,pflB) + pBD1 in mod M9 + 1.0 a.u. IPTG\"], \"y\": [0.8594709503123039], \"error_y\": {\"type\": \"data\", \"array\": [0.3937714396599519], \"visible\": true, \"color\": \"rgb(27,158,119)\"}, \"marker\": {\"color\": \"rgb(27,158,119)\"}, \"showlegend\": true, \"legendgroup\": \"BD2 \\u0394(adhE,ldhA,pflB) + pBD1mod M9 + 1.0 a.u. IPTG\", \"name\": \"BD2 \\u0394(adhE,ldhA,pflB) + pBD1 in mod M9 + 1.0 a.u. IPTG\"}, {\"type\": \"bar\", \"x\": [\"BD4 \\u0394(adhE,ldhA,pflB) + pBD3 in mod M9 + 1.0 a.u. IPTG\"], \"y\": [0.7229968056366033], \"error_y\": {\"type\": \"data\", \"array\": [0.06763868478010407], \"visible\": true, \"color\": \"rgb(217,95,2)\"}, \"marker\": {\"color\": \"rgb(217,95,2)\"}, \"showlegend\": true, \"legendgroup\": \"BD4 \\u0394(adhE,ldhA,pflB) + pBD3mod M9 + 1.0 a.u. IPTG\", \"name\": \"BD4 \\u0394(adhE,ldhA,pflB) + pBD3 in mod M9 + 1.0 a.u. IPTG\"}], {\"title\": \"Max ac  for different strains in mod M9 media\"}, {\"showLink\": true, \"linkText\": \"Export to plot.ly\"})});</script>"
      ],
      "text/vnd.plotly.v1+html": [
       "<div id=\"d490c000-a96e-4209-8292-805cf8dda6a0\" style=\"height: 525px; width: 100%;\" class=\"plotly-graph-div\"></div><script type=\"text/javascript\">require([\"plotly\"], function(Plotly) { window.PLOTLYENV=window.PLOTLYENV || {};window.PLOTLYENV.BASE_URL=\"https://plot.ly\";Plotly.newPlot(\"d490c000-a96e-4209-8292-805cf8dda6a0\", [{\"type\": \"bar\", \"x\": [\"BD2 \\u0394(adhE,ldhA,pflB) + pBD1 in mod M9 + 1.0 a.u. IPTG\"], \"y\": [0.8594709503123039], \"error_y\": {\"type\": \"data\", \"array\": [0.3937714396599519], \"visible\": true, \"color\": \"rgb(27,158,119)\"}, \"marker\": {\"color\": \"rgb(27,158,119)\"}, \"showlegend\": true, \"legendgroup\": \"BD2 \\u0394(adhE,ldhA,pflB) + pBD1mod M9 + 1.0 a.u. IPTG\", \"name\": \"BD2 \\u0394(adhE,ldhA,pflB) + pBD1 in mod M9 + 1.0 a.u. IPTG\"}, {\"type\": \"bar\", \"x\": [\"BD4 \\u0394(adhE,ldhA,pflB) + pBD3 in mod M9 + 1.0 a.u. IPTG\"], \"y\": [0.7229968056366033], \"error_y\": {\"type\": \"data\", \"array\": [0.06763868478010407], \"visible\": true, \"color\": \"rgb(217,95,2)\"}, \"marker\": {\"color\": \"rgb(217,95,2)\"}, \"showlegend\": true, \"legendgroup\": \"BD4 \\u0394(adhE,ldhA,pflB) + pBD3mod M9 + 1.0 a.u. IPTG\", \"name\": \"BD4 \\u0394(adhE,ldhA,pflB) + pBD3 in mod M9 + 1.0 a.u. IPTG\"}], {\"title\": \"Max ac  for different strains in mod M9 media\"}, {\"showLink\": true, \"linkText\": \"Export to plot.ly\"})});</script>"
      ]
     },
     "metadata": {},
     "output_type": "display_data"
    },
    {
     "data": {
      "application/vnd.plotly.v1+json": {
       "data": [
        {
         "error_y": {
          "array": [
           0.3722006627255431
          ],
          "color": "rgb(27,158,119)",
          "type": "data",
          "visible": true
         },
         "legendgroup": "BD2 Δ(adhE,ldhA,pflB) + pBD1mod M9 + 1.0 a.u. IPTG",
         "marker": {
          "color": "rgb(27,158,119)"
         },
         "name": "BD2 Δ(adhE,ldhA,pflB) + pBD1 in mod M9 + 1.0 a.u. IPTG",
         "showlegend": true,
         "type": "bar",
         "x": [
          "BD2 Δ(adhE,ldhA,pflB) + pBD1 in mod M9 + 1.0 a.u. IPTG"
         ],
         "y": [
          11.413333333333334
         ]
        },
        {
         "error_y": {
          "array": [
           1.0491901638883203
          ],
          "color": "rgb(217,95,2)",
          "type": "data",
          "visible": true
         },
         "legendgroup": "BD4 Δ(adhE,ldhA,pflB) + pBD3mod M9 + 1.0 a.u. IPTG",
         "marker": {
          "color": "rgb(217,95,2)"
         },
         "name": "BD4 Δ(adhE,ldhA,pflB) + pBD3 in mod M9 + 1.0 a.u. IPTG",
         "showlegend": true,
         "type": "bar",
         "x": [
          "BD4 Δ(adhE,ldhA,pflB) + pBD3 in mod M9 + 1.0 a.u. IPTG"
         ],
         "y": [
          11.799999999999999
         ]
        }
       ],
       "layout": {
        "title": "Max od  for different strains in mod M9 media"
       }
      },
      "text/html": [
       "<div id=\"c6edaaa0-7b2d-4db6-a836-adb5dbf3866a\" style=\"height: 525px; width: 100%;\" class=\"plotly-graph-div\"></div><script type=\"text/javascript\">require([\"plotly\"], function(Plotly) { window.PLOTLYENV=window.PLOTLYENV || {};window.PLOTLYENV.BASE_URL=\"https://plot.ly\";Plotly.newPlot(\"c6edaaa0-7b2d-4db6-a836-adb5dbf3866a\", [{\"type\": \"bar\", \"x\": [\"BD2 \\u0394(adhE,ldhA,pflB) + pBD1 in mod M9 + 1.0 a.u. IPTG\"], \"y\": [11.413333333333334], \"error_y\": {\"type\": \"data\", \"array\": [0.3722006627255431], \"visible\": true, \"color\": \"rgb(27,158,119)\"}, \"marker\": {\"color\": \"rgb(27,158,119)\"}, \"showlegend\": true, \"legendgroup\": \"BD2 \\u0394(adhE,ldhA,pflB) + pBD1mod M9 + 1.0 a.u. IPTG\", \"name\": \"BD2 \\u0394(adhE,ldhA,pflB) + pBD1 in mod M9 + 1.0 a.u. IPTG\"}, {\"type\": \"bar\", \"x\": [\"BD4 \\u0394(adhE,ldhA,pflB) + pBD3 in mod M9 + 1.0 a.u. IPTG\"], \"y\": [11.799999999999999], \"error_y\": {\"type\": \"data\", \"array\": [1.0491901638883203], \"visible\": true, \"color\": \"rgb(217,95,2)\"}, \"marker\": {\"color\": \"rgb(217,95,2)\"}, \"showlegend\": true, \"legendgroup\": \"BD4 \\u0394(adhE,ldhA,pflB) + pBD3mod M9 + 1.0 a.u. IPTG\", \"name\": \"BD4 \\u0394(adhE,ldhA,pflB) + pBD3 in mod M9 + 1.0 a.u. IPTG\"}], {\"title\": \"Max od  for different strains in mod M9 media\"}, {\"showLink\": true, \"linkText\": \"Export to plot.ly\"})});</script>"
      ],
      "text/vnd.plotly.v1+html": [
       "<div id=\"c6edaaa0-7b2d-4db6-a836-adb5dbf3866a\" style=\"height: 525px; width: 100%;\" class=\"plotly-graph-div\"></div><script type=\"text/javascript\">require([\"plotly\"], function(Plotly) { window.PLOTLYENV=window.PLOTLYENV || {};window.PLOTLYENV.BASE_URL=\"https://plot.ly\";Plotly.newPlot(\"c6edaaa0-7b2d-4db6-a836-adb5dbf3866a\", [{\"type\": \"bar\", \"x\": [\"BD2 \\u0394(adhE,ldhA,pflB) + pBD1 in mod M9 + 1.0 a.u. IPTG\"], \"y\": [11.413333333333334], \"error_y\": {\"type\": \"data\", \"array\": [0.3722006627255431], \"visible\": true, \"color\": \"rgb(27,158,119)\"}, \"marker\": {\"color\": \"rgb(27,158,119)\"}, \"showlegend\": true, \"legendgroup\": \"BD2 \\u0394(adhE,ldhA,pflB) + pBD1mod M9 + 1.0 a.u. IPTG\", \"name\": \"BD2 \\u0394(adhE,ldhA,pflB) + pBD1 in mod M9 + 1.0 a.u. IPTG\"}, {\"type\": \"bar\", \"x\": [\"BD4 \\u0394(adhE,ldhA,pflB) + pBD3 in mod M9 + 1.0 a.u. IPTG\"], \"y\": [11.799999999999999], \"error_y\": {\"type\": \"data\", \"array\": [1.0491901638883203], \"visible\": true, \"color\": \"rgb(217,95,2)\"}, \"marker\": {\"color\": \"rgb(217,95,2)\"}, \"showlegend\": true, \"legendgroup\": \"BD4 \\u0394(adhE,ldhA,pflB) + pBD3mod M9 + 1.0 a.u. IPTG\", \"name\": \"BD4 \\u0394(adhE,ldhA,pflB) + pBD3 in mod M9 + 1.0 a.u. IPTG\"}], {\"title\": \"Max od  for different strains in mod M9 media\"}, {\"showLink\": true, \"linkText\": \"Export to plot.ly\"})});</script>"
      ]
     },
     "metadata": {},
     "output_type": "display_data"
    },
    {
     "data": {
      "application/vnd.plotly.v1+json": {
       "data": [
        {
         "error_y": {
          "array": [
           2.4995954868897394
          ],
          "color": "rgb(27,158,119)",
          "type": "data",
          "visible": true
         },
         "legendgroup": "BD2 Δ(adhE,ldhA,pflB) + pBD1mod M9 + 1.0 a.u. IPTG",
         "marker": {
          "color": "rgb(27,158,119)"
         },
         "name": "BD2 Δ(adhE,ldhA,pflB) + pBD1 in mod M9 + 1.0 a.u. IPTG",
         "showlegend": true,
         "type": "bar",
         "x": [
          "BD2 Δ(adhE,ldhA,pflB) + pBD1 in mod M9 + 1.0 a.u. IPTG"
         ],
         "y": [
          31.601629629629628
         ]
        },
        {
         "error_y": {
          "array": [
           1.2024863669640249
          ],
          "color": "rgb(217,95,2)",
          "type": "data",
          "visible": true
         },
         "legendgroup": "BD4 Δ(adhE,ldhA,pflB) + pBD3mod M9 + 1.0 a.u. IPTG",
         "marker": {
          "color": "rgb(217,95,2)"
         },
         "name": "BD4 Δ(adhE,ldhA,pflB) + pBD3 in mod M9 + 1.0 a.u. IPTG",
         "showlegend": true,
         "type": "bar",
         "x": [
          "BD4 Δ(adhE,ldhA,pflB) + pBD3 in mod M9 + 1.0 a.u. IPTG"
         ],
         "y": [
          30.34346913580247
         ]
        }
       ],
       "layout": {
        "title": "Max glc__D  for different strains in mod M9 media"
       }
      },
      "text/html": [
       "<div id=\"45e1588b-5a2a-475b-8147-cf2393e41cac\" style=\"height: 525px; width: 100%;\" class=\"plotly-graph-div\"></div><script type=\"text/javascript\">require([\"plotly\"], function(Plotly) { window.PLOTLYENV=window.PLOTLYENV || {};window.PLOTLYENV.BASE_URL=\"https://plot.ly\";Plotly.newPlot(\"45e1588b-5a2a-475b-8147-cf2393e41cac\", [{\"type\": \"bar\", \"x\": [\"BD2 \\u0394(adhE,ldhA,pflB) + pBD1 in mod M9 + 1.0 a.u. IPTG\"], \"y\": [31.601629629629628], \"error_y\": {\"type\": \"data\", \"array\": [2.4995954868897394], \"visible\": true, \"color\": \"rgb(27,158,119)\"}, \"marker\": {\"color\": \"rgb(27,158,119)\"}, \"showlegend\": true, \"legendgroup\": \"BD2 \\u0394(adhE,ldhA,pflB) + pBD1mod M9 + 1.0 a.u. IPTG\", \"name\": \"BD2 \\u0394(adhE,ldhA,pflB) + pBD1 in mod M9 + 1.0 a.u. IPTG\"}, {\"type\": \"bar\", \"x\": [\"BD4 \\u0394(adhE,ldhA,pflB) + pBD3 in mod M9 + 1.0 a.u. IPTG\"], \"y\": [30.34346913580247], \"error_y\": {\"type\": \"data\", \"array\": [1.2024863669640249], \"visible\": true, \"color\": \"rgb(217,95,2)\"}, \"marker\": {\"color\": \"rgb(217,95,2)\"}, \"showlegend\": true, \"legendgroup\": \"BD4 \\u0394(adhE,ldhA,pflB) + pBD3mod M9 + 1.0 a.u. IPTG\", \"name\": \"BD4 \\u0394(adhE,ldhA,pflB) + pBD3 in mod M9 + 1.0 a.u. IPTG\"}], {\"title\": \"Max glc__D  for different strains in mod M9 media\"}, {\"showLink\": true, \"linkText\": \"Export to plot.ly\"})});</script>"
      ],
      "text/vnd.plotly.v1+html": [
       "<div id=\"45e1588b-5a2a-475b-8147-cf2393e41cac\" style=\"height: 525px; width: 100%;\" class=\"plotly-graph-div\"></div><script type=\"text/javascript\">require([\"plotly\"], function(Plotly) { window.PLOTLYENV=window.PLOTLYENV || {};window.PLOTLYENV.BASE_URL=\"https://plot.ly\";Plotly.newPlot(\"45e1588b-5a2a-475b-8147-cf2393e41cac\", [{\"type\": \"bar\", \"x\": [\"BD2 \\u0394(adhE,ldhA,pflB) + pBD1 in mod M9 + 1.0 a.u. IPTG\"], \"y\": [31.601629629629628], \"error_y\": {\"type\": \"data\", \"array\": [2.4995954868897394], \"visible\": true, \"color\": \"rgb(27,158,119)\"}, \"marker\": {\"color\": \"rgb(27,158,119)\"}, \"showlegend\": true, \"legendgroup\": \"BD2 \\u0394(adhE,ldhA,pflB) + pBD1mod M9 + 1.0 a.u. IPTG\", \"name\": \"BD2 \\u0394(adhE,ldhA,pflB) + pBD1 in mod M9 + 1.0 a.u. IPTG\"}, {\"type\": \"bar\", \"x\": [\"BD4 \\u0394(adhE,ldhA,pflB) + pBD3 in mod M9 + 1.0 a.u. IPTG\"], \"y\": [30.34346913580247], \"error_y\": {\"type\": \"data\", \"array\": [1.2024863669640249], \"visible\": true, \"color\": \"rgb(217,95,2)\"}, \"marker\": {\"color\": \"rgb(217,95,2)\"}, \"showlegend\": true, \"legendgroup\": \"BD4 \\u0394(adhE,ldhA,pflB) + pBD3mod M9 + 1.0 a.u. IPTG\", \"name\": \"BD4 \\u0394(adhE,ldhA,pflB) + pBD3 in mod M9 + 1.0 a.u. IPTG\"}], {\"title\": \"Max glc__D  for different strains in mod M9 media\"}, {\"showLink\": true, \"linkText\": \"Export to plot.ly\"})});</script>"
      ]
     },
     "metadata": {},
     "output_type": "display_data"
    },
    {
     "data": {
      "application/vnd.plotly.v1+json": {
       "data": [
        {
         "error_y": {
          "array": [
           0.06909970333884335
          ],
          "color": "rgb(27,158,119)",
          "type": "data",
          "visible": true
         },
         "legendgroup": "BD2 Δ(adhE,ldhA,pflB) + pBD1mod M9 + 1.0 a.u. IPTG",
         "marker": {
          "color": "rgb(27,158,119)"
         },
         "name": "BD2 Δ(adhE,ldhA,pflB) + pBD1 in mod M9 + 1.0 a.u. IPTG",
         "showlegend": true,
         "type": "bar",
         "x": [
          "BD2 Δ(adhE,ldhA,pflB) + pBD1 in mod M9 + 1.0 a.u. IPTG"
         ],
         "y": [
          0.12832434713642282
         ]
        },
        {
         "error_y": {
          "array": [
           0.019245539021303312
          ],
          "color": "rgb(217,95,2)",
          "type": "data",
          "visible": true
         },
         "legendgroup": "BD4 Δ(adhE,ldhA,pflB) + pBD3mod M9 + 1.0 a.u. IPTG",
         "marker": {
          "color": "rgb(217,95,2)"
         },
         "name": "BD4 Δ(adhE,ldhA,pflB) + pBD3 in mod M9 + 1.0 a.u. IPTG",
         "showlegend": true,
         "type": "bar",
         "x": [
          "BD4 Δ(adhE,ldhA,pflB) + pBD3 in mod M9 + 1.0 a.u. IPTG"
         ],
         "y": [
          0.15196131933378443
         ]
        }
       ],
       "layout": {
        "title": "Max acald  for different strains in mod M9 media"
       }
      },
      "text/html": [
       "<div id=\"8fd981c4-8858-4b0b-8fc1-0a482f7bb443\" style=\"height: 525px; width: 100%;\" class=\"plotly-graph-div\"></div><script type=\"text/javascript\">require([\"plotly\"], function(Plotly) { window.PLOTLYENV=window.PLOTLYENV || {};window.PLOTLYENV.BASE_URL=\"https://plot.ly\";Plotly.newPlot(\"8fd981c4-8858-4b0b-8fc1-0a482f7bb443\", [{\"type\": \"bar\", \"x\": [\"BD2 \\u0394(adhE,ldhA,pflB) + pBD1 in mod M9 + 1.0 a.u. IPTG\"], \"y\": [0.12832434713642282], \"error_y\": {\"type\": \"data\", \"array\": [0.06909970333884335], \"visible\": true, \"color\": \"rgb(27,158,119)\"}, \"marker\": {\"color\": \"rgb(27,158,119)\"}, \"showlegend\": true, \"legendgroup\": \"BD2 \\u0394(adhE,ldhA,pflB) + pBD1mod M9 + 1.0 a.u. IPTG\", \"name\": \"BD2 \\u0394(adhE,ldhA,pflB) + pBD1 in mod M9 + 1.0 a.u. IPTG\"}, {\"type\": \"bar\", \"x\": [\"BD4 \\u0394(adhE,ldhA,pflB) + pBD3 in mod M9 + 1.0 a.u. IPTG\"], \"y\": [0.15196131933378443], \"error_y\": {\"type\": \"data\", \"array\": [0.019245539021303312], \"visible\": true, \"color\": \"rgb(217,95,2)\"}, \"marker\": {\"color\": \"rgb(217,95,2)\"}, \"showlegend\": true, \"legendgroup\": \"BD4 \\u0394(adhE,ldhA,pflB) + pBD3mod M9 + 1.0 a.u. IPTG\", \"name\": \"BD4 \\u0394(adhE,ldhA,pflB) + pBD3 in mod M9 + 1.0 a.u. IPTG\"}], {\"title\": \"Max acald  for different strains in mod M9 media\"}, {\"showLink\": true, \"linkText\": \"Export to plot.ly\"})});</script>"
      ],
      "text/vnd.plotly.v1+html": [
       "<div id=\"8fd981c4-8858-4b0b-8fc1-0a482f7bb443\" style=\"height: 525px; width: 100%;\" class=\"plotly-graph-div\"></div><script type=\"text/javascript\">require([\"plotly\"], function(Plotly) { window.PLOTLYENV=window.PLOTLYENV || {};window.PLOTLYENV.BASE_URL=\"https://plot.ly\";Plotly.newPlot(\"8fd981c4-8858-4b0b-8fc1-0a482f7bb443\", [{\"type\": \"bar\", \"x\": [\"BD2 \\u0394(adhE,ldhA,pflB) + pBD1 in mod M9 + 1.0 a.u. IPTG\"], \"y\": [0.12832434713642282], \"error_y\": {\"type\": \"data\", \"array\": [0.06909970333884335], \"visible\": true, \"color\": \"rgb(27,158,119)\"}, \"marker\": {\"color\": \"rgb(27,158,119)\"}, \"showlegend\": true, \"legendgroup\": \"BD2 \\u0394(adhE,ldhA,pflB) + pBD1mod M9 + 1.0 a.u. IPTG\", \"name\": \"BD2 \\u0394(adhE,ldhA,pflB) + pBD1 in mod M9 + 1.0 a.u. IPTG\"}, {\"type\": \"bar\", \"x\": [\"BD4 \\u0394(adhE,ldhA,pflB) + pBD3 in mod M9 + 1.0 a.u. IPTG\"], \"y\": [0.15196131933378443], \"error_y\": {\"type\": \"data\", \"array\": [0.019245539021303312], \"visible\": true, \"color\": \"rgb(217,95,2)\"}, \"marker\": {\"color\": \"rgb(217,95,2)\"}, \"showlegend\": true, \"legendgroup\": \"BD4 \\u0394(adhE,ldhA,pflB) + pBD3mod M9 + 1.0 a.u. IPTG\", \"name\": \"BD4 \\u0394(adhE,ldhA,pflB) + pBD3 in mod M9 + 1.0 a.u. IPTG\"}], {\"title\": \"Max acald  for different strains in mod M9 media\"}, {\"showLink\": true, \"linkText\": \"Export to plot.ly\"})});</script>"
      ]
     },
     "metadata": {},
     "output_type": "display_data"
    },
    {
     "data": {
      "application/vnd.plotly.v1+json": {
       "data": [
        {
         "error_y": {
          "array": [
           0.15183187016312505
          ],
          "color": "rgb(27,158,119)",
          "type": "data",
          "visible": true
         },
         "legendgroup": "BD2 Δ(adhE,ldhA,pflB) + pBD1mod M9 + 1.0 a.u. IPTG",
         "marker": {
          "color": "rgb(27,158,119)"
         },
         "name": "BD2 Δ(adhE,ldhA,pflB) + pBD1 in mod M9 + 1.0 a.u. IPTG",
         "showlegend": true,
         "type": "bar",
         "x": [
          "BD2 Δ(adhE,ldhA,pflB) + pBD1 in mod M9 + 1.0 a.u. IPTG"
         ],
         "y": [
          1.7365644489499086
         ]
        },
        {
         "error_y": {
          "array": [
           0.5153160893523374
          ],
          "color": "rgb(217,95,2)",
          "type": "data",
          "visible": true
         },
         "legendgroup": "BD4 Δ(adhE,ldhA,pflB) + pBD3mod M9 + 1.0 a.u. IPTG",
         "marker": {
          "color": "rgb(217,95,2)"
         },
         "name": "BD4 Δ(adhE,ldhA,pflB) + pBD3 in mod M9 + 1.0 a.u. IPTG",
         "showlegend": true,
         "type": "bar",
         "x": [
          "BD4 Δ(adhE,ldhA,pflB) + pBD3 in mod M9 + 1.0 a.u. IPTG"
         ],
         "y": [
          1.2897028494611806
         ]
        }
       ],
       "layout": {
        "title": "Max suc  for different strains in mod M9 media"
       }
      },
      "text/html": [
       "<div id=\"fd432685-74a4-4acc-b37f-57cd468db1b4\" style=\"height: 525px; width: 100%;\" class=\"plotly-graph-div\"></div><script type=\"text/javascript\">require([\"plotly\"], function(Plotly) { window.PLOTLYENV=window.PLOTLYENV || {};window.PLOTLYENV.BASE_URL=\"https://plot.ly\";Plotly.newPlot(\"fd432685-74a4-4acc-b37f-57cd468db1b4\", [{\"type\": \"bar\", \"x\": [\"BD2 \\u0394(adhE,ldhA,pflB) + pBD1 in mod M9 + 1.0 a.u. IPTG\"], \"y\": [1.7365644489499086], \"error_y\": {\"type\": \"data\", \"array\": [0.15183187016312505], \"visible\": true, \"color\": \"rgb(27,158,119)\"}, \"marker\": {\"color\": \"rgb(27,158,119)\"}, \"showlegend\": true, \"legendgroup\": \"BD2 \\u0394(adhE,ldhA,pflB) + pBD1mod M9 + 1.0 a.u. IPTG\", \"name\": \"BD2 \\u0394(adhE,ldhA,pflB) + pBD1 in mod M9 + 1.0 a.u. IPTG\"}, {\"type\": \"bar\", \"x\": [\"BD4 \\u0394(adhE,ldhA,pflB) + pBD3 in mod M9 + 1.0 a.u. IPTG\"], \"y\": [1.2897028494611806], \"error_y\": {\"type\": \"data\", \"array\": [0.5153160893523374], \"visible\": true, \"color\": \"rgb(217,95,2)\"}, \"marker\": {\"color\": \"rgb(217,95,2)\"}, \"showlegend\": true, \"legendgroup\": \"BD4 \\u0394(adhE,ldhA,pflB) + pBD3mod M9 + 1.0 a.u. IPTG\", \"name\": \"BD4 \\u0394(adhE,ldhA,pflB) + pBD3 in mod M9 + 1.0 a.u. IPTG\"}], {\"title\": \"Max suc  for different strains in mod M9 media\"}, {\"showLink\": true, \"linkText\": \"Export to plot.ly\"})});</script>"
      ],
      "text/vnd.plotly.v1+html": [
       "<div id=\"fd432685-74a4-4acc-b37f-57cd468db1b4\" style=\"height: 525px; width: 100%;\" class=\"plotly-graph-div\"></div><script type=\"text/javascript\">require([\"plotly\"], function(Plotly) { window.PLOTLYENV=window.PLOTLYENV || {};window.PLOTLYENV.BASE_URL=\"https://plot.ly\";Plotly.newPlot(\"fd432685-74a4-4acc-b37f-57cd468db1b4\", [{\"type\": \"bar\", \"x\": [\"BD2 \\u0394(adhE,ldhA,pflB) + pBD1 in mod M9 + 1.0 a.u. IPTG\"], \"y\": [1.7365644489499086], \"error_y\": {\"type\": \"data\", \"array\": [0.15183187016312505], \"visible\": true, \"color\": \"rgb(27,158,119)\"}, \"marker\": {\"color\": \"rgb(27,158,119)\"}, \"showlegend\": true, \"legendgroup\": \"BD2 \\u0394(adhE,ldhA,pflB) + pBD1mod M9 + 1.0 a.u. IPTG\", \"name\": \"BD2 \\u0394(adhE,ldhA,pflB) + pBD1 in mod M9 + 1.0 a.u. IPTG\"}, {\"type\": \"bar\", \"x\": [\"BD4 \\u0394(adhE,ldhA,pflB) + pBD3 in mod M9 + 1.0 a.u. IPTG\"], \"y\": [1.2897028494611806], \"error_y\": {\"type\": \"data\", \"array\": [0.5153160893523374], \"visible\": true, \"color\": \"rgb(217,95,2)\"}, \"marker\": {\"color\": \"rgb(217,95,2)\"}, \"showlegend\": true, \"legendgroup\": \"BD4 \\u0394(adhE,ldhA,pflB) + pBD3mod M9 + 1.0 a.u. IPTG\", \"name\": \"BD4 \\u0394(adhE,ldhA,pflB) + pBD3 in mod M9 + 1.0 a.u. IPTG\"}], {\"title\": \"Max suc  for different strains in mod M9 media\"}, {\"showLink\": true, \"linkText\": \"Export to plot.ly\"})});</script>"
      ]
     },
     "metadata": {},
     "output_type": "display_data"
    },
    {
     "data": {
      "application/vnd.plotly.v1+json": {
       "data": [
        {
         "error_y": {
          "array": [
           1.049945468880901
          ],
          "color": "rgb(27,158,119)",
          "type": "data",
          "visible": true
         },
         "legendgroup": "BD2 Δ(adhE,ldhA,pflB) + pBD1mod M9 + 1.0 a.u. IPTG",
         "marker": {
          "color": "rgb(27,158,119)"
         },
         "name": "BD2 Δ(adhE,ldhA,pflB) + pBD1 in mod M9 + 1.0 a.u. IPTG",
         "showlegend": true,
         "type": "bar",
         "x": [
          "BD2 Δ(adhE,ldhA,pflB) + pBD1 in mod M9 + 1.0 a.u. IPTG"
         ],
         "y": [
          8.928778217184808
         ]
        },
        {
         "error_y": {
          "array": [
           1.4406276063805479
          ],
          "color": "rgb(217,95,2)",
          "type": "data",
          "visible": true
         },
         "legendgroup": "BD4 Δ(adhE,ldhA,pflB) + pBD3mod M9 + 1.0 a.u. IPTG",
         "marker": {
          "color": "rgb(217,95,2)"
         },
         "name": "BD4 Δ(adhE,ldhA,pflB) + pBD3 in mod M9 + 1.0 a.u. IPTG",
         "showlegend": true,
         "type": "bar",
         "x": [
          "BD4 Δ(adhE,ldhA,pflB) + pBD3 in mod M9 + 1.0 a.u. IPTG"
         ],
         "y": [
          15.871499723530981
         ]
        }
       ],
       "layout": {
        "title": "Max etoh  for different strains in mod M9 media"
       }
      },
      "text/html": [
       "<div id=\"22daaa94-40e5-4cf1-8dc2-6bf78c78d976\" style=\"height: 525px; width: 100%;\" class=\"plotly-graph-div\"></div><script type=\"text/javascript\">require([\"plotly\"], function(Plotly) { window.PLOTLYENV=window.PLOTLYENV || {};window.PLOTLYENV.BASE_URL=\"https://plot.ly\";Plotly.newPlot(\"22daaa94-40e5-4cf1-8dc2-6bf78c78d976\", [{\"type\": \"bar\", \"x\": [\"BD2 \\u0394(adhE,ldhA,pflB) + pBD1 in mod M9 + 1.0 a.u. IPTG\"], \"y\": [8.928778217184808], \"error_y\": {\"type\": \"data\", \"array\": [1.049945468880901], \"visible\": true, \"color\": \"rgb(27,158,119)\"}, \"marker\": {\"color\": \"rgb(27,158,119)\"}, \"showlegend\": true, \"legendgroup\": \"BD2 \\u0394(adhE,ldhA,pflB) + pBD1mod M9 + 1.0 a.u. IPTG\", \"name\": \"BD2 \\u0394(adhE,ldhA,pflB) + pBD1 in mod M9 + 1.0 a.u. IPTG\"}, {\"type\": \"bar\", \"x\": [\"BD4 \\u0394(adhE,ldhA,pflB) + pBD3 in mod M9 + 1.0 a.u. IPTG\"], \"y\": [15.871499723530981], \"error_y\": {\"type\": \"data\", \"array\": [1.4406276063805479], \"visible\": true, \"color\": \"rgb(217,95,2)\"}, \"marker\": {\"color\": \"rgb(217,95,2)\"}, \"showlegend\": true, \"legendgroup\": \"BD4 \\u0394(adhE,ldhA,pflB) + pBD3mod M9 + 1.0 a.u. IPTG\", \"name\": \"BD4 \\u0394(adhE,ldhA,pflB) + pBD3 in mod M9 + 1.0 a.u. IPTG\"}], {\"title\": \"Max etoh  for different strains in mod M9 media\"}, {\"showLink\": true, \"linkText\": \"Export to plot.ly\"})});</script>"
      ],
      "text/vnd.plotly.v1+html": [
       "<div id=\"22daaa94-40e5-4cf1-8dc2-6bf78c78d976\" style=\"height: 525px; width: 100%;\" class=\"plotly-graph-div\"></div><script type=\"text/javascript\">require([\"plotly\"], function(Plotly) { window.PLOTLYENV=window.PLOTLYENV || {};window.PLOTLYENV.BASE_URL=\"https://plot.ly\";Plotly.newPlot(\"22daaa94-40e5-4cf1-8dc2-6bf78c78d976\", [{\"type\": \"bar\", \"x\": [\"BD2 \\u0394(adhE,ldhA,pflB) + pBD1 in mod M9 + 1.0 a.u. IPTG\"], \"y\": [8.928778217184808], \"error_y\": {\"type\": \"data\", \"array\": [1.049945468880901], \"visible\": true, \"color\": \"rgb(27,158,119)\"}, \"marker\": {\"color\": \"rgb(27,158,119)\"}, \"showlegend\": true, \"legendgroup\": \"BD2 \\u0394(adhE,ldhA,pflB) + pBD1mod M9 + 1.0 a.u. IPTG\", \"name\": \"BD2 \\u0394(adhE,ldhA,pflB) + pBD1 in mod M9 + 1.0 a.u. IPTG\"}, {\"type\": \"bar\", \"x\": [\"BD4 \\u0394(adhE,ldhA,pflB) + pBD3 in mod M9 + 1.0 a.u. IPTG\"], \"y\": [15.871499723530981], \"error_y\": {\"type\": \"data\", \"array\": [1.4406276063805479], \"visible\": true, \"color\": \"rgb(217,95,2)\"}, \"marker\": {\"color\": \"rgb(217,95,2)\"}, \"showlegend\": true, \"legendgroup\": \"BD4 \\u0394(adhE,ldhA,pflB) + pBD3mod M9 + 1.0 a.u. IPTG\", \"name\": \"BD4 \\u0394(adhE,ldhA,pflB) + pBD3 in mod M9 + 1.0 a.u. IPTG\"}], {\"title\": \"Max etoh  for different strains in mod M9 media\"}, {\"showLink\": true, \"linkText\": \"Export to plot.ly\"})});</script>"
      ]
     },
     "metadata": {},
     "output_type": "display_data"
    },
    {
     "data": {
      "application/vnd.plotly.v1+json": {
       "data": [
        {
         "error_y": {
          "array": [
           0.03944517939475146
          ],
          "color": "rgb(27,158,119)",
          "type": "data",
          "visible": true
         },
         "legendgroup": "BD2 Δ(adhE,ldhA,pflB) + pBD1mod M9 + 1.0 a.u. IPTG",
         "marker": {
          "color": "rgb(27,158,119)"
         },
         "name": "BD2 Δ(adhE,ldhA,pflB) + pBD1 in mod M9 + 1.0 a.u. IPTG",
         "showlegend": true,
         "type": "bar",
         "x": [
          "BD2 Δ(adhE,ldhA,pflB) + pBD1 in mod M9 + 1.0 a.u. IPTG"
         ],
         "y": [
          0.080608506098975
         ]
        },
        {
         "error_y": {
          "array": [
           0.010675572543128353
          ],
          "color": "rgb(217,95,2)",
          "type": "data",
          "visible": true
         },
         "legendgroup": "BD4 Δ(adhE,ldhA,pflB) + pBD3mod M9 + 1.0 a.u. IPTG",
         "marker": {
          "color": "rgb(217,95,2)"
         },
         "name": "BD4 Δ(adhE,ldhA,pflB) + pBD3 in mod M9 + 1.0 a.u. IPTG",
         "showlegend": true,
         "type": "bar",
         "x": [
          "BD4 Δ(adhE,ldhA,pflB) + pBD3 in mod M9 + 1.0 a.u. IPTG"
         ],
         "y": [
          0.04777143917258012
         ]
        }
       ],
       "layout": {
        "title": "Max rs23bdo  for different strains in mod M9 media"
       }
      },
      "text/html": [
       "<div id=\"ace35cf7-7188-4341-aaf2-498bc2e2ab20\" style=\"height: 525px; width: 100%;\" class=\"plotly-graph-div\"></div><script type=\"text/javascript\">require([\"plotly\"], function(Plotly) { window.PLOTLYENV=window.PLOTLYENV || {};window.PLOTLYENV.BASE_URL=\"https://plot.ly\";Plotly.newPlot(\"ace35cf7-7188-4341-aaf2-498bc2e2ab20\", [{\"type\": \"bar\", \"x\": [\"BD2 \\u0394(adhE,ldhA,pflB) + pBD1 in mod M9 + 1.0 a.u. IPTG\"], \"y\": [0.080608506098975], \"error_y\": {\"type\": \"data\", \"array\": [0.03944517939475146], \"visible\": true, \"color\": \"rgb(27,158,119)\"}, \"marker\": {\"color\": \"rgb(27,158,119)\"}, \"showlegend\": true, \"legendgroup\": \"BD2 \\u0394(adhE,ldhA,pflB) + pBD1mod M9 + 1.0 a.u. IPTG\", \"name\": \"BD2 \\u0394(adhE,ldhA,pflB) + pBD1 in mod M9 + 1.0 a.u. IPTG\"}, {\"type\": \"bar\", \"x\": [\"BD4 \\u0394(adhE,ldhA,pflB) + pBD3 in mod M9 + 1.0 a.u. IPTG\"], \"y\": [0.04777143917258012], \"error_y\": {\"type\": \"data\", \"array\": [0.010675572543128353], \"visible\": true, \"color\": \"rgb(217,95,2)\"}, \"marker\": {\"color\": \"rgb(217,95,2)\"}, \"showlegend\": true, \"legendgroup\": \"BD4 \\u0394(adhE,ldhA,pflB) + pBD3mod M9 + 1.0 a.u. IPTG\", \"name\": \"BD4 \\u0394(adhE,ldhA,pflB) + pBD3 in mod M9 + 1.0 a.u. IPTG\"}], {\"title\": \"Max rs23bdo  for different strains in mod M9 media\"}, {\"showLink\": true, \"linkText\": \"Export to plot.ly\"})});</script>"
      ],
      "text/vnd.plotly.v1+html": [
       "<div id=\"ace35cf7-7188-4341-aaf2-498bc2e2ab20\" style=\"height: 525px; width: 100%;\" class=\"plotly-graph-div\"></div><script type=\"text/javascript\">require([\"plotly\"], function(Plotly) { window.PLOTLYENV=window.PLOTLYENV || {};window.PLOTLYENV.BASE_URL=\"https://plot.ly\";Plotly.newPlot(\"ace35cf7-7188-4341-aaf2-498bc2e2ab20\", [{\"type\": \"bar\", \"x\": [\"BD2 \\u0394(adhE,ldhA,pflB) + pBD1 in mod M9 + 1.0 a.u. IPTG\"], \"y\": [0.080608506098975], \"error_y\": {\"type\": \"data\", \"array\": [0.03944517939475146], \"visible\": true, \"color\": \"rgb(27,158,119)\"}, \"marker\": {\"color\": \"rgb(27,158,119)\"}, \"showlegend\": true, \"legendgroup\": \"BD2 \\u0394(adhE,ldhA,pflB) + pBD1mod M9 + 1.0 a.u. IPTG\", \"name\": \"BD2 \\u0394(adhE,ldhA,pflB) + pBD1 in mod M9 + 1.0 a.u. IPTG\"}, {\"type\": \"bar\", \"x\": [\"BD4 \\u0394(adhE,ldhA,pflB) + pBD3 in mod M9 + 1.0 a.u. IPTG\"], \"y\": [0.04777143917258012], \"error_y\": {\"type\": \"data\", \"array\": [0.010675572543128353], \"visible\": true, \"color\": \"rgb(217,95,2)\"}, \"marker\": {\"color\": \"rgb(217,95,2)\"}, \"showlegend\": true, \"legendgroup\": \"BD4 \\u0394(adhE,ldhA,pflB) + pBD3mod M9 + 1.0 a.u. IPTG\", \"name\": \"BD4 \\u0394(adhE,ldhA,pflB) + pBD3 in mod M9 + 1.0 a.u. IPTG\"}], {\"title\": \"Max rs23bdo  for different strains in mod M9 media\"}, {\"showLink\": true, \"linkText\": \"Export to plot.ly\"})});</script>"
      ]
     },
     "metadata": {},
     "output_type": "display_data"
    }
   ],
   "source": [
    "implot.plot_analyte_value_orderby_basemedia(expt)"
   ]
  },
  {
   "cell_type": "code",
   "execution_count": null,
   "metadata": {},
   "outputs": [],
   "source": []
  }
 ],
 "metadata": {
  "kernelspec": {
   "display_name": "Python 3",
   "language": "python",
   "name": "python3"
  },
  "language_info": {
   "codemirror_mode": {
    "name": "ipython",
    "version": 3
   },
   "file_extension": ".py",
   "mimetype": "text/x-python",
   "name": "python",
   "nbconvert_exporter": "python",
   "pygments_lexer": "ipython3",
   "version": "3.6.5"
  }
 },
 "nbformat": 4,
 "nbformat_minor": 2
}
