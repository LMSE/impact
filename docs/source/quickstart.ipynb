{
 "cells": [
  {
   "cell_type": "markdown",
   "metadata": {},
   "source": [
    "# Quickstart"
   ]
  },
  {
   "cell_type": "code",
   "execution_count": 1,
   "metadata": {},
   "outputs": [
    {
     "name": "stderr",
     "output_type": "stream",
     "text": [
      "C:\\Users\\navee\\Anaconda3\\lib\\site-packages\\IPython\\html.py:14: ShimWarning: The `IPython.html` package has been deprecated since IPython 4.0. You should import from `notebook` instead. `IPython.html.widgets` has moved to `ipywidgets`.\n",
      "  \"`IPython.html.widgets` has moved to `ipywidgets`.\", ShimWarning)\n"
     ]
    }
   ],
   "source": [
    "import impact as impt\n",
    "import os"
   ]
  },
  {
   "cell_type": "markdown",
   "metadata": {},
   "source": [
    "The impact framework is designed to help scientists parse, interpret, explore and visualize data to understand and engineer micorbial physiology. The core framework is open-source and written entirely in python.\n",
    "\n",
    "Data is parsed into an object-oriented data structure, built on top of a relational mapping to most sql databases. This allows for efficient saving and querying to ease data exploration.\n",
    "\n",
    "Here we provide the basics to get started analyzing data with the core framework. Before getting started, it is worthwhile to understand the basic data schema:\n",
    "\n",
    "| Model                | Function                                                                         |\n",
    "|----------------------|----------------------------------------------------------------------------------|\n",
    "| TrialIdentifier      | Describes a trial (time, analyte, strain, media, etc.)                           |\n",
    "| AnalyteData          | (time, data) points and vectors for quantified data (g/L product, OD, etc.)        |\n",
    "| SingleTrial          | All analytes for a given unit (e.g. a tube, well on plate, bioreactor, etc.)     |\n",
    "| ReplicateTrial       | Contains a set of `SingleTrial`s with replicates grouped to calculate statistics |\n",
    "| Experiment           | All of the trials performed on a given date                                      |\n",
    "\n",
    "On import, data will automatically be parsed into this format. In addition, data will most commonly be queried by metadata in the `TrialIdentifier` which is composed of three main identifiers:\n",
    "\n",
    "| Model                | Function                                                                             |\n",
    "|----------------------|--------------------------------------------------------------------------------------|\n",
    "| Strain               | Describes the organism being characterized (e.g. strain, knockouts, plasmids, etc.)  |\n",
    "| Media                | Described the medium used to characterize the organism (e.g. M9 + 0.02% glc_D)       |\n",
    "| Environment          | The conditions and labware used (e.g. 96-well plate, 250RPM, 37C)                    |\n",
    "\n",
    "\n",
    "## Importing data\n",
    "\n",
    "Data is imported using the `parse_raw_data` function from the `.parsing` module. This function returns an `Experiment`, which is the result of organizing all of your data.\n",
    "\n",
    "To parse data, the data is usually provided in an xlsx file in one of the desired formats. If your data doesn't conform to one of the built-in formats, you can use the provided parsers as a cookbook to build your own. Generally, minor edits are required to conform to new data.\n",
    "\n",
    "Here we use the sample test data, which is a typical format for data from HPLC. Each row is a specific trial and time points, and the columns represent the different analytes, and their types. You can see this data in `sample_data/Fermentation_1_impact.xlsx`"
   ]
  },
  {
   "cell_type": "code",
   "execution_count": 2,
   "metadata": {},
   "outputs": [
    {
     "name": "stdout",
     "output_type": "stream",
     "text": [
      "\n",
      "Importing data from sample_data\\Fermentation_1_impact.xlsx...0.0s\n",
      "Parsed 600 timeCourseObjects in 0.292s...Number of lines skipped:  0\n",
      "Parsing time point list...Parsed 600 time points in 0.4s\n",
      "Parsing analyte list...Parsed 6 analytes in 79.8ms\n",
      "Parsing single trial list...Parsed 2 replicates in 0.0s\n",
      "Analyzing data...No blanks were indicated. Blank subtraction will not be done.Ran analysis in 0.2s\n",
      "\n"
     ]
    },
    {
     "name": "stderr",
     "output_type": "stream",
     "text": [
      "c:\\users\\navee\\dropbox\\naveen\\impact\\impact\\impact\\core\\features\\ProductYield.py:22: RuntimeWarning: invalid value encountered in true_divide\n",
      "  self.substrate_consumed\n"
     ]
    }
   ],
   "source": [
    "from impact.parsers import Parser\n",
    "from pprint import pprint\n",
    "expt = Parser.parse_raw_data('default_titers',\n",
    "                             file_name = os.path.join('sample_data','Fermentation_1_impact.xlsx'),\n",
    "                             id_type='traverse')\n",
    "expt.calculate()"
   ]
  },
  {
   "cell_type": "markdown",
   "metadata": {},
   "source": [
    "The data is now imported and organized, we can quickly get an overview of what we've imported."
   ]
  },
  {
   "cell_type": "code",
   "execution_count": 3,
   "metadata": {},
   "outputs": [
    {
     "name": "stdout",
     "output_type": "stream",
     "text": [
      "strain                        media                   environment    analytes\n",
      "----------------------------  ----------------------  -------------  ------------------------------------------------------------------------------------\n",
      "BD2 Δ(adhE,ldhA,pflB) + pBD1  mod M9 + 1.0 a.u. IPTG  None           ['ac', 'etoh', 'acald', 'suc', 'rs23bdo', '13bdo', 'm23bdo', 'od', 'acet', 'glc__D']\n",
      "BD4 Δ(adhE,ldhA,pflB) + pBD3  mod M9 + 1.0 a.u. IPTG  None           ['ac', 'etoh', 'acald', 'suc', 'rs23bdo', '13bdo', 'm23bdo', 'od', 'acet', 'glc__D']\n"
     ]
    }
   ],
   "source": [
    "print(expt)"
   ]
  },
  {
   "cell_type": "markdown",
   "metadata": {},
   "source": [
    "Before we dive into data analysis, it is worth having a basic understanding of the schema to know where to look for data.\n",
    "\n",
    "Firstly, all data is funneled into a `ReplicateTrial`, even if you only have one replicate. As such, it is convenient to always look for data in this object. This object contains both an `avg` and `std` attribute where you can find the respective statistics. `avg` and `std` attributes are instances of `SingleTrial`, so we can access the statistical data similarly to the raw data itself.\n",
    "\n",
    "## Querying and filtering for data\n",
    "\n",
    "After import, data is all sorted into python objects, associated to an sql database using an object-relational mapper, SQLalchemy. Usually, we're interested in comparing a set of features and a set of conditions (strain, media, environment) and the queryable database allows us to search for the data we are interested in.\n",
    "\n",
    "Although it is usually simple to use the ORM to access the database directly, basic querying can also be done using python list comprehensions. The major limitation is that you will only query experiments loaded in memory, e.g. experiments that were parsed into this notebook."
   ]
  },
  {
   "cell_type": "code",
   "execution_count": 4,
   "metadata": {},
   "outputs": [
    {
     "name": "stdout",
     "output_type": "stream",
     "text": [
      "strain: BD2 Δ(adhE,ldhA,pflB) + pBD1,\tmedia: mod M9 + 1.0 a.u. IPTG,\tenv: None \n",
      "strain: BD4 Δ(adhE,ldhA,pflB) + pBD3,\tmedia: mod M9 + 1.0 a.u. IPTG,\tenv: None \n"
     ]
    }
   ],
   "source": [
    "reps = [rep for rep in expt.replicate_trials]\n",
    "for rep in reps:\n",
    "    print(rep.trial_identifier)"
   ]
  },
  {
   "cell_type": "code",
   "execution_count": 5,
   "metadata": {},
   "outputs": [],
   "source": [
    "reps = [rep for rep in expt.replicate_trials\n",
    "       if rep.trial_identifier.strain.name == 'BD1']\n",
    "for rep in reps:\n",
    "    print(rep.trial_identifier)"
   ]
  },
  {
   "cell_type": "markdown",
   "metadata": {},
   "source": [
    "To use the database, we must query data through a `session` object. The session is open for the entire application."
   ]
  },
  {
   "cell_type": "code",
   "execution_count": 6,
   "metadata": {},
   "outputs": [
    {
     "data": {
      "text/plain": [
       "<sqlalchemy.orm.session.Session at 0x17721fffba8>"
      ]
     },
     "execution_count": 6,
     "metadata": {},
     "output_type": "execute_result"
    }
   ],
   "source": [
    "from impact.database import session, create_db\n",
    "create_db()\n",
    "session"
   ]
  },
  {
   "cell_type": "markdown",
   "metadata": {},
   "source": [
    "Now that we have a session, we can use the standard SQLalchemy ORM language to query - it is described in detail here http://docs.sqlalchemy.org/en/latest/orm/tutorial.html#querying"
   ]
  },
  {
   "cell_type": "code",
   "execution_count": 7,
   "metadata": {},
   "outputs": [],
   "source": [
    "session.add(expt)"
   ]
  },
  {
   "cell_type": "code",
   "execution_count": 8,
   "metadata": {},
   "outputs": [],
   "source": [
    "reps = session.query(impt.ReplicateTrial)\\\n",
    "                .join(impt.ReplicateTrialIdentifier)\\\n",
    "                .join(impt.Strain)\\\n",
    "                .filter(impt.Strain.name == 'strain1').all()\n",
    "            \n",
    "for rep in reps:\n",
    "    print(rep.trial_identifier)"
   ]
  },
  {
   "cell_type": "markdown",
   "metadata": {},
   "source": [
    "## Visualization\n",
    "\n",
    "Several packages already exist for visualization in python. The most popular one in matplotlib, it has very simple syntax which should feel familiar for matlab users; however, matplotlib generates static plots. The Impact visualization module is built around plotly, which generated dynamic javascript plots, and as such it is worthwhile understanding the basic syntax of plotly charts."
   ]
  },
  {
   "cell_type": "code",
   "execution_count": 9,
   "metadata": {},
   "outputs": [
    {
     "data": {
      "text/html": [
       "<script>requirejs.config({paths: { 'plotly': ['https://cdn.plot.ly/plotly-latest.min']},});if(!window.Plotly) {{require(['plotly'],function(plotly) {window.Plotly=plotly;});}}</script>"
      ],
      "text/vnd.plotly.v1+html": [
       "<script>requirejs.config({paths: { 'plotly': ['https://cdn.plot.ly/plotly-latest.min']},});if(!window.Plotly) {{require(['plotly'],function(plotly) {window.Plotly=plotly;});}}</script>"
      ]
     },
     "metadata": {},
     "output_type": "display_data"
    },
    {
     "data": {
      "application/vnd.plotly.v1+json": {
       "data": [
        {
         "type": "scatter",
         "uid": "2a67a0ae-fc28-11e8-8255-9cb6d0b75520",
         "x": [
          0,
          1.1111111111111112,
          2.2222222222222223,
          3.3333333333333335,
          4.444444444444445,
          5.555555555555555,
          6.666666666666667,
          7.777777777777779,
          8.88888888888889,
          10
         ],
         "y": [
          0,
          1.234567901234568,
          4.938271604938272,
          11.111111111111112,
          19.75308641975309,
          30.864197530864196,
          44.44444444444445,
          60.49382716049384,
          79.01234567901236,
          100
         ]
        },
        {
         "type": "scatter",
         "uid": "2a67a0af-fc28-11e8-98c0-9cb6d0b75520",
         "x": [
          0,
          1.1111111111111112,
          2.2222222222222223,
          3.3333333333333335,
          4.444444444444445,
          5.555555555555555,
          6.666666666666667,
          7.777777777777779,
          8.88888888888889,
          10
         ],
         "y": [
          0,
          2.469135802469136,
          9.876543209876544,
          22.222222222222225,
          39.50617283950618,
          61.72839506172839,
          88.8888888888889,
          120.98765432098767,
          158.0246913580247,
          200
         ]
        }
       ],
       "layout": {}
      },
      "text/html": [
       "<div id=\"539e4ebc-1b70-4bda-87b7-a080df16050a\" style=\"height: 525px; width: 100%;\" class=\"plotly-graph-div\"></div><script type=\"text/javascript\">require([\"plotly\"], function(Plotly) { window.PLOTLYENV=window.PLOTLYENV || {};window.PLOTLYENV.BASE_URL=\"https://plot.ly\";Plotly.newPlot(\"539e4ebc-1b70-4bda-87b7-a080df16050a\", [{\"x\": [0.0, 1.1111111111111112, 2.2222222222222223, 3.3333333333333335, 4.444444444444445, 5.555555555555555, 6.666666666666667, 7.777777777777779, 8.88888888888889, 10.0], \"y\": [0.0, 1.234567901234568, 4.938271604938272, 11.111111111111112, 19.75308641975309, 30.864197530864196, 44.44444444444445, 60.49382716049384, 79.01234567901236, 100.0], \"type\": \"scatter\", \"uid\": \"2a9f058c-fc28-11e8-b530-9cb6d0b75520\"}, {\"x\": [0.0, 1.1111111111111112, 2.2222222222222223, 3.3333333333333335, 4.444444444444445, 5.555555555555555, 6.666666666666667, 7.777777777777779, 8.88888888888889, 10.0], \"y\": [0.0, 2.469135802469136, 9.876543209876544, 22.222222222222225, 39.50617283950618, 61.72839506172839, 88.8888888888889, 120.98765432098767, 158.0246913580247, 200.0], \"type\": \"scatter\", \"uid\": \"2a9f058d-fc28-11e8-bd44-9cb6d0b75520\"}], {}, {\"showLink\": true, \"linkText\": \"Export to plot.ly\"})});</script>"
      ],
      "text/vnd.plotly.v1+html": [
       "<div id=\"539e4ebc-1b70-4bda-87b7-a080df16050a\" style=\"height: 525px; width: 100%;\" class=\"plotly-graph-div\"></div><script type=\"text/javascript\">require([\"plotly\"], function(Plotly) { window.PLOTLYENV=window.PLOTLYENV || {};window.PLOTLYENV.BASE_URL=\"https://plot.ly\";Plotly.newPlot(\"539e4ebc-1b70-4bda-87b7-a080df16050a\", [{\"x\": [0.0, 1.1111111111111112, 2.2222222222222223, 3.3333333333333335, 4.444444444444445, 5.555555555555555, 6.666666666666667, 7.777777777777779, 8.88888888888889, 10.0], \"y\": [0.0, 1.234567901234568, 4.938271604938272, 11.111111111111112, 19.75308641975309, 30.864197530864196, 44.44444444444445, 60.49382716049384, 79.01234567901236, 100.0], \"type\": \"scatter\", \"uid\": \"2a9f058c-fc28-11e8-b530-9cb6d0b75520\"}, {\"x\": [0.0, 1.1111111111111112, 2.2222222222222223, 3.3333333333333335, 4.444444444444445, 5.555555555555555, 6.666666666666667, 7.777777777777779, 8.88888888888889, 10.0], \"y\": [0.0, 2.469135802469136, 9.876543209876544, 22.222222222222225, 39.50617283950618, 61.72839506172839, 88.8888888888889, 120.98765432098767, 158.0246913580247, 200.0], \"type\": \"scatter\", \"uid\": \"2a9f058d-fc28-11e8-bd44-9cb6d0b75520\"}], {}, {\"showLink\": true, \"linkText\": \"Export to plot.ly\"})});</script>"
      ]
     },
     "metadata": {},
     "output_type": "display_data"
    },
    {
     "data": {
      "application/vnd.plotly.v1+json": {
       "data": [
        {
         "type": "scatter",
         "uid": "2aa36e18-fc28-11e8-898d-9cb6d0b75520",
         "x": [
          0,
          1.1111111111111112,
          2.2222222222222223,
          3.3333333333333335,
          4.444444444444445,
          5.555555555555555,
          6.666666666666667,
          7.777777777777779,
          8.88888888888889,
          10
         ],
         "y": [
          0,
          1.234567901234568,
          4.938271604938272,
          11.111111111111112,
          19.75308641975309,
          30.864197530864196,
          44.44444444444445,
          60.49382716049384,
          79.01234567901236,
          100
         ]
        },
        {
         "type": "scatter",
         "uid": "2aa36e19-fc28-11e8-aa6a-9cb6d0b75520",
         "x": [
          0,
          1.1111111111111112,
          2.2222222222222223,
          3.3333333333333335,
          4.444444444444445,
          5.555555555555555,
          6.666666666666667,
          7.777777777777779,
          8.88888888888889,
          10
         ],
         "y": [
          0,
          2.469135802469136,
          9.876543209876544,
          22.222222222222225,
          39.50617283950618,
          61.72839506172839,
          88.8888888888889,
          120.98765432098767,
          158.0246913580247,
          200
         ]
        }
       ],
       "layout": {
        "height": 400,
        "width": 400
       }
      },
      "text/html": [
       "<div id=\"0410ab48-2efc-4ae1-9aa3-8be346f45765\" style=\"height: 400px; width: 400px;\" class=\"plotly-graph-div\"></div><script type=\"text/javascript\">require([\"plotly\"], function(Plotly) { window.PLOTLYENV=window.PLOTLYENV || {};window.PLOTLYENV.BASE_URL=\"https://plot.ly\";Plotly.newPlot(\"0410ab48-2efc-4ae1-9aa3-8be346f45765\", [{\"x\": [0.0, 1.1111111111111112, 2.2222222222222223, 3.3333333333333335, 4.444444444444445, 5.555555555555555, 6.666666666666667, 7.777777777777779, 8.88888888888889, 10.0], \"y\": [0.0, 1.234567901234568, 4.938271604938272, 11.111111111111112, 19.75308641975309, 30.864197530864196, 44.44444444444445, 60.49382716049384, 79.01234567901236, 100.0], \"type\": \"scatter\", \"uid\": \"2aa36e18-fc28-11e8-898d-9cb6d0b75520\"}, {\"x\": [0.0, 1.1111111111111112, 2.2222222222222223, 3.3333333333333335, 4.444444444444445, 5.555555555555555, 6.666666666666667, 7.777777777777779, 8.88888888888889, 10.0], \"y\": [0.0, 2.469135802469136, 9.876543209876544, 22.222222222222225, 39.50617283950618, 61.72839506172839, 88.8888888888889, 120.98765432098767, 158.0246913580247, 200.0], \"type\": \"scatter\", \"uid\": \"2aa36e19-fc28-11e8-aa6a-9cb6d0b75520\"}], {\"height\": 400, \"width\": 400}, {\"showLink\": true, \"linkText\": \"Export to plot.ly\"})});</script>"
      ],
      "text/vnd.plotly.v1+html": [
       "<div id=\"0410ab48-2efc-4ae1-9aa3-8be346f45765\" style=\"height: 400px; width: 400px;\" class=\"plotly-graph-div\"></div><script type=\"text/javascript\">require([\"plotly\"], function(Plotly) { window.PLOTLYENV=window.PLOTLYENV || {};window.PLOTLYENV.BASE_URL=\"https://plot.ly\";Plotly.newPlot(\"0410ab48-2efc-4ae1-9aa3-8be346f45765\", [{\"x\": [0.0, 1.1111111111111112, 2.2222222222222223, 3.3333333333333335, 4.444444444444445, 5.555555555555555, 6.666666666666667, 7.777777777777779, 8.88888888888889, 10.0], \"y\": [0.0, 1.234567901234568, 4.938271604938272, 11.111111111111112, 19.75308641975309, 30.864197530864196, 44.44444444444445, 60.49382716049384, 79.01234567901236, 100.0], \"type\": \"scatter\", \"uid\": \"2aa36e18-fc28-11e8-898d-9cb6d0b75520\"}, {\"x\": [0.0, 1.1111111111111112, 2.2222222222222223, 3.3333333333333335, 4.444444444444445, 5.555555555555555, 6.666666666666667, 7.777777777777779, 8.88888888888889, 10.0], \"y\": [0.0, 2.469135802469136, 9.876543209876544, 22.222222222222225, 39.50617283950618, 61.72839506172839, 88.8888888888889, 120.98765432098767, 158.0246913580247, 200.0], \"type\": \"scatter\", \"uid\": \"2aa36e19-fc28-11e8-aa6a-9cb6d0b75520\"}], {\"height\": 400, \"width\": 400}, {\"showLink\": true, \"linkText\": \"Export to plot.ly\"})});</script>"
      ]
     },
     "metadata": {},
     "output_type": "display_data"
    }
   ],
   "source": [
    "import impact.plotting as implot\n",
    "import numpy as np\n",
    "\n",
    "# Charts are made up in a hierarchical structure, but can be quickly generated as follows:\n",
    "x = np.linspace(0,10,10) \n",
    "y = np.linspace(0,10,10)**2\n",
    "implot.plot([implot.go.Scatter(x=x,y=y),\n",
    "             implot.go.Scatter(x=x,y=y*2)])\n",
    "\n",
    "# For more control over these plots, they can be built form the ground up\n",
    "# Traces are defined for each feature\n",
    "traces = [implot.go.Scatter(x=x,y=y),\n",
    "             implot.go.Scatter(x=x,y=y*2)]\n",
    "\n",
    "layout = implot.go.Layout(height=400,width=400)\n",
    "\n",
    "# Traces are joined to a figure\n",
    "fig = implot.go.Figure(data=traces, layout=layout)\n",
    "\n",
    "# And a figure is printed using plot\n",
    "implot.plot(fig)"
   ]
  },
  {
   "cell_type": "markdown",
   "metadata": {},
   "source": [
    "It should be noted that the implot package offers a direct wrapper to useful plotly functions, which could also be accessed with plotly directly. The Impact visualization module offers functions to help extract useful data and generate traces."
   ]
  },
  {
   "cell_type": "code",
   "execution_count": 10,
   "metadata": {},
   "outputs": [
    {
     "data": {
      "application/vnd.plotly.v1+json": {
       "data": [
        {
         "error_y": {
          "array": [
           0.007509598705866823,
           0.004867896225478199,
           0.007962159249955598,
           0.027097041245798776,
           0.0946675865239348,
           0.3741426908814886,
           0.33662054764817434,
           0.5432538000280659,
           1.030723648499335,
           1.049945468880901
          ],
          "color": "rgb(228,26,28)",
          "type": "data",
          "visible": true
         },
         "line": {
          "color": "rgb(228,26,28)"
         },
         "marker": {
          "color": "rgb(228,26,28)"
         },
         "name": "BD2 Δ(adhE,ldhA,pflB) + pBD1",
         "showlegend": true,
         "type": "scatter",
         "uid": "2aa7feda-fc28-11e8-b343-9cb6d0b75520",
         "x": [
          0,
          3,
          6,
          9,
          15,
          24,
          24.1,
          36,
          48,
          60
         ],
         "y": [
          0.09340868428079159,
          0.10775774165809927,
          0.10659510008598921,
          0.1933664255184057,
          1.6793253735485376,
          3.928624740087587,
          3.8027062427334903,
          5.6352648320897485,
          7.686046829436486,
          8.928778217184808
         ]
        },
        {
         "error_y": {
          "array": [
           0.020465015120293924,
           0.004633185468251465,
           0.017894373421116907,
           0.16754167798672526,
           0.3472515652382571,
           0.13538087039289284,
           0.03355545463103947,
           1.602969607592279,
           2.371149448191305,
           1.4406276063805479
          ],
          "color": "rgb(55,126,184)",
          "type": "data",
          "visible": true
         },
         "line": {
          "color": "rgb(55,126,184)"
         },
         "marker": {
          "color": "rgb(55,126,184)"
         },
         "name": "BD4 Δ(adhE,ldhA,pflB) + pBD3",
         "showlegend": true,
         "type": "scatter",
         "uid": "2aa7fedb-fc28-11e8-a792-9cb6d0b75520",
         "x": [
          0,
          3,
          6,
          9,
          15,
          24,
          24.1,
          36,
          48,
          60
         ],
         "y": [
          0.18285850042363883,
          0.21887095519519972,
          0.3175777529691511,
          1.2729012006954825,
          5.9532988114985885,
          6.779171686208716,
          6.631972432990428,
          10.96294474193772,
          14.369057755744356,
          15.871499723530981
         ]
        }
       ],
       "layout": {}
      },
      "text/html": [
       "<div id=\"9890162e-b371-4747-ae31-30ce43e5c9a2\" style=\"height: 525px; width: 100%;\" class=\"plotly-graph-div\"></div><script type=\"text/javascript\">require([\"plotly\"], function(Plotly) { window.PLOTLYENV=window.PLOTLYENV || {};window.PLOTLYENV.BASE_URL=\"https://plot.ly\";Plotly.newPlot(\"9890162e-b371-4747-ae31-30ce43e5c9a2\", [{\"error_y\": {\"array\": [0.007509598705866823, 0.004867896225478199, 0.007962159249955598, 0.027097041245798776, 0.0946675865239348, 0.3741426908814886, 0.33662054764817434, 0.5432538000280659, 1.030723648499335, 1.049945468880901], \"color\": \"rgb(228,26,28)\", \"type\": \"data\", \"visible\": true}, \"line\": {\"color\": \"rgb(228,26,28)\"}, \"marker\": {\"color\": \"rgb(228,26,28)\"}, \"name\": \"BD2 \\u0394(adhE,ldhA,pflB) + pBD1\", \"showlegend\": true, \"x\": [0.0, 3.0, 6.0, 9.0, 15.0, 24.0, 24.1, 36.0, 48.0, 60.0], \"y\": [0.09340868428079159, 0.10775774165809927, 0.10659510008598921, 0.1933664255184057, 1.6793253735485376, 3.928624740087587, 3.8027062427334903, 5.6352648320897485, 7.686046829436486, 8.928778217184808], \"type\": \"scatter\", \"uid\": \"2aab8086-fc28-11e8-bd4e-9cb6d0b75520\"}, {\"error_y\": {\"array\": [0.020465015120293924, 0.004633185468251465, 0.017894373421116907, 0.16754167798672526, 0.3472515652382571, 0.13538087039289284, 0.03355545463103947, 1.602969607592279, 2.371149448191305, 1.4406276063805479], \"color\": \"rgb(55,126,184)\", \"type\": \"data\", \"visible\": true}, \"line\": {\"color\": \"rgb(55,126,184)\"}, \"marker\": {\"color\": \"rgb(55,126,184)\"}, \"name\": \"BD4 \\u0394(adhE,ldhA,pflB) + pBD3\", \"showlegend\": true, \"x\": [0.0, 3.0, 6.0, 9.0, 15.0, 24.0, 24.1, 36.0, 48.0, 60.0], \"y\": [0.18285850042363883, 0.21887095519519972, 0.3175777529691511, 1.2729012006954825, 5.9532988114985885, 6.779171686208716, 6.631972432990428, 10.96294474193772, 14.369057755744356, 15.871499723530981], \"type\": \"scatter\", \"uid\": \"2aab8087-fc28-11e8-aed2-9cb6d0b75520\"}], {}, {\"showLink\": true, \"linkText\": \"Export to plot.ly\"})});</script>"
      ],
      "text/vnd.plotly.v1+html": [
       "<div id=\"9890162e-b371-4747-ae31-30ce43e5c9a2\" style=\"height: 525px; width: 100%;\" class=\"plotly-graph-div\"></div><script type=\"text/javascript\">require([\"plotly\"], function(Plotly) { window.PLOTLYENV=window.PLOTLYENV || {};window.PLOTLYENV.BASE_URL=\"https://plot.ly\";Plotly.newPlot(\"9890162e-b371-4747-ae31-30ce43e5c9a2\", [{\"error_y\": {\"array\": [0.007509598705866823, 0.004867896225478199, 0.007962159249955598, 0.027097041245798776, 0.0946675865239348, 0.3741426908814886, 0.33662054764817434, 0.5432538000280659, 1.030723648499335, 1.049945468880901], \"color\": \"rgb(228,26,28)\", \"type\": \"data\", \"visible\": true}, \"line\": {\"color\": \"rgb(228,26,28)\"}, \"marker\": {\"color\": \"rgb(228,26,28)\"}, \"name\": \"BD2 \\u0394(adhE,ldhA,pflB) + pBD1\", \"showlegend\": true, \"x\": [0.0, 3.0, 6.0, 9.0, 15.0, 24.0, 24.1, 36.0, 48.0, 60.0], \"y\": [0.09340868428079159, 0.10775774165809927, 0.10659510008598921, 0.1933664255184057, 1.6793253735485376, 3.928624740087587, 3.8027062427334903, 5.6352648320897485, 7.686046829436486, 8.928778217184808], \"type\": \"scatter\", \"uid\": \"2aab8086-fc28-11e8-bd4e-9cb6d0b75520\"}, {\"error_y\": {\"array\": [0.020465015120293924, 0.004633185468251465, 0.017894373421116907, 0.16754167798672526, 0.3472515652382571, 0.13538087039289284, 0.03355545463103947, 1.602969607592279, 2.371149448191305, 1.4406276063805479], \"color\": \"rgb(55,126,184)\", \"type\": \"data\", \"visible\": true}, \"line\": {\"color\": \"rgb(55,126,184)\"}, \"marker\": {\"color\": \"rgb(55,126,184)\"}, \"name\": \"BD4 \\u0394(adhE,ldhA,pflB) + pBD3\", \"showlegend\": true, \"x\": [0.0, 3.0, 6.0, 9.0, 15.0, 24.0, 24.1, 36.0, 48.0, 60.0], \"y\": [0.18285850042363883, 0.21887095519519972, 0.3175777529691511, 1.2729012006954825, 5.9532988114985885, 6.779171686208716, 6.631972432990428, 10.96294474193772, 14.369057755744356, 15.871499723530981], \"type\": \"scatter\", \"uid\": \"2aab8087-fc28-11e8-aed2-9cb6d0b75520\"}], {}, {\"showLink\": true, \"linkText\": \"Export to plot.ly\"})});</script>"
      ]
     },
     "metadata": {},
     "output_type": "display_data"
    }
   ],
   "source": [
    "from impact.plotting import time_profile_traces\n",
    "\n",
    "implot.plot(time_profile_traces(replicate_trials=expt.replicate_trials,\n",
    "                               analyte='etoh',\n",
    "                               label=lambda rep: str(rep.trial_identifier.strain)))"
   ]
  },
  {
   "cell_type": "code",
   "execution_count": 11,
   "metadata": {
    "scrolled": false
   },
   "outputs": [
    {
     "data": {
      "application/vnd.plotly.v1+json": {
       "data": [
        {
         "name": "1",
         "type": "scatter",
         "uid": "2abde9e6-fc28-11e8-8654-9cb6d0b75520",
         "x": [
          0,
          3,
          6,
          9,
          15,
          24,
          24.1,
          36,
          48,
          60
         ],
         "y": [
          0.08927321235974191,
          0.10737510012803773,
          0.1138211382113821,
          0.1733366131178767,
          1.6059023507224988,
          3.5004635849306514,
          3.431234901953364,
          5.759181819901984,
          8.188234403678404,
          8.611023860432553
         ]
        },
        {
         "name": "2",
         "type": "scatter",
         "uid": "2abde9e7-fc28-11e8-b86f-9cb6d0b75520",
         "x": [
          0,
          3,
          6,
          9,
          15,
          24,
          24.1,
          36,
          48,
          60
         ],
         "y": [
          0.08887585384775493,
          0.10309245838773361,
          0.09805925056923183,
          0.18256416078512994,
          1.6459031075958548,
          4.092792673465912,
          3.889345115328578,
          6.105855046137738,
          8.369429885144468,
          10.100897525654853
         ]
        },
        {
         "name": "3",
         "type": "scatter",
         "uid": "2abde9e8-fc28-11e8-bb9a-9cb6d0b75520",
         "x": [
          0,
          3,
          6,
          9,
          15,
          24,
          24.1,
          36,
          48,
          60
         ],
         "y": [
          0.10207698663487798,
          0.1128056664585265,
          0.10790491147735372,
          0.2241985026522104,
          1.7861706623272595,
          4.192617961866198,
          4.087538710918529,
          5.040757630229521,
          6.500476199486587,
          8.074413265467022
         ]
        },
        {
         "error_y": {
          "array": [
           0.007509598705866823,
           0.004867896225478199,
           0.007962159249955598,
           0.027097041245798776,
           0.0946675865239348,
           0.3741426908814886,
           0.33662054764817434,
           0.5432538000280659,
           1.030723648499335,
           1.049945468880901
          ]
         },
         "name": "statistic",
         "type": "scatter",
         "uid": "2abde9e9-fc28-11e8-ad60-9cb6d0b75520",
         "x": [
          0,
          3,
          6,
          9,
          15,
          24,
          24.1,
          36,
          48,
          60
         ],
         "y": [
          0.09340868428079159,
          0.10775774165809927,
          0.10659510008598921,
          0.1933664255184057,
          1.6793253735485376,
          3.928624740087587,
          3.8027062427334903,
          5.6352648320897485,
          7.686046829436486,
          8.928778217184808
         ]
        }
       ],
       "layout": {
        "title": "BD2 Δ(adhE,ldhA,pflB) + pBD1"
       }
      },
      "text/html": [
       "<div id=\"5f3e4ea0-6754-4346-b5b6-6356e47ac989\" style=\"height: 525px; width: 100%;\" class=\"plotly-graph-div\"></div><script type=\"text/javascript\">require([\"plotly\"], function(Plotly) { window.PLOTLYENV=window.PLOTLYENV || {};window.PLOTLYENV.BASE_URL=\"https://plot.ly\";Plotly.newPlot(\"5f3e4ea0-6754-4346-b5b6-6356e47ac989\", [{\"name\": \"1\", \"x\": [0.0, 3.0, 6.0, 9.0, 15.0, 24.0, 24.1, 36.0, 48.0, 60.0], \"y\": [0.08927321235974191, 0.10737510012803773, 0.1138211382113821, 0.1733366131178767, 1.6059023507224988, 3.5004635849306514, 3.431234901953364, 5.759181819901984, 8.188234403678404, 8.611023860432553], \"type\": \"scatter\", \"uid\": \"2abde9e6-fc28-11e8-8654-9cb6d0b75520\"}, {\"name\": \"2\", \"x\": [0.0, 3.0, 6.0, 9.0, 15.0, 24.0, 24.1, 36.0, 48.0, 60.0], \"y\": [0.08887585384775493, 0.10309245838773361, 0.09805925056923183, 0.18256416078512994, 1.6459031075958548, 4.092792673465912, 3.889345115328578, 6.105855046137738, 8.369429885144468, 10.100897525654853], \"type\": \"scatter\", \"uid\": \"2abde9e7-fc28-11e8-b86f-9cb6d0b75520\"}, {\"name\": \"3\", \"x\": [0.0, 3.0, 6.0, 9.0, 15.0, 24.0, 24.1, 36.0, 48.0, 60.0], \"y\": [0.10207698663487798, 0.1128056664585265, 0.10790491147735372, 0.2241985026522104, 1.7861706623272595, 4.192617961866198, 4.087538710918529, 5.040757630229521, 6.500476199486587, 8.074413265467022], \"type\": \"scatter\", \"uid\": \"2abde9e8-fc28-11e8-bb9a-9cb6d0b75520\"}, {\"error_y\": {\"array\": [0.007509598705866823, 0.004867896225478199, 0.007962159249955598, 0.027097041245798776, 0.0946675865239348, 0.3741426908814886, 0.33662054764817434, 0.5432538000280659, 1.030723648499335, 1.049945468880901]}, \"name\": \"statistic\", \"x\": [0.0, 3.0, 6.0, 9.0, 15.0, 24.0, 24.1, 36.0, 48.0, 60.0], \"y\": [0.09340868428079159, 0.10775774165809927, 0.10659510008598921, 0.1933664255184057, 1.6793253735485376, 3.928624740087587, 3.8027062427334903, 5.6352648320897485, 7.686046829436486, 8.928778217184808], \"type\": \"scatter\", \"uid\": \"2abde9e9-fc28-11e8-ad60-9cb6d0b75520\"}], {\"title\": \"BD2 \\u0394(adhE,ldhA,pflB) + pBD1\"}, {\"showLink\": true, \"linkText\": \"Export to plot.ly\"})});</script>"
      ],
      "text/vnd.plotly.v1+html": [
       "<div id=\"5f3e4ea0-6754-4346-b5b6-6356e47ac989\" style=\"height: 525px; width: 100%;\" class=\"plotly-graph-div\"></div><script type=\"text/javascript\">require([\"plotly\"], function(Plotly) { window.PLOTLYENV=window.PLOTLYENV || {};window.PLOTLYENV.BASE_URL=\"https://plot.ly\";Plotly.newPlot(\"5f3e4ea0-6754-4346-b5b6-6356e47ac989\", [{\"name\": \"1\", \"x\": [0.0, 3.0, 6.0, 9.0, 15.0, 24.0, 24.1, 36.0, 48.0, 60.0], \"y\": [0.08927321235974191, 0.10737510012803773, 0.1138211382113821, 0.1733366131178767, 1.6059023507224988, 3.5004635849306514, 3.431234901953364, 5.759181819901984, 8.188234403678404, 8.611023860432553], \"type\": \"scatter\", \"uid\": \"2abde9e6-fc28-11e8-8654-9cb6d0b75520\"}, {\"name\": \"2\", \"x\": [0.0, 3.0, 6.0, 9.0, 15.0, 24.0, 24.1, 36.0, 48.0, 60.0], \"y\": [0.08887585384775493, 0.10309245838773361, 0.09805925056923183, 0.18256416078512994, 1.6459031075958548, 4.092792673465912, 3.889345115328578, 6.105855046137738, 8.369429885144468, 10.100897525654853], \"type\": \"scatter\", \"uid\": \"2abde9e7-fc28-11e8-b86f-9cb6d0b75520\"}, {\"name\": \"3\", \"x\": [0.0, 3.0, 6.0, 9.0, 15.0, 24.0, 24.1, 36.0, 48.0, 60.0], \"y\": [0.10207698663487798, 0.1128056664585265, 0.10790491147735372, 0.2241985026522104, 1.7861706623272595, 4.192617961866198, 4.087538710918529, 5.040757630229521, 6.500476199486587, 8.074413265467022], \"type\": \"scatter\", \"uid\": \"2abde9e8-fc28-11e8-bb9a-9cb6d0b75520\"}, {\"error_y\": {\"array\": [0.007509598705866823, 0.004867896225478199, 0.007962159249955598, 0.027097041245798776, 0.0946675865239348, 0.3741426908814886, 0.33662054764817434, 0.5432538000280659, 1.030723648499335, 1.049945468880901]}, \"name\": \"statistic\", \"x\": [0.0, 3.0, 6.0, 9.0, 15.0, 24.0, 24.1, 36.0, 48.0, 60.0], \"y\": [0.09340868428079159, 0.10775774165809927, 0.10659510008598921, 0.1933664255184057, 1.6793253735485376, 3.928624740087587, 3.8027062427334903, 5.6352648320897485, 7.686046829436486, 8.928778217184808], \"type\": \"scatter\", \"uid\": \"2abde9e9-fc28-11e8-ad60-9cb6d0b75520\"}], {\"title\": \"BD2 \\u0394(adhE,ldhA,pflB) + pBD1\"}, {\"showLink\": true, \"linkText\": \"Export to plot.ly\"})});</script>"
      ]
     },
     "metadata": {},
     "output_type": "display_data"
    },
    {
     "data": {
      "application/vnd.plotly.v1+json": {
       "data": [
        {
         "name": "4",
         "type": "scatter",
         "uid": "2ac51110-fc28-11e8-9621-9cb6d0b75520",
         "x": [
          0,
          3,
          6,
          9,
          15,
          24,
          24.1,
          36,
          48,
          60
         ],
         "y": [
          0.17280680176856075,
          0.22415435170643408,
          0.3183724699931251,
          1.1029347764385324,
          5.564696903757246,
          6.8955388622932,
          6.6364169615319115,
          12.80134597311838,
          16.460355604331838,
          16.561637873942743
         ]
        },
        {
         "name": "5",
         "type": "scatter",
         "uid": "2ac51111-fc28-11e8-912f-9cb6d0b75520",
         "x": [
          0,
          3,
          6,
          9,
          15,
          24,
          24.1,
          36,
          48,
          60
         ],
         "y": [
          0.20640567150434888,
          0.21695774754489205,
          0.3350615274965783,
          1.4379080020435582,
          6.062013156981841,
          6.8113871596435125,
          6.663084132780815,
          9.857405059698385,
          11.79298252253275,
          14.215633219171602
         ]
        },
        {
         "name": "6",
         "type": "scatter",
         "uid": "2ac51112-fc28-11e8-b3f4-9cb6d0b75520",
         "x": [
          0,
          3,
          6,
          9,
          15,
          24,
          24.1,
          36,
          48,
          60
         ],
         "y": [
          0.1693630279980069,
          0.2155007663342731,
          0.29929926141774993,
          1.277860823604357,
          6.233186373756678,
          6.630589036689436,
          6.5964162046585555,
          10.230083192996398,
          14.853835140368473,
          16.8372280774786
         ]
        },
        {
         "error_y": {
          "array": [
           0.020465015120293924,
           0.004633185468251465,
           0.017894373421116907,
           0.16754167798672526,
           0.3472515652382571,
           0.13538087039289284,
           0.03355545463103947,
           1.602969607592279,
           2.371149448191305,
           1.4406276063805479
          ]
         },
         "name": "statistic",
         "type": "scatter",
         "uid": "2ac51113-fc28-11e8-9484-9cb6d0b75520",
         "x": [
          0,
          3,
          6,
          9,
          15,
          24,
          24.1,
          36,
          48,
          60
         ],
         "y": [
          0.18285850042363883,
          0.21887095519519972,
          0.3175777529691511,
          1.2729012006954825,
          5.9532988114985885,
          6.779171686208716,
          6.631972432990428,
          10.96294474193772,
          14.369057755744356,
          15.871499723530981
         ]
        }
       ],
       "layout": {
        "title": "BD4 Δ(adhE,ldhA,pflB) + pBD3"
       }
      },
      "text/html": [
       "<div id=\"583524dc-d3ed-4667-a9d7-ba85edfbf90b\" style=\"height: 525px; width: 100%;\" class=\"plotly-graph-div\"></div><script type=\"text/javascript\">require([\"plotly\"], function(Plotly) { window.PLOTLYENV=window.PLOTLYENV || {};window.PLOTLYENV.BASE_URL=\"https://plot.ly\";Plotly.newPlot(\"583524dc-d3ed-4667-a9d7-ba85edfbf90b\", [{\"name\": \"4\", \"x\": [0.0, 3.0, 6.0, 9.0, 15.0, 24.0, 24.1, 36.0, 48.0, 60.0], \"y\": [0.17280680176856075, 0.22415435170643408, 0.3183724699931251, 1.1029347764385324, 5.564696903757246, 6.8955388622932, 6.6364169615319115, 12.80134597311838, 16.460355604331838, 16.561637873942743], \"type\": \"scatter\", \"uid\": \"2ac51110-fc28-11e8-9621-9cb6d0b75520\"}, {\"name\": \"5\", \"x\": [0.0, 3.0, 6.0, 9.0, 15.0, 24.0, 24.1, 36.0, 48.0, 60.0], \"y\": [0.20640567150434888, 0.21695774754489205, 0.3350615274965783, 1.4379080020435582, 6.062013156981841, 6.8113871596435125, 6.663084132780815, 9.857405059698385, 11.79298252253275, 14.215633219171602], \"type\": \"scatter\", \"uid\": \"2ac51111-fc28-11e8-912f-9cb6d0b75520\"}, {\"name\": \"6\", \"x\": [0.0, 3.0, 6.0, 9.0, 15.0, 24.0, 24.1, 36.0, 48.0, 60.0], \"y\": [0.1693630279980069, 0.2155007663342731, 0.29929926141774993, 1.277860823604357, 6.233186373756678, 6.630589036689436, 6.5964162046585555, 10.230083192996398, 14.853835140368473, 16.8372280774786], \"type\": \"scatter\", \"uid\": \"2ac51112-fc28-11e8-b3f4-9cb6d0b75520\"}, {\"error_y\": {\"array\": [0.020465015120293924, 0.004633185468251465, 0.017894373421116907, 0.16754167798672526, 0.3472515652382571, 0.13538087039289284, 0.03355545463103947, 1.602969607592279, 2.371149448191305, 1.4406276063805479]}, \"name\": \"statistic\", \"x\": [0.0, 3.0, 6.0, 9.0, 15.0, 24.0, 24.1, 36.0, 48.0, 60.0], \"y\": [0.18285850042363883, 0.21887095519519972, 0.3175777529691511, 1.2729012006954825, 5.9532988114985885, 6.779171686208716, 6.631972432990428, 10.96294474193772, 14.369057755744356, 15.871499723530981], \"type\": \"scatter\", \"uid\": \"2ac51113-fc28-11e8-9484-9cb6d0b75520\"}], {\"title\": \"BD4 \\u0394(adhE,ldhA,pflB) + pBD3\"}, {\"showLink\": true, \"linkText\": \"Export to plot.ly\"})});</script>"
      ],
      "text/vnd.plotly.v1+html": [
       "<div id=\"583524dc-d3ed-4667-a9d7-ba85edfbf90b\" style=\"height: 525px; width: 100%;\" class=\"plotly-graph-div\"></div><script type=\"text/javascript\">require([\"plotly\"], function(Plotly) { window.PLOTLYENV=window.PLOTLYENV || {};window.PLOTLYENV.BASE_URL=\"https://plot.ly\";Plotly.newPlot(\"583524dc-d3ed-4667-a9d7-ba85edfbf90b\", [{\"name\": \"4\", \"x\": [0.0, 3.0, 6.0, 9.0, 15.0, 24.0, 24.1, 36.0, 48.0, 60.0], \"y\": [0.17280680176856075, 0.22415435170643408, 0.3183724699931251, 1.1029347764385324, 5.564696903757246, 6.8955388622932, 6.6364169615319115, 12.80134597311838, 16.460355604331838, 16.561637873942743], \"type\": \"scatter\", \"uid\": \"2ac51110-fc28-11e8-9621-9cb6d0b75520\"}, {\"name\": \"5\", \"x\": [0.0, 3.0, 6.0, 9.0, 15.0, 24.0, 24.1, 36.0, 48.0, 60.0], \"y\": [0.20640567150434888, 0.21695774754489205, 0.3350615274965783, 1.4379080020435582, 6.062013156981841, 6.8113871596435125, 6.663084132780815, 9.857405059698385, 11.79298252253275, 14.215633219171602], \"type\": \"scatter\", \"uid\": \"2ac51111-fc28-11e8-912f-9cb6d0b75520\"}, {\"name\": \"6\", \"x\": [0.0, 3.0, 6.0, 9.0, 15.0, 24.0, 24.1, 36.0, 48.0, 60.0], \"y\": [0.1693630279980069, 0.2155007663342731, 0.29929926141774993, 1.277860823604357, 6.233186373756678, 6.630589036689436, 6.5964162046585555, 10.230083192996398, 14.853835140368473, 16.8372280774786], \"type\": \"scatter\", \"uid\": \"2ac51112-fc28-11e8-b3f4-9cb6d0b75520\"}, {\"error_y\": {\"array\": [0.020465015120293924, 0.004633185468251465, 0.017894373421116907, 0.16754167798672526, 0.3472515652382571, 0.13538087039289284, 0.03355545463103947, 1.602969607592279, 2.371149448191305, 1.4406276063805479]}, \"name\": \"statistic\", \"x\": [0.0, 3.0, 6.0, 9.0, 15.0, 24.0, 24.1, 36.0, 48.0, 60.0], \"y\": [0.18285850042363883, 0.21887095519519972, 0.3175777529691511, 1.2729012006954825, 5.9532988114985885, 6.779171686208716, 6.631972432990428, 10.96294474193772, 14.369057755744356, 15.871499723530981], \"type\": \"scatter\", \"uid\": \"2ac51113-fc28-11e8-9484-9cb6d0b75520\"}], {\"title\": \"BD4 \\u0394(adhE,ldhA,pflB) + pBD3\"}, {\"showLink\": true, \"linkText\": \"Export to plot.ly\"})});</script>"
      ]
     },
     "metadata": {},
     "output_type": "display_data"
    }
   ],
   "source": [
    "for rep in expt.replicate_trials:\n",
    "    layout = implot.go.Layout(title=str(rep.trial_identifier.strain))\n",
    "    data = [implot.go.Scatter(x=trial.analyte_dict['etoh'].time_vector,\n",
    "                              y=trial.analyte_dict['etoh'].data_vector,\n",
    "                              name=trial.trial_identifier.replicate_id)\n",
    "            for trial in rep.single_trials]\n",
    "    data.append(implot.go.Scatter(x=rep.avg.analyte_dict['etoh'].time_vector,\n",
    "                              y=rep.avg.analyte_dict['etoh'].data_vector,\n",
    "                               error_y = {'array':rep.std.analyte_dict['etoh'].data_vector},\n",
    "                              name='statistic'))\n",
    "    data = sorted(data,key=lambda data: str(data['name']))\n",
    "    implot.plot(implot.go.Figure(data=data,layout=layout))"
   ]
  },
  {
   "cell_type": "code",
   "execution_count": 12,
   "metadata": {},
   "outputs": [
    {
     "data": {
      "application/vnd.plotly.v1+json": {
       "data": [
        {
         "error_y": {
          "array": [
           0.007509598705866823,
           0.004867896225478199,
           0.007962159249955598,
           0.027097041245798776,
           0.0946675865239348,
           0.3741426908814886,
           0.33662054764817434,
           0.5432538000280659,
           1.030723648499335,
           1.049945468880901
          ],
          "type": "data"
         },
         "name": "strain: BD2 Δ(adhE,ldhA,pflB) + pBD1,\tmedia: mod M9 + 1.0 a.u. IPTG,\tenv: None ",
         "type": "scatter",
         "uid": "2aca8c5c-fc28-11e8-8188-9cb6d0b75520",
         "x": [
          0,
          3,
          6,
          9,
          15,
          24,
          24.1,
          36,
          48,
          60
         ],
         "y": [
          0.09340868428079159,
          0.10775774165809927,
          0.10659510008598921,
          0.1933664255184057,
          1.6793253735485376,
          3.928624740087587,
          3.8027062427334903,
          5.6352648320897485,
          7.686046829436486,
          8.928778217184808
         ]
        },
        {
         "error_y": {
          "array": [
           0.020465015120293924,
           0.004633185468251465,
           0.017894373421116907,
           0.16754167798672526,
           0.3472515652382571,
           0.13538087039289284,
           0.03355545463103947,
           1.602969607592279,
           2.371149448191305,
           1.4406276063805479
          ],
          "type": "data"
         },
         "name": "strain: BD4 Δ(adhE,ldhA,pflB) + pBD3,\tmedia: mod M9 + 1.0 a.u. IPTG,\tenv: None ",
         "type": "scatter",
         "uid": "2aca8c5d-fc28-11e8-99f6-9cb6d0b75520",
         "x": [
          0,
          3,
          6,
          9,
          15,
          24,
          24.1,
          36,
          48,
          60
         ],
         "y": [
          0.18285850042363883,
          0.21887095519519972,
          0.3175777529691511,
          1.2729012006954825,
          5.9532988114985885,
          6.779171686208716,
          6.631972432990428,
          10.96294474193772,
          14.369057755744356,
          15.871499723530981
         ]
        }
       ],
       "layout": {}
      },
      "text/html": [
       "<div id=\"44fc1129-dda9-4a6e-b1a9-aaa449c98b97\" style=\"height: 525px; width: 100%;\" class=\"plotly-graph-div\"></div><script type=\"text/javascript\">require([\"plotly\"], function(Plotly) { window.PLOTLYENV=window.PLOTLYENV || {};window.PLOTLYENV.BASE_URL=\"https://plot.ly\";Plotly.newPlot(\"44fc1129-dda9-4a6e-b1a9-aaa449c98b97\", [{\"error_y\": {\"array\": [0.007509598705866823, 0.004867896225478199, 0.007962159249955598, 0.027097041245798776, 0.0946675865239348, 0.3741426908814886, 0.33662054764817434, 0.5432538000280659, 1.030723648499335, 1.049945468880901], \"type\": \"data\"}, \"name\": \"strain: BD2 \\u0394(adhE,ldhA,pflB) + pBD1,\\tmedia: mod M9 + 1.0 a.u. IPTG,\\tenv: None \", \"x\": [0.0, 3.0, 6.0, 9.0, 15.0, 24.0, 24.1, 36.0, 48.0, 60.0], \"y\": [0.09340868428079159, 0.10775774165809927, 0.10659510008598921, 0.1933664255184057, 1.6793253735485376, 3.928624740087587, 3.8027062427334903, 5.6352648320897485, 7.686046829436486, 8.928778217184808], \"type\": \"scatter\", \"uid\": \"2accfb8c-fc28-11e8-bf4d-9cb6d0b75520\"}, {\"error_y\": {\"array\": [0.020465015120293924, 0.004633185468251465, 0.017894373421116907, 0.16754167798672526, 0.3472515652382571, 0.13538087039289284, 0.03355545463103947, 1.602969607592279, 2.371149448191305, 1.4406276063805479], \"type\": \"data\"}, \"name\": \"strain: BD4 \\u0394(adhE,ldhA,pflB) + pBD3,\\tmedia: mod M9 + 1.0 a.u. IPTG,\\tenv: None \", \"x\": [0.0, 3.0, 6.0, 9.0, 15.0, 24.0, 24.1, 36.0, 48.0, 60.0], \"y\": [0.18285850042363883, 0.21887095519519972, 0.3175777529691511, 1.2729012006954825, 5.9532988114985885, 6.779171686208716, 6.631972432990428, 10.96294474193772, 14.369057755744356, 15.871499723530981], \"type\": \"scatter\", \"uid\": \"2accfb8d-fc28-11e8-932f-9cb6d0b75520\"}], {}, {\"showLink\": true, \"linkText\": \"Export to plot.ly\"})});</script>"
      ],
      "text/vnd.plotly.v1+html": [
       "<div id=\"44fc1129-dda9-4a6e-b1a9-aaa449c98b97\" style=\"height: 525px; width: 100%;\" class=\"plotly-graph-div\"></div><script type=\"text/javascript\">require([\"plotly\"], function(Plotly) { window.PLOTLYENV=window.PLOTLYENV || {};window.PLOTLYENV.BASE_URL=\"https://plot.ly\";Plotly.newPlot(\"44fc1129-dda9-4a6e-b1a9-aaa449c98b97\", [{\"error_y\": {\"array\": [0.007509598705866823, 0.004867896225478199, 0.007962159249955598, 0.027097041245798776, 0.0946675865239348, 0.3741426908814886, 0.33662054764817434, 0.5432538000280659, 1.030723648499335, 1.049945468880901], \"type\": \"data\"}, \"name\": \"strain: BD2 \\u0394(adhE,ldhA,pflB) + pBD1,\\tmedia: mod M9 + 1.0 a.u. IPTG,\\tenv: None \", \"x\": [0.0, 3.0, 6.0, 9.0, 15.0, 24.0, 24.1, 36.0, 48.0, 60.0], \"y\": [0.09340868428079159, 0.10775774165809927, 0.10659510008598921, 0.1933664255184057, 1.6793253735485376, 3.928624740087587, 3.8027062427334903, 5.6352648320897485, 7.686046829436486, 8.928778217184808], \"type\": \"scatter\", \"uid\": \"2accfb8c-fc28-11e8-bf4d-9cb6d0b75520\"}, {\"error_y\": {\"array\": [0.020465015120293924, 0.004633185468251465, 0.017894373421116907, 0.16754167798672526, 0.3472515652382571, 0.13538087039289284, 0.03355545463103947, 1.602969607592279, 2.371149448191305, 1.4406276063805479], \"type\": \"data\"}, \"name\": \"strain: BD4 \\u0394(adhE,ldhA,pflB) + pBD3,\\tmedia: mod M9 + 1.0 a.u. IPTG,\\tenv: None \", \"x\": [0.0, 3.0, 6.0, 9.0, 15.0, 24.0, 24.1, 36.0, 48.0, 60.0], \"y\": [0.18285850042363883, 0.21887095519519972, 0.3175777529691511, 1.2729012006954825, 5.9532988114985885, 6.779171686208716, 6.631972432990428, 10.96294474193772, 14.369057755744356, 15.871499723530981], \"type\": \"scatter\", \"uid\": \"2accfb8d-fc28-11e8-932f-9cb6d0b75520\"}], {}, {\"showLink\": true, \"linkText\": \"Export to plot.ly\"})});</script>"
      ]
     },
     "metadata": {},
     "output_type": "display_data"
    }
   ],
   "source": [
    "import impact.plotting\n",
    "import plotly.graph_objs as go\n",
    "from plotly.offline import iplot\n",
    "\n",
    "iplot(\n",
    "    [go.Scatter(\n",
    "            x=rep.avg.analyte_dict['etoh'].time_vector,\n",
    "            y=rep.avg.analyte_dict['etoh'].data_vector,\n",
    "            name=str(rep.trial_identifier),\n",
    "            error_y=dict(type='data', array=rep.std.analyte_dict['etoh'].data_vector)\n",
    "               )\n",
    "     for rep in expt.replicate_trials]\n",
    ")"
   ]
  },
  {
   "cell_type": "markdown",
   "metadata": {},
   "source": [
    "## Exploring features\n",
    "\n",
    "With a standard schema for the data, we can now begin to explore some of the features which have been generated. Features include things like:\n",
    "\n",
    "- rate ($g\\ \\ h^{-1}$)\n",
    "- yield ($g_{product}\\ \\ g_{substrate}^{-1}$)\n",
    "- specific productivity ($g\\ \\ gdw^{-1}\\ \\ h^{-1}$)\n",
    "- normalized data (e.g. $a.u. fluorescence\\ \\ OD_{600}^{-1}$)"
   ]
  },
  {
   "cell_type": "code",
   "execution_count": 13,
   "metadata": {},
   "outputs": [
    {
     "data": {
      "application/vnd.plotly.v1+json": {
       "data": [
        {
         "error_y": {
          "array": [
           0.005259696147161372,
           0.004101097236656549,
           0.0026877846251875124,
           0.00043570416622088154,
           0.0029208670907487975,
           0.00243804223735555,
           0.005697699587598502,
           0.005591329332466741,
           0.0033817149970684084,
           0.008177995264844029
          ],
          "type": "data"
         },
         "name": "strain: BD2 Δ(adhE,ldhA,pflB) + pBD1,\tmedia: mod M9 + 1.0 a.u. IPTG,\tenv: None ",
         "type": "scatter",
         "uid": "2ad2c236-fc28-11e8-8581-9cb6d0b75520",
         "x": [
          0,
          3,
          6,
          9,
          15,
          24,
          24.1,
          36,
          48,
          60
         ],
         "y": [
          0.02400473009719545,
          0.00518879223057327,
          0.011662117373968592,
          0.04623198440265344,
          0.030138235019292164,
          0.023150011686413532,
          0.012552502462804071,
          0.017701950989430296,
          0.0177834923429369,
          0.013961069252366967
         ]
        },
        {
         "error_y": {
          "array": [
           0.03649153376298027,
           0.004430315869538418,
           0.0064298650650040975,
           0.0015838108536449336,
           0.0024084903012668896,
           0.004214201624437893,
           0.010720958807650963,
           0.011974411963346577,
           0.006547659074897189,
           0.014333629229436998
          ],
          "type": "data"
         },
         "name": "strain: BD4 Δ(adhE,ldhA,pflB) + pBD3,\tmedia: mod M9 + 1.0 a.u. IPTG,\tenv: None ",
         "type": "scatter",
         "uid": "2ad2c237-fc28-11e8-af08-9cb6d0b75520",
         "x": [
          0,
          3,
          6,
          9,
          15,
          24,
          24.1,
          36,
          48,
          60
         ],
         "y": [
          0.0592472592293442,
          0.040189006632826624,
          0.09370751267297439,
          0.11651891097622975,
          0.03828148328396423,
          0.008083000565831258,
          0.029709555710675933,
          0.0403228921814425,
          0.024700676323323498,
          0.017281685794187533
         ]
        }
       ],
       "layout": {}
      },
      "text/html": [
       "<div id=\"99e969b6-e3ce-41f5-bbf7-964a96a11485\" style=\"height: 525px; width: 100%;\" class=\"plotly-graph-div\"></div><script type=\"text/javascript\">require([\"plotly\"], function(Plotly) { window.PLOTLYENV=window.PLOTLYENV || {};window.PLOTLYENV.BASE_URL=\"https://plot.ly\";Plotly.newPlot(\"99e969b6-e3ce-41f5-bbf7-964a96a11485\", [{\"error_y\": {\"array\": [0.005259696147161372, 0.004101097236656549, 0.0026877846251875124, 0.00043570416622088154, 0.0029208670907487975, 0.00243804223735555, 0.005697699587598502, 0.005591329332466741, 0.0033817149970684084, 0.008177995264844029], \"type\": \"data\"}, \"name\": \"strain: BD2 \\u0394(adhE,ldhA,pflB) + pBD1,\\tmedia: mod M9 + 1.0 a.u. IPTG,\\tenv: None \", \"x\": [0.0, 3.0, 6.0, 9.0, 15.0, 24.0, 24.1, 36.0, 48.0, 60.0], \"y\": [0.02400473009719545, 0.00518879223057327, 0.011662117373968592, 0.04623198440265344, 0.030138235019292164, 0.023150011686413532, 0.012552502462804071, 0.017701950989430296, 0.0177834923429369, 0.013961069252366967], \"type\": \"scatter\", \"uid\": \"2ad7a0e8-fc28-11e8-8e43-9cb6d0b75520\"}, {\"error_y\": {\"array\": [0.03649153376298027, 0.004430315869538418, 0.0064298650650040975, 0.0015838108536449336, 0.0024084903012668896, 0.004214201624437893, 0.010720958807650963, 0.011974411963346577, 0.006547659074897189, 0.014333629229436998], \"type\": \"data\"}, \"name\": \"strain: BD4 \\u0394(adhE,ldhA,pflB) + pBD3,\\tmedia: mod M9 + 1.0 a.u. IPTG,\\tenv: None \", \"x\": [0.0, 3.0, 6.0, 9.0, 15.0, 24.0, 24.1, 36.0, 48.0, 60.0], \"y\": [0.0592472592293442, 0.040189006632826624, 0.09370751267297439, 0.11651891097622975, 0.03828148328396423, 0.008083000565831258, 0.029709555710675933, 0.0403228921814425, 0.024700676323323498, 0.017281685794187533], \"type\": \"scatter\", \"uid\": \"2ad7a0e9-fc28-11e8-a447-9cb6d0b75520\"}], {}, {\"showLink\": true, \"linkText\": \"Export to plot.ly\"})});</script>"
      ],
      "text/vnd.plotly.v1+html": [
       "<div id=\"99e969b6-e3ce-41f5-bbf7-964a96a11485\" style=\"height: 525px; width: 100%;\" class=\"plotly-graph-div\"></div><script type=\"text/javascript\">require([\"plotly\"], function(Plotly) { window.PLOTLYENV=window.PLOTLYENV || {};window.PLOTLYENV.BASE_URL=\"https://plot.ly\";Plotly.newPlot(\"99e969b6-e3ce-41f5-bbf7-964a96a11485\", [{\"error_y\": {\"array\": [0.005259696147161372, 0.004101097236656549, 0.0026877846251875124, 0.00043570416622088154, 0.0029208670907487975, 0.00243804223735555, 0.005697699587598502, 0.005591329332466741, 0.0033817149970684084, 0.008177995264844029], \"type\": \"data\"}, \"name\": \"strain: BD2 \\u0394(adhE,ldhA,pflB) + pBD1,\\tmedia: mod M9 + 1.0 a.u. IPTG,\\tenv: None \", \"x\": [0.0, 3.0, 6.0, 9.0, 15.0, 24.0, 24.1, 36.0, 48.0, 60.0], \"y\": [0.02400473009719545, 0.00518879223057327, 0.011662117373968592, 0.04623198440265344, 0.030138235019292164, 0.023150011686413532, 0.012552502462804071, 0.017701950989430296, 0.0177834923429369, 0.013961069252366967], \"type\": \"scatter\", \"uid\": \"2ad7a0e8-fc28-11e8-8e43-9cb6d0b75520\"}, {\"error_y\": {\"array\": [0.03649153376298027, 0.004430315869538418, 0.0064298650650040975, 0.0015838108536449336, 0.0024084903012668896, 0.004214201624437893, 0.010720958807650963, 0.011974411963346577, 0.006547659074897189, 0.014333629229436998], \"type\": \"data\"}, \"name\": \"strain: BD4 \\u0394(adhE,ldhA,pflB) + pBD3,\\tmedia: mod M9 + 1.0 a.u. IPTG,\\tenv: None \", \"x\": [0.0, 3.0, 6.0, 9.0, 15.0, 24.0, 24.1, 36.0, 48.0, 60.0], \"y\": [0.0592472592293442, 0.040189006632826624, 0.09370751267297439, 0.11651891097622975, 0.03828148328396423, 0.008083000565831258, 0.029709555710675933, 0.0403228921814425, 0.024700676323323498, 0.017281685794187533], \"type\": \"scatter\", \"uid\": \"2ad7a0e9-fc28-11e8-a447-9cb6d0b75520\"}], {}, {\"showLink\": true, \"linkText\": \"Export to plot.ly\"})});</script>"
      ]
     },
     "metadata": {},
     "output_type": "display_data"
    }
   ],
   "source": [
    "iplot(\n",
    "    [go.Scatter(\n",
    "            x=rep.avg.analyte_dict['etoh'].time_vector,\n",
    "            y=rep.avg.analyte_dict['etoh'].specific_productivity,\n",
    "            name=str(rep.trial_identifier),\n",
    "            error_y=dict(type='data', array=rep.std.analyte_dict['etoh'].specific_productivity)\n",
    "               )\n",
    "     for rep in expt.replicate_trials]\n",
    ")"
   ]
  },
  {
   "cell_type": "markdown",
   "metadata": {},
   "source": [
    "We can also choose to plot only the end points, making it easier to interpret a large number of strains:"
   ]
  },
  {
   "cell_type": "code",
   "execution_count": 14,
   "metadata": {},
   "outputs": [
    {
     "data": {
      "application/vnd.plotly.v1+json": {
       "data": [
        {
         "error_y": {
          "array": [
           1.049945468880901
          ],
          "type": "data"
         },
         "name": "BD2 Δ(adhE,ldhA,pflB) + pBD1",
         "type": "bar",
         "uid": "2af0211e-fc28-11e8-b54b-9cb6d0b75520",
         "x": [
          "BD2 Δ(adhE,ldhA,pflB) + pBD1"
         ],
         "y": [
          8.928778217184808
         ]
        },
        {
         "error_y": {
          "array": [
           1.4406276063805479
          ],
          "type": "data"
         },
         "name": "BD4 Δ(adhE,ldhA,pflB) + pBD3",
         "type": "bar",
         "uid": "2af0211f-fc28-11e8-9d8b-9cb6d0b75520",
         "x": [
          "BD4 Δ(adhE,ldhA,pflB) + pBD3"
         ],
         "y": [
          15.871499723530981
         ]
        }
       ],
       "layout": {}
      },
      "text/html": [
       "<div id=\"51bfa4b1-5179-438a-a639-4b434ea13808\" style=\"height: 525px; width: 100%;\" class=\"plotly-graph-div\"></div><script type=\"text/javascript\">require([\"plotly\"], function(Plotly) { window.PLOTLYENV=window.PLOTLYENV || {};window.PLOTLYENV.BASE_URL=\"https://plot.ly\";Plotly.newPlot(\"51bfa4b1-5179-438a-a639-4b434ea13808\", [{\"error_y\": {\"array\": [1.049945468880901], \"type\": \"data\"}, \"name\": \"BD2 \\u0394(adhE,ldhA,pflB) + pBD1\", \"x\": [\"BD2 \\u0394(adhE,ldhA,pflB) + pBD1\"], \"y\": [8.928778217184808], \"type\": \"bar\", \"uid\": \"2af305a2-fc28-11e8-959d-9cb6d0b75520\"}, {\"error_y\": {\"array\": [1.4406276063805479], \"type\": \"data\"}, \"name\": \"BD4 \\u0394(adhE,ldhA,pflB) + pBD3\", \"x\": [\"BD4 \\u0394(adhE,ldhA,pflB) + pBD3\"], \"y\": [15.871499723530981], \"type\": \"bar\", \"uid\": \"2af305a3-fc28-11e8-98f2-9cb6d0b75520\"}], {}, {\"showLink\": true, \"linkText\": \"Export to plot.ly\"})});</script>"
      ],
      "text/vnd.plotly.v1+html": [
       "<div id=\"51bfa4b1-5179-438a-a639-4b434ea13808\" style=\"height: 525px; width: 100%;\" class=\"plotly-graph-div\"></div><script type=\"text/javascript\">require([\"plotly\"], function(Plotly) { window.PLOTLYENV=window.PLOTLYENV || {};window.PLOTLYENV.BASE_URL=\"https://plot.ly\";Plotly.newPlot(\"51bfa4b1-5179-438a-a639-4b434ea13808\", [{\"error_y\": {\"array\": [1.049945468880901], \"type\": \"data\"}, \"name\": \"BD2 \\u0394(adhE,ldhA,pflB) + pBD1\", \"x\": [\"BD2 \\u0394(adhE,ldhA,pflB) + pBD1\"], \"y\": [8.928778217184808], \"type\": \"bar\", \"uid\": \"2af305a2-fc28-11e8-959d-9cb6d0b75520\"}, {\"error_y\": {\"array\": [1.4406276063805479], \"type\": \"data\"}, \"name\": \"BD4 \\u0394(adhE,ldhA,pflB) + pBD3\", \"x\": [\"BD4 \\u0394(adhE,ldhA,pflB) + pBD3\"], \"y\": [15.871499723530981], \"type\": \"bar\", \"uid\": \"2af305a3-fc28-11e8-98f2-9cb6d0b75520\"}], {}, {\"showLink\": true, \"linkText\": \"Export to plot.ly\"})});</script>"
      ]
     },
     "metadata": {},
     "output_type": "display_data"
    }
   ],
   "source": [
    "iplot(\n",
    "    [go.Bar(\n",
    "            x=[str(rep.trial_identifier.strain)],\n",
    "            y=[rep.avg.analyte_dict['etoh'].data_vector[-1]],\n",
    "            name=str(rep.trial_identifier.strain),\n",
    "            error_y=dict(type='data', array=[rep.std.analyte_dict['etoh'].data_vector[-1]])\n",
    "               )\n",
    "    for rep in expt.replicate_trials]\n",
    ")"
   ]
  },
  {
   "cell_type": "markdown",
   "metadata": {},
   "source": [
    "Using only the end point, it becomes easier to visualize all analytes:\n",
    "\n"
   ]
  },
  {
   "cell_type": "code",
   "execution_count": 15,
   "metadata": {},
   "outputs": [
    {
     "data": {
      "text/plain": [
       "10"
      ]
     },
     "execution_count": 15,
     "metadata": {},
     "output_type": "execute_result"
    }
   ],
   "source": [
    "unique_analytes = list(set([analyte for rep in expt.replicate_trials for analyte in rep.avg.analyte_dict]))\n",
    "len(unique_analytes)"
   ]
  },
  {
   "cell_type": "code",
   "execution_count": 16,
   "metadata": {},
   "outputs": [
    {
     "name": "stdout",
     "output_type": "stream",
     "text": [
      "This is the format of your plot grid:\n",
      "[ (1,1) x1,y1 ]    [ (1,2) x2,y2 ]    [ (1,3) x3,y3 ]    [ (1,4) x4,y4 ]    [ (1,5) x5,y5 ]  \n",
      "[ (2,1) x6,y6 ]    [ (2,2) x7,y7 ]    [ (2,3) x8,y8 ]    [ (2,4) x9,y9 ]    [ (2,5) x10,y10 ]\n",
      "\n"
     ]
    },
    {
     "data": {
      "application/vnd.plotly.v1+json": {
       "data": [
        {
         "error_y": {
          "array": [
           0.44046008095224504
          ]
         },
         "legendgroup": "BD2 Δ(adhE,ldhA,pflB) + pBD1",
         "marker": {
          "color": "rgb(228,26,28)"
         },
         "name": "BD2 Δ(adhE,ldhA,pflB) + pBD1",
         "showlegend": true,
         "type": "bar",
         "uid": "2b1591e6-fc28-11e8-b796-9cb6d0b75520",
         "x": [
          "BD2 Δ(adhE,ldhA,pflB) + pBD1"
         ],
         "xaxis": "x",
         "y": [
          0.6745729149106312
         ],
         "yaxis": "y"
        },
        {
         "error_y": {
          "array": [
           0.04018678753009877
          ]
         },
         "legendgroup": "BD4 Δ(adhE,ldhA,pflB) + pBD3",
         "marker": {
          "color": "rgb(55,126,184)"
         },
         "name": "BD4 Δ(adhE,ldhA,pflB) + pBD3",
         "showlegend": true,
         "type": "bar",
         "uid": "2b1653ac-fc28-11e8-8e38-9cb6d0b75520",
         "x": [
          "BD4 Δ(adhE,ldhA,pflB) + pBD3"
         ],
         "xaxis": "x",
         "y": [
          0.2678122328124662
         ],
         "yaxis": "y"
        },
        {
         "error_y": {
          "array": [
           1.049945468880901
          ]
         },
         "legendgroup": "BD2 Δ(adhE,ldhA,pflB) + pBD1",
         "marker": {
          "color": "rgb(228,26,28)"
         },
         "name": "BD2 Δ(adhE,ldhA,pflB) + pBD1",
         "showlegend": false,
         "type": "bar",
         "uid": "2b173f40-fc28-11e8-96de-9cb6d0b75520",
         "x": [
          "BD2 Δ(adhE,ldhA,pflB) + pBD1"
         ],
         "xaxis": "x2",
         "y": [
          8.928778217184808
         ],
         "yaxis": "y2"
        },
        {
         "error_y": {
          "array": [
           1.4406276063805479
          ]
         },
         "legendgroup": "BD4 Δ(adhE,ldhA,pflB) + pBD3",
         "marker": {
          "color": "rgb(55,126,184)"
         },
         "name": "BD4 Δ(adhE,ldhA,pflB) + pBD3",
         "showlegend": false,
         "type": "bar",
         "uid": "2b182748-fc28-11e8-9eb8-9cb6d0b75520",
         "x": [
          "BD4 Δ(adhE,ldhA,pflB) + pBD3"
         ],
         "xaxis": "x2",
         "y": [
          15.871499723530981
         ],
         "yaxis": "y2"
        },
        {
         "error_y": {
          "array": [
           0.03677687609989001
          ]
         },
         "legendgroup": "BD2 Δ(adhE,ldhA,pflB) + pBD1",
         "marker": {
          "color": "rgb(228,26,28)"
         },
         "name": "BD2 Δ(adhE,ldhA,pflB) + pBD1",
         "showlegend": false,
         "type": "bar",
         "uid": "2b1912e8-fc28-11e8-b92f-9cb6d0b75520",
         "x": [
          "BD2 Δ(adhE,ldhA,pflB) + pBD1"
         ],
         "xaxis": "x3",
         "y": [
          0.03980121222704882
         ],
         "yaxis": "y3"
        },
        {
         "error_y": {
          "array": [
           0.019245539021303312
          ]
         },
         "legendgroup": "BD4 Δ(adhE,ldhA,pflB) + pBD3",
         "marker": {
          "color": "rgb(55,126,184)"
         },
         "name": "BD4 Δ(adhE,ldhA,pflB) + pBD3",
         "showlegend": false,
         "type": "bar",
         "uid": "2b19ae0a-fc28-11e8-bbf0-9cb6d0b75520",
         "x": [
          "BD4 Δ(adhE,ldhA,pflB) + pBD3"
         ],
         "xaxis": "x3",
         "y": [
          0.15196131933378443
         ],
         "yaxis": "y3"
        },
        {
         "error_y": {
          "array": [
           0.27637032547997575
          ]
         },
         "legendgroup": "BD2 Δ(adhE,ldhA,pflB) + pBD1",
         "marker": {
          "color": "rgb(228,26,28)"
         },
         "name": "BD2 Δ(adhE,ldhA,pflB) + pBD1",
         "showlegend": false,
         "type": "bar",
         "uid": "2b1a49c6-fc28-11e8-99a5-9cb6d0b75520",
         "x": [
          "BD2 Δ(adhE,ldhA,pflB) + pBD1"
         ],
         "xaxis": "x4",
         "y": [
          1.6205997619939616
         ],
         "yaxis": "y4"
        },
        {
         "error_y": {
          "array": [
           0.4529890896259119
          ]
         },
         "legendgroup": "BD4 Δ(adhE,ldhA,pflB) + pBD3",
         "marker": {
          "color": "rgb(55,126,184)"
         },
         "name": "BD4 Δ(adhE,ldhA,pflB) + pBD3",
         "showlegend": false,
         "type": "bar",
         "uid": "2b1b0d3e-fc28-11e8-8c43-9cb6d0b75520",
         "x": [
          "BD4 Δ(adhE,ldhA,pflB) + pBD3"
         ],
         "xaxis": "x4",
         "y": [
          1.0487105758423871
         ],
         "yaxis": "y4"
        },
        {
         "error_y": {
          "array": [
           0.03944517939475146
          ]
         },
         "legendgroup": "BD2 Δ(adhE,ldhA,pflB) + pBD1",
         "marker": {
          "color": "rgb(228,26,28)"
         },
         "name": "BD2 Δ(adhE,ldhA,pflB) + pBD1",
         "showlegend": false,
         "type": "bar",
         "uid": "2b1bcf9e-fc28-11e8-b6fa-9cb6d0b75520",
         "x": [
          "BD2 Δ(adhE,ldhA,pflB) + pBD1"
         ],
         "xaxis": "x5",
         "y": [
          0.080608506098975
         ],
         "yaxis": "y5"
        },
        {
         "error_y": {
          "array": [
           0.010675572543128353
          ]
         },
         "legendgroup": "BD4 Δ(adhE,ldhA,pflB) + pBD3",
         "marker": {
          "color": "rgb(55,126,184)"
         },
         "name": "BD4 Δ(adhE,ldhA,pflB) + pBD3",
         "showlegend": false,
         "type": "bar",
         "uid": "2b1ce052-fc28-11e8-afc9-9cb6d0b75520",
         "x": [
          "BD4 Δ(adhE,ldhA,pflB) + pBD3"
         ],
         "xaxis": "x5",
         "y": [
          0.04777143917258012
         ],
         "yaxis": "y5"
        },
        {
         "error_y": {
          "array": [
           0.08390032281716181
          ]
         },
         "legendgroup": "BD2 Δ(adhE,ldhA,pflB) + pBD1",
         "marker": {
          "color": "rgb(228,26,28)"
         },
         "name": "BD2 Δ(adhE,ldhA,pflB) + pBD1",
         "showlegend": false,
         "type": "bar",
         "uid": "2b1da298-fc28-11e8-8870-9cb6d0b75520",
         "x": [
          "BD2 Δ(adhE,ldhA,pflB) + pBD1"
         ],
         "xaxis": "x6",
         "y": [
          0.45725961538461535
         ],
         "yaxis": "y6"
        },
        {
         "error_y": {
          "array": [
           0.015228499774263838
          ]
         },
         "legendgroup": "BD4 Δ(adhE,ldhA,pflB) + pBD3",
         "marker": {
          "color": "rgb(55,126,184)"
         },
         "name": "BD4 Δ(adhE,ldhA,pflB) + pBD3",
         "showlegend": false,
         "type": "bar",
         "uid": "2b1edb7e-fc28-11e8-a713-9cb6d0b75520",
         "x": [
          "BD4 Δ(adhE,ldhA,pflB) + pBD3"
         ],
         "xaxis": "x6",
         "y": [
          0.1880128205128205
         ],
         "yaxis": "y6"
        },
        {
         "error_y": {
          "array": [
           0.09104379118263398
          ]
         },
         "legendgroup": "BD2 Δ(adhE,ldhA,pflB) + pBD1",
         "marker": {
          "color": "rgb(228,26,28)"
         },
         "name": "BD2 Δ(adhE,ldhA,pflB) + pBD1",
         "showlegend": false,
         "type": "bar",
         "uid": "2b1f9da4-fc28-11e8-ba3c-9cb6d0b75520",
         "x": [
          "BD2 Δ(adhE,ldhA,pflB) + pBD1"
         ],
         "xaxis": "x7",
         "y": [
          2.737102484424037
         ],
         "yaxis": "y7"
        },
        {
         "error_y": {
          "array": [
           0.14803557175495363
          ]
         },
         "legendgroup": "BD4 Δ(adhE,ldhA,pflB) + pBD3",
         "marker": {
          "color": "rgb(55,126,184)"
         },
         "name": "BD4 Δ(adhE,ldhA,pflB) + pBD3",
         "showlegend": false,
         "type": "bar",
         "uid": "2b205f08-fc28-11e8-a2e3-9cb6d0b75520",
         "x": [
          "BD4 Δ(adhE,ldhA,pflB) + pBD3"
         ],
         "xaxis": "x7",
         "y": [
          1.7657885379466014
         ],
         "yaxis": "y7"
        },
        {
         "error_y": {
          "array": [
           0.30263509380109893
          ]
         },
         "legendgroup": "BD2 Δ(adhE,ldhA,pflB) + pBD1",
         "marker": {
          "color": "rgb(228,26,28)"
         },
         "name": "BD2 Δ(adhE,ldhA,pflB) + pBD1",
         "showlegend": false,
         "type": "bar",
         "uid": "2b217128-fc28-11e8-a16d-9cb6d0b75520",
         "x": [
          "BD2 Δ(adhE,ldhA,pflB) + pBD1"
         ],
         "xaxis": "x8",
         "y": [
          7.506
         ],
         "yaxis": "y8"
        },
        {
         "error_y": {
          "array": [
           0.26153393661244023
          ]
         },
         "legendgroup": "BD4 Δ(adhE,ldhA,pflB) + pBD3",
         "marker": {
          "color": "rgb(55,126,184)"
         },
         "name": "BD4 Δ(adhE,ldhA,pflB) + pBD3",
         "showlegend": false,
         "type": "bar",
         "uid": "2b2233d2-fc28-11e8-9cf1-9cb6d0b75520",
         "x": [
          "BD4 Δ(adhE,ldhA,pflB) + pBD3"
         ],
         "xaxis": "x8",
         "y": [
          7.22
         ],
         "yaxis": "y8"
        },
        {
         "error_y": {
          "array": [
           1.2870632944777394
          ]
         },
         "legendgroup": "BD2 Δ(adhE,ldhA,pflB) + pBD1",
         "marker": {
          "color": "rgb(228,26,28)"
         },
         "name": "BD2 Δ(adhE,ldhA,pflB) + pBD1",
         "showlegend": false,
         "type": "bar",
         "uid": "2b231c3a-fc28-11e8-bfeb-9cb6d0b75520",
         "x": [
          "BD2 Δ(adhE,ldhA,pflB) + pBD1"
         ],
         "xaxis": "x9",
         "y": [
          2.1074115018069826
         ],
         "yaxis": "y9"
        },
        {
         "error_y": {
          "array": [
           0.45008958150345885
          ]
         },
         "legendgroup": "BD4 Δ(adhE,ldhA,pflB) + pBD3",
         "marker": {
          "color": "rgb(55,126,184)"
         },
         "name": "BD4 Δ(adhE,ldhA,pflB) + pBD3",
         "showlegend": false,
         "type": "bar",
         "uid": "2b2405ec-fc28-11e8-9149-9cb6d0b75520",
         "x": [
          "BD4 Δ(adhE,ldhA,pflB) + pBD3"
         ],
         "xaxis": "x9",
         "y": [
          1.1064547645851717
         ],
         "yaxis": "y9"
        },
        {
         "error_y": {
          "array": [
           5.3415869683582775
          ]
         },
         "legendgroup": "BD2 Δ(adhE,ldhA,pflB) + pBD1",
         "marker": {
          "color": "rgb(228,26,28)"
         },
         "name": "BD2 Δ(adhE,ldhA,pflB) + pBD1",
         "showlegend": false,
         "type": "bar",
         "uid": "2b24f058-fc28-11e8-9669-9cb6d0b75520",
         "x": [
          "BD2 Δ(adhE,ldhA,pflB) + pBD1"
         ],
         "xaxis": "x10",
         "y": [
          8.757407407407408
         ],
         "yaxis": "y10"
        },
        {
         "error_y": {
          "array": [
           4.855023946988776
          ]
         },
         "legendgroup": "BD4 Δ(adhE,ldhA,pflB) + pBD3",
         "marker": {
          "color": "rgb(55,126,184)"
         },
         "name": "BD4 Δ(adhE,ldhA,pflB) + pBD3",
         "showlegend": false,
         "type": "bar",
         "uid": "2b25b2cc-fc28-11e8-a6ab-9cb6d0b75520",
         "x": [
          "BD4 Δ(adhE,ldhA,pflB) + pBD3"
         ],
         "xaxis": "x10",
         "y": [
          2.803049382716049
         ],
         "yaxis": "y10"
        }
       ],
       "layout": {
        "annotations": [
         {
          "font": {
           "size": 16
          },
          "showarrow": false,
          "text": "ac",
          "x": 0.08399999999999999,
          "xanchor": "center",
          "xref": "paper",
          "y": 1,
          "yanchor": "bottom",
          "yref": "paper"
         },
         {
          "font": {
           "size": 16
          },
          "showarrow": false,
          "text": "etoh",
          "x": 0.292,
          "xanchor": "center",
          "xref": "paper",
          "y": 1,
          "yanchor": "bottom",
          "yref": "paper"
         },
         {
          "font": {
           "size": 16
          },
          "showarrow": false,
          "text": "acald",
          "x": 0.5,
          "xanchor": "center",
          "xref": "paper",
          "y": 1,
          "yanchor": "bottom",
          "yref": "paper"
         },
         {
          "font": {
           "size": 16
          },
          "showarrow": false,
          "text": "suc",
          "x": 0.708,
          "xanchor": "center",
          "xref": "paper",
          "y": 1,
          "yanchor": "bottom",
          "yref": "paper"
         },
         {
          "font": {
           "size": 16
          },
          "showarrow": false,
          "text": "rs23bdo",
          "x": 0.9159999999999999,
          "xanchor": "center",
          "xref": "paper",
          "y": 1,
          "yanchor": "bottom",
          "yref": "paper"
         },
         {
          "font": {
           "size": 16
          },
          "showarrow": false,
          "text": "13bdo",
          "x": 0.08399999999999999,
          "xanchor": "center",
          "xref": "paper",
          "y": 0.375,
          "yanchor": "bottom",
          "yref": "paper"
         },
         {
          "font": {
           "size": 16
          },
          "showarrow": false,
          "text": "m23bdo",
          "x": 0.292,
          "xanchor": "center",
          "xref": "paper",
          "y": 0.375,
          "yanchor": "bottom",
          "yref": "paper"
         },
         {
          "font": {
           "size": 16
          },
          "showarrow": false,
          "text": "od",
          "x": 0.5,
          "xanchor": "center",
          "xref": "paper",
          "y": 0.375,
          "yanchor": "bottom",
          "yref": "paper"
         },
         {
          "font": {
           "size": 16
          },
          "showarrow": false,
          "text": "acet",
          "x": 0.708,
          "xanchor": "center",
          "xref": "paper",
          "y": 0.375,
          "yanchor": "bottom",
          "yref": "paper"
         },
         {
          "font": {
           "size": 16
          },
          "showarrow": false,
          "text": "glc__D",
          "x": 0.9159999999999999,
          "xanchor": "center",
          "xref": "paper",
          "y": 0.375,
          "yanchor": "bottom",
          "yref": "paper"
         }
        ],
        "xaxis": {
         "anchor": "y",
         "domain": [
          0,
          0.16799999999999998
         ],
         "showticklabels": false
        },
        "xaxis10": {
         "anchor": "y10",
         "domain": [
          0.832,
          1
         ],
         "showticklabels": false
        },
        "xaxis2": {
         "anchor": "y2",
         "domain": [
          0.208,
          0.376
         ],
         "showticklabels": false
        },
        "xaxis3": {
         "anchor": "y3",
         "domain": [
          0.416,
          0.584
         ],
         "showticklabels": false
        },
        "xaxis4": {
         "anchor": "y4",
         "domain": [
          0.624,
          0.792
         ],
         "showticklabels": false
        },
        "xaxis5": {
         "anchor": "y5",
         "domain": [
          0.832,
          1
         ],
         "showticklabels": false
        },
        "xaxis6": {
         "anchor": "y6",
         "domain": [
          0,
          0.16799999999999998
         ],
         "showticklabels": false
        },
        "xaxis7": {
         "anchor": "y7",
         "domain": [
          0.208,
          0.376
         ],
         "showticklabels": false
        },
        "xaxis8": {
         "anchor": "y8",
         "domain": [
          0.416,
          0.584
         ],
         "showticklabels": false
        },
        "xaxis9": {
         "anchor": "y9",
         "domain": [
          0.624,
          0.792
         ],
         "showticklabels": false
        },
        "yaxis": {
         "anchor": "x",
         "domain": [
          0.625,
          1
         ]
        },
        "yaxis10": {
         "anchor": "x10",
         "domain": [
          0,
          0.375
         ]
        },
        "yaxis2": {
         "anchor": "x2",
         "domain": [
          0.625,
          1
         ]
        },
        "yaxis3": {
         "anchor": "x3",
         "domain": [
          0.625,
          1
         ]
        },
        "yaxis4": {
         "anchor": "x4",
         "domain": [
          0.625,
          1
         ]
        },
        "yaxis5": {
         "anchor": "x5",
         "domain": [
          0.625,
          1
         ]
        },
        "yaxis6": {
         "anchor": "x6",
         "domain": [
          0,
          0.375
         ]
        },
        "yaxis7": {
         "anchor": "x7",
         "domain": [
          0,
          0.375
         ]
        },
        "yaxis8": {
         "anchor": "x8",
         "domain": [
          0,
          0.375
         ]
        },
        "yaxis9": {
         "anchor": "x9",
         "domain": [
          0,
          0.375
         ]
        }
       }
      },
      "text/html": [
       "<div id=\"35012060-dc0b-4a54-a770-d7b56031ea6a\" style=\"height: 525px; width: 100%;\" class=\"plotly-graph-div\"></div><script type=\"text/javascript\">require([\"plotly\"], function(Plotly) { window.PLOTLYENV=window.PLOTLYENV || {};window.PLOTLYENV.BASE_URL=\"https://plot.ly\";Plotly.newPlot(\"35012060-dc0b-4a54-a770-d7b56031ea6a\", [{\"error_y\": {\"array\": [0.44046008095224504]}, \"legendgroup\": \"BD2 \\u0394(adhE,ldhA,pflB) + pBD1\", \"marker\": {\"color\": \"rgb(228,26,28)\"}, \"name\": \"BD2 \\u0394(adhE,ldhA,pflB) + pBD1\", \"showlegend\": true, \"x\": [\"BD2 \\u0394(adhE,ldhA,pflB) + pBD1\"], \"y\": [0.6745729149106312], \"type\": \"bar\", \"uid\": \"2b1591e6-fc28-11e8-b796-9cb6d0b75520\", \"xaxis\": \"x\", \"yaxis\": \"y\"}, {\"error_y\": {\"array\": [0.04018678753009877]}, \"legendgroup\": \"BD4 \\u0394(adhE,ldhA,pflB) + pBD3\", \"marker\": {\"color\": \"rgb(55,126,184)\"}, \"name\": \"BD4 \\u0394(adhE,ldhA,pflB) + pBD3\", \"showlegend\": true, \"x\": [\"BD4 \\u0394(adhE,ldhA,pflB) + pBD3\"], \"y\": [0.2678122328124662], \"type\": \"bar\", \"uid\": \"2b1653ac-fc28-11e8-8e38-9cb6d0b75520\", \"xaxis\": \"x\", \"yaxis\": \"y\"}, {\"error_y\": {\"array\": [1.049945468880901]}, \"legendgroup\": \"BD2 \\u0394(adhE,ldhA,pflB) + pBD1\", \"marker\": {\"color\": \"rgb(228,26,28)\"}, \"name\": \"BD2 \\u0394(adhE,ldhA,pflB) + pBD1\", \"showlegend\": false, \"x\": [\"BD2 \\u0394(adhE,ldhA,pflB) + pBD1\"], \"y\": [8.928778217184808], \"type\": \"bar\", \"uid\": \"2b173f40-fc28-11e8-96de-9cb6d0b75520\", \"xaxis\": \"x2\", \"yaxis\": \"y2\"}, {\"error_y\": {\"array\": [1.4406276063805479]}, \"legendgroup\": \"BD4 \\u0394(adhE,ldhA,pflB) + pBD3\", \"marker\": {\"color\": \"rgb(55,126,184)\"}, \"name\": \"BD4 \\u0394(adhE,ldhA,pflB) + pBD3\", \"showlegend\": false, \"x\": [\"BD4 \\u0394(adhE,ldhA,pflB) + pBD3\"], \"y\": [15.871499723530981], \"type\": \"bar\", \"uid\": \"2b182748-fc28-11e8-9eb8-9cb6d0b75520\", \"xaxis\": \"x2\", \"yaxis\": \"y2\"}, {\"error_y\": {\"array\": [0.03677687609989001]}, \"legendgroup\": \"BD2 \\u0394(adhE,ldhA,pflB) + pBD1\", \"marker\": {\"color\": \"rgb(228,26,28)\"}, \"name\": \"BD2 \\u0394(adhE,ldhA,pflB) + pBD1\", \"showlegend\": false, \"x\": [\"BD2 \\u0394(adhE,ldhA,pflB) + pBD1\"], \"y\": [0.03980121222704882], \"type\": \"bar\", \"uid\": \"2b1912e8-fc28-11e8-b92f-9cb6d0b75520\", \"xaxis\": \"x3\", \"yaxis\": \"y3\"}, {\"error_y\": {\"array\": [0.019245539021303312]}, \"legendgroup\": \"BD4 \\u0394(adhE,ldhA,pflB) + pBD3\", \"marker\": {\"color\": \"rgb(55,126,184)\"}, \"name\": \"BD4 \\u0394(adhE,ldhA,pflB) + pBD3\", \"showlegend\": false, \"x\": [\"BD4 \\u0394(adhE,ldhA,pflB) + pBD3\"], \"y\": [0.15196131933378443], \"type\": \"bar\", \"uid\": \"2b19ae0a-fc28-11e8-bbf0-9cb6d0b75520\", \"xaxis\": \"x3\", \"yaxis\": \"y3\"}, {\"error_y\": {\"array\": [0.27637032547997575]}, \"legendgroup\": \"BD2 \\u0394(adhE,ldhA,pflB) + pBD1\", \"marker\": {\"color\": \"rgb(228,26,28)\"}, \"name\": \"BD2 \\u0394(adhE,ldhA,pflB) + pBD1\", \"showlegend\": false, \"x\": [\"BD2 \\u0394(adhE,ldhA,pflB) + pBD1\"], \"y\": [1.6205997619939616], \"type\": \"bar\", \"uid\": \"2b1a49c6-fc28-11e8-99a5-9cb6d0b75520\", \"xaxis\": \"x4\", \"yaxis\": \"y4\"}, {\"error_y\": {\"array\": [0.4529890896259119]}, \"legendgroup\": \"BD4 \\u0394(adhE,ldhA,pflB) + pBD3\", \"marker\": {\"color\": \"rgb(55,126,184)\"}, \"name\": \"BD4 \\u0394(adhE,ldhA,pflB) + pBD3\", \"showlegend\": false, \"x\": [\"BD4 \\u0394(adhE,ldhA,pflB) + pBD3\"], \"y\": [1.0487105758423871], \"type\": \"bar\", \"uid\": \"2b1b0d3e-fc28-11e8-8c43-9cb6d0b75520\", \"xaxis\": \"x4\", \"yaxis\": \"y4\"}, {\"error_y\": {\"array\": [0.03944517939475146]}, \"legendgroup\": \"BD2 \\u0394(adhE,ldhA,pflB) + pBD1\", \"marker\": {\"color\": \"rgb(228,26,28)\"}, \"name\": \"BD2 \\u0394(adhE,ldhA,pflB) + pBD1\", \"showlegend\": false, \"x\": [\"BD2 \\u0394(adhE,ldhA,pflB) + pBD1\"], \"y\": [0.080608506098975], \"type\": \"bar\", \"uid\": \"2b1bcf9e-fc28-11e8-b6fa-9cb6d0b75520\", \"xaxis\": \"x5\", \"yaxis\": \"y5\"}, {\"error_y\": {\"array\": [0.010675572543128353]}, \"legendgroup\": \"BD4 \\u0394(adhE,ldhA,pflB) + pBD3\", \"marker\": {\"color\": \"rgb(55,126,184)\"}, \"name\": \"BD4 \\u0394(adhE,ldhA,pflB) + pBD3\", \"showlegend\": false, \"x\": [\"BD4 \\u0394(adhE,ldhA,pflB) + pBD3\"], \"y\": [0.04777143917258012], \"type\": \"bar\", \"uid\": \"2b1ce052-fc28-11e8-afc9-9cb6d0b75520\", \"xaxis\": \"x5\", \"yaxis\": \"y5\"}, {\"error_y\": {\"array\": [0.08390032281716181]}, \"legendgroup\": \"BD2 \\u0394(adhE,ldhA,pflB) + pBD1\", \"marker\": {\"color\": \"rgb(228,26,28)\"}, \"name\": \"BD2 \\u0394(adhE,ldhA,pflB) + pBD1\", \"showlegend\": false, \"x\": [\"BD2 \\u0394(adhE,ldhA,pflB) + pBD1\"], \"y\": [0.45725961538461535], \"type\": \"bar\", \"uid\": \"2b1da298-fc28-11e8-8870-9cb6d0b75520\", \"xaxis\": \"x6\", \"yaxis\": \"y6\"}, {\"error_y\": {\"array\": [0.015228499774263838]}, \"legendgroup\": \"BD4 \\u0394(adhE,ldhA,pflB) + pBD3\", \"marker\": {\"color\": \"rgb(55,126,184)\"}, \"name\": \"BD4 \\u0394(adhE,ldhA,pflB) + pBD3\", \"showlegend\": false, \"x\": [\"BD4 \\u0394(adhE,ldhA,pflB) + pBD3\"], \"y\": [0.1880128205128205], \"type\": \"bar\", \"uid\": \"2b1edb7e-fc28-11e8-a713-9cb6d0b75520\", \"xaxis\": \"x6\", \"yaxis\": \"y6\"}, {\"error_y\": {\"array\": [0.09104379118263398]}, \"legendgroup\": \"BD2 \\u0394(adhE,ldhA,pflB) + pBD1\", \"marker\": {\"color\": \"rgb(228,26,28)\"}, \"name\": \"BD2 \\u0394(adhE,ldhA,pflB) + pBD1\", \"showlegend\": false, \"x\": [\"BD2 \\u0394(adhE,ldhA,pflB) + pBD1\"], \"y\": [2.737102484424037], \"type\": \"bar\", \"uid\": \"2b1f9da4-fc28-11e8-ba3c-9cb6d0b75520\", \"xaxis\": \"x7\", \"yaxis\": \"y7\"}, {\"error_y\": {\"array\": [0.14803557175495363]}, \"legendgroup\": \"BD4 \\u0394(adhE,ldhA,pflB) + pBD3\", \"marker\": {\"color\": \"rgb(55,126,184)\"}, \"name\": \"BD4 \\u0394(adhE,ldhA,pflB) + pBD3\", \"showlegend\": false, \"x\": [\"BD4 \\u0394(adhE,ldhA,pflB) + pBD3\"], \"y\": [1.7657885379466014], \"type\": \"bar\", \"uid\": \"2b205f08-fc28-11e8-a2e3-9cb6d0b75520\", \"xaxis\": \"x7\", \"yaxis\": \"y7\"}, {\"error_y\": {\"array\": [0.30263509380109893]}, \"legendgroup\": \"BD2 \\u0394(adhE,ldhA,pflB) + pBD1\", \"marker\": {\"color\": \"rgb(228,26,28)\"}, \"name\": \"BD2 \\u0394(adhE,ldhA,pflB) + pBD1\", \"showlegend\": false, \"x\": [\"BD2 \\u0394(adhE,ldhA,pflB) + pBD1\"], \"y\": [7.506], \"type\": \"bar\", \"uid\": \"2b217128-fc28-11e8-a16d-9cb6d0b75520\", \"xaxis\": \"x8\", \"yaxis\": \"y8\"}, {\"error_y\": {\"array\": [0.26153393661244023]}, \"legendgroup\": \"BD4 \\u0394(adhE,ldhA,pflB) + pBD3\", \"marker\": {\"color\": \"rgb(55,126,184)\"}, \"name\": \"BD4 \\u0394(adhE,ldhA,pflB) + pBD3\", \"showlegend\": false, \"x\": [\"BD4 \\u0394(adhE,ldhA,pflB) + pBD3\"], \"y\": [7.22], \"type\": \"bar\", \"uid\": \"2b2233d2-fc28-11e8-9cf1-9cb6d0b75520\", \"xaxis\": \"x8\", \"yaxis\": \"y8\"}, {\"error_y\": {\"array\": [1.2870632944777394]}, \"legendgroup\": \"BD2 \\u0394(adhE,ldhA,pflB) + pBD1\", \"marker\": {\"color\": \"rgb(228,26,28)\"}, \"name\": \"BD2 \\u0394(adhE,ldhA,pflB) + pBD1\", \"showlegend\": false, \"x\": [\"BD2 \\u0394(adhE,ldhA,pflB) + pBD1\"], \"y\": [2.1074115018069826], \"type\": \"bar\", \"uid\": \"2b231c3a-fc28-11e8-bfeb-9cb6d0b75520\", \"xaxis\": \"x9\", \"yaxis\": \"y9\"}, {\"error_y\": {\"array\": [0.45008958150345885]}, \"legendgroup\": \"BD4 \\u0394(adhE,ldhA,pflB) + pBD3\", \"marker\": {\"color\": \"rgb(55,126,184)\"}, \"name\": \"BD4 \\u0394(adhE,ldhA,pflB) + pBD3\", \"showlegend\": false, \"x\": [\"BD4 \\u0394(adhE,ldhA,pflB) + pBD3\"], \"y\": [1.1064547645851717], \"type\": \"bar\", \"uid\": \"2b2405ec-fc28-11e8-9149-9cb6d0b75520\", \"xaxis\": \"x9\", \"yaxis\": \"y9\"}, {\"error_y\": {\"array\": [5.3415869683582775]}, \"legendgroup\": \"BD2 \\u0394(adhE,ldhA,pflB) + pBD1\", \"marker\": {\"color\": \"rgb(228,26,28)\"}, \"name\": \"BD2 \\u0394(adhE,ldhA,pflB) + pBD1\", \"showlegend\": false, \"x\": [\"BD2 \\u0394(adhE,ldhA,pflB) + pBD1\"], \"y\": [8.757407407407408], \"type\": \"bar\", \"uid\": \"2b24f058-fc28-11e8-9669-9cb6d0b75520\", \"xaxis\": \"x10\", \"yaxis\": \"y10\"}, {\"error_y\": {\"array\": [4.855023946988776]}, \"legendgroup\": \"BD4 \\u0394(adhE,ldhA,pflB) + pBD3\", \"marker\": {\"color\": \"rgb(55,126,184)\"}, \"name\": \"BD4 \\u0394(adhE,ldhA,pflB) + pBD3\", \"showlegend\": false, \"x\": [\"BD4 \\u0394(adhE,ldhA,pflB) + pBD3\"], \"y\": [2.803049382716049], \"type\": \"bar\", \"uid\": \"2b25b2cc-fc28-11e8-a6ab-9cb6d0b75520\", \"xaxis\": \"x10\", \"yaxis\": \"y10\"}], {\"annotations\": [{\"font\": {\"size\": 16}, \"showarrow\": false, \"text\": \"ac\", \"x\": 0.08399999999999999, \"xanchor\": \"center\", \"xref\": \"paper\", \"y\": 1.0, \"yanchor\": \"bottom\", \"yref\": \"paper\"}, {\"font\": {\"size\": 16}, \"showarrow\": false, \"text\": \"etoh\", \"x\": 0.292, \"xanchor\": \"center\", \"xref\": \"paper\", \"y\": 1.0, \"yanchor\": \"bottom\", \"yref\": \"paper\"}, {\"font\": {\"size\": 16}, \"showarrow\": false, \"text\": \"acald\", \"x\": 0.5, \"xanchor\": \"center\", \"xref\": \"paper\", \"y\": 1.0, \"yanchor\": \"bottom\", \"yref\": \"paper\"}, {\"font\": {\"size\": 16}, \"showarrow\": false, \"text\": \"suc\", \"x\": 0.708, \"xanchor\": \"center\", \"xref\": \"paper\", \"y\": 1.0, \"yanchor\": \"bottom\", \"yref\": \"paper\"}, {\"font\": {\"size\": 16}, \"showarrow\": false, \"text\": \"rs23bdo\", \"x\": 0.9159999999999999, \"xanchor\": \"center\", \"xref\": \"paper\", \"y\": 1.0, \"yanchor\": \"bottom\", \"yref\": \"paper\"}, {\"font\": {\"size\": 16}, \"showarrow\": false, \"text\": \"13bdo\", \"x\": 0.08399999999999999, \"xanchor\": \"center\", \"xref\": \"paper\", \"y\": 0.375, \"yanchor\": \"bottom\", \"yref\": \"paper\"}, {\"font\": {\"size\": 16}, \"showarrow\": false, \"text\": \"m23bdo\", \"x\": 0.292, \"xanchor\": \"center\", \"xref\": \"paper\", \"y\": 0.375, \"yanchor\": \"bottom\", \"yref\": \"paper\"}, {\"font\": {\"size\": 16}, \"showarrow\": false, \"text\": \"od\", \"x\": 0.5, \"xanchor\": \"center\", \"xref\": \"paper\", \"y\": 0.375, \"yanchor\": \"bottom\", \"yref\": \"paper\"}, {\"font\": {\"size\": 16}, \"showarrow\": false, \"text\": \"acet\", \"x\": 0.708, \"xanchor\": \"center\", \"xref\": \"paper\", \"y\": 0.375, \"yanchor\": \"bottom\", \"yref\": \"paper\"}, {\"font\": {\"size\": 16}, \"showarrow\": false, \"text\": \"glc__D\", \"x\": 0.9159999999999999, \"xanchor\": \"center\", \"xref\": \"paper\", \"y\": 0.375, \"yanchor\": \"bottom\", \"yref\": \"paper\"}], \"xaxis\": {\"anchor\": \"y\", \"domain\": [0.0, 0.16799999999999998], \"showticklabels\": false}, \"yaxis\": {\"anchor\": \"x\", \"domain\": [0.625, 1.0]}, \"xaxis2\": {\"anchor\": \"y2\", \"domain\": [0.208, 0.376], \"showticklabels\": false}, \"yaxis2\": {\"anchor\": \"x2\", \"domain\": [0.625, 1.0]}, \"xaxis3\": {\"anchor\": \"y3\", \"domain\": [0.416, 0.584], \"showticklabels\": false}, \"yaxis3\": {\"anchor\": \"x3\", \"domain\": [0.625, 1.0]}, \"xaxis4\": {\"anchor\": \"y4\", \"domain\": [0.624, 0.792], \"showticklabels\": false}, \"yaxis4\": {\"anchor\": \"x4\", \"domain\": [0.625, 1.0]}, \"xaxis5\": {\"anchor\": \"y5\", \"domain\": [0.832, 1.0], \"showticklabels\": false}, \"yaxis5\": {\"anchor\": \"x5\", \"domain\": [0.625, 1.0]}, \"xaxis6\": {\"anchor\": \"y6\", \"domain\": [0.0, 0.16799999999999998], \"showticklabels\": false}, \"yaxis6\": {\"anchor\": \"x6\", \"domain\": [0.0, 0.375]}, \"xaxis7\": {\"anchor\": \"y7\", \"domain\": [0.208, 0.376], \"showticklabels\": false}, \"yaxis7\": {\"anchor\": \"x7\", \"domain\": [0.0, 0.375]}, \"xaxis8\": {\"anchor\": \"y8\", \"domain\": [0.416, 0.584], \"showticklabels\": false}, \"yaxis8\": {\"anchor\": \"x8\", \"domain\": [0.0, 0.375]}, \"xaxis9\": {\"anchor\": \"y9\", \"domain\": [0.624, 0.792], \"showticklabels\": false}, \"yaxis9\": {\"anchor\": \"x9\", \"domain\": [0.0, 0.375]}, \"xaxis10\": {\"anchor\": \"y10\", \"domain\": [0.832, 1.0], \"showticklabels\": false}, \"yaxis10\": {\"anchor\": \"x10\", \"domain\": [0.0, 0.375]}}, {\"showLink\": true, \"linkText\": \"Export to plot.ly\"})});</script>"
      ],
      "text/vnd.plotly.v1+html": [
       "<div id=\"35012060-dc0b-4a54-a770-d7b56031ea6a\" style=\"height: 525px; width: 100%;\" class=\"plotly-graph-div\"></div><script type=\"text/javascript\">require([\"plotly\"], function(Plotly) { window.PLOTLYENV=window.PLOTLYENV || {};window.PLOTLYENV.BASE_URL=\"https://plot.ly\";Plotly.newPlot(\"35012060-dc0b-4a54-a770-d7b56031ea6a\", [{\"error_y\": {\"array\": [0.44046008095224504]}, \"legendgroup\": \"BD2 \\u0394(adhE,ldhA,pflB) + pBD1\", \"marker\": {\"color\": \"rgb(228,26,28)\"}, \"name\": \"BD2 \\u0394(adhE,ldhA,pflB) + pBD1\", \"showlegend\": true, \"x\": [\"BD2 \\u0394(adhE,ldhA,pflB) + pBD1\"], \"y\": [0.6745729149106312], \"type\": \"bar\", \"uid\": \"2b1591e6-fc28-11e8-b796-9cb6d0b75520\", \"xaxis\": \"x\", \"yaxis\": \"y\"}, {\"error_y\": {\"array\": [0.04018678753009877]}, \"legendgroup\": \"BD4 \\u0394(adhE,ldhA,pflB) + pBD3\", \"marker\": {\"color\": \"rgb(55,126,184)\"}, \"name\": \"BD4 \\u0394(adhE,ldhA,pflB) + pBD3\", \"showlegend\": true, \"x\": [\"BD4 \\u0394(adhE,ldhA,pflB) + pBD3\"], \"y\": [0.2678122328124662], \"type\": \"bar\", \"uid\": \"2b1653ac-fc28-11e8-8e38-9cb6d0b75520\", \"xaxis\": \"x\", \"yaxis\": \"y\"}, {\"error_y\": {\"array\": [1.049945468880901]}, \"legendgroup\": \"BD2 \\u0394(adhE,ldhA,pflB) + pBD1\", \"marker\": {\"color\": \"rgb(228,26,28)\"}, \"name\": \"BD2 \\u0394(adhE,ldhA,pflB) + pBD1\", \"showlegend\": false, \"x\": [\"BD2 \\u0394(adhE,ldhA,pflB) + pBD1\"], \"y\": [8.928778217184808], \"type\": \"bar\", \"uid\": \"2b173f40-fc28-11e8-96de-9cb6d0b75520\", \"xaxis\": \"x2\", \"yaxis\": \"y2\"}, {\"error_y\": {\"array\": [1.4406276063805479]}, \"legendgroup\": \"BD4 \\u0394(adhE,ldhA,pflB) + pBD3\", \"marker\": {\"color\": \"rgb(55,126,184)\"}, \"name\": \"BD4 \\u0394(adhE,ldhA,pflB) + pBD3\", \"showlegend\": false, \"x\": [\"BD4 \\u0394(adhE,ldhA,pflB) + pBD3\"], \"y\": [15.871499723530981], \"type\": \"bar\", \"uid\": \"2b182748-fc28-11e8-9eb8-9cb6d0b75520\", \"xaxis\": \"x2\", \"yaxis\": \"y2\"}, {\"error_y\": {\"array\": [0.03677687609989001]}, \"legendgroup\": \"BD2 \\u0394(adhE,ldhA,pflB) + pBD1\", \"marker\": {\"color\": \"rgb(228,26,28)\"}, \"name\": \"BD2 \\u0394(adhE,ldhA,pflB) + pBD1\", \"showlegend\": false, \"x\": [\"BD2 \\u0394(adhE,ldhA,pflB) + pBD1\"], \"y\": [0.03980121222704882], \"type\": \"bar\", \"uid\": \"2b1912e8-fc28-11e8-b92f-9cb6d0b75520\", \"xaxis\": \"x3\", \"yaxis\": \"y3\"}, {\"error_y\": {\"array\": [0.019245539021303312]}, \"legendgroup\": \"BD4 \\u0394(adhE,ldhA,pflB) + pBD3\", \"marker\": {\"color\": \"rgb(55,126,184)\"}, \"name\": \"BD4 \\u0394(adhE,ldhA,pflB) + pBD3\", \"showlegend\": false, \"x\": [\"BD4 \\u0394(adhE,ldhA,pflB) + pBD3\"], \"y\": [0.15196131933378443], \"type\": \"bar\", \"uid\": \"2b19ae0a-fc28-11e8-bbf0-9cb6d0b75520\", \"xaxis\": \"x3\", \"yaxis\": \"y3\"}, {\"error_y\": {\"array\": [0.27637032547997575]}, \"legendgroup\": \"BD2 \\u0394(adhE,ldhA,pflB) + pBD1\", \"marker\": {\"color\": \"rgb(228,26,28)\"}, \"name\": \"BD2 \\u0394(adhE,ldhA,pflB) + pBD1\", \"showlegend\": false, \"x\": [\"BD2 \\u0394(adhE,ldhA,pflB) + pBD1\"], \"y\": [1.6205997619939616], \"type\": \"bar\", \"uid\": \"2b1a49c6-fc28-11e8-99a5-9cb6d0b75520\", \"xaxis\": \"x4\", \"yaxis\": \"y4\"}, {\"error_y\": {\"array\": [0.4529890896259119]}, \"legendgroup\": \"BD4 \\u0394(adhE,ldhA,pflB) + pBD3\", \"marker\": {\"color\": \"rgb(55,126,184)\"}, \"name\": \"BD4 \\u0394(adhE,ldhA,pflB) + pBD3\", \"showlegend\": false, \"x\": [\"BD4 \\u0394(adhE,ldhA,pflB) + pBD3\"], \"y\": [1.0487105758423871], \"type\": \"bar\", \"uid\": \"2b1b0d3e-fc28-11e8-8c43-9cb6d0b75520\", \"xaxis\": \"x4\", \"yaxis\": \"y4\"}, {\"error_y\": {\"array\": [0.03944517939475146]}, \"legendgroup\": \"BD2 \\u0394(adhE,ldhA,pflB) + pBD1\", \"marker\": {\"color\": \"rgb(228,26,28)\"}, \"name\": \"BD2 \\u0394(adhE,ldhA,pflB) + pBD1\", \"showlegend\": false, \"x\": [\"BD2 \\u0394(adhE,ldhA,pflB) + pBD1\"], \"y\": [0.080608506098975], \"type\": \"bar\", \"uid\": \"2b1bcf9e-fc28-11e8-b6fa-9cb6d0b75520\", \"xaxis\": \"x5\", \"yaxis\": \"y5\"}, {\"error_y\": {\"array\": [0.010675572543128353]}, \"legendgroup\": \"BD4 \\u0394(adhE,ldhA,pflB) + pBD3\", \"marker\": {\"color\": \"rgb(55,126,184)\"}, \"name\": \"BD4 \\u0394(adhE,ldhA,pflB) + pBD3\", \"showlegend\": false, \"x\": [\"BD4 \\u0394(adhE,ldhA,pflB) + pBD3\"], \"y\": [0.04777143917258012], \"type\": \"bar\", \"uid\": \"2b1ce052-fc28-11e8-afc9-9cb6d0b75520\", \"xaxis\": \"x5\", \"yaxis\": \"y5\"}, {\"error_y\": {\"array\": [0.08390032281716181]}, \"legendgroup\": \"BD2 \\u0394(adhE,ldhA,pflB) + pBD1\", \"marker\": {\"color\": \"rgb(228,26,28)\"}, \"name\": \"BD2 \\u0394(adhE,ldhA,pflB) + pBD1\", \"showlegend\": false, \"x\": [\"BD2 \\u0394(adhE,ldhA,pflB) + pBD1\"], \"y\": [0.45725961538461535], \"type\": \"bar\", \"uid\": \"2b1da298-fc28-11e8-8870-9cb6d0b75520\", \"xaxis\": \"x6\", \"yaxis\": \"y6\"}, {\"error_y\": {\"array\": [0.015228499774263838]}, \"legendgroup\": \"BD4 \\u0394(adhE,ldhA,pflB) + pBD3\", \"marker\": {\"color\": \"rgb(55,126,184)\"}, \"name\": \"BD4 \\u0394(adhE,ldhA,pflB) + pBD3\", \"showlegend\": false, \"x\": [\"BD4 \\u0394(adhE,ldhA,pflB) + pBD3\"], \"y\": [0.1880128205128205], \"type\": \"bar\", \"uid\": \"2b1edb7e-fc28-11e8-a713-9cb6d0b75520\", \"xaxis\": \"x6\", \"yaxis\": \"y6\"}, {\"error_y\": {\"array\": [0.09104379118263398]}, \"legendgroup\": \"BD2 \\u0394(adhE,ldhA,pflB) + pBD1\", \"marker\": {\"color\": \"rgb(228,26,28)\"}, \"name\": \"BD2 \\u0394(adhE,ldhA,pflB) + pBD1\", \"showlegend\": false, \"x\": [\"BD2 \\u0394(adhE,ldhA,pflB) + pBD1\"], \"y\": [2.737102484424037], \"type\": \"bar\", \"uid\": \"2b1f9da4-fc28-11e8-ba3c-9cb6d0b75520\", \"xaxis\": \"x7\", \"yaxis\": \"y7\"}, {\"error_y\": {\"array\": [0.14803557175495363]}, \"legendgroup\": \"BD4 \\u0394(adhE,ldhA,pflB) + pBD3\", \"marker\": {\"color\": \"rgb(55,126,184)\"}, \"name\": \"BD4 \\u0394(adhE,ldhA,pflB) + pBD3\", \"showlegend\": false, \"x\": [\"BD4 \\u0394(adhE,ldhA,pflB) + pBD3\"], \"y\": [1.7657885379466014], \"type\": \"bar\", \"uid\": \"2b205f08-fc28-11e8-a2e3-9cb6d0b75520\", \"xaxis\": \"x7\", \"yaxis\": \"y7\"}, {\"error_y\": {\"array\": [0.30263509380109893]}, \"legendgroup\": \"BD2 \\u0394(adhE,ldhA,pflB) + pBD1\", \"marker\": {\"color\": \"rgb(228,26,28)\"}, \"name\": \"BD2 \\u0394(adhE,ldhA,pflB) + pBD1\", \"showlegend\": false, \"x\": [\"BD2 \\u0394(adhE,ldhA,pflB) + pBD1\"], \"y\": [7.506], \"type\": \"bar\", \"uid\": \"2b217128-fc28-11e8-a16d-9cb6d0b75520\", \"xaxis\": \"x8\", \"yaxis\": \"y8\"}, {\"error_y\": {\"array\": [0.26153393661244023]}, \"legendgroup\": \"BD4 \\u0394(adhE,ldhA,pflB) + pBD3\", \"marker\": {\"color\": \"rgb(55,126,184)\"}, \"name\": \"BD4 \\u0394(adhE,ldhA,pflB) + pBD3\", \"showlegend\": false, \"x\": [\"BD4 \\u0394(adhE,ldhA,pflB) + pBD3\"], \"y\": [7.22], \"type\": \"bar\", \"uid\": \"2b2233d2-fc28-11e8-9cf1-9cb6d0b75520\", \"xaxis\": \"x8\", \"yaxis\": \"y8\"}, {\"error_y\": {\"array\": [1.2870632944777394]}, \"legendgroup\": \"BD2 \\u0394(adhE,ldhA,pflB) + pBD1\", \"marker\": {\"color\": \"rgb(228,26,28)\"}, \"name\": \"BD2 \\u0394(adhE,ldhA,pflB) + pBD1\", \"showlegend\": false, \"x\": [\"BD2 \\u0394(adhE,ldhA,pflB) + pBD1\"], \"y\": [2.1074115018069826], \"type\": \"bar\", \"uid\": \"2b231c3a-fc28-11e8-bfeb-9cb6d0b75520\", \"xaxis\": \"x9\", \"yaxis\": \"y9\"}, {\"error_y\": {\"array\": [0.45008958150345885]}, \"legendgroup\": \"BD4 \\u0394(adhE,ldhA,pflB) + pBD3\", \"marker\": {\"color\": \"rgb(55,126,184)\"}, \"name\": \"BD4 \\u0394(adhE,ldhA,pflB) + pBD3\", \"showlegend\": false, \"x\": [\"BD4 \\u0394(adhE,ldhA,pflB) + pBD3\"], \"y\": [1.1064547645851717], \"type\": \"bar\", \"uid\": \"2b2405ec-fc28-11e8-9149-9cb6d0b75520\", \"xaxis\": \"x9\", \"yaxis\": \"y9\"}, {\"error_y\": {\"array\": [5.3415869683582775]}, \"legendgroup\": \"BD2 \\u0394(adhE,ldhA,pflB) + pBD1\", \"marker\": {\"color\": \"rgb(228,26,28)\"}, \"name\": \"BD2 \\u0394(adhE,ldhA,pflB) + pBD1\", \"showlegend\": false, \"x\": [\"BD2 \\u0394(adhE,ldhA,pflB) + pBD1\"], \"y\": [8.757407407407408], \"type\": \"bar\", \"uid\": \"2b24f058-fc28-11e8-9669-9cb6d0b75520\", \"xaxis\": \"x10\", \"yaxis\": \"y10\"}, {\"error_y\": {\"array\": [4.855023946988776]}, \"legendgroup\": \"BD4 \\u0394(adhE,ldhA,pflB) + pBD3\", \"marker\": {\"color\": \"rgb(55,126,184)\"}, \"name\": \"BD4 \\u0394(adhE,ldhA,pflB) + pBD3\", \"showlegend\": false, \"x\": [\"BD4 \\u0394(adhE,ldhA,pflB) + pBD3\"], \"y\": [2.803049382716049], \"type\": \"bar\", \"uid\": \"2b25b2cc-fc28-11e8-a6ab-9cb6d0b75520\", \"xaxis\": \"x10\", \"yaxis\": \"y10\"}], {\"annotations\": [{\"font\": {\"size\": 16}, \"showarrow\": false, \"text\": \"ac\", \"x\": 0.08399999999999999, \"xanchor\": \"center\", \"xref\": \"paper\", \"y\": 1.0, \"yanchor\": \"bottom\", \"yref\": \"paper\"}, {\"font\": {\"size\": 16}, \"showarrow\": false, \"text\": \"etoh\", \"x\": 0.292, \"xanchor\": \"center\", \"xref\": \"paper\", \"y\": 1.0, \"yanchor\": \"bottom\", \"yref\": \"paper\"}, {\"font\": {\"size\": 16}, \"showarrow\": false, \"text\": \"acald\", \"x\": 0.5, \"xanchor\": \"center\", \"xref\": \"paper\", \"y\": 1.0, \"yanchor\": \"bottom\", \"yref\": \"paper\"}, {\"font\": {\"size\": 16}, \"showarrow\": false, \"text\": \"suc\", \"x\": 0.708, \"xanchor\": \"center\", \"xref\": \"paper\", \"y\": 1.0, \"yanchor\": \"bottom\", \"yref\": \"paper\"}, {\"font\": {\"size\": 16}, \"showarrow\": false, \"text\": \"rs23bdo\", \"x\": 0.9159999999999999, \"xanchor\": \"center\", \"xref\": \"paper\", \"y\": 1.0, \"yanchor\": \"bottom\", \"yref\": \"paper\"}, {\"font\": {\"size\": 16}, \"showarrow\": false, \"text\": \"13bdo\", \"x\": 0.08399999999999999, \"xanchor\": \"center\", \"xref\": \"paper\", \"y\": 0.375, \"yanchor\": \"bottom\", \"yref\": \"paper\"}, {\"font\": {\"size\": 16}, \"showarrow\": false, \"text\": \"m23bdo\", \"x\": 0.292, \"xanchor\": \"center\", \"xref\": \"paper\", \"y\": 0.375, \"yanchor\": \"bottom\", \"yref\": \"paper\"}, {\"font\": {\"size\": 16}, \"showarrow\": false, \"text\": \"od\", \"x\": 0.5, \"xanchor\": \"center\", \"xref\": \"paper\", \"y\": 0.375, \"yanchor\": \"bottom\", \"yref\": \"paper\"}, {\"font\": {\"size\": 16}, \"showarrow\": false, \"text\": \"acet\", \"x\": 0.708, \"xanchor\": \"center\", \"xref\": \"paper\", \"y\": 0.375, \"yanchor\": \"bottom\", \"yref\": \"paper\"}, {\"font\": {\"size\": 16}, \"showarrow\": false, \"text\": \"glc__D\", \"x\": 0.9159999999999999, \"xanchor\": \"center\", \"xref\": \"paper\", \"y\": 0.375, \"yanchor\": \"bottom\", \"yref\": \"paper\"}], \"xaxis\": {\"anchor\": \"y\", \"domain\": [0.0, 0.16799999999999998], \"showticklabels\": false}, \"yaxis\": {\"anchor\": \"x\", \"domain\": [0.625, 1.0]}, \"xaxis2\": {\"anchor\": \"y2\", \"domain\": [0.208, 0.376], \"showticklabels\": false}, \"yaxis2\": {\"anchor\": \"x2\", \"domain\": [0.625, 1.0]}, \"xaxis3\": {\"anchor\": \"y3\", \"domain\": [0.416, 0.584], \"showticklabels\": false}, \"yaxis3\": {\"anchor\": \"x3\", \"domain\": [0.625, 1.0]}, \"xaxis4\": {\"anchor\": \"y4\", \"domain\": [0.624, 0.792], \"showticklabels\": false}, \"yaxis4\": {\"anchor\": \"x4\", \"domain\": [0.625, 1.0]}, \"xaxis5\": {\"anchor\": \"y5\", \"domain\": [0.832, 1.0], \"showticklabels\": false}, \"yaxis5\": {\"anchor\": \"x5\", \"domain\": [0.625, 1.0]}, \"xaxis6\": {\"anchor\": \"y6\", \"domain\": [0.0, 0.16799999999999998], \"showticklabels\": false}, \"yaxis6\": {\"anchor\": \"x6\", \"domain\": [0.0, 0.375]}, \"xaxis7\": {\"anchor\": \"y7\", \"domain\": [0.208, 0.376], \"showticklabels\": false}, \"yaxis7\": {\"anchor\": \"x7\", \"domain\": [0.0, 0.375]}, \"xaxis8\": {\"anchor\": \"y8\", \"domain\": [0.416, 0.584], \"showticklabels\": false}, \"yaxis8\": {\"anchor\": \"x8\", \"domain\": [0.0, 0.375]}, \"xaxis9\": {\"anchor\": \"y9\", \"domain\": [0.624, 0.792], \"showticklabels\": false}, \"yaxis9\": {\"anchor\": \"x9\", \"domain\": [0.0, 0.375]}, \"xaxis10\": {\"anchor\": \"y10\", \"domain\": [0.832, 1.0], \"showticklabels\": false}, \"yaxis10\": {\"anchor\": \"x10\", \"domain\": [0.0, 0.375]}}, {\"showLink\": true, \"linkText\": \"Export to plot.ly\"})});</script>"
      ]
     },
     "metadata": {},
     "output_type": "display_data"
    }
   ],
   "source": [
    "fig = implot.tools.make_subplots(rows=2,cols=5,subplot_titles=unique_analytes)\n",
    "colors = implot.cl.scales['3']['qual']['Set1']\n",
    "\n",
    "row, col, flag = 1, 0, True\n",
    "for analyte in unique_analytes:\n",
    "    col += 1\n",
    "    if col == 6:\n",
    "        row += 1\n",
    "        col = 1\n",
    "\n",
    "    for rep, color in zip(expt.replicate_trials,colors):\n",
    "        trace = go.Bar(\n",
    "            x=[str(rep.trial_identifier.strain)],\n",
    "            y=[rep.avg.analyte_dict[analyte].data_vector[-1]],\n",
    "            name=str(rep.trial_identifier.strain),\n",
    "            error_y={'array':[rep.std.analyte_dict[analyte].data_vector[-1]]},\n",
    "            marker={'color':color},\n",
    "            showlegend=flag,\n",
    "            legendgroup=str(rep.trial_identifier.strain)\n",
    "        )\n",
    "        fig.append_trace(trace,row,col)\n",
    "    flag = False\n",
    "\n",
    "# Finally we can set some aesthetics\n",
    "for x in range(1,11):\n",
    "    fig['layout']['xaxis'+str(x)]['showticklabels'] = False\n",
    "\n",
    "implot.plot(fig)"
   ]
  }
 ],
 "metadata": {
  "anaconda-cloud": {},
  "kernelspec": {
   "display_name": "Python 3",
   "language": "python",
   "name": "python3"
  },
  "language_info": {
   "codemirror_mode": {
    "name": "ipython",
    "version": 3
   },
   "file_extension": ".py",
   "mimetype": "text/x-python",
   "name": "python",
   "nbconvert_exporter": "python",
   "pygments_lexer": "ipython3",
   "version": "3.7.0"
  }
 },
 "nbformat": 4,
 "nbformat_minor": 1
}
