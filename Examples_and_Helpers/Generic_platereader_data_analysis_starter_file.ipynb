{
 "cells": [
  {
   "cell_type": "code",
   "execution_count": null,
   "metadata": {
    "scrolled": true
   },
   "outputs": [],
   "source": [
    "#Import necessary modules\n",
    "\n",
    "import impact as                             impt\n",
    "import impact.plotting as                    implot\n",
    "from impact.parsers import Parser as parser\n"
   ]
  },
  {
   "cell_type": "code",
   "execution_count": null,
   "metadata": {},
   "outputs": [],
   "source": [
    "#SETTINGS FOR IMPACT. Change settings to alter calculations as required\n",
    "impt.settings.fit_type = 'gompertz'\n",
    "impt.settings.outlier_cleaning_flag = True\n",
    "impt.settings.max_fraction_replicates_to_remove = 0.25\n",
    "impt.settings.std_deviation_cutoff=0.1\n",
    "impt.settings.verbose = False\n",
    "impt.settings.live_calculations = False\n",
    "impt.settings.use_filtered_data = True\n",
    "impt.settings.perform_curve_fit = True\n"
   ]
  },
  {
   "cell_type": "code",
   "execution_count": null,
   "metadata": {
    "scrolled": false
   },
   "outputs": [],
   "source": [
    "#Enter the parser's name in data_format:. Accepted inputs: \"tecan_OD\", \"tecan_OD_GFP_mCherry\",\"spectromax_OD\",\n",
    "#\"spectromax_OD\", \"default_titers\n",
    "\n",
    "#Enter the plate type in plate_type:. Accepted inputs: \"96 Wells\", \"48 Wells\", \"24 Wells\". If data isn't in a plate format,\n",
    "#ignore this field\n",
    "\n",
    "#IMPORT FILE HERE. ADD PATH TO FILE IN \"file_name:\"\n",
    "\n",
    "#Run all calculations\n",
    "\n",
    "data_format=''\n",
    "plate_type = ''\n",
    "file_name = '.xlsx'\n",
    "OD_data = parser.parse_raw_data(data_format=data_format,file_name=file_name,plate_type=plate_type)\n",
    "expt = OD_data\n",
    "expt.calculate()"
   ]
  },
  {
   "cell_type": "code",
   "execution_count": null,
   "metadata": {
    "scrolled": false
   },
   "outputs": [],
   "source": [
    "#Plot all measured quantities separated by strain/media in different plots.\n",
    "\n",
    "\n",
    "implot.time_course_smart_plot(expt)"
   ]
  },
  {
   "cell_type": "code",
   "execution_count": null,
   "metadata": {
    "scrolled": false
   },
   "outputs": [],
   "source": [
    "#This gives a gompertz growth curve fit for each single trial along with the growth rates from the fit data.\n",
    "\n",
    "implot.plot_growth_curve_fit(expt)\n",
    "expt.growth_report\n",
    "expt.growth_report_html"
   ]
  }
 ],
 "metadata": {
  "kernelspec": {
   "display_name": "Python 3",
   "language": "python",
   "name": "python3"
  },
  "language_info": {
   "codemirror_mode": {
    "name": "ipython",
    "version": 3
   },
   "file_extension": ".py",
   "mimetype": "text/x-python",
   "name": "python",
   "nbconvert_exporter": "python",
   "pygments_lexer": "ipython3",
   "version": "3.6.5"
  }
 },
 "nbformat": 4,
 "nbformat_minor": 2
}
