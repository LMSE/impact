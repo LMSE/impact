{
 "cells": [
  {
   "cell_type": "code",
   "execution_count": null,
   "metadata": {
    "scrolled": true
   },
   "outputs": [],
   "source": [
    "#Import necessary modules\n",
    "\n",
    "import impact as                             impt\n",
    "import impact.plotting as                    implot\n",
    "from impact.parsers import Parser as parser\n"
   ]
  },
  {
   "cell_type": "code",
   "execution_count": null,
   "metadata": {
    "collapsed": true
   },
   "outputs": [],
   "source": [
    "#SETTINGS FOR IMPACT. Change settings to alter calculations as required\n",
    "\n",
    "#To determine if growth curve fitting is done\n",
    "impt.settings.perform_curve_fit = True\n",
    "\n",
    "#To determine the type curve to fit to OD600\n",
    "impt.settings.fit_type = 'gompertz'\n",
    "\n",
    "#To determine if outliers in a replicate trial should be discarded from plots.\n",
    "impt.settings.outlier_cleaning_flag = True\n",
    "\n",
    "#The maximum fraction of replicates that can be removed if outlier cleaning is allowed\n",
    "impt.settings.max_fraction_replicates_to_remove = 0.25\n",
    "\n",
    "#The threshold for outlier cleaning\n",
    "impt.settings.std_deviation_cutoff=0.1\n",
    "\n",
    "#To determine if calculations generate output while they are done.\n",
    "impt.settings.verbose = False\n",
    "\n",
    "#To determine if calculations are done automatically without the experiment.calculate() method\n",
    "impt.settings.live_calculations = False\n",
    "\n",
    "#To determine if a savgol filter is to be applied before plotting.\n",
    "impt.settings.use_filtered_data = True\n",
    "\n",
    "#To determine the number of continuous points for which biomass has to decrease to be considered to be in death phase.\n",
    "impt.settings.death_phase_hyperparameter = 1\n"
   ]
  },
  {
   "cell_type": "code",
   "execution_count": null,
   "metadata": {
    "scrolled": false
   },
   "outputs": [],
   "source": [
    "#Enter the parser's name in data_format:. Accepted inputs: \"tecan_OD\", \"tecan_OD_GFP_mCherry\",\"spectromax_OD\",\n",
    "#\"spectromax_OD\", \"default_titers\n",
    "\n",
    "#Enter the plate type in plate_type:. Accepted inputs: \"96 Wells\", \"48 Wells\", \"24 Wells\". If data isn't in a plate format,\n",
    "#ignore this field\n",
    "\n",
    "#IMPORT FILE HERE. ADD PATH TO FILE IN \"file_name:\"\n",
    "\n",
    "#Run all calculations\n",
    "\n",
    "data_format=''\n",
    "plate_type = ''\n",
    "file_name = '.xlsx'\n",
    "OD_data = parser.parse_raw_data(data_format=data_format,file_name=file_name,plate_type=plate_type)\n",
    "expt = OD_data\n",
    "expt.calculate()"
   ]
  },
  {
   "cell_type": "code",
   "execution_count": null,
   "metadata": {
    "scrolled": false
   },
   "outputs": [],
   "source": [
    "#Plot all measured quantities separated by strain/media in different plots. By default, impact will plot the data vs time\n",
    "# for timecourse data. If you wish to plot a feature, replace 'None' with 'specific_productivity', 'od_normalized_data' or any\n",
    "# other user defined feature.\n",
    "\n",
    "feature = None\n",
    "implot.time_course_smart_plot(expt=expt, feature=feature)"
   ]
  },
  {
   "cell_type": "code",
   "execution_count": null,
   "metadata": {
    "scrolled": false
   },
   "outputs": [],
   "source": [
    "#This gives a gompertz growth curve fit for each single trial along with the growth rates from the fit data.\n",
    "\n",
    "implot.plot_growth_curve_fit(expt)\n",
    "expt.growth_report\n",
    "expt.growth_report_html"
   ]
  },
  {
   "cell_type": "code",
   "execution_count": null,
   "metadata": {},
   "outputs": [],
   "source": [
    "#Plot all measured quantities separated by strain/media in different plots. By default, impact will plot the max value of data\n",
    "# for timecourse data. If you wish to plot the max value of a feature, replace 'None' with 'specific_productivity',\n",
    "#'od_normalized_data' or any other user defined feature.\n",
    "\n",
    "feature = None\n",
    "implot.time_course_analyte_value_smart_plot(expt=expt, feature=feature, value_to_plot='max')"
   ]
  }
 ],
 "metadata": {
  "kernelspec": {
   "display_name": "Python 3",
   "language": "python",
   "name": "python3"
  }
 },
 "nbformat": 4,
 "nbformat_minor": 2
}
